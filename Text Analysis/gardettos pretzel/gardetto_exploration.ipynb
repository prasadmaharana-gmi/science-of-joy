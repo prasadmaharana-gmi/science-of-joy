{
 "cells": [
  {
   "cell_type": "code",
   "execution_count": 1,
   "id": "7351548b-e5aa-4d99-b4d1-dad4c5d29c88",
   "metadata": {},
   "outputs": [],
   "source": [
    "import pandas as pd\n",
    "import string\n",
    "from nltk.tokenize import word_tokenize\n",
    "from nltk.corpus import stopwords\n",
    "from nltk.corpus import wordnet as wordnet\n",
    "from nltk.stem.wordnet import WordNetLemmatizer\n",
    "from nltk import word_tokenize, pos_tag\n",
    "from nltk.sentiment.vader import SentimentIntensityAnalyzer\n",
    "from collections import defaultdict\n",
    "import matplotlib\n",
    "import nltk\n",
    "import numpy as np\n",
    "# Let me see the full string\n",
    "pd.options.display.max_colwidth = 100\n"
   ]
  },
  {
   "attachments": {},
   "cell_type": "markdown",
   "id": "c4a76379",
   "metadata": {},
   "source": [
    "## To do -\n",
    "1) Mapping responses to specific topics\n",
    "2) Word Frequencies\n",
    "3) Generate sentiment\n",
    "4) unsupervised topic modelling \n",
    " "
   ]
  },
  {
   "cell_type": "code",
   "execution_count": 1,
   "id": "2215a0e5",
   "metadata": {},
   "outputs": [
    {
     "name": "stderr",
     "output_type": "stream",
     "text": [
      "c:\\ProgramData\\Anaconda3\\envs\\ta_tm\\lib\\site-packages\\tqdm\\auto.py:21: TqdmWarning: IProgress not found. Please update jupyter and ipywidgets. See https://ipywidgets.readthedocs.io/en/stable/user_install.html\n",
      "  from .autonotebook import tqdm as notebook_tqdm\n"
     ]
    }
   ],
   "source": [
    "from bertopic import BERTopic\n",
    "from sklearn.datasets import fetch_20newsgroups\n",
    "import pandas as pd\n",
    "from sklearn.feature_extraction.text import CountVectorizer\n",
    "from bertopic.vectorizers import ClassTfidfTransformer\n",
    "from fuzzywuzzy import fuzz\n",
    "from fuzzywuzzy import process\n",
    "import nltk\n",
    "from nltk.stem import WordNetLemmatizer\n",
    "from nltk.corpus import stopwords\n",
    "from nltk.tokenize import word_tokenize\n",
    "from nltk.corpus import wordnet\n",
    "import string\n",
    "from collections import defaultdict\n",
    "from nltk import word_tokenize, pos_tag\n",
    "from nltk.collocations import BigramAssocMeasures"
   ]
  },
  {
   "cell_type": "code",
   "execution_count": 2,
   "id": "25e64dc5",
   "metadata": {},
   "outputs": [],
   "source": [
    "raw_data = pd.read_excel(\"C:\\\\Users\\\\g654674\\\\OneDrive - General Mills\\\\Work_OneDrive\\\\PGI\\\\Text Analytics\\\\gardettos pretzel\\\\GMI Gardettos New Balance IHUT Raw Data.xlsx\")\n",
    "# docs = raw_data['q5 likes OE'].str.lower()\n",
    "docs = raw_data['q8 expectations OE'].str.lower()\n"
   ]
  },
  {
   "attachments": {},
   "cell_type": "markdown",
   "id": "7e29d6ba",
   "metadata": {},
   "source": [
    "### Topic categorization support"
   ]
  },
  {
   "cell_type": "code",
   "execution_count": 3,
   "id": "a907cf8c",
   "metadata": {},
   "outputs": [],
   "source": [
    "# Remove Stop Words\n",
    "stop_words = set(stopwords.words('english'))\n",
    "\n",
    "stop_remove_docs = []\n",
    "for doc in docs:\n",
    "    word_tokens = word_tokenize(doc)\n",
    "    # converts the words in word_tokens to lower case and then checks whether\n",
    "    # they are present in stop_words or not\n",
    "    filtered_sentence = [w for w in word_tokens if not w.lower() in stop_words]\n",
    "    # with no lower case conversion\n",
    "    filtered_sentence = []\n",
    "\n",
    "    for w in word_tokens:\n",
    "        if w not in stop_words:\n",
    "            filtered_sentence.append(w)\n",
    "    filtered_sentence = \" \".join(filtered_sentence)\n",
    "\n",
    "    stop_remove_docs.append(filtered_sentence)\n"
   ]
  },
  {
   "cell_type": "code",
   "execution_count": 4,
   "id": "dbc8fea9",
   "metadata": {},
   "outputs": [],
   "source": [
    "# Lemmatize\n",
    "lemmatizer = WordNetLemmatizer()\n",
    "\n",
    "# Define function to lemmatize each word with its POS tag\n",
    "\n",
    "# POS_TAGGER_FUNCTION : TYPE 1\n",
    "\n",
    "\n",
    "def pos_tagger(nltk_tag):\n",
    "    if nltk_tag.startswith('J'):\n",
    "        return wordnet.ADJ\n",
    "    elif nltk_tag.startswith('V'):\n",
    "        return wordnet.VERB\n",
    "    elif nltk_tag.startswith('N'):\n",
    "        return wordnet.NOUN\n",
    "    elif nltk_tag.startswith('R'):\n",
    "        return wordnet.ADV\n",
    "    else:\n",
    "        return None\n",
    "\n",
    "\n",
    "lemmatized_docs = []\n",
    "\n",
    "for sentence in stop_remove_docs:\n",
    "    # tokenize the sentence and find the POS tag for each token\n",
    "    pos_tagged = nltk.pos_tag(nltk.word_tokenize(sentence))\n",
    "    # >[('the', 'DT'), ('cat', 'NN'), ('is', 'VBZ'), ('sitting', 'VBG'), ('with', 'IN'),\n",
    "    # ('the', 'DT'), ('bats', 'NNS'), ('on', 'IN'), ('the', 'DT'), ('striped', 'JJ'),\n",
    "    # ('mat', 'NN'), ('under', 'IN'), ('many', 'JJ'), ('flying', 'VBG'), ('geese', 'JJ')]\n",
    "\n",
    "    # As you may have noticed, the above pos tags are a little confusing.\n",
    "\n",
    "    # we use our owordnet pos_tagger function to make things simpler to understand.\n",
    "    wordnet_tagged = list(map(lambda x: (x[0], pos_tagger(x[1])), pos_tagged))\n",
    "    # >[('the', None), ('cat', 'n'), ('is', 'v'), ('sitting', 'v'), ('with', None),\n",
    "    # ('the', None), ('bats', 'n'), ('on', None), ('the', None), ('striped', 'a'),\n",
    "    # ('mat', 'n'), ('under', None), ('many', 'a'), ('flying', 'v'), ('geese', 'a')]\n",
    "\n",
    "    lemmatized_sentence = []\n",
    "    for word, tag in wordnet_tagged:\n",
    "        if tag is None:\n",
    "            # if there is no available tag, append the token as is\n",
    "            lemmatized_sentence.append(word)\n",
    "        else:\n",
    "            # else use the tag to lemmatize the token\n",
    "            lemmatized_sentence.append(lemmatizer.lemmatize(word, tag))\n",
    "    lemmatized_sentence = \" \".join(lemmatized_sentence)\n",
    "    lemmatized_docs.append(lemmatized_sentence)\n"
   ]
  },
  {
   "cell_type": "code",
   "execution_count": 5,
   "id": "279397fb",
   "metadata": {},
   "outputs": [
    {
     "name": "stdout",
     "output_type": "stream",
     "text": [
      "['variety', 'pretzel', 'mini pretzel', 'stick pretzel', 'rye chip', 'bread stick', 'bread squiggle', 'too many', 'not enough', 'more', 'le', 'ratio', 'disproportionate', 'amount', 'good mix', 'good', 'perfect', 'shape', 'size']\n"
     ]
    }
   ],
   "source": [
    "# Ind list lemmatization\n",
    "appearance_ls = ['variety','pretzel','mini pretzel','stick pretzel','rye chip','bread stick','bread squiggle','too many','not enough','more','less','ratio','disproportionate','amount','good mix','good','perfect','shape','size'\n",
    "]\n",
    "pos_tagged = nltk.pos_tag(appearance_ls)\n",
    "wordnet_tagged = list(map(lambda x: (x[0], pos_tagger(x[1])), pos_tagged))\n",
    "appearance_ls = []\n",
    "for word, tag in wordnet_tagged:\n",
    "    if tag is None:\n",
    "        # if there is no available tag, append the token as is\n",
    "        appearance_ls.append(word)\n",
    "    else:\n",
    "        # else use the tag to lemmatize the token\n",
    "        appearance_ls.append(lemmatizer.lemmatize(word, tag))\n",
    "\n",
    "print(appearance_ls)\n"
   ]
  },
  {
   "cell_type": "code",
   "execution_count": 6,
   "id": "5145d00e",
   "metadata": {},
   "outputs": [],
   "source": [
    "# Implementing fuzzy lookup\n",
    "appearance_ls = ['appearance','variety','pretzel','mini pretzel','stick pretzel','rye chip','bread stick','bread squiggle','too many','not enough','more','less','ratio','disproportionate','amount','good mix','good','perfect','shape','size']\n",
    "flavor_ls = ['flavor','flavorful','seasoning','delicious','good','tasty','bold','boring','bland','spice','like','best','dislike','worst','bad','salty','too salty','not salty enough','better','retains','perfect','garlic','onion','original','rye','overpowering','low flavor']\n",
    "texture_ls = ['texture','crunchy','hard','variety','dry','crumbly','good','crispy','light','dense']"
   ]
  },
  {
   "cell_type": "code",
   "execution_count": 7,
   "id": "b42861ee",
   "metadata": {},
   "outputs": [],
   "source": [
    "def fuzzy_lookup(responses_ls, lookup_list, threshold):\n",
    "    matched_list = []\n",
    "    for q in responses_ls:\n",
    "        if(process.extractOne(q, lookup_list, scorer=fuzz.partial_token_set_ratio)[1] > threshold):\n",
    "            matched_list.append(process.extractOne(\n",
    "                q, lookup_list, scorer=fuzz.partial_token_set_ratio))\n",
    "        else:\n",
    "            matched_list.append(\"\")\n",
    "    return matched_list\n"
   ]
  },
  {
   "cell_type": "code",
   "execution_count": 16,
   "id": "93a40f1a",
   "metadata": {},
   "outputs": [],
   "source": [
    "lemmatized_docs = fuzzy_res_df['tokenized_lemmatized_no_punc'].tolist()"
   ]
  },
  {
   "cell_type": "code",
   "execution_count": 17,
   "id": "027105a2",
   "metadata": {},
   "outputs": [
    {
     "name": "stderr",
     "output_type": "stream",
     "text": [
      "WARNING:root:Applied processor reduces input query to empty string, all comparisons will have score 0. [Query: '’']\n",
      "WARNING:root:Applied processor reduces input query to empty string, all comparisons will have score 0. [Query: '’ ']\n",
      "WARNING:root:Applied processor reduces input query to empty string, all comparisons will have score 0. [Query: '']\n",
      "WARNING:root:Applied processor reduces input query to empty string, all comparisons will have score 0. [Query: '']\n",
      "WARNING:root:Applied processor reduces input query to empty string, all comparisons will have score 0. [Query: '']\n",
      "WARNING:root:Applied processor reduces input query to empty string, all comparisons will have score 0. [Query: '’']\n",
      "WARNING:root:Applied processor reduces input query to empty string, all comparisons will have score 0. [Query: '']\n",
      "WARNING:root:Applied processor reduces input query to empty string, all comparisons will have score 0. [Query: '']\n",
      "WARNING:root:Applied processor reduces input query to empty string, all comparisons will have score 0. [Query: '']\n",
      "WARNING:root:Applied processor reduces input query to empty string, all comparisons will have score 0. [Query: '’']\n",
      "WARNING:root:Applied processor reduces input query to empty string, all comparisons will have score 0. [Query: '’ ']\n",
      "WARNING:root:Applied processor reduces input query to empty string, all comparisons will have score 0. [Query: '']\n",
      "WARNING:root:Applied processor reduces input query to empty string, all comparisons will have score 0. [Query: '']\n",
      "WARNING:root:Applied processor reduces input query to empty string, all comparisons will have score 0. [Query: '']\n",
      "WARNING:root:Applied processor reduces input query to empty string, all comparisons will have score 0. [Query: '’']\n",
      "WARNING:root:Applied processor reduces input query to empty string, all comparisons will have score 0. [Query: '']\n",
      "WARNING:root:Applied processor reduces input query to empty string, all comparisons will have score 0. [Query: '']\n",
      "WARNING:root:Applied processor reduces input query to empty string, all comparisons will have score 0. [Query: '']\n",
      "WARNING:root:Applied processor reduces input query to empty string, all comparisons will have score 0. [Query: '’']\n",
      "WARNING:root:Applied processor reduces input query to empty string, all comparisons will have score 0. [Query: '’ ']\n",
      "WARNING:root:Applied processor reduces input query to empty string, all comparisons will have score 0. [Query: '']\n",
      "WARNING:root:Applied processor reduces input query to empty string, all comparisons will have score 0. [Query: '']\n",
      "WARNING:root:Applied processor reduces input query to empty string, all comparisons will have score 0. [Query: '']\n",
      "WARNING:root:Applied processor reduces input query to empty string, all comparisons will have score 0. [Query: '’']\n",
      "WARNING:root:Applied processor reduces input query to empty string, all comparisons will have score 0. [Query: '']\n",
      "WARNING:root:Applied processor reduces input query to empty string, all comparisons will have score 0. [Query: '']\n",
      "WARNING:root:Applied processor reduces input query to empty string, all comparisons will have score 0. [Query: '']\n"
     ]
    }
   ],
   "source": [
    "appearance_res_ls = fuzzy_lookup(lemmatized_docs, appearance_ls, 80)\n",
    "flavor_res_ls = fuzzy_lookup(lemmatized_docs, flavor_ls, 80)\n",
    "texture_res_ls = fuzzy_lookup(lemmatized_docs, texture_ls, 80)\n",
    "\n",
    "fuzzy_res_df = pd.DataFrame()\n",
    "fuzzy_res_df = pd.DataFrame({'liking_oe': docs, 'reduced_sentence': lemmatized_docs, 'Appearnce': appearance_res_ls, 'Flavor': flavor_res_ls,'Texture': texture_res_ls})\n",
    "fuzzy_res_df['appearance_match'], fuzzy_res_df['appearance_score'] = fuzzy_res_df.Appearnce.str\n",
    "fuzzy_res_df['flavor_match'], fuzzy_res_df['flavor_score'] = fuzzy_res_df.Flavor.str\n",
    "fuzzy_res_df['texture_match'], fuzzy_res_df['texture_score'] = fuzzy_res_df.Texture.str"
   ]
  },
  {
   "cell_type": "code",
   "execution_count": 18,
   "id": "f203b354",
   "metadata": {},
   "outputs": [],
   "source": [
    "fuzzy_res_df.to_clipboard(index=False)\n"
   ]
  },
  {
   "cell_type": "code",
   "execution_count": 15,
   "id": "b92b97df",
   "metadata": {},
   "outputs": [],
   "source": [
    "def tokenize(text):\n",
    "    split = word_tokenize(text)\n",
    "    return split\n",
    "\n",
    "\n",
    "def remove_punctuation(text):\n",
    "    no_punct = [words for words in text if words not in string.punctuation]\n",
    "    words_wo_punct = ''.join(no_punct)\n",
    "    return words_wo_punct\n",
    "\n",
    "\n",
    "fuzzy_res_df['tokenized_lemmatized_no_punc'] = fuzzy_res_df['reduced_sentence'].apply(\n",
    "    lambda x: remove_punctuation(x))\n",
    "\n",
    "fuzzy_res_df['tokenized_lemmatized'] = fuzzy_res_df['tokenized_lemmatized_no_punc'].apply(\n",
    "    lambda x: tokenize(x.lower()))\n"
   ]
  },
  {
   "cell_type": "code",
   "execution_count": 20,
   "id": "88d3595f",
   "metadata": {},
   "outputs": [],
   "source": [
    "fuzzy_res_df.to_clipboard(index=False)\n"
   ]
  },
  {
   "attachments": {},
   "cell_type": "markdown",
   "id": "a2fc1040",
   "metadata": {},
   "source": [
    "### Word Frequency Support"
   ]
  },
  {
   "cell_type": "code",
   "execution_count": 23,
   "id": "d41914d2",
   "metadata": {},
   "outputs": [],
   "source": [
    "# get word freqeuncy count \n",
    "freq_df = pd.read_excel(\"C:\\\\Users\\\\g654674\\\\OneDrive - General Mills\\\\Work_OneDrive\\\\PGI\\\\Text Analytics\\\\gardettos pretzel\\\\analysis.xlsx\", sheet_name='topic_categorization')\n"
   ]
  },
  {
   "cell_type": "code",
   "execution_count": 24,
   "id": "ab94cec4",
   "metadata": {},
   "outputs": [],
   "source": [
    "def remove_punctuation(text):\n",
    "    no_punct = [words for words in text if words not in string.punctuation]\n",
    "    no_punct_add = [words for words in no_punct if words not in \"’\"]\n",
    "    words_wo_punct = ''.join(no_punct_add)\n",
    "    return words_wo_punct\n"
   ]
  },
  {
   "cell_type": "code",
   "execution_count": 25,
   "id": "b7608b54",
   "metadata": {},
   "outputs": [
    {
     "ename": "TypeError",
     "evalue": "'float' object is not iterable",
     "output_type": "error",
     "traceback": [
      "\u001b[1;31m---------------------------------------------------------------------------\u001b[0m",
      "\u001b[1;31mTypeError\u001b[0m                                 Traceback (most recent call last)",
      "\u001b[1;32mc:\\Users\\g654674\\OneDrive - General Mills\\Work_OneDrive\\PGI\\Text Analytics\\gardettos pretzel\\gardetto_exploration.ipynb Cell 19\u001b[0m in \u001b[0;36m<cell line: 1>\u001b[1;34m()\u001b[0m\n\u001b[1;32m----> <a href='vscode-notebook-cell:/c%3A/Users/g654674/OneDrive%20-%20General%20Mills/Work_OneDrive/PGI/Text%20Analytics/gardettos%20pretzel/gardetto_exploration.ipynb#X24sZmlsZQ%3D%3D?line=0'>1</a>\u001b[0m freq_df[\u001b[39m'\u001b[39m\u001b[39mreduced_sentence_no_punc\u001b[39m\u001b[39m'\u001b[39m] \u001b[39m=\u001b[39m freq_df[\u001b[39m'\u001b[39;49m\u001b[39mreduced_sentence\u001b[39;49m\u001b[39m'\u001b[39;49m]\u001b[39m.\u001b[39;49mapply(\u001b[39mlambda\u001b[39;49;00m x: remove_punctuation(x))\n",
      "File \u001b[1;32mc:\\ProgramData\\Anaconda3\\envs\\ta_tm\\lib\\site-packages\\pandas\\core\\series.py:4771\u001b[0m, in \u001b[0;36mSeries.apply\u001b[1;34m(self, func, convert_dtype, args, **kwargs)\u001b[0m\n\u001b[0;32m   4661\u001b[0m \u001b[39mdef\u001b[39;00m \u001b[39mapply\u001b[39m(\n\u001b[0;32m   4662\u001b[0m     \u001b[39mself\u001b[39m,\n\u001b[0;32m   4663\u001b[0m     func: AggFuncType,\n\u001b[1;32m   (...)\u001b[0m\n\u001b[0;32m   4666\u001b[0m     \u001b[39m*\u001b[39m\u001b[39m*\u001b[39mkwargs,\n\u001b[0;32m   4667\u001b[0m ) \u001b[39m-\u001b[39m\u001b[39m>\u001b[39m DataFrame \u001b[39m|\u001b[39m Series:\n\u001b[0;32m   4668\u001b[0m     \u001b[39m\"\"\"\u001b[39;00m\n\u001b[0;32m   4669\u001b[0m \u001b[39m    Invoke function on values of Series.\u001b[39;00m\n\u001b[0;32m   4670\u001b[0m \n\u001b[1;32m   (...)\u001b[0m\n\u001b[0;32m   4769\u001b[0m \u001b[39m    dtype: float64\u001b[39;00m\n\u001b[0;32m   4770\u001b[0m \u001b[39m    \"\"\"\u001b[39;00m\n\u001b[1;32m-> 4771\u001b[0m     \u001b[39mreturn\u001b[39;00m SeriesApply(\u001b[39mself\u001b[39;49m, func, convert_dtype, args, kwargs)\u001b[39m.\u001b[39;49mapply()\n",
      "File \u001b[1;32mc:\\ProgramData\\Anaconda3\\envs\\ta_tm\\lib\\site-packages\\pandas\\core\\apply.py:1123\u001b[0m, in \u001b[0;36mSeriesApply.apply\u001b[1;34m(self)\u001b[0m\n\u001b[0;32m   1120\u001b[0m     \u001b[39mreturn\u001b[39;00m \u001b[39mself\u001b[39m\u001b[39m.\u001b[39mapply_str()\n\u001b[0;32m   1122\u001b[0m \u001b[39m# self.f is Callable\u001b[39;00m\n\u001b[1;32m-> 1123\u001b[0m \u001b[39mreturn\u001b[39;00m \u001b[39mself\u001b[39;49m\u001b[39m.\u001b[39;49mapply_standard()\n",
      "File \u001b[1;32mc:\\ProgramData\\Anaconda3\\envs\\ta_tm\\lib\\site-packages\\pandas\\core\\apply.py:1174\u001b[0m, in \u001b[0;36mSeriesApply.apply_standard\u001b[1;34m(self)\u001b[0m\n\u001b[0;32m   1172\u001b[0m     \u001b[39melse\u001b[39;00m:\n\u001b[0;32m   1173\u001b[0m         values \u001b[39m=\u001b[39m obj\u001b[39m.\u001b[39mastype(\u001b[39mobject\u001b[39m)\u001b[39m.\u001b[39m_values\n\u001b[1;32m-> 1174\u001b[0m         mapped \u001b[39m=\u001b[39m lib\u001b[39m.\u001b[39;49mmap_infer(\n\u001b[0;32m   1175\u001b[0m             values,\n\u001b[0;32m   1176\u001b[0m             f,\n\u001b[0;32m   1177\u001b[0m             convert\u001b[39m=\u001b[39;49m\u001b[39mself\u001b[39;49m\u001b[39m.\u001b[39;49mconvert_dtype,\n\u001b[0;32m   1178\u001b[0m         )\n\u001b[0;32m   1180\u001b[0m \u001b[39mif\u001b[39;00m \u001b[39mlen\u001b[39m(mapped) \u001b[39mand\u001b[39;00m \u001b[39misinstance\u001b[39m(mapped[\u001b[39m0\u001b[39m], ABCSeries):\n\u001b[0;32m   1181\u001b[0m     \u001b[39m# GH#43986 Need to do list(mapped) in order to get treated as nested\u001b[39;00m\n\u001b[0;32m   1182\u001b[0m     \u001b[39m#  See also GH#25959 regarding EA support\u001b[39;00m\n\u001b[0;32m   1183\u001b[0m     \u001b[39mreturn\u001b[39;00m obj\u001b[39m.\u001b[39m_constructor_expanddim(\u001b[39mlist\u001b[39m(mapped), index\u001b[39m=\u001b[39mobj\u001b[39m.\u001b[39mindex)\n",
      "File \u001b[1;32mc:\\ProgramData\\Anaconda3\\envs\\ta_tm\\lib\\site-packages\\pandas\\_libs\\lib.pyx:2924\u001b[0m, in \u001b[0;36mpandas._libs.lib.map_infer\u001b[1;34m()\u001b[0m\n",
      "\u001b[1;32mc:\\Users\\g654674\\OneDrive - General Mills\\Work_OneDrive\\PGI\\Text Analytics\\gardettos pretzel\\gardetto_exploration.ipynb Cell 19\u001b[0m in \u001b[0;36m<lambda>\u001b[1;34m(x)\u001b[0m\n\u001b[1;32m----> <a href='vscode-notebook-cell:/c%3A/Users/g654674/OneDrive%20-%20General%20Mills/Work_OneDrive/PGI/Text%20Analytics/gardettos%20pretzel/gardetto_exploration.ipynb#X24sZmlsZQ%3D%3D?line=0'>1</a>\u001b[0m freq_df[\u001b[39m'\u001b[39m\u001b[39mreduced_sentence_no_punc\u001b[39m\u001b[39m'\u001b[39m] \u001b[39m=\u001b[39m freq_df[\u001b[39m'\u001b[39m\u001b[39mreduced_sentence\u001b[39m\u001b[39m'\u001b[39m]\u001b[39m.\u001b[39mapply(\u001b[39mlambda\u001b[39;00m x: remove_punctuation(x))\n",
      "\u001b[1;32mc:\\Users\\g654674\\OneDrive - General Mills\\Work_OneDrive\\PGI\\Text Analytics\\gardettos pretzel\\gardetto_exploration.ipynb Cell 19\u001b[0m in \u001b[0;36mremove_punctuation\u001b[1;34m(text)\u001b[0m\n\u001b[0;32m      <a href='vscode-notebook-cell:/c%3A/Users/g654674/OneDrive%20-%20General%20Mills/Work_OneDrive/PGI/Text%20Analytics/gardettos%20pretzel/gardetto_exploration.ipynb#X24sZmlsZQ%3D%3D?line=0'>1</a>\u001b[0m \u001b[39mdef\u001b[39;00m \u001b[39mremove_punctuation\u001b[39m(text):\n\u001b[1;32m----> <a href='vscode-notebook-cell:/c%3A/Users/g654674/OneDrive%20-%20General%20Mills/Work_OneDrive/PGI/Text%20Analytics/gardettos%20pretzel/gardetto_exploration.ipynb#X24sZmlsZQ%3D%3D?line=1'>2</a>\u001b[0m     no_punct \u001b[39m=\u001b[39m [words \u001b[39mfor\u001b[39;00m words \u001b[39min\u001b[39;00m text \u001b[39mif\u001b[39;00m words \u001b[39mnot\u001b[39;00m \u001b[39min\u001b[39;00m string\u001b[39m.\u001b[39mpunctuation]\n\u001b[0;32m      <a href='vscode-notebook-cell:/c%3A/Users/g654674/OneDrive%20-%20General%20Mills/Work_OneDrive/PGI/Text%20Analytics/gardettos%20pretzel/gardetto_exploration.ipynb#X24sZmlsZQ%3D%3D?line=2'>3</a>\u001b[0m     no_punct_add \u001b[39m=\u001b[39m [words \u001b[39mfor\u001b[39;00m words \u001b[39min\u001b[39;00m no_punct \u001b[39mif\u001b[39;00m words \u001b[39mnot\u001b[39;00m \u001b[39min\u001b[39;00m \u001b[39m\"\u001b[39m\u001b[39m’\u001b[39m\u001b[39m\"\u001b[39m]\n\u001b[0;32m      <a href='vscode-notebook-cell:/c%3A/Users/g654674/OneDrive%20-%20General%20Mills/Work_OneDrive/PGI/Text%20Analytics/gardettos%20pretzel/gardetto_exploration.ipynb#X24sZmlsZQ%3D%3D?line=3'>4</a>\u001b[0m     words_wo_punct \u001b[39m=\u001b[39m \u001b[39m'\u001b[39m\u001b[39m'\u001b[39m\u001b[39m.\u001b[39mjoin(no_punct_add)\n",
      "\u001b[1;31mTypeError\u001b[0m: 'float' object is not iterable"
     ]
    }
   ],
   "source": [
    "freq_df['reduced_sentence_no_punc'] = freq_df['reduced_sentence'].apply(lambda x: remove_punctuation(x))\n"
   ]
  },
  {
   "cell_type": "code",
   "execution_count": 27,
   "id": "2b7820de",
   "metadata": {},
   "outputs": [],
   "source": [
    "grouped_df = freq_df.groupby('product')\n"
   ]
  },
  {
   "cell_type": "code",
   "execution_count": 33,
   "id": "e5686c04",
   "metadata": {},
   "outputs": [],
   "source": [
    "nestle = grouped_df.get_group('Treehouse Micro Mini and Treehouse Stick')\n",
    "pillsbury = grouped_df.get_group('Pretzels Inc Micro Mini and Pretzels Inc Stick')\n",
    "third = grouped_df.get_group('Treehouse Micro Mini and Pretzels Inc Stick')\n"
   ]
  },
  {
   "cell_type": "code",
   "execution_count": 34,
   "id": "e7bd4ae8",
   "metadata": {},
   "outputs": [
    {
     "data": {
      "text/html": [
       "<div>\n",
       "<style scoped>\n",
       "    .dataframe tbody tr th:only-of-type {\n",
       "        vertical-align: middle;\n",
       "    }\n",
       "\n",
       "    .dataframe tbody tr th {\n",
       "        vertical-align: top;\n",
       "    }\n",
       "\n",
       "    .dataframe thead th {\n",
       "        text-align: right;\n",
       "    }\n",
       "</style>\n",
       "<table border=\"1\" class=\"dataframe\">\n",
       "  <thead>\n",
       "    <tr style=\"text-align: right;\">\n",
       "      <th></th>\n",
       "      <th>index</th>\n",
       "      <th>0</th>\n",
       "    </tr>\n",
       "  </thead>\n",
       "  <tbody>\n",
       "    <tr>\n",
       "      <th>0</th>\n",
       "      <td>flavor</td>\n",
       "      <td>83</td>\n",
       "    </tr>\n",
       "    <tr>\n",
       "      <th>1</th>\n",
       "      <td>like</td>\n",
       "      <td>75</td>\n",
       "    </tr>\n",
       "    <tr>\n",
       "      <th>2</th>\n",
       "      <td>chip</td>\n",
       "      <td>64</td>\n",
       "    </tr>\n",
       "    <tr>\n",
       "      <th>3</th>\n",
       "      <td>rye</td>\n",
       "      <td>60</td>\n",
       "    </tr>\n",
       "    <tr>\n",
       "      <th>4</th>\n",
       "      <td>love</td>\n",
       "      <td>41</td>\n",
       "    </tr>\n",
       "    <tr>\n",
       "      <th>5</th>\n",
       "      <td>snack</td>\n",
       "      <td>40</td>\n",
       "    </tr>\n",
       "    <tr>\n",
       "      <th>6</th>\n",
       "      <td>mix</td>\n",
       "      <td>39</td>\n",
       "    </tr>\n",
       "    <tr>\n",
       "      <th>7</th>\n",
       "      <td>variety</td>\n",
       "      <td>37</td>\n",
       "    </tr>\n",
       "    <tr>\n",
       "      <th>8</th>\n",
       "      <td>piece</td>\n",
       "      <td>31</td>\n",
       "    </tr>\n",
       "    <tr>\n",
       "      <th>9</th>\n",
       "      <td>pretzel</td>\n",
       "      <td>30</td>\n",
       "    </tr>\n",
       "  </tbody>\n",
       "</table>\n",
       "</div>"
      ],
      "text/plain": [
       "     index   0\n",
       "0   flavor  83\n",
       "1     like  75\n",
       "2     chip  64\n",
       "3      rye  60\n",
       "4     love  41\n",
       "5    snack  40\n",
       "6      mix  39\n",
       "7  variety  37\n",
       "8    piece  31\n",
       "9  pretzel  30"
      ]
     },
     "execution_count": 34,
     "metadata": {},
     "output_type": "execute_result"
    }
   ],
   "source": [
    "nestle['reduced_sentence'].str.lower().str.split(expand=True).stack().value_counts().head(10).reset_index()\n"
   ]
  },
  {
   "cell_type": "code",
   "execution_count": 35,
   "id": "08c77f5a",
   "metadata": {},
   "outputs": [
    {
     "data": {
      "text/html": [
       "<div>\n",
       "<style scoped>\n",
       "    .dataframe tbody tr th:only-of-type {\n",
       "        vertical-align: middle;\n",
       "    }\n",
       "\n",
       "    .dataframe tbody tr th {\n",
       "        vertical-align: top;\n",
       "    }\n",
       "\n",
       "    .dataframe thead th {\n",
       "        text-align: right;\n",
       "    }\n",
       "</style>\n",
       "<table border=\"1\" class=\"dataframe\">\n",
       "  <thead>\n",
       "    <tr style=\"text-align: right;\">\n",
       "      <th></th>\n",
       "      <th>index</th>\n",
       "      <th>0</th>\n",
       "    </tr>\n",
       "  </thead>\n",
       "  <tbody>\n",
       "    <tr>\n",
       "      <th>0</th>\n",
       "      <td>chip</td>\n",
       "      <td>66</td>\n",
       "    </tr>\n",
       "    <tr>\n",
       "      <th>1</th>\n",
       "      <td>like</td>\n",
       "      <td>64</td>\n",
       "    </tr>\n",
       "    <tr>\n",
       "      <th>2</th>\n",
       "      <td>flavor</td>\n",
       "      <td>59</td>\n",
       "    </tr>\n",
       "    <tr>\n",
       "      <th>3</th>\n",
       "      <td>rye</td>\n",
       "      <td>57</td>\n",
       "    </tr>\n",
       "    <tr>\n",
       "      <th>4</th>\n",
       "      <td>snack</td>\n",
       "      <td>46</td>\n",
       "    </tr>\n",
       "    <tr>\n",
       "      <th>5</th>\n",
       "      <td>love</td>\n",
       "      <td>42</td>\n",
       "    </tr>\n",
       "    <tr>\n",
       "      <th>6</th>\n",
       "      <td>taste</td>\n",
       "      <td>41</td>\n",
       "    </tr>\n",
       "    <tr>\n",
       "      <th>7</th>\n",
       "      <td>mix</td>\n",
       "      <td>41</td>\n",
       "    </tr>\n",
       "    <tr>\n",
       "      <th>8</th>\n",
       "      <td>pretzel</td>\n",
       "      <td>41</td>\n",
       "    </tr>\n",
       "    <tr>\n",
       "      <th>9</th>\n",
       "      <td>favorite</td>\n",
       "      <td>39</td>\n",
       "    </tr>\n",
       "  </tbody>\n",
       "</table>\n",
       "</div>"
      ],
      "text/plain": [
       "      index   0\n",
       "0      chip  66\n",
       "1      like  64\n",
       "2    flavor  59\n",
       "3       rye  57\n",
       "4     snack  46\n",
       "5      love  42\n",
       "6     taste  41\n",
       "7       mix  41\n",
       "8   pretzel  41\n",
       "9  favorite  39"
      ]
     },
     "execution_count": 35,
     "metadata": {},
     "output_type": "execute_result"
    }
   ],
   "source": [
    "pillsbury['reduced_sentence'].str.lower().str.split(\n",
    "    expand=True).stack().value_counts().head(10).reset_index()\n"
   ]
  },
  {
   "cell_type": "code",
   "execution_count": 36,
   "id": "0831f73c",
   "metadata": {},
   "outputs": [
    {
     "data": {
      "text/html": [
       "<div>\n",
       "<style scoped>\n",
       "    .dataframe tbody tr th:only-of-type {\n",
       "        vertical-align: middle;\n",
       "    }\n",
       "\n",
       "    .dataframe tbody tr th {\n",
       "        vertical-align: top;\n",
       "    }\n",
       "\n",
       "    .dataframe thead th {\n",
       "        text-align: right;\n",
       "    }\n",
       "</style>\n",
       "<table border=\"1\" class=\"dataframe\">\n",
       "  <thead>\n",
       "    <tr style=\"text-align: right;\">\n",
       "      <th></th>\n",
       "      <th>index</th>\n",
       "      <th>0</th>\n",
       "    </tr>\n",
       "  </thead>\n",
       "  <tbody>\n",
       "    <tr>\n",
       "      <th>0</th>\n",
       "      <td>flavor</td>\n",
       "      <td>69</td>\n",
       "    </tr>\n",
       "    <tr>\n",
       "      <th>1</th>\n",
       "      <td>chip</td>\n",
       "      <td>64</td>\n",
       "    </tr>\n",
       "    <tr>\n",
       "      <th>2</th>\n",
       "      <td>rye</td>\n",
       "      <td>63</td>\n",
       "    </tr>\n",
       "    <tr>\n",
       "      <th>3</th>\n",
       "      <td>like</td>\n",
       "      <td>63</td>\n",
       "    </tr>\n",
       "    <tr>\n",
       "      <th>4</th>\n",
       "      <td>love</td>\n",
       "      <td>54</td>\n",
       "    </tr>\n",
       "    <tr>\n",
       "      <th>5</th>\n",
       "      <td>piece</td>\n",
       "      <td>40</td>\n",
       "    </tr>\n",
       "    <tr>\n",
       "      <th>6</th>\n",
       "      <td>pretzel</td>\n",
       "      <td>40</td>\n",
       "    </tr>\n",
       "    <tr>\n",
       "      <th>7</th>\n",
       "      <td>mix</td>\n",
       "      <td>39</td>\n",
       "    </tr>\n",
       "    <tr>\n",
       "      <th>8</th>\n",
       "      <td>snack</td>\n",
       "      <td>36</td>\n",
       "    </tr>\n",
       "    <tr>\n",
       "      <th>9</th>\n",
       "      <td>taste</td>\n",
       "      <td>31</td>\n",
       "    </tr>\n",
       "  </tbody>\n",
       "</table>\n",
       "</div>"
      ],
      "text/plain": [
       "     index   0\n",
       "0   flavor  69\n",
       "1     chip  64\n",
       "2      rye  63\n",
       "3     like  63\n",
       "4     love  54\n",
       "5    piece  40\n",
       "6  pretzel  40\n",
       "7      mix  39\n",
       "8    snack  36\n",
       "9    taste  31"
      ]
     },
     "execution_count": 36,
     "metadata": {},
     "output_type": "execute_result"
    }
   ],
   "source": [
    "third['reduced_sentence'].str.lower().str.split(\n",
    "    expand=True).stack().value_counts().head(10).reset_index()"
   ]
  },
  {
   "attachments": {},
   "cell_type": "markdown",
   "id": "008330bd",
   "metadata": {},
   "source": [
    "### Collocation"
   ]
  },
  {
   "cell_type": "code",
   "execution_count": 41,
   "id": "db8556a6",
   "metadata": {},
   "outputs": [],
   "source": [
    "freq_df = pd.read_excel(\"C:\\\\Users\\\\g654674\\\\OneDrive - General Mills\\\\Work_OneDrive\\\\PGI\\\\Text Analytics\\\\gardettos pretzel\\\\analysis.xlsx\", sheet_name='topic_categorization')"
   ]
  },
  {
   "cell_type": "code",
   "execution_count": 42,
   "id": "e89f1b7b",
   "metadata": {},
   "outputs": [],
   "source": [
    "def remove_punctuation(text):\n",
    "    no_punct = [words for words in text if words not in string.punctuation]\n",
    "    no_punct_add = [words for words in no_punct if words not in \"’\"]\n",
    "    words_wo_punct = ''.join(no_punct_add)\n",
    "    return words_wo_punct\n",
    "\n",
    "def tokenize(text):\n",
    "    split = word_tokenize(text)\n",
    "    return split\n",
    "\n",
    "stop_words = set(stopwords.words(\"english\"))\n",
    "def remove_stopwords(text):\n",
    "    filtered_list = [word for word in text if word.casefold() not in stop_words]\n",
    "    return filtered_list\n",
    "\n",
    "#lemmatization\n",
    "tag_map = defaultdict(lambda: wordnet.NOUN)\n",
    "tag_map['J'] = wordnet.ADJ\n",
    "tag_map['V'] = wordnet.VERB\n",
    "tag_map['R'] = wordnet.ADV\n",
    "\n",
    "lmtzr = WordNetLemmatizer()\n",
    "\n",
    "def lemmatize_func(tokens):\n",
    "    lem_list = []\n",
    "    for token, tag in pos_tag(tokens):\n",
    "        lem_list.append(lmtzr.lemmatize(token, tag_map[tag[0]]))\n",
    "    return lem_list"
   ]
  },
  {
   "cell_type": "code",
   "execution_count": 43,
   "id": "09e40410",
   "metadata": {},
   "outputs": [],
   "source": [
    "freq_df['packaging_oe_no_punc'] = freq_df['liking_oe'].apply(lambda x: remove_punctuation(x))\n",
    "freq_df['packaging_oe_no_punc_no_punc_token'] = freq_df['packaging_oe_no_punc'].apply(lambda x: tokenize(x.lower()))\n",
    "freq_df['packaging_oe_no_punc_no_punc_token_no_punc_token_no_stop'] = freq_df['packaging_oe_no_punc_no_punc_token'].dropna().apply(lambda x: remove_stopwords(x))\n",
    "freq_df['packaging_oe_no_punc_no_punc_token_no_punc_token_no_stop_no_punc_token_no_stop_lemm'] = freq_df['packaging_oe_no_punc_no_punc_token_no_punc_token_no_stop'].dropna().apply(lambda x: lemmatize_func(x))"
   ]
  },
  {
   "cell_type": "code",
   "execution_count": 60,
   "id": "ac2e005d",
   "metadata": {},
   "outputs": [],
   "source": [
    "grouped_df = freq_df.groupby('product')\n",
    "prod_a = grouped_df.get_group('Treehouse Micro Mini and Treehouse Stick')\n",
    "# prod_a = grouped_df.get_group('Treehouse Micro Mini and Pretzels Inc Stick')\n",
    "\n",
    "prod_b = grouped_df.get_group('Pretzels Inc Micro Mini and Pretzels Inc Stick')"
   ]
  },
  {
   "cell_type": "code",
   "execution_count": 61,
   "id": "9e478a8e",
   "metadata": {},
   "outputs": [],
   "source": [
    "combined_ls = []\n",
    "for id, rows in prod_a['packaging_oe_no_punc_no_punc_token_no_punc_token_no_stop_no_punc_token_no_stop_lemm'].iteritems():\n",
    "    for items in rows:\n",
    "        combined_ls.append((items))"
   ]
  },
  {
   "cell_type": "code",
   "execution_count": 62,
   "id": "30f19c10",
   "metadata": {},
   "outputs": [
    {
     "data": {
      "image/png": "[encoded data removed]",
      "text/plain": [
       "<Figure size 640x480 with 1 Axes>"
      ]
     },
     "metadata": {},
     "output_type": "display_data"
    },
    {
     "data": {
      "text/plain": [
       "<Axes: xlabel='Samples', ylabel='Counts'>"
      ]
     },
     "execution_count": 62,
     "metadata": {},
     "output_type": "execute_result"
    }
   ],
   "source": [
    "fd = nltk.FreqDist(combined_ls)\n",
    "fd.plot(10, cumulative=False)"
   ]
  },
  {
   "cell_type": "code",
   "execution_count": 63,
   "id": "006f7688",
   "metadata": {},
   "outputs": [
    {
     "name": "stdout",
     "output_type": "stream",
     "text": [
      "rye chip; bread piece; isnt overpower; different texture; favorite\n",
      "part; snack mix; easy eat; rye crisp; chip favorite; bagel chip; well\n",
      "together; seasoning use; really like; salty garlicky; much garlic;\n",
      "crunchy salty; also like; bread stick; different piece; love rye\n"
     ]
    }
   ],
   "source": [
    "coll_text = nltk.Text(combined_ls)\n",
    "coll_text.collocations()"
   ]
  },
  {
   "cell_type": "code",
   "execution_count": 64,
   "id": "b1be1a95",
   "metadata": {},
   "outputs": [
    {
     "data": {
      "text/plain": [
       "[(('rye', 'chip'), 49),\n",
       " (('snack', 'mix'), 9),\n",
       " (('like', 'flavor'), 9),\n",
       " (('love', 'rye'), 8),\n",
       " (('chip', 'favorite'), 8),\n",
       " (('flavor', 'variety'), 8)]"
      ]
     },
     "execution_count": 64,
     "metadata": {},
     "output_type": "execute_result"
    }
   ],
   "source": [
    "text = nltk.Text(combined_ls)\n",
    "finder = nltk.collocations.BigramCollocationFinder.from_words(text)\n",
    "finder.ngram_fd.most_common(6)"
   ]
  },
  {
   "cell_type": "code",
   "execution_count": 59,
   "id": "4c90bcbb",
   "metadata": {},
   "outputs": [
    {
     "data": {
      "text/plain": [
       "[('rye', 'chip'),\n",
       " ('bread', 'stick'),\n",
       " ('different', 'type'),\n",
       " ('family', 'member'),\n",
       " ('member', 'say')]"
      ]
     },
     "execution_count": 59,
     "metadata": {},
     "output_type": "execute_result"
    }
   ],
   "source": [
    "finder.nbest(BigramAssocMeasures.likelihood_ratio,5)"
   ]
  },
  {
   "cell_type": "code",
   "execution_count": 47,
   "id": "e7034813",
   "metadata": {},
   "outputs": [
    {
     "data": {
      "text/plain": [
       "[('pinch', 'pull'),\n",
       " ('hard', 'time'),\n",
       " ('fruit', 'snack'),\n",
       " ('hard', 'find'),\n",
       " ('package', 'make')]"
      ]
     },
     "execution_count": 47,
     "metadata": {},
     "output_type": "execute_result"
    }
   ],
   "source": [
    "bigram_measures = nltk.collocations.BigramAssocMeasures()\n",
    "finder.apply_freq_filter(3)\n",
    "finder.nbest(bigram_measures.pmi, 5)"
   ]
  },
  {
   "cell_type": "code",
   "execution_count": 48,
   "id": "57d5b603",
   "metadata": {},
   "outputs": [
    {
     "data": {
      "text/plain": [
       "[(('easy', 'open'), 34),\n",
       " (('open', 'easy'), 7),\n",
       " (('notch', 'easy'), 4),\n",
       " (('snack', 'easy'), 3),\n",
       " (('easy', 'tear'), 3)]"
      ]
     },
     "execution_count": 48,
     "metadata": {},
     "output_type": "execute_result"
    }
   ],
   "source": [
    "# Ngrams with 'creature' as a member\n",
    "pinch_filter = lambda *w: 'easy' not in w\n",
    "finder.apply_ngram_filter(pinch_filter)\n",
    "finder.ngram_fd.most_common(5)"
   ]
  },
  {
   "cell_type": "code",
   "execution_count": 25,
   "id": "53db1ca2",
   "metadata": {},
   "outputs": [
    {
     "data": {
      "text/plain": [
       "[('packaging', 'fruit', 'snack'),\n",
       " ('fruit', 'snack', 'without'),\n",
       " ('access', 'fruit', 'snack'),\n",
       " ('base', 'fruit', 'snack'),\n",
       " ('colorful', 'fruit', 'snack'),\n",
       " ('fruit', 'snack', 'bother'),\n",
       " ('fruit', 'snack', 'chip'),\n",
       " ('fruit', 'snack', 'enjoy'),\n",
       " ('fruit', 'snack', 'within'),\n",
       " ('enough', 'fruit', 'snack'),\n",
       " ('fruit', 'snack', 'almost'),\n",
       " ('brand', 'fruit', 'snack'),\n",
       " ('fruit', 'snack', 'good'),\n",
       " ('get', 'fruit', 'snack'),\n",
       " ('opening', 'fruit', 'snack'),\n",
       " ('fruit', 'snack', 'pouch'),\n",
       " ('pouch', 'fruit', 'snack'),\n",
       " ('fruit', 'snack', 'make'),\n",
       " ('fruit', 'snack', 'easy'),\n",
       " ('find', 'tear', 'notch'),\n",
       " ('easy', 'open', 'kid'),\n",
       " ('tear', 'notch', 'indicate'),\n",
       " ('tear', 'notch', 'easy'),\n",
       " ('faster', 'tear', 'notch'),\n",
       " ('love', 'tear', 'notch')]"
      ]
     },
     "execution_count": 25,
     "metadata": {},
     "output_type": "execute_result"
    }
   ],
   "source": [
    "from nltk.collocations import TrigramCollocationFinder\n",
    "from nltk.metrics import TrigramAssocMeasures\n",
    "\n",
    "trigram_collocation = TrigramCollocationFinder.from_words(combined_ls)\n",
    "# trigram_collocation.apply_word_filter(filter_stops)\n",
    "# trigram_collocation.apply_freq_filter(3)\n",
    " \n",
    "trigram_collocation.nbest(TrigramAssocMeasures.likelihood_ratio, 25)"
   ]
  },
  {
   "attachments": {},
   "cell_type": "markdown",
   "id": "b1ff542f",
   "metadata": {},
   "source": [
    "### Sentiment support"
   ]
  },
  {
   "cell_type": "code",
   "execution_count": 45,
   "id": "d1b706c7",
   "metadata": {},
   "outputs": [
    {
     "name": "stderr",
     "output_type": "stream",
     "text": [
      "No model was supplied, defaulted to distilbert-base-uncased-finetuned-sst-2-english and revision af0f99b (https://huggingface.co/distilbert-base-uncased-finetuned-sst-2-english).\n",
      "Using a pipeline without specifying a model name and revision in production is not recommended.\n"
     ]
    }
   ],
   "source": [
    "from transformers import pipeline\n",
    "\n",
    "# sentiment analysis\n",
    "sentiment_pipeline = pipeline(\"sentiment-analysis\")\n",
    "docs = freq_df['packaging_oe'].str.lower()\n",
    "docs_ls = list(docs)\n",
    "sen_ls = sentiment_pipeline(docs_ls)"
   ]
  },
  {
   "cell_type": "code",
   "execution_count": 46,
   "id": "56bac462",
   "metadata": {},
   "outputs": [],
   "source": [
    "sentiment = []\n",
    "score_ls = []\n",
    "for sen in sen_ls:\n",
    "    sentiment.append(sen['label'])\n",
    "    score_ls.append(sen['score'])"
   ]
  },
  {
   "cell_type": "code",
   "execution_count": 47,
   "id": "910b6681",
   "metadata": {},
   "outputs": [],
   "source": [
    "sent_df = pd.DataFrame()\n",
    "sent_df['packaging_oe'] = freq_df['packaging_oe']\n",
    "sent_df['sentiment'] = sentiment\n",
    "sent_df['sentiment_score'] = score_ls"
   ]
  },
  {
   "cell_type": "code",
   "execution_count": null,
   "id": "f1dcfbc7",
   "metadata": {},
   "outputs": [],
   "source": [
    "sent_df.to_clipboard(index=False)"
   ]
  },
  {
   "attachments": {},
   "cell_type": "markdown",
   "id": "53e9c3b1",
   "metadata": {},
   "source": [
    "### Packaging Support"
   ]
  },
  {
   "cell_type": "code",
   "execution_count": 129,
   "id": "0f34c346",
   "metadata": {},
   "outputs": [
    {
     "data": {
      "text/plain": [
       "[('flavor', 100)]"
      ]
     },
     "execution_count": 129,
     "metadata": {},
     "output_type": "execute_result"
    }
   ],
   "source": [
    "# https://chairnerd.seatgeek.com/fuzzywuzzy-fuzzy-string-matching-in-python/\n",
    "# https://github.com/seatgeek/thefuzz\n",
    "resp = 'more chewy and more flavor'\n",
    "# intersection of strings and then sort\n",
    "process.extract(resp, flavor_ls, limit=1, scorer=fuzz.token_set_ratio)\n"
   ]
  },
  {
   "cell_type": "code",
   "execution_count": 378,
   "id": "537c7c7f",
   "metadata": {},
   "outputs": [],
   "source": [
    "package_df = pd.read_excel(\n",
    "    \"C:\\\\Users\\\\g654674\\\\OneDrive - General Mills\\\\Work_OneDrive\\\\PGI\\\\Text Analytics\\\\Remarkability Test\\\\remarkability_test_analysis.xlsx\", sheet_name='pp_categorization')\n",
    "# docs = package_df['pp_oe'].str.lower()\n"
   ]
  },
  {
   "cell_type": "code",
   "execution_count": 380,
   "id": "cc59bc60",
   "metadata": {},
   "outputs": [],
   "source": [
    "def remove_punctuation(text):\n",
    "    no_punct = [words for words in text if words not in string.punctuation]\n",
    "    words_wo_punct = ''.join(no_punct)\n",
    "    return words_wo_punct\n",
    "\n",
    "\n",
    "package_df['pp_oe_no_punc'] = package_df['pp_oe'].apply(\n",
    "    lambda x: remove_punctuation(x))\n"
   ]
  },
  {
   "cell_type": "code",
   "execution_count": 381,
   "id": "93ae39f9",
   "metadata": {},
   "outputs": [],
   "source": [
    "def tokenize(text):\n",
    "    split = word_tokenize(text)\n",
    "    return split\n",
    "\n",
    "\n",
    "package_df['pp_oe_no_punc_token'] = package_df['pp_oe_no_punc'].apply(\n",
    "    lambda x: tokenize(x.lower()))\n"
   ]
  },
  {
   "cell_type": "code",
   "execution_count": 383,
   "id": "9b48f286",
   "metadata": {},
   "outputs": [],
   "source": [
    "stop_words = set(stopwords.words(\"english\"))\n",
    "\n",
    "\n",
    "def remove_stopwords(text):\n",
    "    filtered_list = [word for word in text if word.casefold()\n",
    "                     not in stop_words]\n",
    "    return filtered_list\n",
    "\n",
    "\n",
    "package_df['pp_oe_no_punc_token_no_stop'] = package_df['pp_oe_no_punc_token'].dropna(\n",
    ").apply(lambda x: remove_stopwords(x))\n"
   ]
  },
  {
   "cell_type": "code",
   "execution_count": 388,
   "id": "e47f67a4",
   "metadata": {},
   "outputs": [],
   "source": [
    "from nltk import word_tokenize, pos_tag\n",
    "tag_map = defaultdict(lambda: wordnet.NOUN)\n",
    "tag_map['J'] = wordnet.ADJ\n",
    "tag_map['V'] = wordnet.VERB\n",
    "tag_map['R'] = wordnet.ADV\n",
    "\n",
    "lmtzr = WordNetLemmatizer()\n",
    "\n",
    "\n",
    "def lemmatize_func(tokens):\n",
    "    lem_list = []\n",
    "    for token, tag in pos_tag(tokens):\n",
    "        lem_list.append(lmtzr.lemmatize(token, tag_map[tag[0]]))\n",
    "    return lem_list\n",
    "\n",
    "\n",
    "package_df['pp_oe_no_punc_token_no_stop_lemm'] = package_df['pp_oe_no_punc_token_no_stop'].dropna(\n",
    ").apply(lambda x: lemmatize_func(x))\n"
   ]
  },
  {
   "cell_type": "code",
   "execution_count": 390,
   "id": "2701e3b2",
   "metadata": {},
   "outputs": [],
   "source": [
    "combined_ls = []\n",
    "for id, rows in package_df['pp_oe_no_punc_token_no_stop_lemm'].iteritems():\n",
    "    for items in rows:\n",
    "        combined_ls.append((items))\n"
   ]
  },
  {
   "cell_type": "code",
   "execution_count": 392,
   "id": "fe920c1f",
   "metadata": {},
   "outputs": [
    {
     "data": {
      "image/png": "[encoded data removed]",
      "text/plain": [
       "<Figure size 640x480 with 1 Axes>"
      ]
     },
     "metadata": {},
     "output_type": "display_data"
    },
    {
     "data": {
      "text/plain": [
       "<Axes: xlabel='Samples', ylabel='Counts'>"
      ]
     },
     "execution_count": 392,
     "metadata": {},
     "output_type": "execute_result"
    }
   ],
   "source": [
    "fd = nltk.FreqDist(combined_ls)\n",
    "fd.plot(10, cumulative=False)\n"
   ]
  },
  {
   "cell_type": "code",
   "execution_count": 394,
   "id": "f1672641",
   "metadata": {},
   "outputs": [],
   "source": [
    "lem_combined_ls = []\n",
    "for id, rows in package_df['pp_oe_no_punc_token_no_stop_lemm'].iteritems():\n",
    "    for items in rows:\n",
    "        lem_combined_ls.append((items))\n"
   ]
  },
  {
   "cell_type": "code",
   "execution_count": 395,
   "id": "39169bee",
   "metadata": {},
   "outputs": [
    {
     "name": "stdout",
     "output_type": "stream",
     "text": [
      "easy open; cookie dough; break apart; toll house; use scissors;\n",
      "already separate; cooky come; wish resealable; cooky easier; cookie\n",
      "sheet; much easy; dough boy; almost identical; cut top; along top;\n",
      "bright yellow; boy front; catch eye; see direction; cardboard insert\n"
     ]
    }
   ],
   "source": [
    "coll_text = nltk.Text(lem_combined_ls)\n",
    "coll_text.collocations()\n"
   ]
  },
  {
   "cell_type": "code",
   "execution_count": 397,
   "id": "ad07afde",
   "metadata": {},
   "outputs": [
    {
     "data": {
      "text/plain": [
       "[(('easier', 'open'), 49),\n",
       " (('cookie', 'dough'), 30),\n",
       " (('easy', 'open'), 22),\n",
       " (('break', 'apart'), 12),\n",
       " (('package', 'easier'), 12)]"
      ]
     },
     "execution_count": 397,
     "metadata": {},
     "output_type": "execute_result"
    }
   ],
   "source": [
    "text = nltk.Text(combined_ls)\n",
    "finder = nltk.collocations.BigramCollocationFinder.from_words(text)\n",
    "finder.ngram_fd.most_common(5)\n"
   ]
  },
  {
   "cell_type": "code",
   "execution_count": null,
   "id": "14790c35",
   "metadata": {},
   "outputs": [],
   "source": []
  },
  {
   "attachments": {},
   "cell_type": "markdown",
   "id": "e7b01b0b",
   "metadata": {},
   "source": [
    "### Expectations open end"
   ]
  },
  {
   "cell_type": "code",
   "execution_count": 441,
   "id": "57b36acf",
   "metadata": {},
   "outputs": [],
   "source": [
    "expec_df = pd.read_excel(\n",
    "    \"C:\\\\Users\\\\g654674\\\\OneDrive - General Mills\\\\Work_OneDrive\\\\PGI\\\\Text Analytics\\\\Remarkability Test\\\\remarkability_test_analysis.xlsx\", sheet_name='me_opportunity')\n",
    "docs = expec_df['e_oe'].str.lower()\n"
   ]
  },
  {
   "cell_type": "code",
   "execution_count": 442,
   "id": "1a2775d7",
   "metadata": {},
   "outputs": [],
   "source": [
    "# Remove Stop Words\n",
    "stop_words = set(stopwords.words('english'))\n",
    "\n",
    "stop_remove_docs = []\n",
    "for doc in docs:\n",
    "    word_tokens = word_tokenize(doc)\n",
    "    # converts the words in word_tokens to lower case and then checks whether\n",
    "    # they are present in stop_words or not\n",
    "    filtered_sentence = [w for w in word_tokens if not w.lower() in stop_words]\n",
    "    # with no lower case conversion\n",
    "    filtered_sentence = []\n",
    "\n",
    "    for w in word_tokens:\n",
    "        if w not in stop_words:\n",
    "            filtered_sentence.append(w)\n",
    "    filtered_sentence = \" \".join(filtered_sentence)\n",
    "\n",
    "    stop_remove_docs.append(filtered_sentence)\n"
   ]
  },
  {
   "cell_type": "code",
   "execution_count": 443,
   "id": "e4844c30",
   "metadata": {},
   "outputs": [],
   "source": [
    "# Lemmatize\n",
    "lemmatizer = WordNetLemmatizer()\n",
    "\n",
    "# Define function to lemmatize each word with its POS tag\n",
    "\n",
    "# POS_TAGGER_FUNCTION : TYPE 1\n",
    "\n",
    "\n",
    "def pos_tagger(nltk_tag):\n",
    "    if nltk_tag.startswith('J'):\n",
    "        return wordnet.ADJ\n",
    "    elif nltk_tag.startswith('V'):\n",
    "        return wordnet.VERB\n",
    "    elif nltk_tag.startswith('N'):\n",
    "        return wordnet.NOUN\n",
    "    elif nltk_tag.startswith('R'):\n",
    "        return wordnet.ADV\n",
    "    else:\n",
    "        return None\n",
    "\n",
    "\n",
    "lemmatized_docs = []\n",
    "\n",
    "for sentence in stop_remove_docs:\n",
    "    # tokenize the sentence and find the POS tag for each token\n",
    "    pos_tagged = nltk.pos_tag(nltk.word_tokenize(sentence))\n",
    "    # >[('the', 'DT'), ('cat', 'NN'), ('is', 'VBZ'), ('sitting', 'VBG'), ('with', 'IN'),\n",
    "    # ('the', 'DT'), ('bats', 'NNS'), ('on', 'IN'), ('the', 'DT'), ('striped', 'JJ'),\n",
    "    # ('mat', 'NN'), ('under', 'IN'), ('many', 'JJ'), ('flying', 'VBG'), ('geese', 'JJ')]\n",
    "\n",
    "    # As you may have noticed, the above pos tags are a little confusing.\n",
    "\n",
    "    # we use our owordnet pos_tagger function to make things simpler to understand.\n",
    "    wordnet_tagged = list(map(lambda x: (x[0], pos_tagger(x[1])), pos_tagged))\n",
    "    # >[('the', None), ('cat', 'n'), ('is', 'v'), ('sitting', 'v'), ('with', None),\n",
    "    # ('the', None), ('bats', 'n'), ('on', None), ('the', None), ('striped', 'a'),\n",
    "    # ('mat', 'n'), ('under', None), ('many', 'a'), ('flying', 'v'), ('geese', 'a')]\n",
    "\n",
    "    lemmatized_sentence = []\n",
    "    for word, tag in wordnet_tagged:\n",
    "        if tag is None:\n",
    "            # if there is no available tag, append the token as is\n",
    "            lemmatized_sentence.append(word)\n",
    "        else:\n",
    "            # else use the tag to lemmatize the token\n",
    "            lemmatized_sentence.append(lemmatizer.lemmatize(word, tag))\n",
    "    lemmatized_sentence = \" \".join(lemmatized_sentence)\n",
    "    lemmatized_docs.append(lemmatized_sentence)\n"
   ]
  },
  {
   "cell_type": "code",
   "execution_count": 444,
   "id": "51f69a82",
   "metadata": {},
   "outputs": [],
   "source": [
    "# Implementing fuzzy lookup\n",
    "# Create list of attributes we want to check\n",
    "# appearance_ls = ['appearance','color','bright','dull','size','large','small','dough ','chocolate chips','baked','golden browordnet','browordnet ','light','dark','cracking','big']\n",
    "appearance_ls = ['appearance', 'appear', 'look', 'color', 'bright', 'dull', 'size', 'large', 'small',\n",
    "                 'dough ', 'chocolate chips', 'bake', 'golden brown', 'brown ', 'light', 'dark', 'crack', 'big']\n",
    "\n",
    "# texture_ls = ['texture ','moist','dry','chewy','crunchy','crispy','soft','hard','wet','toothpack','teeth','thick','thickness','edge','melt in your mouth','crumbly']\n",
    "texture_ls = ['texture', 'moist', 'dry', 'chewy', 'crunchy', 'crispy', 'soft', 'hard',\n",
    "              'wet', 'toothpack', 'teeth', 'thick', 'thickness', 'edge', 'melt in your mouth', 'crumbly']\n",
    "\n",
    "# flavor_ls = ['flavor','chocolate chip','sweetness', 'sweet','too sweet','raw cookie dough','chocolate flavor','chip flavor','semi sweet','balanced','aroma','brown sweet']\n",
    "flavor_ls = ['flavor', 'taste', 'tasted', 'bitter', 'chocolate chip', 'sweetness', 'delicious', 'yummy', 'sweet',\n",
    "             'too sweet', 'raw cookie dough', 'chocolate flavor', 'chip flavor', 'semi sweet', 'balance', 'aroma', 'brown sweet']\n",
    "\n",
    "pi_ls = ['purchase intent', 'price', 'value',\n",
    "         'cost', 'cheap', 'number', 'size']\n",
    "\n",
    "# packaging_ls = ['packaging','cute','blue','dough boy','fun','boring','delicious','yummy','easy to open','difficult to open','yellow','large','small','smaller']\n",
    "packaging_ls = ['package', 'cute', 'blue', 'fun', 'bore' 'easy to open',\n",
    "                'difficult to open', 'yellow', 'large', 'small']\n",
    "\n",
    "function_ls = ['functionality', 'messy',\n",
    "               'easy to handle', 'difficult to handle']\n"
   ]
  },
  {
   "cell_type": "code",
   "execution_count": 445,
   "id": "b2ad187f",
   "metadata": {},
   "outputs": [
    {
     "name": "stderr",
     "output_type": "stream",
     "text": [
      "WARNING:root:Applied processor reduces input query to empty string, all comparisons will have score 0. [Query: '.']\n",
      "WARNING:root:Applied processor reduces input query to empty string, all comparisons will have score 0. [Query: '.']\n",
      "WARNING:root:Applied processor reduces input query to empty string, all comparisons will have score 0. [Query: '.']\n",
      "WARNING:root:Applied processor reduces input query to empty string, all comparisons will have score 0. [Query: '.']\n",
      "WARNING:root:Applied processor reduces input query to empty string, all comparisons will have score 0. [Query: '.']\n",
      "WARNING:root:Applied processor reduces input query to empty string, all comparisons will have score 0. [Query: '.']\n"
     ]
    }
   ],
   "source": [
    "appearance_res_ls = fuzzy_lookup(lemmatized_docs, appearance_ls, 80)\n",
    "texture_res_ls = fuzzy_lookup(lemmatized_docs, texture_ls, 80)\n",
    "flavor_res_ls = fuzzy_lookup(lemmatized_docs, flavor_ls, 80)\n",
    "pi_res_ls = fuzzy_lookup(lemmatized_docs, pi_ls, 80)\n",
    "packaging_res_ls = fuzzy_lookup(lemmatized_docs, packaging_ls, 80)\n",
    "function_res_ls = fuzzy_lookup(lemmatized_docs, function_ls, 80)\n",
    "\n",
    "fuzzy_res_df = pd.DataFrame({'e_oe': docs, 'reduced_sentence': lemmatized_docs, 'Appearance': appearance_res_ls, 'Texture': texture_res_ls,\n",
    "                             'Flavor': flavor_res_ls, 'purchase_intent': pi_res_ls, 'Packaging': packaging_res_ls, 'Functionality': function_res_ls}, index=df.index)\n",
    "fuzzy_res_df['appearance_match'], fuzzy_res_df['appearance_score'] = fuzzy_res_df.Appearance.str\n",
    "fuzzy_res_df['texture_match'], fuzzy_res_df['texture_score'] = fuzzy_res_df.Texture.str\n",
    "fuzzy_res_df['flavor_match'], fuzzy_res_df['flavor_score'] = fuzzy_res_df.Flavor.str\n",
    "# fuzzy_res_df['purchase_intent_match'], fuzzy_res_df['purchase_intent_score'] = fuzzy_res_df.purchase_intent.str\n",
    "fuzzy_res_df['packaging_match'], fuzzy_res_df['packaging_score'] = fuzzy_res_df.Packaging.str\n",
    "fuzzy_res_df['functionality_match'], fuzzy_res_df['functionality_score'] = fuzzy_res_df.Functionality.str\n"
   ]
  },
  {
   "cell_type": "code",
   "execution_count": 446,
   "id": "1b51833a",
   "metadata": {},
   "outputs": [
    {
     "name": "stderr",
     "output_type": "stream",
     "text": [
      "No model was supplied, defaulted to distilbert-base-uncased-finetuned-sst-2-english and revision af0f99b (https://huggingface.co/distilbert-base-uncased-finetuned-sst-2-english).\n",
      "Using a pipeline without specifying a model name and revision in production is not recommended.\n"
     ]
    }
   ],
   "source": [
    "from transformers import pipeline\n",
    "\n",
    "# sentiment analysis\n",
    "sentiment_pipeline = pipeline(\"sentiment-analysis\")\n",
    "docs_ls = list(docs)\n",
    "sen_ls = sentiment_pipeline(docs_ls)\n"
   ]
  },
  {
   "cell_type": "code",
   "execution_count": 447,
   "id": "63e803bf",
   "metadata": {},
   "outputs": [],
   "source": [
    "sentiment = []\n",
    "score_ls = []\n",
    "for sen in sen_ls:\n",
    "    sentiment.append(sen['label'])\n",
    "    score_ls.append(sen['score'])\n"
   ]
  },
  {
   "cell_type": "code",
   "execution_count": 448,
   "id": "12d1aac3",
   "metadata": {},
   "outputs": [],
   "source": [
    "fuzzy_res_df['sentiment'] = sentiment\n",
    "fuzzy_res_df['sentiment_score'] = score_ls\n"
   ]
  },
  {
   "cell_type": "code",
   "execution_count": 449,
   "id": "be0b9ba3",
   "metadata": {},
   "outputs": [],
   "source": [
    "fuzzy_res_df.to_clipboard(index=False)\n"
   ]
  },
  {
   "cell_type": "code",
   "execution_count": 452,
   "id": "0cf91b38",
   "metadata": {},
   "outputs": [],
   "source": [
    "expec_df = pd.read_excel(\n",
    "    \"C:\\\\Users\\\\g654674\\\\OneDrive - General Mills\\\\Work_OneDrive\\\\PGI\\\\Text Analytics\\\\Remarkability Test\\\\remarkability_test_analysis.xlsx\", sheet_name='me_highlights')\n"
   ]
  },
  {
   "cell_type": "code",
   "execution_count": 487,
   "id": "b2bd592e",
   "metadata": {},
   "outputs": [],
   "source": [
    "pils_df = expec_df[expec_df['evaluated'] == 'pilsbury']\n",
    "nestle_df = expec_df[expec_df['evaluated'] == 'nestle']\n"
   ]
  },
  {
   "cell_type": "code",
   "execution_count": 489,
   "id": "daa40c1a",
   "metadata": {},
   "outputs": [],
   "source": [
    "pils_df[(pils_df['exceeded'] == 'yes') & (pils_df['Appearance'] == 'yes')][[\n",
    "    'evaluated', 'e_oe', 'Appearance', 'sentiment', 'sentiment_score']].to_clipboard(index=False)\n"
   ]
  },
  {
   "cell_type": "code",
   "execution_count": 490,
   "id": "e4119cb0",
   "metadata": {},
   "outputs": [],
   "source": [
    "nestle_df[(nestle_df['exceeded'] == 'yes') & (nestle_df['Appearance'] == 'yes')][[\n",
    "    'evaluated', 'e_oe', 'Appearance', 'sentiment', 'sentiment_score']].to_clipboard(index=False)\n"
   ]
  },
  {
   "cell_type": "code",
   "execution_count": 498,
   "id": "decce6e6",
   "metadata": {},
   "outputs": [],
   "source": [
    "pils_df[(pils_df['did_not_meet'] == 'yes') & (pils_df['Appearance'] == 'yes')][[\n",
    "    'evaluated', 'e_oe', 'Appearance', 'sentiment', 'sentiment_score']].to_clipboard(index=False)\n"
   ]
  },
  {
   "cell_type": "code",
   "execution_count": 499,
   "id": "e7a9f0ed",
   "metadata": {},
   "outputs": [],
   "source": [
    "nestle_df[(nestle_df['did_not_meet'] == 'yes') & (nestle_df['Appearance'] == 'yes')][[\n",
    "    'evaluated', 'e_oe', 'Appearance', 'sentiment', 'sentiment_score']].to_clipboard(index=False)\n"
   ]
  },
  {
   "cell_type": "code",
   "execution_count": 493,
   "id": "4fcb9c28",
   "metadata": {},
   "outputs": [
    {
     "data": {
      "text/plain": [
       "evaluated              5\n",
       "exceeded               5\n",
       "met                    5\n",
       "did_not_meet           5\n",
       "e_oe                   5\n",
       "reduced_sentence       5\n",
       "Appearance             3\n",
       "Texture                0\n",
       "Flavor                 4\n",
       "purchase_intent        0\n",
       "Packaging              2\n",
       "Functionality          0\n",
       "appearance_match       3\n",
       "appearance_score       3\n",
       "texture_match          0\n",
       "texture_score          0\n",
       "flavor_match           4\n",
       "flavor_score           4\n",
       "packaging_match        2\n",
       "packaging_score        2\n",
       "functionality_match    0\n",
       "functionality_score    0\n",
       "sentiment              5\n",
       "sentiment_score        5\n",
       "dtype: int64"
      ]
     },
     "execution_count": 493,
     "metadata": {},
     "output_type": "execute_result"
    }
   ],
   "source": [
    "pils_df[pils_df['did_not_meet'] == 'yes'].count()\n"
   ]
  },
  {
   "cell_type": "code",
   "execution_count": 485,
   "id": "9b6e7f4e",
   "metadata": {},
   "outputs": [
    {
     "data": {
      "text/plain": [
       "evaluated              12\n",
       "exceeded               12\n",
       "met                    12\n",
       "did_not_meet           12\n",
       "e_oe                   12\n",
       "reduced_sentence       12\n",
       "Appearance              6\n",
       "Texture                 3\n",
       "Flavor                 10\n",
       "purchase_intent         0\n",
       "Packaging               6\n",
       "Functionality           1\n",
       "appearance_match        6\n",
       "appearance_score        6\n",
       "texture_match           3\n",
       "texture_score           3\n",
       "flavor_match           10\n",
       "flavor_score           10\n",
       "packaging_match         6\n",
       "packaging_score         6\n",
       "functionality_match     1\n",
       "functionality_score     1\n",
       "sentiment              12\n",
       "sentiment_score        12\n",
       "dtype: int64"
      ]
     },
     "execution_count": 485,
     "metadata": {},
     "output_type": "execute_result"
    }
   ],
   "source": [
    "nestle_df[nestle_df['did_not_meet'] == 'yes'].count()\n"
   ]
  },
  {
   "attachments": {},
   "cell_type": "markdown",
   "id": "630a78b3",
   "metadata": {},
   "source": [
    "### Other"
   ]
  },
  {
   "cell_type": "code",
   "execution_count": 370,
   "id": "b948ceef",
   "metadata": {},
   "outputs": [],
   "source": [
    "new_docs = []\n",
    "for elem in docs:\n",
    "    new_elem = elem.replace('pillsbury', '')\n",
    "    new_elem = new_elem.replace('pilsbury', '')\n",
    "    new_elem = new_elem.replace('nestle', '')\n",
    "    new_elem = new_elem.replace('nestle tollhouse', '')\n",
    "    new_docs.append(new_elem)\n"
   ]
  },
  {
   "cell_type": "code",
   "execution_count": 371,
   "id": "fee6963a",
   "metadata": {},
   "outputs": [],
   "source": [
    "vectorizer_model = CountVectorizer(stop_words=\"english\")\n",
    "topic_model_rt = BERTopic(vectorizer_model=vectorizer_model)\n",
    "topics, probs = topic_model_rt.fit_transform(new_docs)\n"
   ]
  },
  {
   "cell_type": "code",
   "execution_count": 372,
   "id": "1da42230",
   "metadata": {},
   "outputs": [
    {
     "data": {
      "text/html": [
       "<div>\n",
       "<style scoped>\n",
       "    .dataframe tbody tr th:only-of-type {\n",
       "        vertical-align: middle;\n",
       "    }\n",
       "\n",
       "    .dataframe tbody tr th {\n",
       "        vertical-align: top;\n",
       "    }\n",
       "\n",
       "    .dataframe thead th {\n",
       "        text-align: right;\n",
       "    }\n",
       "</style>\n",
       "<table border=\"1\" class=\"dataframe\">\n",
       "  <thead>\n",
       "    <tr style=\"text-align: right;\">\n",
       "      <th></th>\n",
       "      <th>Topic</th>\n",
       "      <th>Count</th>\n",
       "      <th>Name</th>\n",
       "    </tr>\n",
       "  </thead>\n",
       "  <tbody>\n",
       "    <tr>\n",
       "      <th>0</th>\n",
       "      <td>-1</td>\n",
       "      <td>3</td>\n",
       "      <td>-1_ripped_tollhouse_written_messed</td>\n",
       "    </tr>\n",
       "    <tr>\n",
       "      <th>1</th>\n",
       "      <td>0</td>\n",
       "      <td>95</td>\n",
       "      <td>0_open_packaging_easier_package</td>\n",
       "    </tr>\n",
       "    <tr>\n",
       "      <th>2</th>\n",
       "      <td>1</td>\n",
       "      <td>93</td>\n",
       "      <td>1_cookies_dough_easier_cookie</td>\n",
       "    </tr>\n",
       "    <tr>\n",
       "      <th>3</th>\n",
       "      <td>2</td>\n",
       "      <td>36</td>\n",
       "      <td>2_open_easier_easy_opens</td>\n",
       "    </tr>\n",
       "  </tbody>\n",
       "</table>\n",
       "</div>"
      ],
      "text/plain": [
       "   Topic  Count                                Name\n",
       "0     -1      3  -1_ripped_tollhouse_written_messed\n",
       "1      0     95     0_open_packaging_easier_package\n",
       "2      1     93       1_cookies_dough_easier_cookie\n",
       "3      2     36            2_open_easier_easy_opens"
      ]
     },
     "execution_count": 372,
     "metadata": {},
     "output_type": "execute_result"
    }
   ],
   "source": [
    "topic_model_rt.get_topic_info()\n"
   ]
  },
  {
   "cell_type": "code",
   "execution_count": 373,
   "id": "9c82978a",
   "metadata": {},
   "outputs": [],
   "source": [
    "topic_mapped_df = topic_model_rt.get_document_info(new_docs)\n"
   ]
  },
  {
   "cell_type": "code",
   "execution_count": 376,
   "id": "90928bbf",
   "metadata": {},
   "outputs": [],
   "source": [
    "topic_mapped_df['og_document'] = docs\n",
    "topic_mapped_df.to_clipboard(index=False)\n"
   ]
  },
  {
   "cell_type": "code",
   "execution_count": 375,
   "id": "bf3a71fe",
   "metadata": {},
   "outputs": [],
   "source": [
    "df = pd.DataFrame({\"Document\": docs, \"Topic\": topics})\n"
   ]
  },
  {
   "cell_type": "code",
   "execution_count": 60,
   "id": "f6e7b4aa",
   "metadata": {},
   "outputs": [
    {
     "data": {
      "text/html": [
       "<div>\n",
       "<style scoped>\n",
       "    .dataframe tbody tr th:only-of-type {\n",
       "        vertical-align: middle;\n",
       "    }\n",
       "\n",
       "    .dataframe tbody tr th {\n",
       "        vertical-align: top;\n",
       "    }\n",
       "\n",
       "    .dataframe thead th {\n",
       "        text-align: right;\n",
       "    }\n",
       "</style>\n",
       "<table border=\"1\" class=\"dataframe\">\n",
       "  <thead>\n",
       "    <tr style=\"text-align: right;\">\n",
       "      <th></th>\n",
       "      <th>Document</th>\n",
       "      <th>Topic</th>\n",
       "    </tr>\n",
       "  </thead>\n",
       "  <tbody>\n",
       "    <tr>\n",
       "      <th>0</th>\n",
       "      <td>I like the taste of the chocolate better with ...</td>\n",
       "      <td>0</td>\n",
       "    </tr>\n",
       "    <tr>\n",
       "      <th>1</th>\n",
       "      <td>The taste is better to me. The cookie seems go...</td>\n",
       "      <td>1</td>\n",
       "    </tr>\n",
       "    <tr>\n",
       "      <th>2</th>\n",
       "      <td>I like the Pillsbury Chocolate Chip Cookie Dou...</td>\n",
       "      <td>0</td>\n",
       "    </tr>\n",
       "    <tr>\n",
       "      <th>3</th>\n",
       "      <td>They have more chocolate chips and are a littl...</td>\n",
       "      <td>0</td>\n",
       "    </tr>\n",
       "    <tr>\n",
       "      <th>4</th>\n",
       "      <td>Nestle cookie tastes more like homemade.   Nes...</td>\n",
       "      <td>3</td>\n",
       "    </tr>\n",
       "    <tr>\n",
       "      <th>...</th>\n",
       "      <td>...</td>\n",
       "      <td>...</td>\n",
       "    </tr>\n",
       "    <tr>\n",
       "      <th>222</th>\n",
       "      <td>Enjoy the flavor and texture more</td>\n",
       "      <td>2</td>\n",
       "    </tr>\n",
       "    <tr>\n",
       "      <th>223</th>\n",
       "      <td>It just tasted better. It also had more chocol...</td>\n",
       "      <td>1</td>\n",
       "    </tr>\n",
       "    <tr>\n",
       "      <th>224</th>\n",
       "      <td>It has a little bit of a better taste not as s...</td>\n",
       "      <td>1</td>\n",
       "    </tr>\n",
       "    <tr>\n",
       "      <th>225</th>\n",
       "      <td>More chocolatety taste say my 10 and 7 year ...</td>\n",
       "      <td>1</td>\n",
       "    </tr>\n",
       "    <tr>\n",
       "      <th>226</th>\n",
       "      <td>I think this one flattened into a cookie better</td>\n",
       "      <td>1</td>\n",
       "    </tr>\n",
       "  </tbody>\n",
       "</table>\n",
       "<p>227 rows × 2 columns</p>\n",
       "</div>"
      ],
      "text/plain": [
       "                                              Document  Topic\n",
       "0    I like the taste of the chocolate better with ...      0\n",
       "1    The taste is better to me. The cookie seems go...      1\n",
       "2    I like the Pillsbury Chocolate Chip Cookie Dou...      0\n",
       "3    They have more chocolate chips and are a littl...      0\n",
       "4    Nestle cookie tastes more like homemade.   Nes...      3\n",
       "..                                                 ...    ...\n",
       "222                  Enjoy the flavor and texture more      2\n",
       "223  It just tasted better. It also had more chocol...      1\n",
       "224  It has a little bit of a better taste not as s...      1\n",
       "225  More chocolatety taste say my 10 and 7 year ...      1\n",
       "226    I think this one flattened into a cookie better      1\n",
       "\n",
       "[227 rows x 2 columns]"
      ]
     },
     "execution_count": 60,
     "metadata": {},
     "output_type": "execute_result"
    }
   ],
   "source": [
    "df\n"
   ]
  },
  {
   "cell_type": "code",
   "execution_count": 10,
   "id": "377c7fc8",
   "metadata": {},
   "outputs": [],
   "source": [
    "docs = fetch_20newsgroups(subset='all',  remove=(\n",
    "    'headers', 'footers', 'quotes'))['data']\n"
   ]
  },
  {
   "cell_type": "code",
   "execution_count": 11,
   "id": "246bd455",
   "metadata": {},
   "outputs": [
    {
     "name": "stderr",
     "output_type": "stream",
     "text": [
      "Downloading (…)e9125/.gitattributes: 100%|██████████| 1.18k/1.18k [00:00<00:00, 1.24MB/s]\n",
      "Downloading (…)_Pooling/config.json: 100%|██████████| 190/190 [00:00<00:00, 183kB/s]\n",
      "Downloading (…)7e55de9125/README.md: 100%|██████████| 10.6k/10.6k [00:00<00:00, 10.4MB/s]\n",
      "Downloading (…)55de9125/config.json: 100%|██████████| 612/612 [00:00<00:00, 575kB/s]\n",
      "Downloading (…)ce_transformers.json: 100%|██████████| 116/116 [00:00<00:00, 56.4kB/s]\n",
      "Downloading (…)125/data_config.json: 100%|██████████| 39.3k/39.3k [00:00<00:00, 183kB/s]\n",
      "Downloading (…)\"pytorch_model.bin\";: 100%|██████████| 90.9M/90.9M [00:35<00:00, 2.54MB/s]\n",
      "Downloading (…)nce_bert_config.json: 100%|██████████| 53.0/53.0 [00:00<00:00, 23.8kB/s]\n",
      "Downloading (…)cial_tokens_map.json: 100%|██████████| 112/112 [00:00<00:00, 55.9kB/s]\n",
      "Downloading (…)e9125/tokenizer.json: 100%|██████████| 466k/466k [00:01<00:00, 372kB/s]\n",
      "Downloading (…)okenizer_config.json: 100%|██████████| 350/350 [00:00<00:00, 234kB/s]\n",
      "Downloading (…)9125/train_script.py: 100%|██████████| 13.2k/13.2k [00:00<00:00, 7.76MB/s]\n",
      "Downloading (…)7e55de9125/vocab.txt: 100%|██████████| 232k/232k [00:00<00:00, 286kB/s]\n",
      "Downloading (…)5de9125/modules.json: 100%|██████████| 349/349 [00:00<00:00, 348kB/s]\n"
     ]
    }
   ],
   "source": [
    "topic_model = BERTopic()\n",
    "topics, probs = topic_model.fit_transform(docs)\n"
   ]
  },
  {
   "cell_type": "code",
   "execution_count": 14,
   "id": "b5963f3b",
   "metadata": {},
   "outputs": [
    {
     "data": {
      "text/html": [
       "<div>\n",
       "<style scoped>\n",
       "    .dataframe tbody tr th:only-of-type {\n",
       "        vertical-align: middle;\n",
       "    }\n",
       "\n",
       "    .dataframe tbody tr th {\n",
       "        vertical-align: top;\n",
       "    }\n",
       "\n",
       "    .dataframe thead th {\n",
       "        text-align: right;\n",
       "    }\n",
       "</style>\n",
       "<table border=\"1\" class=\"dataframe\">\n",
       "  <thead>\n",
       "    <tr style=\"text-align: right;\">\n",
       "      <th></th>\n",
       "      <th>Topic</th>\n",
       "      <th>Count</th>\n",
       "      <th>Name</th>\n",
       "    </tr>\n",
       "  </thead>\n",
       "  <tbody>\n",
       "    <tr>\n",
       "      <th>0</th>\n",
       "      <td>-1</td>\n",
       "      <td>6660</td>\n",
       "      <td>-1_to_the_of_is</td>\n",
       "    </tr>\n",
       "    <tr>\n",
       "      <th>1</th>\n",
       "      <td>0</td>\n",
       "      <td>1829</td>\n",
       "      <td>0_game_team_games_he</td>\n",
       "    </tr>\n",
       "    <tr>\n",
       "      <th>2</th>\n",
       "      <td>1</td>\n",
       "      <td>574</td>\n",
       "      <td>1_key_clipper_chip_encryption</td>\n",
       "    </tr>\n",
       "    <tr>\n",
       "      <th>3</th>\n",
       "      <td>2</td>\n",
       "      <td>526</td>\n",
       "      <td>2_idjits_ites_cheek_dancing</td>\n",
       "    </tr>\n",
       "    <tr>\n",
       "      <th>4</th>\n",
       "      <td>3</td>\n",
       "      <td>470</td>\n",
       "      <td>3_israel_israeli_jews_arab</td>\n",
       "    </tr>\n",
       "    <tr>\n",
       "      <th>...</th>\n",
       "      <td>...</td>\n",
       "      <td>...</td>\n",
       "      <td>...</td>\n",
       "    </tr>\n",
       "    <tr>\n",
       "      <th>221</th>\n",
       "      <td>220</td>\n",
       "      <td>10</td>\n",
       "      <td>220_law_jesus_god_worship</td>\n",
       "    </tr>\n",
       "    <tr>\n",
       "      <th>222</th>\n",
       "      <td>221</td>\n",
       "      <td>10</td>\n",
       "      <td>221_fat_weight_muscle_pills</td>\n",
       "    </tr>\n",
       "    <tr>\n",
       "      <th>223</th>\n",
       "      <td>222</td>\n",
       "      <td>10</td>\n",
       "      <td>222_purchased_projects_fluke_paperback</td>\n",
       "    </tr>\n",
       "    <tr>\n",
       "      <th>224</th>\n",
       "      <td>223</td>\n",
       "      <td>10</td>\n",
       "      <td>223_keyboard_rsi_exercises_typing</td>\n",
       "    </tr>\n",
       "    <tr>\n",
       "      <th>225</th>\n",
       "      <td>224</td>\n",
       "      <td>10</td>\n",
       "      <td>224_s414_brady_bill_bills</td>\n",
       "    </tr>\n",
       "  </tbody>\n",
       "</table>\n",
       "<p>226 rows × 3 columns</p>\n",
       "</div>"
      ],
      "text/plain": [
       "     Topic  Count                                    Name\n",
       "0       -1   6660                         -1_to_the_of_is\n",
       "1        0   1829                    0_game_team_games_he\n",
       "2        1    574           1_key_clipper_chip_encryption\n",
       "3        2    526             2_idjits_ites_cheek_dancing\n",
       "4        3    470              3_israel_israeli_jews_arab\n",
       "..     ...    ...                                     ...\n",
       "221    220     10               220_law_jesus_god_worship\n",
       "222    221     10             221_fat_weight_muscle_pills\n",
       "223    222     10  222_purchased_projects_fluke_paperback\n",
       "224    223     10       223_keyboard_rsi_exercises_typing\n",
       "225    224     10               224_s414_brady_bill_bills\n",
       "\n",
       "[226 rows x 3 columns]"
      ]
     },
     "execution_count": 14,
     "metadata": {},
     "output_type": "execute_result"
    }
   ],
   "source": [
    "topic_model.get_topic_info()\n"
   ]
  },
  {
   "cell_type": "code",
   "execution_count": null,
   "id": "658ae0e3",
   "metadata": {},
   "outputs": [],
   "source": []
  }
 ],
 "metadata": {
  "kernelspec": {
   "display_name": "ta_tm",
   "language": "python",
   "name": "python3"
  },
  "language_info": {
   "codemirror_mode": {
    "name": "ipython",
    "version": 3
   },
   "file_extension": ".py",
   "mimetype": "text/x-python",
   "name": "python",
   "nbconvert_exporter": "python",
   "pygments_lexer": "ipython3",
   "version": "3.10.9"
  },
  "vscode": {
   "interpreter": {
    "hash": "4a560e6c6c0367a8e804996e2993a87751c017712c5b20f5baa0327c72869822"
   }
  }
 },
 "nbformat": 4,
 "nbformat_minor": 5
}
