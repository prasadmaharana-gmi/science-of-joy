{
 "cells": [
  {
   "cell_type": "markdown",
   "metadata": {},
   "source": [
    "### Image analysis"
   ]
  },
  {
   "cell_type": "code",
   "execution_count": 2,
   "metadata": {},
   "outputs": [],
   "source": [
    "#get colors from an image\n",
    "from PIL import Image\n",
    "import urllib\n",
    "import pandas as pd\n",
    "import matplotlib.pyplot as plt\n",
    "import numpy as np\n",
    "from colorthief import ColorThief\n",
    "import os\n",
    "import webcolors"
   ]
  },
  {
   "cell_type": "code",
   "execution_count": 7,
   "metadata": {},
   "outputs": [],
   "source": [
    "import pandas as pd\n",
    "image_path = r'C:\\\\Users\\\\G670813\\\\OneDrive - General Mills\\\\ITQ-prasad\\\\itq-analytics\\\\Computer Vision\\\\Joy\\Product Images\\\\selections\\\\'"
   ]
  },
  {
   "cell_type": "code",
   "execution_count": 8,
   "metadata": {},
   "outputs": [],
   "source": [
    "def closest_colour(requested_colour):\n",
    "    min_colours = {}\n",
    "    for key, name in webcolors.CSS3_HEX_TO_NAMES.items():        \n",
    "        r_c, g_c, b_c = webcolors.hex_to_rgb(key)\n",
    "        rd = (r_c - requested_colour[0]) ** 2\n",
    "        gd = (g_c - requested_colour[1]) ** 2\n",
    "        bd = (b_c - requested_colour[2]) ** 2\n",
    "        min_colours[(rd + gd + bd)] = name\n",
    "    return min_colours[min(min_colours.keys())]\n",
    "\n",
    "def get_colour_name(requested_colour):\n",
    "    try:\n",
    "        closest_name = actual_name = webcolors.rgb_to_name(requested_colour)\n",
    "    except ValueError:\n",
    "        closest_name = closest_colour(requested_colour)\n",
    "        actual_name = None\n",
    "    return actual_name, closest_name"
   ]
  },
  {
   "cell_type": "code",
   "execution_count": 9,
   "metadata": {},
   "outputs": [
    {
     "name": "stdout",
     "output_type": "stream",
     "text": [
      "Image name:  0016000123991_0.jpg Actual colour name: None , closest colour name: crimson\n",
      "Image name:  0016000163461_2.jpg Actual colour name: None , closest colour name: yellowgreen\n",
      "Image name:  0016000168756_0.jpg Actual colour name: None , closest colour name: darkslateblue\n",
      "Image name:  0016000169364_5.jpg Actual colour name: None , closest colour name: blanchedalmond\n",
      "Image name:  0016000169395_3.jpg Actual colour name: None , closest colour name: saddlebrown\n",
      "Image name:  0016000169630_2.jpg Actual colour name: None , closest colour name: cornflowerblue\n",
      "Image name:  0016000169685_7.jpg Actual colour name: None , closest colour name: brown\n",
      "Image name:  0016000170032_0.jpg Actual colour name: None , closest colour name: gold\n",
      "Image name:  0016000171022_1.jpg Actual colour name: None , closest colour name: skyblue\n",
      "Image name:  0016000171046_5.jpg Actual colour name: None , closest colour name: goldenrod\n",
      "Image name:  0016000171084_8.jpg Actual colour name: None , closest colour name: olivedrab\n",
      "Image name:  0016000185173_0.jpg Actual colour name: None , closest colour name: pink\n",
      "Image name:  0016000185173_9.jpg Actual colour name: None , closest colour name: pink\n",
      "Image name:  0016000275324_2.jpg Actual colour name: None , closest colour name: darkslategray\n",
      "Image name:  0016000275492_10.jpg Actual colour name: None , closest colour name: sandybrown\n",
      "Image name:  0016000275638_0.jpg Actual colour name: None , closest colour name: lavender\n",
      "Image name:  0016000437791_7.jpg Actual colour name: None , closest colour name: darkkhaki\n",
      "Image name:  0030000064030_0.jpg Actual colour name: None , closest colour name: antiquewhite\n",
      "Image name:  0030000572436_2.jpg Actual colour name: None , closest colour name: wheat\n",
      "Image name:  0038000198786_3.jpg Actual colour name: None , closest colour name: darkcyan\n",
      "Image name:  0038000199042_1.jpg Actual colour name: None , closest colour name: teal\n",
      "Image name:  0038000199752_0.jpg Actual colour name: None , closest colour name: teal\n",
      "Image name:  0038000199943_12.jpg Actual colour name: None , closest colour name: silver\n",
      "Image name:  0038000262500_9.jpg Actual colour name: None , closest colour name: goldenrod\n",
      "Image name:  0042400388876_1.jpg Actual colour name: None , closest colour name: crimson\n",
      "Image name:  0042400388883_5.jpg Actual colour name: None , closest colour name: sienna\n",
      "Image name:  0042400389170_5.jpg Actual colour name: None , closest colour name: saddlebrown\n",
      "Image name:  018627101390_0.jpg Actual colour name: None , closest colour name: chocolate\n",
      "Image name:  018627703174_5.jpg Actual colour name: None , closest colour name: lightgray\n",
      "Image name:  030000060834_0.jpg Actual colour name: None , closest colour name: darkslategray\n",
      "Image name:  030000064412_1.jpg Actual colour name: None , closest colour name: bisque\n",
      "Image name:  030000437698_0.jpg Actual colour name: None , closest colour name: goldenrod\n",
      "Image name:  030000573297_0.jpg Actual colour name: None , closest colour name: dodgerblue\n",
      "Image name:  038000001208_0.jpg Actual colour name: None , closest colour name: darkslategray\n",
      "Image name:  038000016219_0.jpg Actual colour name: None , closest colour name: steelblue\n",
      "Image name:  038000198595_0.jpg Actual colour name: None , closest colour name: sienna\n",
      "Image name:  038000198915_0.jpg Actual colour name: None , closest colour name: mediumvioletred\n",
      "Image name:  038000199066_0.jpg Actual colour name: None , closest colour name: darkcyan\n",
      "Image name:  038000199349_0.jpg Actual colour name: None , closest colour name: goldenrod\n",
      "Image name:  038000199462_0.jpg Actual colour name: None , closest colour name: crimson\n",
      "Image name:  038000199929_0.jpg Actual colour name: None , closest colour name: darkcyan\n",
      "Image name:  038000270826_0.jpg Actual colour name: None , closest colour name: mediumvioletred\n",
      "Image name:  042400148623_1.jpg Actual colour name: None , closest colour name: gold\n",
      "Image name:  042400148647_0.jpg Actual colour name: None , closest colour name: firebrick\n",
      "Image name:  042400240518_4.jpg Actual colour name: None , closest colour name: midnightblue\n",
      "Image name:  042400318651_0.jpg Actual colour name: None , closest colour name: saddlebrown\n",
      "Image name:  042400910787_0.jpg Actual colour name: None , closest colour name: darksalmon\n",
      "Image name:  058449162070_0.jpg Actual colour name: None , closest colour name: sienna\n",
      "Image name:  0602652171840_3.jpg Actual colour name: None , closest colour name: darkolivegreen\n",
      "Image name:  0884912116505_0.jpg Actual colour name: None , closest colour name: gainsboro\n",
      "Image name:  0884912180629_4.jpg Actual colour name: None , closest colour name: crimson\n",
      "Image name:  602652171826_0.jpg Actual colour name: None , closest colour name: black\n",
      "Image name:  8167oSJ5FLL._AC_SX679_.jpg Actual colour name: None , closest colour name: darkslateblue\n",
      "Image name:  860479001522_0.jpg Actual colour name: None , closest colour name: sandybrown\n",
      "Image name:  884912004727_3.jpg Actual colour name: None , closest colour name: midnightblue\n",
      "Image name:  884912006202_0.jpg Actual colour name: None , closest colour name: firebrick\n",
      "Image name:  884912006721_0.jpg Actual colour name: None , closest colour name: darkturquoise\n",
      "Image name:  884912117625_5.jpg Actual colour name: None , closest colour name: goldenrod\n",
      "Image name:  884912126115_0.jpg Actual colour name: None , closest colour name: darkmagenta\n",
      "Image name:  884912180599_4.jpg Actual colour name: None , closest colour name: sienna\n",
      "Image name:  884912273116_5.jpg Actual colour name: None , closest colour name: silver\n",
      "Image name:  884912346513_1.jpg Actual colour name: None , closest colour name: deepskyblue\n",
      "Image name:  884912356185_2.jpg Actual colour name: None , closest colour name: sandybrown\n",
      "Image name:  884912356192_5.jpg Actual colour name: None , closest colour name: teal\n"
     ]
    }
   ],
   "source": [
    "for image in os.listdir(image_path) :\n",
    "    if image.endswith('jpg'):\n",
    "          color_thief = ColorThief(image_path+image)          \n",
    "          # get the dominant color\n",
    "          dominant_color = color_thief.get_color(quality=1)                    \n",
    "          actual_name, closest_name = get_colour_name(dominant_color)          \n",
    "          print(\"Image name: \", image, \"Actual colour name:\", actual_name, \", closest colour name:\", closest_name)"
   ]
  },
  {
   "cell_type": "code",
   "execution_count": null,
   "metadata": {},
   "outputs": [],
   "source": []
  },
  {
   "cell_type": "markdown",
   "metadata": {},
   "source": [
    "### OCR"
   ]
  },
  {
   "cell_type": "code",
   "execution_count": 16,
   "metadata": {},
   "outputs": [],
   "source": [
    "#uses a diff venv - won't work in the same env\n",
    "import os\n",
    "import easyocr\n",
    "from matplotlib import pyplot as plt\n",
    "import numpy as np"
   ]
  },
  {
   "cell_type": "code",
   "execution_count": 25,
   "metadata": {},
   "outputs": [],
   "source": [
    "image_path_gray = r'C:\\\\Users\\\\G670813\\\\OneDrive - General Mills\\\\ITQ-prasad\\\\itq-analytics\\\\Computer Vision\\\\Joy\\Product Images\\\\selections\\\\gray\\\\'"
   ]
  },
  {
   "cell_type": "code",
   "execution_count": 24,
   "metadata": {},
   "outputs": [
    {
     "name": "stdout",
     "output_type": "stream",
     "text": [
      "Image Processing complete\n"
     ]
    }
   ],
   "source": [
    "for image in os.listdir(image_path) :    \n",
    "    if image.endswith('jpg'):\n",
    "        gray_img = Image.open(image_path+image).convert('L')\n",
    "        test=gray_img.save(image_path+\"\\\\gray\\\\\"+image+\".jpg\")\n",
    "print(\"Image Processing complete\")"
   ]
  },
  {
   "cell_type": "code",
   "execution_count": 27,
   "metadata": {},
   "outputs": [
    {
     "name": "stderr",
     "output_type": "stream",
     "text": [
      "Neither CUDA nor MPS are available - defaulting to CPU. Note: This module is much faster with a GPU.\n",
      "Neither CUDA nor MPS are available - defaulting to CPU. Note: This module is much faster with a GPU.\n"
     ]
    },
    {
     "name": "stdout",
     "output_type": "stream",
     "text": [
      "0016000123991_0.jpg.jpg ^^ LT7 #at TLEir T3Dede3e -- IeZk4 CFEtots -- General Mills -- FROSTED TOASTED OAT CEREAL WITH MARSHMALLOWS -- Iucky charms -- ENLARGED TO SHOW DETAIL -- MARSHMALLOW SHAPES AND COLORS MAY VARY -- PERJ CUPSERVING 140 Og 230mg | 129 CALORIES SAT FAT SODIUM ToTAL 096 DV 1016 DV SUGARS SEE HUTRMOH RACTS FR\"US FRERAREDP(NFORMAnOI -- Gluten Free -- NETWT 10502 (2979) -- \n"
     ]
    },
    {
     "name": "stderr",
     "output_type": "stream",
     "text": [
      "Neither CUDA nor MPS are available - defaulting to CPU. Note: This module is much faster with a GPU.\n"
     ]
    },
    {
     "name": "stdout",
     "output_type": "stream",
     "text": [
      "0016000163461_2.jpg.jpg ^^ Geeral -- LARGE SIZE 14.2 02 Gluten Free NO ARTIFICIAL FLAVORS ARTIFICIAL SOURC ES NO COLORS FROME Cinramon Cheerios ingiedient Guut WHOLE GRAIN OATS -- 3985 Enlarged t0 Show Detail -- HELP CAN CHOLESTEROL' LOWER HEALTHY DIET HEART AS PART OF A #THREE GRAMS OF SOLUBLE FIBER  DAILY FROM WHOLE CRAIN OAT FOODS, LIKE AppLe CINNAMON CHEERIOSTM CEREAL, INA DIET LOW IN SATURATED FAT AND CHOLESTEROL, MAY REDUCETHE RISK OF HEART   DISEASE.  APPLE   CINNAMON   CHEERIOS PER CUP SERVING CEREAL PROVIDES . 75 GRAMS PER SERVING. 150 Og 150mg | 129 (CALORIES SAT FAT SODIUM SUGARS TOTAL 096 DV 74 DV SEE NUIRMOH FACTS FOR \"AS PREPARED\" INFORMMOK Sweetened Whole Grain Oat Cereal NET WT 14.2 02 (402g) -- \n"
     ]
    },
    {
     "name": "stderr",
     "output_type": "stream",
     "text": [
      "Neither CUDA nor MPS are available - defaulting to CPU. Note: This module is much faster with a GPU.\n"
     ]
    },
    {
     "name": "stdout",
     "output_type": "stream",
     "text": [
      "0016000168756_0.jpg.jpg ^^ 4lh Ldc dln -- 2- -- U -- rTA -- Ce1838 -- General Mills -- FAMILY SIZE 18 02 Gluten Free NO ARTIFICIAL FLAVORS ARTIFICIAL SOURCES NO COLORS FROM Multi Grain Cheerios WHOLE 28 grams GRAIN per serving -- Enlarged t0 Show Detail Ampliada Para Mostrar Detalles  -- 9 VITAMINS DAILY 100% VALUE & MINERALS OF PER 1 1/3 CUP SERVING POR RACION DE 1 1/3 TAZA MAY neduce THE 150 Og 150w9 | RISK HEART SAT FAT SODIUM 8g While MANY FACTORSAFFEct heaRT DISEASE, DIETS LOWIN CALORIES GRSA SAT SODLO Itotal SuGARST DISEASE CALORIAS 0% DV 69 DV LZUCARES TOTALES SATURATED Fat AND CHOLESTEROL May REDUce THE RISK ^ AHEARS PERL OFY DIET OF THIS DISEASE. MULTI GRAIN CHEERIOSTM CEREAL IS LOW SEE NUTRITION FACTS FOR \"AS PREPARED\" INFORMATION IN FaT (1.5g1, Saturated Fat FREE AND CHOLESTeROL FREE: VEA LOS DATOS DE NUTRICION PARA OBTENER INFORMACION Del \"PRODUCTO PREPARADO\" Lightly Sweetened Cereal NET WTIPESO NETO Cereal Ligeramente Endulzado 1 LB 2 0Z (18 0Z) (510g) -- \n"
     ]
    },
    {
     "name": "stderr",
     "output_type": "stream",
     "text": [
      "Neither CUDA nor MPS are available - defaulting to CPU. Note: This module is much faster with a GPU.\n"
     ]
    },
    {
     "name": "stdout",
     "output_type": "stream",
     "text": [
      "0016000169364_5.jpg.jpg ^^ Cindeyd -- OEEAarat: Cr CUNCH -- General -- FAMILY SIZE 24 0z Good Source Contains No Artificial of Fiber 13 Vitamins flavors or colors Sg of total fat per serving and Minerals from artificial sources -- Cheerios Oxt CruncH OATS 'N HONEY -- Serving SuGGESTiON SUGERENCIA DE RacION -- with -- ENERGY KEEP YOU GOING* -- FROM WHOLE GRAINS TO HELP -- EMLARGEDIO SHOWOETAIL AMPLIADA DEzaS IMOSTRAR -- Sweetened Multigrain Cereal with Whole Grain Oatsand MHoney Cereallde Multigranos Endulzado conAvenalntegralyMiel -- PERO CUP SERVING PORRACION DE 1 TAZA 2201 95 (220w0  150 CALORIES GRASASAT SOouuDt Htotal Sue4eS CALORIAS 340 Ov 1046 OV Vcsmuuie SEEMUTRMON FACTS FOR \"AS PREPARED IMFORMMTION VEA LOS DATOS DE MUTRICIOH PARA OBTEMER INFORMACION DEL  PRODUCTO PREPARADO' -- NETWTIPESO NETO 1 1B802 (24 02) (680g) -- \n"
     ]
    },
    {
     "name": "stderr",
     "output_type": "stream",
     "text": [
      "Neither CUDA nor MPS are available - defaulting to CPU. Note: This module is much faster with a GPU.\n"
     ]
    },
    {
     "name": "stdout",
     "output_type": "stream",
     "text": [
      "0016000169395_3.jpg.jpg ^^ General Mills -- FAMILY SIZE 18.1 0z Frosted Corn Puffs Naturally Flavored S18 TM -- GRE] @e -- ENLARGED TO SHOW DETAIL -- PER 1 CUP SERVING 140 Og 130mg 121 CALORIES  SaT FAT SODIUM TOTAL 0%6 DV 6% DV SUGARS SEE HUTRITOH FACTS FOR \"AS FREPARED' IHFORMATIOH -- NET WT 1 LB2.1 02 (18.1 02) (513g) -- \n"
     ]
    },
    {
     "name": "stderr",
     "output_type": "stream",
     "text": [
      "Neither CUDA nor MPS are available - defaulting to CPU. Note: This module is much faster with a GPU.\n"
     ]
    },
    {
     "name": "stdout",
     "output_type": "stream",
     "text": [
      "0016000169630_2.jpg.jpg ^^ General Mills -- FAMILY SIZE 183 0z -- GRENT CHOCOLATE CHI_ COOOOOKIE TASTEg -- ENLARGED TO Show DEIAIL -- NATUBREDY SWEETENED CEREAL -- Kie CRiSP PER 1 CUP SERVING 1401 CALORIES SAT FAT 0s SODIUM 190w2 | TOTAL 120 01o Dv 01G Dv SUGARS NET WT 1 LB 2.3 0z (18.3 02) (518g) SEE NUIRIOM FACTS FOR \"AS PAEPARED\" INFORMMION -- \n"
     ]
    },
    {
     "name": "stderr",
     "output_type": "stream",
     "text": [
      "Neither CUDA nor MPS are available - defaulting to CPU. Note: This module is much faster with a GPU.\n"
     ]
    },
    {
     "name": "stdout",
     "output_type": "stream",
     "text": [
      "0016000169685_7.jpg.jpg ^^ 3222 -- Olrr Tes Kenn#ar -- Trercls -- YareTk -- Chearis -- General Mills -- FAMILY SIZE 18.8 0z Gluten Free lit ingnediert Whole Grain Oats -- NATURALLY FLAVORED HoneyNut Cheerios made uith Real Honey -- Enlarged t0 Show Detoil -- HELP CAN CHOLESTEROL' LOWER HEALTHY DIET HEART AS PART OF A #THREE GRAMS OF SOLUBLE FIBER DALY FROM WHOLE GRAIN OAT FOODS; LKE HONEY NUT CHEERIOS\" CEREAL, IN A DET LOW IN SATURATED FAT AND CHOLESTEROL PER 1 CUP SERVING MAY REDUCE THE RISK OF HEART DISEASE: HONEY NUT 140 SAT FAT 0g SODIUM 210m0 TotaL 129 CHEERIOS CEREAL PROVIDES .75 GRAMS PER SERVING; CALORIEST 046 DV 946 DV SUGARS SEE NUTRMON FACTS FOR \"AS PREPARED\" NFORMATON Sweetened Whole Grain Oat Cereal  NET WT 1 LB 2.8 0z with Reall Honey & Natural Almond Flavor (18.8 02) (532g) -- \n"
     ]
    },
    {
     "name": "stderr",
     "output_type": "stream",
     "text": [
      "Neither CUDA nor MPS are available - defaulting to CPU. Note: This module is much faster with a GPU.\n"
     ]
    },
    {
     "name": "stdout",
     "output_type": "stream",
     "text": [
      "0016000170032_0.jpg.jpg ^^ General Mills -- FAMILY SIZE 18 02 Gluten Free NO ARTIFICIAL FLAVORS NO ARTIFICIAL COLORS Cheerios made 100% WHOLE wih GRAIN OATS 38382 Serving Suggestion 2 Enlarged t0 Show Detail CAN HELP Association | American CHOLESTEROL' C E RTIF | E D Heart-Hcalthy Food Mect Crteria For LOWER HEALTHY DIET AS PART OF A HEART #THREE GRAMS OF SOLUBLE FIBER DAULY FROM WHOLE  GRAIN OAt  FOODS;, LIKE CHEERIOS\" CEREAL; IN A DHET LOW IN  SATURATED FAT TM PER 1 1/2 CUP SERVING AND CHOLESTEROL; MAY REDUCE THE  RISK 140 caLoRIES  SAT FAT 0.5g SOdium 190mg | total; 29 OF  HEART  DISEASE ,  CHEERIOS   PROVIDES 816 Dv SUGARS 1.5 GRAMS PER SERVING; SEE NUTRMON FaCtS FOR \"AS PREPARED\" INFORMATON NET WT 1 LB 2 0z Toasted Whole Grain Oat Cereal (18 02) (510g) -- \n"
     ]
    },
    {
     "name": "stderr",
     "output_type": "stream",
     "text": [
      "Neither CUDA nor MPS are available - defaulting to CPU. Note: This module is much faster with a GPU.\n"
     ]
    },
    {
     "name": "stdout",
     "output_type": "stream",
     "text": [
      "0016000171022_1.jpg.jpg ^^ General Mills -- FAMILY SIZE 18 0z -- Rice Chex Gluten Free High Fructose No Artificial € or Flavors Colors  No Corn Syrup -- ENLARGEDTO SHOWDETAIL -- PERD MBCUP SERVING 160| 0g 330mg 39  CALORIES | SAT FAT SODIUM TUTAL 09 DV ~1496 DV SUGARS GEE NUIRMOMEACIS FOR RASPREPARED INFORMAIOU -- Oven Toasted Rice Cereal -- IET WT 1 [B202(8.02) (510g) -- \n"
     ]
    },
    {
     "name": "stderr",
     "output_type": "stream",
     "text": [
      "Neither CUDA nor MPS are available - defaulting to CPU. Note: This module is much faster with a GPU.\n"
     ]
    },
    {
     "name": "stdout",
     "output_type": "stream",
     "text": [
      "0016000171046_5.jpg.jpg ^^ DEi#e\"2 HESer= -- OdieeTaerAiacea -- General -- FAMILY SIZEt 0Z -- V 1 U 1 Kid-TESTED. PARENT-APPROVEDS 7 -- 4g sugar onal -- Iuciji0 Sodeu -- Just 7 Ingredients Vitamins & Minerals Per 1 Ircup serting [160 -- CRISPY CORN PUFFS NET WIT 1 LB2 02 (8 02) (51Og) -- \n"
     ]
    },
    {
     "name": "stderr",
     "output_type": "stream",
     "text": [
      "Neither CUDA nor MPS are available - defaulting to CPU. Note: This module is much faster with a GPU.\n"
     ]
    },
    {
     "name": "stdout",
     "output_type": "stream",
     "text": [
      "0016000171084_8.jpg.jpg ^^ General Mills -- FAMILY SIZE 18 02 -- Corn Chey Gluten_ Free High Fructose ' No Artificial € 'or Flavors Colors Noe Corn Syrup -- ENLARGEDO SHOW DETAIL -- PER 1 1/4 CUP SERVING 150 0s 280wo | 4g calorIES SAt Fat SODIUM FTutaL 096 Dv 1244 DV SUGARS GSEE NUIRMON FACIS FOR RAS PREPARED\" INFORMATON -- Oven Toasted Corn Cereal -- NeT WT ILB2OZ (1B.02) (510g) -- \n"
     ]
    },
    {
     "name": "stderr",
     "output_type": "stream",
     "text": [
      "Neither CUDA nor MPS are available - defaulting to CPU. Note: This module is much faster with a GPU.\n"
     ]
    },
    {
     "name": "stdout",
     "output_type": "stream",
     "text": [
      "0016000185173_0.jpg.jpg ^^ DV Aci60x -- Ti€ -- Theerr -- Geiseral -- LARGE SIZE 14.9 0z -- SeimitedEdition NATURALLY FLAVORED WH OTHER NATURAL FLAVORS Strawberry Cheeri S with HAPPY HEART SHAPES -- #THREE GRAMS OF SOLUBLE FIBER DAILY FROM WHOLE CAN HELP loue GRAIN OAT FOODS, CHOLESTEROL LIKE STRAWBERRY as part of a heart BANANA CHEERIOSTM healthy diet CEREAL, INA DHET LOW IN SATURATED FAT AND Enlarged t0 Show Detail CHOLESTEROL, MAY REDUCE THE RISK OF HEART DISEASE. STRAWNBERRY BANANA CHEERIOS CEREAL PROVIDES 75 GRAMS PER SERVING; -- Serving Suggestion -- Sweetened Whole Grain Oat Cereal -- PER 1 CUP SERVING 140 Og 360a || Ion CALORIES SAT FAT SODIUM 096 DV 796 DV SUGARS SEE NUTRMON FACtS FOR \"AS prePARED\" INFORMATION -- NET WT 14.9 0Z (422g) -- Gluten Free -- \n"
     ]
    },
    {
     "name": "stderr",
     "output_type": "stream",
     "text": [
      "Neither CUDA nor MPS are available - defaulting to CPU. Note: This module is much faster with a GPU.\n"
     ]
    },
    {
     "name": "stdout",
     "output_type": "stream",
     "text": [
      "0016000185173_9.jpg.jpg ^^ Geliseral -- LARGE SIZE 14.9 02 -- SimitedEdition NATuRALLY FLAVORED WH Strawberry OTHER NATURAL FLAVORS Banana Cheeri S with HAPPY HEART SHAPES -- #THREE GRAMS OF SOLUBLE FIBER DALY FROM WHOLE CAN HELP lowel GRAIN OAT FOODS, CHOLESTEROL LIKE STRAWBERRV aS part of a heart BANANA CHEERLOSTM healthy diet CEREAL, INA DHET LOW IN SATURATED FAT AND Enlarged to Show Detail CHOLESTEROL; MAY REDUCE THE RISK OF HEART DISEASE. STRAWBERRV BANANA CHEERIOS CEREAL PROVIDES  75 GRAMS PER SERVING; -- Serving Suggestion -- Sweetened Whole Grain Oat Cereal -- PER 1 CUP SERVING 140 Og 150mg  119 CALORIES SAT FAT SODIUM tOTal 09o DV 79 DV SUGARS SEE NUTRMON FActS FOR \"AS prepARED\" INFORMATION -- NET WT 14.9 0Z (422g) -- Gluten Free -- \n"
     ]
    },
    {
     "name": "stderr",
     "output_type": "stream",
     "text": [
      "Neither CUDA nor MPS are available - defaulting to CPU. Note: This module is much faster with a GPU.\n"
     ]
    },
    {
     "name": "stdout",
     "output_type": "stream",
     "text": [
      "0016000275324_2.jpg.jpg ^^ General Mills -- Naturally and Artificially Fruit Flavored Sweetened Corn Puffs -- 6FRW TY SHaPEs -- Enlarged to  Show Detail -- PER? HACUP SERVING 160 0g  180mg | 129 (CALORIES SAT FAT SODIUM TOTAL 0%6 DV 896 Dv SUGARS SEEQURMOHEACISFOR \"AS PREPARED \" INFORMATOH  -- NET WtT 10.70z (039) -- I -- \n"
     ]
    },
    {
     "name": "stderr",
     "output_type": "stream",
     "text": [
      "Neither CUDA nor MPS are available - defaulting to CPU. Note: This module is much faster with a GPU.\n"
     ]
    },
    {
     "name": "stdout",
     "output_type": "stream",
     "text": [
      "0016000275492_10.jpg.jpg ^^ General Mills -- Wheat Chez Fructose Artificial c Colors NO' High Corn Syrup NO or Flavors -- ENLARGED TO SHOW DETAIL -- PER CUP SERVING 210 Og 340mg | 6g CALORIES SAT FAT SODIUM TOTAL ook DV 159 DV SUGARS SEE NUTRIION FACtS FOR \"AS PREPARED\" INFORMATIOH -- Oven Toasted Wheat Cereal -- NET WT 14 02 (396g) -- \n"
     ]
    },
    {
     "name": "stderr",
     "output_type": "stream",
     "text": [
      "Neither CUDA nor MPS are available - defaulting to CPU. Note: This module is much faster with a GPU.\n"
     ]
    },
    {
     "name": "stdout",
     "output_type": "stream",
     "text": [
      "0016000275638_0.jpg.jpg ^^ -CIZI} Ck CTZZAL -- General Mills -- {Total} 10 0 % DAILY VALUE 0 F 11 VITAMINS & MINERALS* -- Serving Suggestion Enlarged to Show Detail -- 10O% Whole Grain Flakes -- PER 1 CUP SERVING 140 Og 190,g  6g CALORIES SAT FAT SODIUM TOTAL 046 DV 2816 DY SUGARS SEE MUTAMIOH FACTS FOR \"AS PREPARED \" INFORMMTOD -- CRUNCHY WHOLE CRAIN WHEAT FLAKES -- NET WT 1 LB(16 0Z) (4539) -- \n"
     ]
    },
    {
     "name": "stderr",
     "output_type": "stream",
     "text": [
      "Neither CUDA nor MPS are available - defaulting to CPU. Note: This module is much faster with a GPU.\n"
     ]
    },
    {
     "name": "stdout",
     "output_type": "stream",
     "text": [
      "0016000437791_7.jpg.jpg ^^ NEW LOOK -- NATuRE VALLEY GRANOLA -- 13g PROTEIN 2/3 CUP SERVING Protein OAts & HONEV -- PERS 1213 CUPS SERVING 270 CALORIES  1g SAT FAT 170mg' SODIUM 169 506 DV totaL 896 DV  SUGARS -- OD 11 0Z (B11g) NET WT -- NOMORE CLIPPING BOX SCAN Your Receipt TOPS SEE HowAT EDUCATioN ] BTFE.COM -- \n"
     ]
    },
    {
     "name": "stderr",
     "output_type": "stream",
     "text": [
      "Neither CUDA nor MPS are available - defaulting to CPU. Note: This module is much faster with a GPU.\n"
     ]
    },
    {
     "name": "stdout",
     "output_type": "stream",
     "text": [
      "0030000064030_0.jpg.jpg ^^ FAMILY SIZE 21oz 600p SBURCE 10G PROTEIN WITH MILK SEE SIDE PANEL FOR MORE INFORMATION -- QUAKER EST' 1877 - -- OATMEAL SQUARES BROWN SUGAR FLAVOR WITH OTHER NATURAL FLAVORS, CRUNCHY OAT CEREAL -- HEART HEALTHY -- 100% WHOLE GRAINS Diets rich in whole grain foods and other plant foods and low in saturated fat and cholesterol may help reduce the risk of heart disease. -- ENLARGED IMAGE -- per | cup -- 210| 0.52 I9Ong| 9g SaT FAT SOdiUM toTaL SEFSHGRSUGGDBEEAS Od NETWT 2LOZ (LB 50Z) 596g caloRIES SUGARS 2% DV B%DV -- \n"
     ]
    },
    {
     "name": "stderr",
     "output_type": "stream",
     "text": [
      "Neither CUDA nor MPS are available - defaulting to CPU. Note: This module is much faster with a GPU.\n"
     ]
    },
    {
     "name": "stdout",
     "output_type": "stream",
     "text": [
      "0030000572436_2.jpg.jpg ^^ NO ARTificial FLAVORS OR ADDED COLORS -- EXCELLENT SOURCE OF FIBER ConTAINS /6 TOTAL FAT PER SERVING QUAKER ESTP 1877 - -- SIMPLY GRANOLA OATS, HONEY, RAISINS & ALMONDS -- 426 OF WHOLE GRAINS -- HEART HEALTHY Crnbocamnt Gucmakat ceha enese naceidbholtk -- 270 Ia 35 , 16, 4 Eu T MdrS U -- 56o @p   NETM24.1 OZM LB 8 0Z1685g -- \n"
     ]
    },
    {
     "name": "stderr",
     "output_type": "stream",
     "text": [
      "Neither CUDA nor MPS are available - defaulting to CPU. Note: This module is much faster with a GPU.\n"
     ]
    },
    {
     "name": "stdout",
     "output_type": "stream",
     "text": [
      "0038000198786_3.jpg.jpg ^^ FIBER HIGH Contains 8g total Kelloggs com/DidYouKnow fat per serving Realeas Cracklin OatBran Crunchy Sweet;Oven -BakedOat Cereal -- SERVING SUGGESTION ENLARGED TO SHOW TEXTURE -- Redloygs FAMILY REWARDS -- 230 3.5g 65mg 16g SAT FAT SODIUM TOTAL CALORIES 189 DV 30 DV SUGARS PER 3/4 CUP SERVING -- CFREAL OD NET WT 16.502 (1 LB0.5 02) (467g) -- \n"
     ]
    },
    {
     "name": "stderr",
     "output_type": "stream",
     "text": [
      "Neither CUDA nor MPS are available - defaulting to CPU. Note: This module is much faster with a GPU.\n"
     ]
    },
    {
     "name": "stdout",
     "output_type": "stream",
     "text": [
      "0038000199042_1.jpg.jpg ^^ MSSION Tigerc BUYABOX SUPPORT SCHOOL Redteds SPORTS *see back panel FROSTED FLAKES OF CORN DE MAIZ -- SenVG SUGGESTIC\" Rxr sgeni -- BLARCED T0 SHOW TEXTUR Agrardado para inealtn -- 130 Og 190mg 129 SAT FAT SODIUM TOTAL CALORIES 0%0 DV 89 DV SUGARS PER 1 CUP SERVING -- NET WTIPESO NETO 13.5 O2 (382g) -- THEYRE GRRREATI -- \n"
     ]
    },
    {
     "name": "stderr",
     "output_type": "stream",
     "text": [
      "Neither CUDA nor MPS are available - defaulting to CPU. Note: This module is much faster with a GPU.\n"
     ]
    },
    {
     "name": "stdout",
     "output_type": "stream",
     "text": [
      "0038000199752_0.jpg.jpg ^^ FAMILY SIZE -- GOOD -- SOURCE OF FIBER -- Reozas Kelloggs com/DidYouKnow Birx @ich Original HEALTHY HEART Whille many fackors alect heari disease, diets lowrin salurated fat & cholesterol may reduce Ihe risk ondhs 0sease -- EnLARGEED To ShoW Texture -- Delicious Raisins, Clusters Glazed Toasted Flakes & Crunchy Oat with a Touch of Golden Honey -- 190 Og 200mg  194 SAT FAT SODIUM TOTAL CALORIES 996 @V SUGARS 040 DV PER 1 CUP SERVING -- CEREAL NET WT 22.5 02 (1LB 6.5 02) (637g) -- \n"
     ]
    },
    {
     "name": "stderr",
     "output_type": "stream",
     "text": [
      "Neither CUDA nor MPS are available - defaulting to CPU. Note: This module is much faster with a GPU.\n"
     ]
    },
    {
     "name": "stdout",
     "output_type": "stream",
     "text": [
      "0038000199943_12.jpg.jpg ^^ LARGE SIZE SNAP 8edlg2s RICE KRISPIES 0 TOASIED RIce CEREAL (erealobasror iosiado s 8 Vitamins OOP Minerals \"ot J7 -- SNAPI -- CEREAL NET WTIPESO NETO 12 OZ (340g) -- 150 05 200 MIHT Qoum ola Clcars QUCARS -- PER 1 12 CuP SERMNG -- POP? -- CRACKLE' -- \n"
     ]
    },
    {
     "name": "stderr",
     "output_type": "stream",
     "text": [
      "Neither CUDA nor MPS are available - defaulting to CPU. Note: This module is much faster with a GPU.\n"
     ]
    },
    {
     "name": "stdout",
     "output_type": "stream",
     "text": [
      "0038000262500_9.jpg.jpg ^^ FAMILY SIZE Reeleggs\" -- CORN -- D -- GOOD SOURCE QF 8 Vitamins & MINERALS -- Sweet Crispv Crunch -- ENLARGED To SHOW TEXTURE -- Agrandado para mostrar lextura -- SWEETENED CORN CEREAL Cereal de maiz endulzado NET WT/PESO NETO 18.1 02 (1[B2.I 02) (513g) -- 150 SAlfar SG605| 15, TOTAL CALORIES 0% DV 79 DV SUGARS PER 1 1/3 CUP SERVING -- \n"
     ]
    },
    {
     "name": "stderr",
     "output_type": "stream",
     "text": [
      "Neither CUDA nor MPS are available - defaulting to CPU. Note: This module is much faster with a GPU.\n"
     ]
    },
    {
     "name": "stdout",
     "output_type": "stream",
     "text": [
      "0042400388876_1.jpg.jpg ^^ enlarGED TO ShOW detail  -- Malt @OMeal FLAVORED ARTIFICIALLY NATURALLY & FRUITY 1 DYNO BITES 7 CEREAL 8 1 1 2 0 I PER 1 CUP SERVING CALORIES 140 SAT FAT Og 230mg | SODIUM total 15g 1096 Dv SUGARS NET WT 32 0Z (2 LB) 907g -- it o is Love_ FREE? TASTEL GuArANTEE | SEE BACK FOR DETAILS GF GEUTEN -- \n"
     ]
    },
    {
     "name": "stderr",
     "output_type": "stream",
     "text": [
      "Neither CUDA nor MPS are available - defaulting to CPU. Note: This module is much faster with a GPU.\n"
     ]
    },
    {
     "name": "stdout",
     "output_type": "stream",
     "text": [
      "0042400388883_5.jpg.jpg ^^ Malt (Meal -- Ehonrgeete -- | 8 -- 8 1 8 @ 4 -- COCOA DYNO BITES 1 CEREAL 1 1 I PER 1 CUPEERVING (CALORIES | MTFAT 170 240mg  SODIUM TOTal  189 10%0 @V SUGARS  NET WT 32 0Z (2 LB) 907g -- \"or it5  Love i FREE? TASTE GuarAMTEE| See BACK For DETAILS GF GLUTEN FREE -- Love it or it $ FREE! -- 4) -- \n"
     ]
    },
    {
     "name": "stderr",
     "output_type": "stream",
     "text": [
      "Neither CUDA nor MPS are available - defaulting to CPU. Note: This module is much faster with a GPU.\n"
     ]
    },
    {
     "name": "stdout",
     "output_type": "stream",
     "text": [
      "0042400389170_5.jpg.jpg ^^ EMLaRGED TO 'SkoW DETAIL -- Malt  Meal -- 1 2 1 5 -- 8 6 2 9 9 -- Ggldet 1 1 CEREAL 1 PER CUP SERVING 1150 LALORIES  SaT FAT Og SODIUM 85mg total; 21g SUGARS NET WT 32 02 (2 LB) 907g -- its it or Love FREE? TASTE : GUARANTEE AGK FoR DETAILS -- \n"
     ]
    },
    {
     "name": "stderr",
     "output_type": "stream",
     "text": [
      "Neither CUDA nor MPS are available - defaulting to CPU. Note: This module is much faster with a GPU.\n"
     ]
    },
    {
     "name": "stdout",
     "output_type": "stream",
     "text": [
      "018627101390_0.jpg.jpg ^^ Ju3h 8NL LU3SNI JS073 0L -- Kashi Peanut Butter GO Crunch Used By BEST If -- ioo% Fesecleards Rect -- PAPER PLASTIC Box 8ag -- K189225 003 NLI 16539 -- JW0ta LON LH9IJM A9 070S L3ndoud 'JI44JS AVW SLNJNO? -- New Kashi Look GO_ Samesteeat -- Kashi GO_ -- Peanut Butter Crunch -- Nutrition Facts  About 7 servings per container Serving size ` 3/4 Cup (53g) -- wake up TO PEANUT BUTTER GOODNESS Enjoy 10g of plant-based protein and Now; that's what we call & endless delicious flavor in each serving: good morningl -- Amount per serving Calories 220 Total Fat 9g 3 Saturated Fat Tg Trans Fat 0g Polyunsaturated Fat 39 Monounsaturated Fat 4,59 Cholesterol Omg 0% Sodium BOmg 6% Total Carbohydrate 319 11% Dietary Fiber 6g 22% Soluble Fiber 2g Toiaougosg /9 Sugars Includes 8g Added Sugars_ 76% Protein 10g 73% -- Kashi Go Vitamin D Omcg 0% Calcium 40mg Iron 1.6mg Poosphiono om9 10% Magnesium Zinc 0% 10g The % Daily Value (DV) tells you how much & nutrient serving of lood contributes daily diet. 2,000 calories day used for general nutrition advice. Protein Ingredients: Soy flakes, peanut butter (peanuts) , brown rice syrup, whole grain oats, puffed whole grain blend (hard red Wheat brown rice, barley; rye) , cane sugar; expeller pressed canola oil, acacia Enlarged Io showi gum, molasses; sea salt, peanut oil, lasiimess rosemary extract for freshness. CONTAINS SOY, PEANUT AND Peanut Butter WHEAT INGREDIENTS . DISTRIBUTED BY Kashi Sales LL.C , Solana Beach; CA 92075 @, TM; @ 2021 Kashi Company Crunch 'Certified Transitional HAVE SOMETHING TO SHARE? Plant Protein & Multigrain Clusters with Creamy Peanut Butter (877) 747-2467 WWW.KASHi.COM Vegan Enlarged NON 13g \"to show GMO 6g Whole Grains per serving tastiness Project VERIFED Fiber nongmoproject.org FoR THE EAT 48g OR MORE OF WHOLE GRAINS DAILY CEREAL PLANETO Cootaina9g per serving 'IETWT13202(874g1 -- FOR THE % )PLANET -- Good for You and the Planet -- Kashi YOU GOt THIS! Scan for feel good foods and tips that make eating  well easyl -- Kashi annually measures the carbon emissions from the cooking and baking of our foods, and offsets them through programs that reduce the amount of greenhouse gasses in the air: -- 610 aupjdaypuoguanjadauo (ISIA -- 'VOUDLJOJUI aJ0U JOJ '{aupid Jalyllpay D -- bulpaj) suoloziupbjo 04 sajos |onuuD }o %L sajouop !YSDY -- Kashi Peanut Butter GO_ Crunch -- 18627 10139 -- \n"
     ]
    },
    {
     "name": "stderr",
     "output_type": "stream",
     "text": [
      "Neither CUDA nor MPS are available - defaulting to CPU. Note: This module is much faster with a GPU.\n"
     ]
    },
    {
     "name": "stdout",
     "output_type": "stream",
     "text": [
      "018627703174_5.jpg.jpg ^^ Kashi -- ENLARGED To SHOW TASTINESS -- Cinnamon Harvest Organic Whole Wheat Biscuits Baked with Sweet Cinnamon -- USDA ORGANIC -- 808 Project VERIFIED nongmoproject org -- 7g Fiber -- 7g Protein -- 52g Whole Grains -- CEFEAL   NET WT I6.3 0Z (462y) -- \n"
     ]
    },
    {
     "name": "stderr",
     "output_type": "stream",
     "text": [
      "Neither CUDA nor MPS are available - defaulting to CPU. Note: This module is much faster with a GPU.\n"
     ]
    },
    {
     "name": "stdout",
     "output_type": "stream",
     "text": [
      "030000060834_0.jpg.jpg ^^ NJdo -- XTInJJ413 &V1 LJi7 -- 1v3433 NIV49i70w -- TO CLOSE INSERT TAB -- uoupuui? -- Best Before i -- 632-1-L02-54 -- We're here help. Quakeroats.com or 800.234.6281 Please have package available when calling. -- aax1n0 -- QUAKER Ifffe MU R A -- try our other MosT Rock SonG dedcoss legendary We need a And other fun totally for the Battle qwesome Song challenges %f the Bands Show  Wanna help Me with the Winning one_ let'$ rockl life ~Mikey original , Time 088 fill ama lo \"ialeebaonks Song a hit life life IS awesoMel vanilla By_ Your Name and Mikey's band, The favorite Woke uP Color ilife ready to_ J called Up Dance {Move and shout friend' $ Name @nd said, \"let'$ chocolate It'$ a(n) hang outi\" let'$ meet Descriptive Word day And at Wanna have fun, favorite Place and Play_ Instrument in the Sun! Oooo-  Weee - Oooo If we get hungry; We'Ll get Don' 't Some to 25g Worry 'bout _ favorite food eat because Whole So,= Monl Shake schooL Subject life is SWeetl Your Grains can't wait to Body Part And Show off per serving and your Smile_ favorite T activity Another Iorite in Rock Activity star stylel Good Source Dooo-Weee-S of Calcium Oooo, yeah yeah Yeahl NO Artificial  Flavors 'IEVs S you filled out cut congrats all the blanks So3t CREW collect cut rock star Badge RockL You can Your 'Legeno , For 'special offers, information and out to join the conversation, visit QuakerOatscom Facebookcom/ Quaker @Quaker -- LARGE SIZE 18 -- QUAKER Heart SoceClerf cinnamon BOVitamins Healthy Preseciaatives Diets rich in whole grain foods and other plant foods and Ow Nutrition Facts] saturated fat and cholesterol may About\" 'servings per container reduce the risk of heart lisease. Serving size cup (42g1 Ivit; A & D fortified Iite (calories / 1601 210 % DV\" Total Fat 29 Sawabd Og Polyunsat Fat 0.5g Monounsat, 059 Cholestero Omg <Smg 170mg Total 339 15% M ULTIG RA / N CEREA L Dietar Total Sugars 10g  Incl Added Sugars | Protein Vitamin C Umcg_ Calcium 160mg 360mg 112mg_ Potassium I1Omg 370ma kick it up Thiamin 0.36mg  0.42mg Riboflavin 0.39mg_30%2|0.65mg Niacin 48ma cinnamon Vitamin O51mg_ 0.51mg Folate DFE 240mcg , Folic Acid (149mcol (149mcg) Phosphorus IOOmo 250mg   20% Dailv | (DV) tells vou how utrient in food contributes dailv diet 000 calories a dav used for genera nutrition advice INGREDIENTS: Whole grain oat flour; sugar, corn flour;  whole   wheat   flour; calcium carbonate , salt, cinnamon, baking soda carame color; toconherols (to preserve freshness) reduced iron; niacinamide natural   flavor;  thiamine mononitrate annatto (color) pyridoxine hydrochloride ribotlavin * folic acid One of the vitamins_ CONTAINS WHEAT INGREDIENTS_ -- DISTRIBUTED BY: QWAKER OATS COMPANY BOX 049003 JL606n4-9003 @2021 Quaker Companv -- smartlabel\" -- Scan here for morefo  food information -800 234 6281 -- per cin -- Serving Suggestion Enlarged Image -- Og 17Ong 10g SAT FAT SsOnIM TOTAI SIIGARS -- CALCIUM RON -- CALORIFC -- NET WT 18 OZ ( LB 2 0Z1513g -- pusv7J Yad64 -- QUAKER Iflfe cinnamon MULTG RA N CEREAL -- 32630668227 -- 0o00 06083 -- \n"
     ]
    },
    {
     "name": "stderr",
     "output_type": "stream",
     "text": [
      "Neither CUDA nor MPS are available - defaulting to CPU. Note: This module is much faster with a GPU.\n"
     ]
    },
    {
     "name": "stdout",
     "output_type": "stream",
     "text": [
      "030000064412_1.jpg.jpg ^^ GOOD SOURCE OF FIBER -- NEW LoOK SAME GREAT TASTE -- 10G PROTEIN WITH MILK SEE SIDE PANEL FOR MORE INFORMATION -- QUARER ESTD 1877 - -- OATMEAL SQUARES BROWN SUGAR FLAVOR WITH OTHER NATURAL FLAVORS, CRUNCHY OAT CEREAL -- HEART HEALTHY -- per Icup -- 100% WHOLE GRAINS* Diets rich in whole grain - foods and other plant foods and Iow in saturated fat and cholesterol may help reduce the risk of heart disease. -- 0.53 I9Omg 9g 2101 SAT FAT SODIUM total CALORIES SUGARS 3% DV 8% DV -- SERVING SUGGESTION ENLARGED IMAGE -- Ud NETWT145OZ (4llg) -- \n"
     ]
    },
    {
     "name": "stderr",
     "output_type": "stream",
     "text": [
      "Neither CUDA nor MPS are available - defaulting to CPU. Note: This module is much faster with a GPU.\n"
     ]
    },
    {
     "name": "stdout",
     "output_type": "stream",
     "text": [
      "030000437698_0.jpg.jpg ^^ 7) BAGS for freshness! CAPN CRUNCHS CRUNCH BERRIFS ~6 Sweetened Corn & OAT CEREAL -- GUNdl ME CAPN -- Per cup -- ENLARGED TO SHOW TEXTURE -- 2-20 0Z (I LB 4 0z) 567 g BaGS NET WT 40 0Z (2 LB 8 02) 1.13 kg -- 150| 0.59 270mg | 169 CALORIEST SAT FAT SODIUM TOTAL SUGARS 3% DV 12%/ DV -- UD -- \n"
     ]
    },
    {
     "name": "stderr",
     "output_type": "stream",
     "text": [
      "Neither CUDA nor MPS are available - defaulting to CPU. Note: This module is much faster with a GPU.\n"
     ]
    },
    {
     "name": "stdout",
     "output_type": "stream",
     "text": [
      "030000573297_0.jpg.jpg ^^ 4j63 Buge%3h5 -- KnaieogeLu Stnad uedoo1 UIHOHS Pib40 -- iazIS XTIWVH -- TO CLOSE = INSERT TAB -- Hn -- BE95 BEFORE -- HELP THE CAPN FIND  'SEARCH THE Games \"HES GAIC WORD EACH NAME TO HIS OLD FRIENDS: Nave -- FAMILY SIZEI CLiUNCH'S  CHIPN \"OopaAlI cundrs Oople AlI BorRS 16.902 BuRS Sweeten & Oa Cereal Corn Sweeter & Oat Cereal corn -- Nutrition Facts] About 13 servings per container (Serving size 14 cup (389]| -- Cereal | wilh 218 cup of alone | Vik, A & D fortiied skim milk (caloies | 1502007 % DV* | % DV* Total Fat '5g Saturated Fat 0,5q 3%|0.,5g 3% Trans Fat ForweawuadedFa Cholesterol Omg 0S| <5mg Sodium 240mg  019| 1Omg \"44%7 Total Carb, 33q Dietary Fiber slg Total Sugars Incl; Added Sugars 17g 339| 17g Protein -- Cereal Filled To This Line Package contains empty space to accommodat 'product size andlor densitv variation and to ensure sufficient package sealing_ package is soL weight, not by volume Contents may settle during shipping and handling_ -- TRY THHESE OUHER GREAT FLAVORSI CRURCH CRUNcH CRUNCH -- CAPN_ ITiphL & CERACHS \"OopsAli ARTFGHHLLY FLHVIREI Vitamin C Omcg 0% | 2mcg 1BERRES Calcium Omg [2o0rg Iron 84mg 8.4mg_ Potassium 70mg 330mg_ iami 0.4mg_ 309|0.4mg _ 359 Sweetened Corn Riboflavin 03mg 0.7mg 50% 6e Oat Cereal Niacin 4,8mg_ 3095|4.8mg_ 30% Vitamin 0.5mg 309|0.6mg 35% Folate DFE 240mcg ' 60% | 240mcg 60% Folic Acid (147mcg) (147mcg) ERRARGED The = Daily Value  (DV) tells you how much a nutrient SHOW DETAIL in a serving of food contributes daily diet 2,000 calories dav used for denera nutrition advice INGREDIENTS: Corn flour suqar oat flour, brown sugar, palm andlor coconut oil, salt , sodium citrate, natural and artificial flavor, malic acid, red 40, blue  reduced iron; Bhyelow 5 piaciamider thiamine mononitrate * (to preserve freshness) pyridoxine hydrochloride ` riboflavin * , folic acid * One C 'the B vitamins DISTRIBUTED BY: THE QUAKER OATS COMPANY PO.BOX 049003 CHICAGO 60604-9003 USA smartlabel\" D Scan here for more information 1-800-234-6281 Per 1/4 cup We're here to help (150] 0.5y 240mg 17g canncrunch com or 800 234.6281 Please have packade available when calling CALORIEST SAT FAT SODIUM TOTAL SUGARS 02021 The Quaker Oats Company NET WT 16.9 02 (I LB) 480 9 OD 30 DV I10 L -- 7. BEAST BRUNHILDE JEAN \" LAFOOTE 4 8. 1. ALFIE 5 DAVE 9. SMEDLEY 2 CARLYLE 6. SEADOG T C Q 3. BERTHA M X W E B 0 $ K E V A D C B M L L D E M $ Y E R R 0 B W R P Q B 2 V H W T A D H Q D U € M J B R B H L $ R Y 2 Y V N N Q H J VX C Y % A H B X A W U A € J L 0 E F I E I 2 H B A L E 0 S K L A I K F L L R Q U I Q R 0 I D I A D R X € B R U C J Q J K T E J 0 F A E J E H Q 2 A L N R V E [ 0 0 F A Q 2 P B B B E A $ T F E 0 W 8 X -- Follow the Capn on -- @RealCapnCrunch Visit - uS on -- Icapncrunch Www_ Capncrunchcom -- Answers on bottom -- bopeas epfpleo apllyunjg Kaipaus & (5 8 Ba8d g10ole24€88 \"8 Isea9 '9& sjamsUH -- NHTURHLLY & -- ] 0O -- 32635732901 -- Corn Yeoaer Cereal -- cKUNcirs \"OopsAll BERRES -- \n"
     ]
    },
    {
     "name": "stderr",
     "output_type": "stream",
     "text": [
      "Neither CUDA nor MPS are available - defaulting to CPU. Note: This module is much faster with a GPU.\n"
     ]
    },
    {
     "name": "stdout",
     "output_type": "stream",
     "text": [
      "038000001208_0.jpg.jpg ^^ LIFT TAB TO OPEN -- Ju3h 8V1 LH3SNI 3S073 01 -- Tdia -- Wo? \"uax G8vm, (Gry 'JHI Niof -- STIVLJO 43H140J &0J IJNVd XJVJ 3JS -- 92 5 Kh 6 H -- CORN Corn Flakes@ 18 0z. FLAKES BEST If Used By FAMILY SIZE Simple Insidec ESSENTIAL OF 8 VIERNS& ARTIFICIAL NO OR FLAVORS COLORS Kelloyga CORN FLAKES ThE 0 R I G I NA L & B E S Te -- OIISV Id Hadvd -- 031411433 ~| -- D8rope1 -- Keologaa CORN FLAKES -- Reelgaa CORN FLAKES FAT FREE Nutrition Facts/Datos de Nutricion ] Aboue (2 servings per containerlaorox: 12 raciones por eqvase Serving size/Tamaio por racion   1 1/2 Cup/ 1/z Taza (42g] -- TRADITION OF -- \"S Npyoe GOODN Esiosgs More recognized the possibilities in a single grain: And with the simple goodness of our toasted corn flakes; breakfast cereal was born. We've been making Kellogg's Corn Flakes\" with a simple recipe ever since. -- Amount per serving(Cantidad por racion Calories/Catorias |  1501 210 -- Total FatlGrasa Total Saturated FatGrasa Saturada Trans FatlGrasa ranc Palunsaturated Poliinsaturada Monounsat FatGrasa Monoinsaturadz esterol Colesterol 30dmg @oaloandigadaieRaduhdralbo @oaT Dietarv Fiber/Fibra Dieteti Total Sugars/Azicares Totales Sugarsl Lazicares aiaddos  ProteinfProteinas -- Kedloyas CORN FLAKESS -- CRISPY CHICKEN TENDERS simple, family favorite strips of chicken breast coated with Kellogg's Corn Flakese -- 380mg  -- OUR -- Vitamin DNitamina D SMcq 5.2mcg Calcium/Calcio 22Omg Iron/Hierro 12mg 12mg Potassium/Potasio 6Umg 340mg ThiaminTiaminz Riboflav Riboflavina HacinMacina Nitamina FolatelFolato (folic acidlacido fdlico) (15mcg) (045mcg)  Mitamin Bt2 Nitamina B12 3096| 609 Tonrio Dad /Vatda (Dunetels(u hooriesuch avistrend rstsaedior genia? oitrion advice Valor Diario (VD) le indica cuanto un nut una Dorcion entos contrbuve a dieta diaria Q0O calorias all se Utiliza para asesoramiento cmcicinn np Ingredients: Milled corn, sugar; malt flavor; contains 2%0 or less of salt, Vitamins and Minerals: Iron (ferric phosphate) niacinamide, vitamin Bs (pyridoxine / hydrochloride) , vitamin Bz (riboflavin) , vitamin Bt (thiamin hydrochloride) , folic acid, vitamin D3, vitamin B12. Ingredientes: Maiz molido, azicar; sabor malta , contiene 2% menos de sal Vitaminas V Minerales: Hierro (fosfato ferrico) , niacinamida; vitamina Bs (clorhidrato de piridoxina) , vitamina Bz (riboflavina  vitamina (clorhidrato de tiamina) , acido folico; vitamina D3, vitamina B12: -- BEST IN EVERY BITE -- INGREDIENTS -- 5 cups Kellogg's Corn Flakese Cereal, crushed to desired consistency -- to 11/2 pounds chicken tenders, rinsed -- SUGGESVIOG Racion suaerida -- DIRECTIONS Rinse chicken tenders with cold water and coat with crushed Kellogg's Corn Flakese Cereal: Place coated tenders on foil-lined baking sheet_ 2.Bake at 350PF for about 25 minutes or until chicken is tender; no longer pink and juices run clear: For food safety; internal temperature of the chicken should reach at least 165'F. Serve warm with your favorite dipping sauce -- ENLARGED TO SHOW TEXTURE Aqrandado para mostrar la textura -- Distributed by Kellogg Sales Co. Distribuido por Kellogg Sales Co. Battle Creek; 49016 TM; 2021 Kellogg NA Co: Product United Kingdom Producto de Reino Unido -- Contains bioengineered food ingredient Contiene_ ingrediente producido con bioingenieria -- MONASH UNIVERSITY Low FODMAP CERTIFIED -- Questions Comments? VISIT kelloggscom CALL -800-962-1413 (SE HABL_ FSPanou oominf Dponuction Con DICMcf -- One serving of this product is low in FODMAPs: A low FODMAP diet does not freat disease. Monash University receives license for the use Athe Monash University Low FODMAP Certified trademarks. -- Motec these redipes hgve nod been Low FODMAP certified. To ledmd more visit hffp: /kelloggs c com/Nutrition -- For more -- great recipes, visit kelloggs com -- 150 SAQHat 3@4 49 CALORIES OQ DV 139 DV s8IRs PER 1 1/2 CUP SERVING Reclayan CORN FLAKES -- NET WTIPESO NETO 1802 (1 LB 2 02) (510g) CORNELIUS@ 0 Kedlayas Corn Flakes@ 18 02. 2 UPC Proof Purchase -- woxsbbollax --  8000 00 -- \n"
     ]
    },
    {
     "name": "stderr",
     "output_type": "stream",
     "text": [
      "Neither CUDA nor MPS are available - defaulting to CPU. Note: This module is much faster with a GPU.\n"
     ]
    },
    {
     "name": "stdout",
     "output_type": "stream",
     "text": [
      "038000016219_0.jpg.jpg ^^ LIFT TAB TO OPEN -- SPECIAL -- 383k811 LUJSNI 35073 0L -- CONNECT With -- Oka -- Xob Toustd Hadvd -- OPEN CAMERA OR QR READER & SCAN CODE -- Original -- H -- keepitk com -- Kg pasn LS38 -- \"z0 8 | [PuIbuO 0X Ieipads 88op1 -- SPECIAL -- FAMILY SIZE Keeleras Kellogas\" Original This box features NaviLense SPECIAL technology to assist blind ad Nutrition Facts EVERYONE low-vision adults in the U.S About 13 servings per container Serving Size 14 Cup (39g) (Guad Source Of Cereal DESERVES VITAMINS & wikim cir skim 4 With the NaviLens code 11 MTAERASS Calories 150| 210 PLACE _ THE and app, users can nOW easily DVt DV* Total Fat 1% 1% AT PROTEIN 0.5g 1g Saturated Fat 0% | 0g 0% find this product and hear 13g Trans Fat Og TABLE 7GFROONCEREAL FROM MILK 16 Polyunsat Fat Og its name, nutrition, and Monounsat: Fat 0g Cholesterol Omg <Smg TOASTED Sodium 270mg p% |350mg 15% allergen information. Simply GRAINS Total Carb- 11% 38g 14% Dietary Fiber <1g 2% Total Sugars 6g Inci: Added Sugars 4g 8% 7 Protein 6% | 13g 18% Original Vitamin D 2mcg 0% 2mcg_ 20% Calcium Omg 0% 230mg 15% Kellozgs Iron 10.9mg 60% | 10.9mg 60% Original Potassium 1Omg 300mg 69 Vitamin 0% 20% Vitamin 0% Betten _ Days Vitamin E 0% Toasted Rice Cereal Thiamin Riboilavin 20% Kelloggs com/ BetterDays Vitamin Be 20% Folate 100% 110% (folic acid) 260mcg 260mcg) Delicious Possibilities Vitamin Biz 20% 50% The serving of lood contributes lo a dally diet  Dailv Value (DV) tells vou how much O00 calories nutrient in dav is used for aeneral nutrition advice Kellogg is proud to be the first Ingredients: Rice , wheat gluten , sugar, defatted wheat germ contains 2% or less of salt, malt flavor; BHT for freshness. food company to feature this Vitamins and Minerals: Reduced iron, vitamin € (ascorbic acid) , niacinamide, vitamin acetate technology o its packaging in beta- rotene, folic acid, vitamin Bs (pyridoxine hydrochborideboiiaamin BtarthiaDin vhzdrocbforide), the U.S. Accessibility: part of CONTAINS WHEAT INGREDIENTS Distributed by Kellogg Sales Co:. our commitment to create TM; Battle Creek M 49016 2022 Kellogg NA Co Contains bioengineered food ingredient better days for 3 billion SERVING people by the end of 2030. SUCGESTION did you Ilnow Explore all the good stuff you may not know about your favorite cereals at Kelloggscom/DidYouKnow -- SPECIAL -- Original Delicious Possibilities -- SERVING  SUGGESTION -- EMPOWERING THE VISUALLY IMPAIRED -- PER 1/4 CUP SERVING 150 Og 270mg 5g SAT FAT SODIUM TOTAL CALORIES SUGARS Q9 DV 1200 DV LSEE NUTRITION EACTS FOR \"AS PREPARED\" INFORMATION -- Questions Comments? visIT kelloggs com CALL 1-800-962-1413 (Se HABLA ESPANOL) Prouide Ppoquctio\" Code PACKAGE -- O NaviLensGO APP -- NaviLensGO APP -- CEREAL NET WT 180z (1 WB2 02 (510g) -- pocvcled Ganerd -- kelloggs.com -- Ieuibuuo -- aseyjind -- Ioold Ddn z0 84 [eUibIO aX jBipads -- 7vi)]ds -- \n"
     ]
    },
    {
     "name": "stderr",
     "output_type": "stream",
     "text": [
      "Neither CUDA nor MPS are available - defaulting to CPU. Note: This module is much faster with a GPU.\n"
     ]
    },
    {
     "name": "stdout",
     "output_type": "stream",
     "text": [
      "038000198595_0.jpg.jpg ^^ LIFT TAB TO OPEN -- SOURCE 0F Good 8 VMTNERS $ -- Ju3h 8v1 LU3SNI 3S073 0L -- 881632s COCOA KRISPIES -- DPsaa Txo8a -- Kg posn JLLS38 -- ZOG\"SI @saidsuxeojoj- -- 8alr36 COCOA KRISPIES Family Favorite CocoA Krispies TREAS\" 8SMPLBONJGREDLELJUS 3 Tbsp Butter 40 large JET-PUFFED Marshmallows (OR 5 1/2 cups mini JET-PUFFED Marshmallows) 6 ' Cups KELLOGGS@ COCOA KRISPIES@ cereal @QREGuOOQIS In large saucepan melt butter over low heat, Add marshmallows and stir until e completely melted . Remove from heat; -- COCOA KRISPIES Nutrition Facts_Datos de Nutricion About |1 servings per container/aprox  raciones por eqvase Serving size/Tamaio por racion Cup/t Taza (4Ug) Jzat Amouat per serving Cantidad per racidn Calories/Calorias |  150],220  #d md' Gdv nvd\" Total FalGrasa Total Saturated FatGrasa Saturada Trans FalGrasa Trans Palyursaurate_ Falurasa Palsaturadh Monounsa urated Fauaasa Moqoisaturzda CholesterolfColesterol Umd <mo SodiumSodio I7Umg 250mg Total Carbohydrate Carbohidrato Total 137 Dietary FiberlFibra Dieteticz <g Total TSugars Jazicares Totales 15g 24g ~Toned Sugarsvlnal azicares eiaddcs] 759 Eg Protein Proteinas 2g -- MAKE fun FAMILY Memories SConmorRE the Rice Krispiese WayI RecipeSI RicekRISPIES.com/recipes -- ISNAP Realer COCOA KRISPIES NEW RECIPE_ Vitamin DMiamina D Zmco 1095| 4.2mcp 2056 MORA Calcium/Calcio Omg 220mg  1590 Iron MHietro 7.2mg 408|72m0  405 Potassium Potasio_ 6Umg 340mg _ 650 Thiamin Mamina 203 253 Add Kelloggso 1 CHOCOLATE Ribollavin Ribollavna 207 457 2 Cocoa Krispiese cereal. liacin Miacina 203 258 Vitamin Be Vitamina Bs 208 20k Stir until well coated. Fdlate Folato 3085 3096 (folic acidlacido #blco] (ZUmcg) (7Umcg) Using buttered spatula Viamin ByzMitamina B,z 20% 508 or wax paper; evenly coniibules The  Daily Vajue (DV) tell Ciel; you how much a nutrient in & setving 0f food advice /E Valor Diario (VD) Ie indica cuanio Un nubriente calaries & day iS used for general nutrtion press mixture into Ica norcinn 13 x 9 x 2-inch pan coated  ENLARGED TO HOW TEXTURE HQOR asesoramizn alimentos contribuye nunficic n gener dieta diaria. 2,C0U calorizs Idia se Utiliza para with cooking spray: Hosnaato cawra Ingredients: Rice, sugar;, cocoa processed with alkali, contains 2% or less of hydrogenated vegetable oil (coconut;, soybean and/or cottonseed) , salt; malt flavor; Codl Cuts Setues Decouatel artificial flavor Vitamins and Minerals: Iron (ferric phosphate) niacinamide,vitamin Bs (pyridoxine  hydrochloride), vitamin Bz (riboflavin), vitamin E (thiamin hydrochloride) , folic acid, vitamin D3, vitamin B12. Ingredientes: Arroz, azicar; cacao procesado con alcali , contiene 2%0 menos de aceite , vegetal hidrogenado (coco, soya; ylo semilla de algodon) , sal, sabor malta, sabor artificia Vitaminas y Minerales: Hierro (fosfato ferrico) , niacinamida, vitamina Bs (clorhidrato de piridoxina) , SNAP? vitamina Bz (riboflavina) vitamina Bz (clorhidrato de POP? tiamina) , acido folico,vitamina D3, vitamina B12 Distribuido por Kellogg Sales Co Distributed by Kellogg Sales Co: Battle Creek MI 49016 TM; 2022 Kellogg NA Co: Contiene un ingrediente producido con bioingenieria Contains bioengineered food ingredient SCAN Here For More CRACKLE? RecIpeS! rigekrispieS.com/RECIPES Questions Comments? PER 1 CUP SERVING SERMING VisIt kelloggscom SUGGESTION 150 0.5g 170mg 15g CALL -800-962-1413 CHOCOLATEY SAT FAT SODIUM TOTAL PROviDE  Production PFSE HABLACESRANOLCKAQE CALORIES 790 DV SUGARS SWEETENED RICE CEREAL CEREAL DE ARROZ ENDULZADO CON CHOCOLATE NETWTIESONETO 15.5 0Z (439g) -- SERVING SUGGESTION -- SNA -- CEY MDS Press Play On Ahappvdavi -- Soapt @ICnB Sod -- ScAn FOR cencKu GNap; CoPt tON KIDS, GET PCRMISSSONEEFORE GoiG ONLINES Saidsiax 'Kepox Jabuny Isuiebe uonoe axe1 pue XugNnh 6J0 AubunHpIxoN Ie jauued JIMON VO3o) Sied Jauag @S,bbollax HISIA -- poaedtoara -- WWW ricekrispies com -- Ae Eon -- Jo0ud Jdn ZOS CL @saidsiux8ojo3 @ -- 8 -- \n"
     ]
    },
    {
     "name": "stderr",
     "output_type": "stream",
     "text": [
      "Neither CUDA nor MPS are available - defaulting to CPU. Note: This module is much faster with a GPU.\n"
     ]
    },
    {
     "name": "stdout",
     "output_type": "stream",
     "text": [
      "038000198915_0.jpg.jpg ^^ LIFT TABT0 OPEN FROT tECPS Marshmallowe -- JoIN ThE <Amily Kellogas SWARO\" Ker.com -- a83h 8V1 LUJSNI 3S073 0L -- Redltges 288 PAPER Bor PLASTIC Batc Kapesn 128 'z0 G\"0L MOIIBWYSIEWNosdoo7 1ooly = Froot Loopse Marshmallow Follow' Your Nose to 8edtgos Marshmallow Nutrition Facts/Datos de Nutricion FROOT Marshmallw Discoveries About 7 servings per container/aprox; raciones por envase Serving size/Tamaiio por racion   19/3 Cup/t V3 Taza (39g] Discoveries T LOOPS Word Mix-Ur GEREAL Amoval per servlag Cantlia Calories/Calorias | 140] 210 WORLD It\"sthe Qearrangethe_ FR? Realooo oneeandeomi Imnixed-up letters #D\"MD\" D\"RVD' NUOCTAAMS Total Fatlitrasa Total to correctly spell) Saturated Fat Grasa Saturada Your guide through 0,5g 05g Che marshmallow FRzT Trans FatGrasa Trars Frooi Loops\" 'World: namess Palunsaturated FalGrasa Falinsaturc) CPS Waza CASRTYSL= are LOCPS Umi <mg Cool carved out 0f SediumSodio 170m] 240mg Total Carbohydrate Carbahidrato Tota B4g 12r frozen milkin L Dietany Fiber Fibra Dieretica 29 Froot [ Loops\" Marshmallows wit Tatal Sugars/Azicares Tolales 169 /259 World: CON MAlVNIScOS Inc: Kdced Sugurinc: aicares Ji didus SCAN ThE ProteinProteinas Flowers CODE to join Marshmallows CON MalVaIScoS Vitamin DNiamina D 6mcg 3 8mcg  1550 Toucan Sam\" on a quest 0 Caciumlacio Omg 220mg_1560 to find where all the Iron Hieto 36m0_ 208 3 6mq 2070 Froot Loops' colors Potassium Potasio AUma 330mo 20% come ' from? Kidsr get permission Fruity l FwosLRE grow Viamin CNitamina 2070 before 'golngonline: high above the clouds Thiamin Mamina Riboilavn Rybaflavinz (when they  &gently falll Macin Macina arein fuli bloom: Viamin BsMiamina Bs Folate Folato 1590 Crystar (folic aci dacido fblico) 5mcg) 35mcg) 8 Viamin Baz Nitamina B12 15% 5070 Tre % Daly Value (DV) tele howumicna contribl calones & day iS used for genera) nutrtion nulrient in & serving of food The Swirly SOSNTE daalimentos coninbuve a ina del dai advice , Valor Diario (VD indica cuanto un nutrien 2,000 calorias al cla se utiliza una porcign \"tumble down the nutricion 021 Singing Mountains: Ingredients: Corn flour blend (whole grain yellow corn floug degerminated yellow corn flour), sugar; marshmallows (sugar; corn syrup; dextrose,natural Flavor gelatin, yellow 5, red 40,yellow 6,blue swirly Stones Good SOURCE 0F wheat Ilour; whole grain oal Ilour; modilied food starch; contains 2%0 or less of vegetable ol (hydrogenated coconut soybean andlor cottonseed oill, oat fiber; maltodextrin; sal solubl corn @ider 8 natura| flavor; red 40,yellow blue |,yellow 6, BHT for freshness. How maly Vilamins and Minerals: Vitamin € (ascorbic acid| , reduced iron, niacinamide, vitamin Bs ' (pyrdoxine t hydrochloride) vitzmin Bz Fruit Stone (riboflavin) vitamin E (#hiamin hydrochloride|; folic acid, vitamin VitaMinS & D3, vitamin Bt2, MAilky Mazo Crabs MINERALS CONTAINS WHEAT INGREDIENTS the flow and  find Ingredientes: Mezcla de harina maiz (harina de maiz amarilb can you find? Gowith t maze ofmilkfrom integral, harina de Maiz amarillo desgerminado , azucar; malvaviscos delicious  your waythrough, (azucar jarabe L de maiz, dextrosa, sabor natural; gelatina, amarilo 5, Astartto finisht Marshmallw rojo 40,amarllo 6,azu/ - harina de trige, harina de avena start 't integral, almidon = Imentario modilicado, coniiene 2%6 0 menos de Discoveries  aceite vegetal (coco hidrogenado, soya,ylo aceit de semilla de algodon) fibra de avena, maltodexdrina, sal; fibra de maiz soluble, sabor natural; fojo amarillo 5,azul 1,amarillo 6, BHT para Mantener Ia frescura, SAMG Vitaminas v Minerales: Vitamina lacido ascorbico), hierro KoucaN reducido; nizcinamida,vitamina Ba (clorhidrato piridoxina) viamina B2 (ribollavina) viamina B1 (clornidrato de tiaminaj, acido (blico, vitamina D3 viamina B1z. SWEETENED CONTIENE INGREDIENTES DE TRIGO MULTIGRAIN; Distributed by Distribuido por Kellogg Sales Co_ Kellogg Sales Co: CEREALE TM; Battle Creek; 49016 2022 Kellogg NA Co_ finish Cereal multigrano Contiene un Contains ingrediente producido joengineered food ingredient Cn bioingenieria endulzado FENLArGED Tol SHOWVTEXTURE Questions or Comments? Aprandadd para visI kelloggscom mpsiran Afexlura CAl -800-962-1413 0.5g 170mg 16g (SE HABLA ESPANOL) 140 SAT FAT SODIUM TOTAL PROvide Production Code On PACKAGE CALORIES 746 DV SUGRS 'PER 11/3 CUP SERVING NEtIpeSO NETO 10.5,02 (297g) -- 8 -- 1008o -- SMoipwysipw Scoa @ove| -- Touan Sam ard tha Iage ot Tocan Sam Vradelnaiks ol Kelkon NA Ca -- uEet 1 -- kelloggscom -- Hoold Odn -- 'Z0 5\"0 Moii jewysjeWesdoo7 J00lJ -- \n"
     ]
    },
    {
     "name": "stderr",
     "output_type": "stream",
     "text": [
      "Neither CUDA nor MPS are available - defaulting to CPU. Note: This module is much faster with a GPU.\n"
     ]
    },
    {
     "name": "stdout",
     "output_type": "stream",
     "text": [
      "038000199066_0.jpg.jpg ^^ \"LiFT TAB TO OPEN -- Ju3h av1 L83SNI 3S073 01  -- Kedloy9 FROSTED FLAKES  OF CORN -- Die -- Yo8 Susvd \"u3dva -- S7vlo djhunj &0J TNvd 30iS338 -- C4oz -- 0J1JI1833 dVWdoJ MO7 XLISUJNINn HSVNOWN -- (g pasn 1S38 -- 'Z0 2*61 osaxeiy paisoly -- Good Source ol VITAMINS & 8 MINERALS -- cut aohg -- LARGE SIZE -- Redlogas FROSTED FLAKES OF CORN -- Kids -- Redloy9a Kedlogga FROSTED FROSTED FLAKES OF CORN FLAKES OF CORN GR-R-REAT, THEY'RE -- NoutrrenioperGunancts Serving size Cup (37g) Cereal witki; Gir Calories | 130/200 % DV: % DV: Total Fat 0% | 0g 096 Saturated Fat 096 Trans Fat Polyunsaturated Fat Og Monounsaturated  Fat Cholesterol Omg 0% <Smg Sodium 190mg 789|270mg  12% Total Carbohydrate |33g 129|42g 1596 Dietary Iber 4%6 4% Total Sugars 129 22g Incl. Added Sugars 12g 12g Protein 2g 8g -- aam 6 OME -- Vitamin D Calcium Iron Potassium Thiamin Riboflavin Niacin Vitamin Bs Folate (folic acid) Vitamin B1z -- 2mcg_ 10%| 4.2mcg  20% Omg 0% /220m9 15% [72mg 40% 7.2mg 40%6 30mq 0%2 |320m9_ 6% 2090 2590 20% 4596 2090 20% 209 30% 30% (Z0mcg (ZOmcg) 2090 50%6 -- X Sheyre Gr R-REAti -- The % Daily Value (DV) tells you how much a nutrient in & serving of food contributes t0 a daily ciet: 2,000 calories day is used lor general nutrition advice -- Ingredients: Milled corn , sugar; malt flavor; contains 2% or less of salt, Vitamins and Minerals: Iron (ferric phosphate) , niacinamide ; vitamin Be (pyridoxine hydrochloride} vitamin Bz (riboflavin) , vitamin (thiamin hydrochloride folic acid, vitamin D3, vitamin B12: Distributed by ekellogg Sales Co: Battle Creek. 49016 TM; 2022 Kellogg NA Co. Contains bioengineered food ingredient -- 'Kreger} Retro Pack Today's Classic Tastel -- the official cereal of -- TONY THE TIGER? -- SuWTeMR Cane SGEeTOH -- Questions Comments? visIt kelloggs com CALL -800-962-1413 PROVDE PRSDUCAIONCOSE COGPANOACKAGE -- Color with crayons CoQoz to create a sign for your bedroom door: Have an adult help cut out after you have finished your YouR WAVI masterpiecel -- CEREAL -- 130 Og 190mg 124 SAT FAT SODIUM TOTAL CALORIES SUGARS ~o90 DV 8V0 DV PER - CUP SERVING -- One serving of Ihis product is low FODMAPs_ low FODMAP diet does not treat disease Monash Universily receives license Htee torthe uSe Ahe Monash University Low FODMAP Cerlified trademarks -- NETW 19202 (1 LB3.202) (544g) -- 066 O00= -- N8o? JO SaMV7- @E1SOU eBop -- 8 -- 410096 Regycled Eaoe -- frostedflakes.com -- aseypind  Joold Dan -- \"Z0 761 eSaxelJ Paisoly ef6e1 -- 96- -- THEY' RE GR-R-REAT! -- TONY -- Redluyos FROSTED FLAKES -- FTonY -- \n"
     ]
    },
    {
     "name": "stderr",
     "output_type": "stream",
     "text": [
      "Neither CUDA nor MPS are available - defaulting to CPU. Note: This module is much faster with a GPU.\n"
     ]
    },
    {
     "name": "stdout",
     "output_type": "stream",
     "text": [
      "038000199349_0.jpg.jpg ^^ LIFT TAB TO OPEN -- Redlggs\" Frosted _ -- Th -- 383h &V1 LU3SNI 3S07J 0L -- MIly Kelloyga WARO KFRJ( C0 -- 8288 827 -- M -- ORIGINAL -- 1 PBOER PBAGG -- Kg pasn 4IJSa8 -- 'Z0 81 /eu6uO @sieayM-IUIW paisoly R8Gi2 -- Redlzas\" Frosted Mini Wheals ORIGINAL -- HIGH FIBER -- Redlogas Frosted  Mini Wheals -- Kelloggs com/DidYouKnow -- Reeleggs' GRIGINAL Whole Nutrition Facts_Datos de Nutricion Frosted  About 8 servings per containerlaprox; & raciones por envase Grain Serving size/iamaio por racijn 25 Biscuits/25 Galletas (GUg] Cereall wilt% cupskim Cereal Cereal pilkcon %4 taza de Amount per serving/Cantidad por raciin Cereal integral Calories_Galorias | 210] 270 Mini 9nV*nn Vt Total FalGrasa Total Saturated FatlGrasa Saturada Trans FatlGrasa Trans Polyunsaturat FatlGrasa JInsaturada Monounsaturated FauGrasa Mondinsaturada CholesterolColesterol SodiumySodio TOmg Wheals Total Carbohydrate/Carbohidrato Total S1g Daawuerduusanae Insoluble Fiber/Fibra Insoluble Total Sugars/Azicares Totales 22g dded Suqars| azicares aiaduos | 72g 12g ProteinfProteinas 5g T1g ORIGIMAL Vitamin DNitamina D Omcg 09 | 2.2mcg  10% Cal Iciumglal Icho Omg 230mg   1596 Iron Hierro 18mg _ 100%0 | 18mg   1Q0% Potassium/Potasio 60mg 440mg_ 10% ThiaminTTiamina sweet Miacin/ Niacina Per fectly FolatelFolato 100% 100% (folic acidlacido folico) (235mcg) Wholesome  (235mcg)_ Phosphorus/Fostoro 259 wheat Magnesium_Magnesio ZinciZinc The  contributes Daily Value (DV) tells you how much Iv die- ,00 calories a day is used nutrient in a serving Of food ~advice . Valor Diarin (VD ngica CiantoMn nitrIp general nutrition de alimentos contribuye a una dieta diaria; 2,000 calorias al dia se utiliza para una porcion ~asesoramientc nutricion general Ingredients: Whole grain wheat;, sugar; contains 2% or Iess of brown rice syrup, gelatin; BHT for freshness Vitamins and Minerals: Reduced iron; folic acid, romtianes  nEhTgoGREdigntienZkp menos de jarabe de arroz integral, gelatina, BHT para mantener frescura Vitaminas \" Minerales: Hierro reducido, acido folico, CONTIENE INGREDIENTES DE TRIGO . Distributed by Kellogg Sales Co: Distribuaide %ceelel eteliogg gggales Co TM; 2022 Kellogg NA Co. -- Serfeely with wheleseme Wheat ENLARGED TO SHOW TEXTURE mostraladoexatea -- PROFILE -- Abqut Im Mini. You're YOU: And we're about te seize the ddyl -- Packed with 48g whole grains: My name'$ Mini; but Im mightyll -- Mini @frostedminiwheats -- I have A0O% Whole Wheat G am AddO% dedicated te yeur ddyl -- Motto Tm here te stick with you. (It's kinda what I dol) -- did you 'nooajauksov Kelloggs -- They made me with 40 ldyers 6f awesomeness S6 we can do BIG things  together. -- Questions or Comments? viSIT kelloggscom CALL 800-962-1413 (SE HABLA ESPANOL) PROVIDE PRODUCTION CODE ON PACKAGE -- 210 U 1Omg 129 SAT FAT SODIUM TOTAL CALORIES | SUGARS O% DV Ooo DV iPER 25 BISCUIT SERVING -- NET WTIPESO NETO 18 02 (1 LB 2 02) (510g) -- 566 0008 -- 100% -- kelloggs com -- 8 3 -- IusFececearae -- 8 (patsoxy  BBrcpe1 -- 7VNIJI4O -- aseujind ool~ Odn 'zo Ieuibuo -- g -- @S1ea4M-Iuiw paisoiy @ '8ime} -- \n"
     ]
    },
    {
     "name": "stderr",
     "output_type": "stream",
     "text": [
      "Neither CUDA nor MPS are available - defaulting to CPU. Note: This module is much faster with a GPU.\n"
     ]
    },
    {
     "name": "stdout",
     "output_type": "stream",
     "text": [
      "038000199462_0.jpg.jpg ^^ \"LIFT TAB TO OPEN -- The <Amil} Keeloggs \"WARD Ker. Con -- 38875888 NTENTSGAY E -- Frosted Mini Wheals -- 343h 8V1 LY3SNI 3S073 01 -- STRAWBERRY NATURALLY  (AND, Jartfichally flavored -- PAPER PLASTIC BOX BAG -- Kg posn LS38 -- \"Z0 €R1 MjaqeJiS @siea4M-IUIW paisoly [o Gepy -- Reolgat Frosted Mini Wheals -- HIGH FIBER -- SRedlogas Frosted Kelloggs com/DidYouKnow Mini Redlgas Wheals Frostedl Wrale STRAWBERRY NATURALLY / 'AND arteichally flavored Cereal Nutrition Facts About 6 servings per container Mini (Serving size 25 Biscuits (60g) Cereal| Mahin or Calories | 210| 270  #DV' Total Fat Saturated Fat Trans Wheals Ponoussa Frat 459 Cholesterot Omg <mg Sodium IOmg 85mg Total Carb_ Dietary Fiber 336 232 STRAWBERRY Soluble Fiber Insoluble Fiber NATURALLY  AND JartifCaLLY FLAVoRED Total Sugars Anded Suqars 12g 12g Protein M1g Vitamin D Omcg 0%642.2mcg 107 sweet Calcium TOmg 240mg_ ENLARGED T0 SHOW TEXTURE Iron I8mg   400S | 18mg Per fectly Potassium 21Umg 500mg Wholesome Thiamin Niacin wheat Folate 1009 100% (folic acid (295mcg) (235mcg) Phosphorus_ 2520 Magnesium Zinc The % Daily Value (DV) tells you how much a nutrient Epnar 1g of food contnbutes calories & Gay is used tor general nutriticn advce ada ly diet 2,CD0 Ingredients: Whole grain wheat, sugar; contains 2% or less of whole wheat ilour; brown rice syrup, gelatin, vegetable juice for color, natural and artificial flavors, citric acid, paprika extract color; beta-carotene for color; BHT for freshness Vitamins and Minerals: Reduced iron, folic acid, CONTAINS WHEAT INGREDIENTS . Distributed by Battle Creek; eelleggSles Co @,TM; 2022 Kellogg NA Co: 49016 Product of Canada -- Packed with juicy -- strawberry flavor NATURALLY AND ARTIFICIALLY FLAVORED -- PROFILE -- ABOUT I'm Mini. YoU're VOU. And we're about to seize the ddyl -- Colors from NATURAL SOURCES} -- Conquer the ddy with the flavor 0f strawberries & the power of whole grain  NATURAlLY AND ArTIFICIALLY FlavoRED -- I hdve 400% Whole Wheat am 10OO% dedicated] to your ddyl -- Mini @frestedminiwheats -- Motto I'm here te stick with you. (It'$ kinda what I dol) -- They made me with 10 ldyers of awesomeness So we can do BIC things together. -- did you now -- Kelloggscom/DidYouKnow -- Questions or Comments? viSIT kelloggscom CALL 1-800-962-1413 (SE HABLA ESPANOL) PROVIDE PRODUCTION CODE ON PACKAGE -- 210 Og 10mg 129 SAT FAT SODIUM TOTAL CALORIES SUGARS 0Y0 DV 0%6 DV IER 25 BISCUI SERVING_ -- NET WT 14.3 02 (405g)i -- 0096 Recvded paberboard -- kelloggs com -- Q34016H ATIVOHLHV ON AtIVuni XudJaMVa1S -- 33n [palsolyr \"qpeks -- 8*+L Auaqmens @Sieaym-IuIW paisoly -- \n"
     ]
    },
    {
     "name": "stderr",
     "output_type": "stream",
     "text": [
      "Neither CUDA nor MPS are available - defaulting to CPU. Note: This module is much faster with a GPU.\n"
     ]
    },
    {
     "name": "stdout",
     "output_type": "stream",
     "text": [
      "038000199929_0.jpg.jpg ^^ LIFT TAB TO OPEN RICE -- Join <amily (Kellogga ) P WARD' Kfr.com -- MONASH UNIVERSITY Low FODMAP CERTIFIED  SEE SDE PANEL For FurIHER DETALS: -- 383k 8VL LH3SNI 3S073 0L -- 8edlg3s KRISPIES -- p1saa Txo8: -- \"Kepox Jabuny Isuiebe uonpe axe1 pue AudNnH 610 KubunHpIxON Ie Jaupued QIMON sAed Jaua8 0S4 'bbol18X HISIA -- 3e88 -- Ag pasn 1S38 -- 'Z0 6 @saidsux 3318 -- Qealegar RICE KRISPIES Nutrition Facts/Datos de Nutricion  About 6 servings per containerlaprox 6 raciones por envase Serving size/lamaio por racion   1 '/2 Cuph Tazay 'z (4Ug] Geal RL %hEsu Amquat per serving Cantidad per racibn Calories/Calorias |  150/220 #DV\" aVd\" #DV\"FaVp' Total Fatlbrasa Total Saturated FatGrasa Saturada Trns FatlGrasa Trans Folyunsaluratzd FavGrasa Folinszluraca Queseoldaatada luaira Umg <mg SodiumFSodio 2dmg 280mg Total Carbohydrate Carbohidrato Total 361 45g Dietarv Fiber Fibra Dietetca Total Sugars/Azucares Totales Jdec Sugams I 32uc21es a_26 Jos ProteinfProteinas -- Rdlods RICE KRISPIES Family Favorite Rice Krispies treats recipe BSUMPLBONJGREDIELIS 3 Tbsp Butter 40 large JET-PUFFED Marshmallows (OR 5 1/2 cups mini JET-PUFFED Marshmallows) 6 Cups KELLOGG S@ RICE KRISPIES@ cereal @QREGUUOQIS In large saucepan melt butter over low heat. Add marshmallows and stir until completely melted. Remove from heat. -- MAKE fun FAMILY Memories the Rice Krispiese Wayi SCAN Here For More RecipesI Ricekrispies com/recipes -- SNAP Realeg3s RICE KRISPIES TOASTED RICE  CEREAL Vitamin D itamina D Smcg 152 5 Zmco 2570 GOOD SOURCE 0F Calcium-Calcio Omd 220mg CEREAL DE ARROZ TOSTADOj IronvHrerfo 11 2mg 609 | 71,2mg 607 PotassiumPatasio 3Umg 328mg 2 Rdcd Kellqgies\" cereal: 8 Tniami| Mananauglana Tedleggs Stir until well coated. QoP Miacin Miacina VitaMinS & Vitamin Be iamina Bs MINERALS Folate Folato 5030 EVERYONE Using  buttered spatula 3 (folic acid acido fdlico) (0smcg) (U15mcg) 4 or wax paper, evenly DESERVES Btz Mitamina B12 press mixture into  Daily Value (DV) tells= how Much a nutrient in a serving of tood tHE PLACE 13 x 9 x 2-inch pan coated ENLARGED TO advice / El % Valor Diario contcibutes Nolet JO00 calories & day (s used for general nutrtion with cooking spray: SHOW TEXTURE dea imentos contnbuye = dieta diaria, 2,000 calorias al dia = innica una paicion asesoramieno Iricion genera utiliza para TABLE A) Iostra Agrandado Iara Kexiura Cool Cut Setve Decotatel Ingredients: Rice, sugar, contains 2% or less of salt;, malt flavor: RICE Vitamins and Minerals: Iron (ferric phosphate) , KRISPIES niacinamide, vitamin Bs (pyridoxine hydrochloride), Scan Codeon Backfo MocoRecipesl vitamin Bz (riboflavin) , vitamin B (thiamin SNAP? POP? hydrochloride) folic acid, vitamin D3, vitamin Biz: SERMNG Ingredientes: Arroz , azucar, contiene 2% menos de SUGGESTION sal, sabor malta  Vitaminas Minerales: Hierro (fosfato ferrico) , niacinamida, vitamina Bs (clorhidrato de piridoxina) , vitamina Bz (riboflavina) vitamina B; (clorhidrato de tiamina) , acido folico, vitamina Dz, vitamina Biz: CRACKLEI Dsstitbuided por Kellogg Ilogg9oale Sales €o; TM; Battle Creek, 2022 Kellogg NA Co: Contenetamingrbiengipeocecicoocon grorigenieria EMPOWERING THE VISUALLY IMPAIRED -- SERVING SUGGESTION -- This box features NaviLense technology to assist blind ad low-vision adults in the US -- With the NaviLens code ad app, users can 0OW easily find this product and hear its name, nutrition, and allergen information -- Keeloggs= Betten Dayr\" 9 Kelloggs com/ BetterDays Kellogg is proud to be the first food company to feature this technology on its packaging in the U.S. Accessibility: part of our commitment to create better days for 3 billion people by the end of 2030. -- SNAR; cRACKLE; Pop -- Questions or Comments? Visit kelloggs.com CALL -800-962-1413 (SE HABLA ESPANOL) Provide Production Code PACKAGE -- SERMING SUGGESTION Racion sugerda -- 150 Og 200mg SAT FAT SODIUM TOTAL CALORIES SUGARS PER 1 1/2 CUP SERVING: -- NaviLensGO APP -- FODNnPservov PODs Rpdiet doeowot treat diseese. Monash Unlversity rocaives icense Iee tor the Use the Monash University Low FODMAP Cerilied trademark? -- NaviLensGO APP -- NET WTIPESO NETO 9 O2 (255g) -- 10090 Fagecbeard -- WWW Ficekrispies com -- SalasiUx [ruver a31d -- aseyJina Ioold Odn @Saidsux a318 -- \n"
     ]
    },
    {
     "name": "stderr",
     "output_type": "stream",
     "text": [
      "Neither CUDA nor MPS are available - defaulting to CPU. Note: This module is much faster with a GPU.\n"
     ]
    },
    {
     "name": "stdout",
     "output_type": "stream",
     "text": [
      "038000270826_0.jpg.jpg ^^ TLIfT TABTO OPEN} -- J834 8YLI83SNI38070 0L -- Raisin @unch Original Tbran -- Two Sunnyu Scoops! -- LPAPEB BOY -- plasnc BnG -- Kaipasni 1S38 -- S O€ ,4punj) uejg uis;e8 -- p -- 8edoas -- 8dads MEGA SIZE Beax Beax GOOD SOURCE OF @unch FIBER @unch Original Original Redtzas Kelloggscom/DidYouKnow Nutrition Facts About 15 servings per container Raisin Serving size Cupus59 Cereal ~skim milk Calories 190/ 250 93 DV* % DV Total Fat 1% Saturated Fat 0% | Og 0%6 Trans Fat Og TBran Ponougaauazeddzat Og Og OUR Cholesterol Omg 096 <5mg Sodium 200mg 9%0 |280mg 12% BEST IN Total Carbohydrate 46g 17%6 | 569 2096 Dietary Fiber 1690 1696 Total Sugars 19g 28g EVERY Incl Added Sugars 13g 2690 | 139 2696 Protein 40 IOg Guch Vdacuin D Omcg 21 2mcg BITE 20mg Iron Img 690 Lmg Potassium p280mg [560mg_70% Niacin 15%0 20%6 MADE WITH Phosphorus 10% 2596 Magnesium 10% SUN-RIPENED RAISINS Zinc 10%0 NORTH AMERICAN Original Gagpenese @0% 80% WHEAT The % Daily Value (DV) tells you how much a nulrient in & serving HEART qeneral nuliilion advice ol food contr butes I0 a daily diet_ 2,000 calories & cay is used for HEALTHY Ingredients: Whole grain wheat, sugar; rice , raisins wheat bran, whole grain oats  brown sugar syrup, vegetable glycerin . Contains 2% or less of corn Syrup; salt;, While manv lactors raject heartt natural flavor; modified corn starch, disease, diets low LSaluraled molasses , palm oil, cinnamon; honey, mixed iat & cholesterol m3y reduce tocopherols (vitamin E) for freshness Hhe MBt this dsease. CONTAINS WHEAT INGREDIENTS _ Distributed by Kellogg Sales Co. TM; Battle Creek; Mi 49016 2021 Kellogg NA Co: Contains bioengineered tooc ingredient -- you -- Rnoww? Fiber is a SUPER NUTRIENT that helps support digestive health -- Kellogg'so Raisin Bran Crunche Original is a GOOD SOURCE OF FIBER with a delicious blend of = crispy bran flakes & sweet crunchy oat clusters -- Fiber helps support digestive health; an important part of OVERALL WELLNESS -- did you now -- Kelloggs com/DidYouKnow -- EnaRGEQLO Show TExTURE -- Questions or Comments? VISIT kelloggs com CALL 800-962-1413 (SE HABLA ESPANOL) PROVIDE PRODUCTION CODE PACKAGE -- R0o0 Raisin Bran -- Delicious `  Raisins, Clusters Glazed Toasted Flakes & Crunchy Oat with Touch of Golden Honey 190 Og 200mg 19g CEREALI CALORIES SAT FAT SODIUM TOTAL gQ DV SUGARS Q%o DV 'PER 1 CUP_SERVING NETWI.30.5.02 (1LB 145.02)_ (864g} -- HEART HEALTHY -- did you now -- Explore all the good stuff you may not know about your favorite cereals at Kelloggs com/DidYouKnow -- Wnile many lactors affect hearl disease, diels IoW in saturated Iat & cholesterol mav reduce Ihe vsk oi ihis disease. -- g 8 -- mauuns -- Lcbo? Ann Beeedeitae -- Jeuibuo Merg_ Yound) USied -- kelloggs com -- aseujind -- Ioold Ddn -- 'Z0 'SOS &42unu) ueje uiseU 0q66op21 8 -- \n"
     ]
    },
    {
     "name": "stderr",
     "output_type": "stream",
     "text": [
      "Neither CUDA nor MPS are available - defaulting to CPU. Note: This module is much faster with a GPU.\n"
     ]
    },
    {
     "name": "stdout",
     "output_type": "stream",
     "text": [
      "042400148623_1.jpg.jpg ^^ PER 1 1/3 CUP SERVING 150 Mat 2G5 17 cALORIES TOTAL SUGaRS -- Malt OMeal NATURAIEEY 8 ARTIFICIALLY FLAVORED Cooggal | Crunch 1 | or it's FREE! 1 love it SEE TASTE = GUARANTEE ! FORE DETAILS I 4 NET WT38.5OZ (2LB 6.502) 1.09kg CEREAL Snor Bctti; -- LSAar -- \n"
     ]
    },
    {
     "name": "stderr",
     "output_type": "stream",
     "text": [
      "Neither CUDA nor MPS are available - defaulting to CPU. Note: This module is much faster with a GPU.\n"
     ]
    },
    {
     "name": "stdout",
     "output_type": "stream",
     "text": [
      "042400148647_0.jpg.jpg ^^ ZZ~0S -- PER 11/2 CUP SERVING 170 Sat 1905 (ALORIES T892 Sugars -- Malt OMeal Tootie Fruities | FLAVORED NATURALLY 1 1 it or it's FREEI 1 love TASTE = GUARANTEE [ FoRL DE TAILS 2 SEE I 1 7 NET WT 33OZ (2LB 10Z) 935g CEREAL Showodte -- Fuper -- \n"
     ]
    },
    {
     "name": "stderr",
     "output_type": "stream",
     "text": [
      "Neither CUDA nor MPS are available - defaulting to CPU. Note: This module is much faster with a GPU.\n"
     ]
    },
    {
     "name": "stdout",
     "output_type": "stream",
     "text": [
      "042400240518_4.jpg.jpg ^^ PER 1 cUP SERVING 160 SaOat 2764 I7o TOTAL I2* Dv Sugars 0 dv -- Malt OMeal -- Smores | 1 1 1 2 it's FREEI L love it or SEE TASTE  GUARANTEET FOR DETAILS X I NET WT30OZ(LB 1402)850g CEREAL En6wg88 -- \n"
     ]
    },
    {
     "name": "stderr",
     "output_type": "stream",
     "text": [
      "Neither CUDA nor MPS are available - defaulting to CPU. Note: This module is much faster with a GPU.\n"
     ]
    },
    {
     "name": "stdout",
     "output_type": "stream",
     "text": [
      "042400318651_0.jpg.jpg ^^ PER 1 CUP SERVING 170 Saar 2480w8 185 CALORIES TOTAL 0% DV 10\" DV sugars -- Malt @Meal GLUTEN FREE 1 DA{8Bites 1 1 1 1 or it's FREE! 2 love it SEE TASTE  GUARANTEE FOR DETAILS @ 2 4 ] NET WT25OZ (ILB9 02) 708g CEREAL Snorgatd -- familv -- \n"
     ]
    },
    {
     "name": "stderr",
     "output_type": "stream",
     "text": [
      "Neither CUDA nor MPS are available - defaulting to CPU. Note: This module is much faster with a GPU.\n"
     ]
    },
    {
     "name": "stdout",
     "output_type": "stream",
     "text": [
      "042400910787_0.jpg.jpg ^^ #anS -- PER ] 1/4 CUP SERVING 160 Sat I0 15 calories TOI Sueass -- I Malt OMeal Frosted | Flakes 1 L it's FREE! 1 love it or TASTE  GUARANTEE [ FORL 'DETAILS SEE I 4 NET WT 37 OZ (2LB5 0Z)1.04kg CEREAL Enlargcd Sho Detail -- \n"
     ]
    },
    {
     "name": "stderr",
     "output_type": "stream",
     "text": [
      "Neither CUDA nor MPS are available - defaulting to CPU. Note: This module is much faster with a GPU.\n"
     ]
    },
    {
     "name": "stdout",
     "output_type": "stream",
     "text": [
      "058449162070_0.jpg.jpg ^^ HELP US SPREAD S1 MILLION OF LOVE TO FOOD BANKS -- BITEABITE -- ATiON RG ANI -- Aatures PatH loe councH PREMIUM ORGANIC GRANOLA -- CLEAR WINDOW -- DARK CHOCOLATE PEANUT BUTTER Fair Trade Dark Chocolate, Peanut Butter & Roasted Peanuts -- NON GMO Project hongmoprojecEog -- USDA ORGANIC -- 11L501 (8258) -- 0 76207 , 58449 15844917 6207- Not \"Feeling The Love\"? If youre less than thrilled with this product; let us know: Just send the emptied bag with freshness code to: Consumer Services c/o Natures Path Foods, #275-250 H St: Blaine; WA 98230 USA or contact Us at: WWWnaturespath com/contact-us and welIl make things right: -- '(IVO) euoneujaluj ajueunssv Kljeno Kq piue310 payi1ua) Kuued-pJIY} ponpoud SIYL Vsn Jo ponpoud Oc786 VM 'auieja '3ul spooj Y1ed SaxnteN 308 as7 Joqly Kuelaia 3GLS 3008 a1eapKyoqleo_ ie10l 3oot  3w001 ueu} ss87 unipos Buoog 3uoo8 uey} ss87 Iouaisaio43 3G2 30z uey} ss87 1eJ leS 308 8g9 uey} ss37 124 Ie1oL -- M8HR 8Of -- '380439 1538 -- oos' -- 000'€ -- saijoieo -- aliqpaliq/suuauano/noqpfuoxylndsaaniuMMM ano xay3 iUp4Bold all8ball8 ay1 1O 'ypun4) a107wnoqp aJU Ulba] 0} JUDM aLiabJLI8 Soq 51y} asnal ~,J4OT JaupId, JUOS MOYS Kp 9 1003 1! daax #^O] DIOUD4D, #Uuos MOYS -- spaau dujoie? anof uo Buipuadap Jamo jay31y Keu sanje^ / ~Jnoj \"jaip aujoie? 000'& paseq ale san lea 1ua3jad -- 1 L % uOll unizie) 3 % 0 ulwue}iA % 0 ulue}i 6' 3 1 ulaxoxd 3 9 sue?ns 3 % 8 & Jaqy Kelaia 6' 8L axepKyoque) Iezok 3 3u SL wnipos %  8u 0 104a1s21043 8 0 1eJ sueJL 8 50 Jey paieanies % 8 $ Je- Iejol Sv 4e] WOJy saujole) OSL sauo1e) *anieA Kilea % Su1nJOS Junouh -- 'qe] e Ul JoU uayD4X e Ul apeu sI BuKnq a1nok pOo}341 1e41 nok saunsse jeas UOIJEJYIBA p3alold OWD-UON 341puV *KlisjanpoIq pue IloS Kyljeay dn piInq 01 pue] &4} Jo a8paJMOUX #JeUlJul 41ay} asn suaujey JnO spaas payIpOU Klexlaua? pue SJeJIUaY? )llay1uKs DIXO} BUIpIOAE 'aJneN YII Kuouuuey ul pooJ BUIMOJ8 JO WaisKs SI auniinjuge )iue8JO \"OWD-UON 3 51ue6IO paljlka) 'a1q 1S.Y Je JAO] eq Il.41 iwunipos Mo] pue _ Jaqy \"suie48 aJOYM YIIM passajq osje $,1eY1 ejoue? uniuald gnoqe MOH iSinuead OL wnoqe :Jaulejuo) Jad sgulAJaS paiseox pue sxuny? a1ej0z0yp Xp jOJ 3u1y1  40D (8 08) dn) v/1:azis BuuaS issaupoo? ejoue.8 Kaiinq 1nuead JOJ Ile} 01 Kpead sx3ey uOJuAIN \"Y1eay 3 #1se1 Jo abelew anbiun V NVIJVLDJA uue: BoJd a18ba18 ino YIM UOIIIIU Kos pue Jeaym 'snu IS 0} dn 'Yse3 JO pOO} UI sxueq pOO} 0} Junouue aa4} 'YIIU sasn Jey} Azpe} e U! paznpold jenba ue ajeuop IlaM 'Knqnok ypunj) #40Tjo \"sxnuead suiequo) '3iue310+ (J uiWeI) Seq KjaAa JOJ OS *00} '>peq #N? 01 pajidsul siojaydojo1 '+Kauoy '#JOAU '1ES Eas '+YpJeIS ajaM Kueduoj e se aM 'sluasaud I8uppaM jo  JJu4 xeOJO) '(ejiuea '#Jalnq 8OJOJ 'ajejojoyp nal] UI sanunuUoj Jay} 01 xpeq 3N8 01 ejdoad pauajaamsun Je8ns aue3) +sxuny? 31e102042 paxse Kay} uaym puV 'PIOM &41 YI (sjoAeU Xep apeJL Jie] 'snuead '+IlO JaMoJuns 'xJalinq Mau auos pue) 1 aJeys 01 papipap aM OS '1!paAo] 1nuead xe8ns aue) '#SqeO pailod SLNJIOJYDNI auoKuaAa pue 'SuIppaM JIay} JOy uoneuedaud Ui ypun4) 34O] Jeu181O 341 31ea.3 01 pajldsul JlaM DNIANJS &3d LVJ SNV4L 80 (Kjiwuey Suipunoy; Jno Jo ued) uiylurd 8 ueliv wniaos Mo7 \"DAOI xueq pooJ Jo uollllw Ls DNIAUJS 80€ &3d SNIV4D 37OHM 8€L -- VTONV4D DINVDJO WnIWaad HjundJ 0401 -- aja4y JeaL -- 8J11n8 LNVId 8 31VIOJOH) XYHd -- \n"
     ]
    },
    {
     "name": "stderr",
     "output_type": "stream",
     "text": [
      "Neither CUDA nor MPS are available - defaulting to CPU. Note: This module is much faster with a GPU.\n"
     ]
    },
    {
     "name": "stdout",
     "output_type": "stream",
     "text": [
      "0602652171840_3.jpg.jpg ^^ ingredients you can see & pronouncee -- KIND MADE WITH 5 SUPER GRAINS HEALTHY GRAINS -- Cinnamon Oat Granola with Flax Seeds -- HIGH IN FIBER 7g FAT PER SERVING -- GLUTEN FREE -- 100% GRIONS 39g PER SERVING 'OATS, BUCKWHEAT, MILLET, AMARANTH; QUINOA -- NO GENETICALLY ENGINEERED INGREDIEMIS -- QD -- GRAN NET WT 11 OZ (: \"2 -- \"rulritio  mat: '.~o-OoCserving S Zc -- \n"
     ]
    },
    {
     "name": "stderr",
     "output_type": "stream",
     "text": [
      "Neither CUDA nor MPS are available - defaulting to CPU. Note: This module is much faster with a GPU.\n"
     ]
    },
    {
     "name": "stdout",
     "output_type": "stream",
     "text": [
      "0884912116505_0.jpg.jpg ^^ PER 1 CUP SERVING Post 230 Sat FAT 0.59 240mg SODIUM toTaL 10g CALORIES 39 DV 10% DV SUGars great= CEREAL Show texturE ENLARGED to -- BANANA NUT CRUNCH NaTuRaLly FLAVORED WITh OTHER NATURAL FLAVORS -- BANANA CLUSTERS -- ALMONDS & WALNUTS -- FLAKES -- NON 7g 43g Gojec FIBER WHOLE GRAINS HEART HEALTHY VERIFIED CONTAINS 4.5g ToTaL FAt DIETS RICH UN Whole GRAUN Foous And OThER PLANT nongmoproject org PER SERVING foods, AND OW IN saturated FAT ANd cholesterol, May help Reduce ThE RISK OF HEART DISEASE -- NET WT 15.5 OZ (439g) -- \n"
     ]
    },
    {
     "name": "stderr",
     "output_type": "stream",
     "text": [
      "Neither CUDA nor MPS are available - defaulting to CPU. Note: This module is much faster with a GPU.\n"
     ]
    },
    {
     "name": "stdout",
     "output_type": "stream",
     "text": [
      "0884912180629_4.jpg.jpg ^^ EXCELLENT SOURCE OF FIBER -- NON GMO VERI Projed] nongmoproject org -- Post 100% WHOLE GRAIN 0 R | G I N A L SHREDDED WHEAT SPZON CEREAL simpleGOODNESS -- ENLARGED TO ShOW TEXTURE -- Serving Suggestion PER 1 1/3 CUPS SERVING 210 0g Omg 0g CALORIES SAT FAT SODIUM TOTAL SUgaRs 0% DV 0% DV Not a low calorie food -- NET WT 16.402 (1 LB 0.4 0Z2) 464g -- \n"
     ]
    },
    {
     "name": "stderr",
     "output_type": "stream",
     "text": [
      "Neither CUDA nor MPS are available - defaulting to CPU. Note: This module is much faster with a GPU.\n"
     ]
    },
    {
     "name": "stdout",
     "output_type": "stream",
     "text": [
      "602652171826_0.jpg.jpg ^^ ingredients you can see pronouncee -- KIND MADE WITH 5 SUPER GRAINSt| HEALTHY GRAINS @ -- Peanut Butter Clusters -- 10g PROTEIN -- GLUTEN FREE -- 100% GRONs 36g PER SERVING *OATS, BUCKWHEAT, MILLET, AMARANTH, QUINOA -- NO GENETICALLY ENGINEERED INGREDIENTS -- OD -- GRANOLA NET WT. 11 Oz (312g) -- All nutrition information above based on a 65g serving size -- \"aoipe uoluinu pejauab JO} pasn SI Kep ' seuope? 000'7 neip Mep e 01 sainququo? pOOy Jo bupuas e 4I quanu e ypnU MOY nof sipa} (A) enpeA Mijed % a4L -- 8 -- sxpeuspulxo 0 woo'sypeuspUIX -- %V %OL -- bu88L %z buuz buLv b3w0 %0 -- bwz8 -- wnisselod UOJI unioleo UlLe -- buzz b310 -- %0 -- aweid Kp 'p00? JJ01S squalpaJbul pauodul pue olsouop YIIM sn apew -- %LL %z8 -- 60L %8 %01 -- uiazoud 6G siebns pappv \"ppul suebns Ie10L Jaqly Aeiaia 'q4e3 Iezol bugs wnipos 6uo [0481581043 he- zesunouow ze- #esungOd JeJ sueJL JeJ paleanles hey [exol -- 99z0d-08-+0082 -- %bk %8n lS %0 -- 6v pLS buug buo %0 -- :A8 JS38 -- 60 ONIX v88*GS8 0314143 81001 AN AN %8 69\"L %8 keo] uOIleIS UMOIPIW SOL XO8 'Od %01 68 %9 277 @NIM Kq nof 01 146n048 #AQ #q 'spaas auuesas pue sinu a84} uleJUO? KeWN \"Kos pue snuead suie1uo? :UOHEUJOJUI uabuaIIV 093 0z sapuoje) '(ssauysaay ulezuleu 01 spojaydovov) (699) dn? &/z Jad (b03) dn? 8/! Jad UJLueIA 'IeS eas anuis &314 uMOIq 'eouinb 'Jnolj Imog Mjeus inuead '4luejeuue '1IIIU 'zeaymyonq 'stnuead '\"IIO nuead 'dnKs eooide} 'a1eIOSI ulalold KOS 'a34 uMOIq '(lleS eas (659) dn? €/z 9zis 6ulAleS 'sinuead) Jaunq Inuead 'Jebns oue3 'steO 'SLNBIA3UDNI abexoed Jad sbuluas wnoqv suaisnij jaling Inuead 51e WOIN woosxpeuspuix te aj0u Ujea7 Japunoy @NIX 'Axzoqn7 poluea sunoK Kipuix -- Japulx 311411 pIIOM a41 axel 01 Kzunuuuo? pue pUIU JO ajeis osie #nq 'puejq Isnl 1oU @ONIX axe1 01 SI [e06 Jno xoeq O^I6 pue '&NI 'YJOM &M KeM &41 01 'axel &M spOoy pue sxoeus &41 WO4Y \"Ingpoedul KileI?OS pue aiqeuieisns Kileoiuuouoja aUuOSaoyM pue Juaiua1UO? 'Kiset pue Kyleay as00y? aM pue; Kes &M .O, J0 peaJsul 'Klluajayjip o11ll Xuly} &M 'ONIX Ie &8H iKunuuwo? ONIM &41 01 BUOJIOM oPHJOM Jnof 8 spnq &1se1 Jnof *Apoq JnoK JO} 6ul4} purx &41 op -- iXl YHIM -- iunbok JanO -- job-ay1-uO -- \"04s buiuas 659 e uO paseq @1oqe UOQBULOJUI uonunu IIV \"Jue1uo3 Jebns pappe UOQBUuOJul uonInu &OS \"buiues Jed ze} 08 SujeIuoo -- ilnypuey &41 JO Injuoods &41 Kq Kolua 01 XoeUs 1o8juad &41 aue sjazsnpo Kyounuo Kisnopoiap as341 eouinb pue 'Yluejeuue '1alll '1eaymyonq 'Sleo suleb jadns &OYM Jo puaiq e WOJY apew iypunuo Inlybilap e pue ula1ojd 0 ypund snoluinu xoed sja1sniO osule.p KylleaH @NIX SNIV4D &3ans $ HLIM 3aVW -- &3814 J0 338n0S 00O5 NIALO&d J0 3o&n0S @OOD wniaos MO7 SNIV4D 37OHM 698 -- \n"
     ]
    },
    {
     "name": "stderr",
     "output_type": "stream",
     "text": [
      "Neither CUDA nor MPS are available - defaulting to CPU. Note: This module is much faster with a GPU.\n"
     ]
    },
    {
     "name": "stdout",
     "output_type": "stream",
     "text": [
      "8167oSJ5FLL._AC_SX679_.jpg.jpg ^^ General -- FAMILY SIZE -- 0 I -- 16.7 Oz -- Cinamod Cutiich Toasi; R@LSe -- \n"
     ]
    },
    {
     "name": "stderr",
     "output_type": "stream",
     "text": [
      "Neither CUDA nor MPS are available - defaulting to CPU. Note: This module is much faster with a GPU.\n"
     ]
    },
    {
     "name": "stdout",
     "output_type": "stream",
     "text": [
      "860479001522_0.jpg.jpg ^^ GLUTEN-FREE -- PLANT-BASED -- CATALINA -- GRUNCH KETO FRIENDLY Og tNot a SUGARt calorie food Ilg PROTEIN ~SERVING ENLARGED SUGGESTION 9g SHOW TEXTURE FIBER* -- Cinnamon Toast CEREAL -- Io8 Proiect ERIFIED nongmoproject.org -- tota serving nutrition information fat content -- NET WT. 9 OZ (255G) -- NOThIng TO SEE HERE: Go ENJOY YOUR CEREAL AND TELL US WHAT YOU THINKI -- 'poo} a1j0/e9 MO] e ON '71u31u03 ze} JO} UOIIEWJOJUI UOIIIInU 'bulnjas -- e} /e101 -- 00 -- 2709 -- wo? yjunjoeuileleJoojui 1e sn IleU] iSLS3NO34 40 SNOILSJIO -- xooq/abed 33 HISIA LZE[-bb&-888-L S3diJ38 Ix8L -- ypunj3eullele) -- ixooa 3d1334 OL3X 3383 -- I09\"SXJVNSVNITHLHJ -- palysites bullaay nof daax pue 'suled Jabuny anoK aielalle IIIM |eaua) 4314-ulaiold ano -- IVId AHd '7003 'NI340LS 'ININJdO HJLJV SXJJM & NIHLIM 3SQ SSJNHSJHJ IOIYHIN HO= aOVu01S 'SLON J381 UNV X LONVId SJSS3J0Hd LVHL ALITIJVJ (3SS7J08d -- 0zz91 NI SI7OdVNVIONI 'INI 'SXJVNS VNITVLVJ 031&14LSI -- 'SLNJIQJHJNI 7VYALYN -- @3ly4n3 A77VIJjdS WOHJ JQVW '+&vjns @J0H 0432 HLIM 43914 @NH NiJlOHd @3SHa-LNVId JNIHAIVaY 'SJLIHOAHJ @OOHO7IH? &Q0K J0 HONng? @NV 31SVL]sn013i730 JINHS JhL hLIM JVW SI 713433 400 -- 'JJVHLXI Lindy XNOW 'LJVHLXI YIAJLS 'ZLVNOAHVJ WOi?7VJ 'L7VS VJS 'NOWYNNIJ 'SHOAV7J 7VYnLVN '4J1MOd 9NIXVU 710 4JMOTJNOS 31370 HDIH '40073 vjOldVL '(Wn9 4Vn9 '43913 1OOH AHOJIH? '4J81J NHOJ OWD-NON '4j813 OLVLOd 'NlJLOHd VJd) 40073 VNITVIVJ :SLNJIOJHDNI -- ajinpe uOIInU Iejauab -- Ooo'z Mlep e sainqulu pOOL /0 buinas 'UI juauuinu yonu MO4 nof siia} (Aa) anie; meq % J4L - -- % L %8 -- 6uo8 unisselod buug\" UOJI bwos wniol Ieo 6owu0 UIUeHA -- %V -- %f0 -- S7OHODTV dvsns ON -- *dj813 NI HDIH -- aasva LNVId -- NV)a^ -- %Oz %0 -- 6LL ulaxold suebns pappV 60 sapnpoul 60 suebns e1O | %ze 66 Jaqly Kezaia %9 6v L #xexpAyoque3 IexoL %9 buoLL_wnipos %0 buo [0421521042 60 1ey sueL %8 69\"0 JeJ paieunies %2 69 1eJ [eJOL Kllea op sapuojes bupnas 4ad }unowv -- aJll Jaziq aalype nof -- djay 1ey} swonpoxd Jalylleay 'snoppilap pajea4) a^eY #M 'Suue Kueulin? YHIM a3u8125 euoluainu 6uluiquo) 'suebns 6uiziululu ?ll4M 'sle} poo6 pue JaqlJ 'ulawojd YIM apel Apisaulea sx3eus pue sieaja) 6ullse}-Jea46 Kofua ue3 nof saAallaq O4M Dlaqeip Kq papunoy sem wsx?euS eulleje) AHOLS &n0 51 -- (698) dno Z/L 0z5 bulnlos JauleJuo? Jad sbulos inoqv stoe= uoluuinN -- HJNOH) OL XHM &31138 V -- \n"
     ]
    },
    {
     "name": "stderr",
     "output_type": "stream",
     "text": [
      "Neither CUDA nor MPS are available - defaulting to CPU. Note: This module is much faster with a GPU.\n"
     ]
    },
    {
     "name": "stdout",
     "output_type": "stream",
     "text": [
      "884912004727_3.jpg.jpg ^^ THE ORIGINAL -- Post EXCELLENT GOURCR 100% OF THE DAILY WHOLE GRAIN RECOMMENDATION -- Sr88 GMO NON POWER-PACKED CEREAL VERIFIED Project nongmoproject org NUTRITION -- ENLARGED TO SHOW TEXTURE SERVING SUGGESTION -- PER 1/2 CUP SERVING -- 210 Ug 270mg]| 5g CALORIES SAT FAT SODIUM SUGARS O%o DV 110 DV -- 79 FIBER 289 DV -- IRON -- NeT WT 29 02 (1 LB 13 02) 822y -- 90% DV -- \n"
     ]
    },
    {
     "name": "stderr",
     "output_type": "stream",
     "text": [
      "Neither CUDA nor MPS are available - defaulting to CPU. Note: This module is much faster with a GPU.\n"
     ]
    },
    {
     "name": "stdout",
     "output_type": "stream",
     "text": [
      "884912006202_0.jpg.jpg ^^ PER 1 CUP SERVING -- 170 Og 240mg I7g caloRIES SAT FAT SODIUM TOTAL SUgars 0% DV 11% DV -- IROn -- Post -- 35% DV -- TM -- ge8d in the _ thoxnudalel -- SNOARGERTTRRE -- METWT 10.5 02 (297y) -- Jhs CEREAL -- \n"
     ]
    },
    {
     "name": "stderr",
     "output_type": "stream",
     "text": [
      "Neither CUDA nor MPS are available - defaulting to CPU. Note: This module is much faster with a GPU.\n"
     ]
    },
    {
     "name": "stdout",
     "output_type": "stream",
     "text": [
      "884912006721_0.jpg.jpg ^^ FUN Post Aaunyg (XSHMAo7 Back On Cerft DEBBL15_ BRAND SWEETENED RIce CeREAL with MARSHMALLOWS NAturAl= & artIfICIAL FRUIT FLAVORS -- EnlARGED TO  SHOW TEXTURE -- PERICUP SERVING  160 0g 220mg 189 caloRIES SAT FAT SODIUM TOTAL SUgars 0% DV 10% DV -- NET WT 11 0Z (311g) -- \n"
     ]
    },
    {
     "name": "stderr",
     "output_type": "stream",
     "text": [
      "Neither CUDA nor MPS are available - defaulting to CPU. Note: This module is much faster with a GPU.\n"
     ]
    },
    {
     "name": "stdout",
     "output_type": "stream",
     "text": [
      "884912117625_5.jpg.jpg ^^ PER 1 CUP SERVING -- 150 0g 85m9 21s caloRIES SAT FAT SOdIUM TOTAL Sugars 0% DV 4% DV -- Post Cantt Get Enough of Thata Oen S1 -- Sweetened Puffed Wheat Cereal -- ENLARGED TO SHOW textuRE -- NET Wh 1475 02 (418g) -- SUGAR BHR -- \n"
     ]
    },
    {
     "name": "stderr",
     "output_type": "stream",
     "text": [
      "Neither CUDA nor MPS are available - defaulting to CPU. Note: This module is much faster with a GPU.\n"
     ]
    },
    {
     "name": "stdout",
     "output_type": "stream",
     "text": [
      "884912126115_0.jpg.jpg ^^ PER 3/4 CUP SERVING Post 200 SaT FAT Og 14Omg caloRies SOdIUM TOTAL 13g 0% DV 67 DV  SUgars gehs CEREAL -- EMLARGED TO SHOW TEXTURE -- RAISINS, DATES & PECANS TM -- RAISINS & DATES -- FLAKES & CLUSTERS -- PECANS -- NON 5g 32g Goeo _ FIBER WHOLE GRAINS HEART HEALTHY VERIFIED CONTAINS 4g toTal Fat DIETS RICH IN WHOLE GRAIN FOODS AND OTHER PLANT FOODS; AND LOW IN SATURATED FAT AND cholesterol; nongmoproject org PER SERVING MaY HELP REDUCE THE RISK OF HEART DISEASE -- NET WT 16 OZ (1 LB) 453g -- \n"
     ]
    },
    {
     "name": "stderr",
     "output_type": "stream",
     "text": [
      "Neither CUDA nor MPS are available - defaulting to CPU. Note: This module is much faster with a GPU.\n"
     ]
    },
    {
     "name": "stdout",
     "output_type": "stream",
     "text": [
      "884912180599_4.jpg.jpg ^^ EXCELLENT SOURCE OF FIBER -- NON GMO VERI Projed] nongmoproject org -- Post -- W HEAT 'N B RA N -- SHREDDED WHEAT SPZON CEREAL simpleGOODNESSS -- ENLARGED TO SHOW TEXTURE -- Serving Suggestion -- PER 1 1/3 CUPS SERVING 210 0g Omg 0g CALORIES SAT FAT SODIUM TOTAL SUgARS 0% DV 0% DV -- NET WT 1802 (1 LB ?2 02) 510g -- \n"
     ]
    },
    {
     "name": "stderr",
     "output_type": "stream",
     "text": [
      "Neither CUDA nor MPS are available - defaulting to CPU. Note: This module is much faster with a GPU.\n"
     ]
    },
    {
     "name": "stdout",
     "output_type": "stream",
     "text": [
      "884912273116_5.jpg.jpg ^^ PER 1 1/3 CUP SERVING 160 Og 210n9 I7g CAloRIeS SAT FAT SOdIUm TOTAL SUGARS 0x Dv 9Xdv -- 7.2mg Iron 40% DV -- Post OREO CEREAL O5 -- Enlarged to Show Detail -- NET WT 11 0Z (311g) -- \n"
     ]
    },
    {
     "name": "stderr",
     "output_type": "stream",
     "text": [
      "Neither CUDA nor MPS are available - defaulting to CPU. Note: This module is much faster with a GPU.\n"
     ]
    },
    {
     "name": "stdout",
     "output_type": "stream",
     "text": [
      "884912346513_1.jpg.jpg ^^ TEAR HERE TQ REMOVE TQP -- See_back for instructions -- EPOEIXRZEAUDuarTN Tear/#C Separate Ziasfo To Perforation Open ZIP TO CLOSE -- ZEOk RESEALADZE RESEALABLE PACKAGING ZZIP-TO CLOSE -- Check Out These Post FUN 3 3 (ShMAuO7 Naturally  8 Marshmallow SHAPESI 8 186N ARtIFIcIALLYF FlaVORED 8 Orange 0 QRaBBits 0 1 8 Watermelon 3 3 0 Pineapple 3 07 5 ng siewings per_ Eqq 0 Amount per serving 760 BlueL Raspberry 1 2 Total Fat 1g % Dailv Value 3_ 3 Saturated Fat Og Trans Fat Og 1% Banana 3 Sodium 240mg Cholestero Omg I3 F Total Carbohydrate 369 1 Torecl Dietary Fiber Og Strawberry I 81 [Suggnaded Sugars 9 36% D 8 YABBA # P DABBA DoOr Iron Vitamin _ Potassium 1Omg 8 Zs Riboflavin Thiamin 08 0% 8 3 3 3 3 Zingnin (145mcg folic acid) 90% 1 'The % Daily Value (DV) tells you how much in a serving of food contributes t0 calories used qeneral nutrition advice dailv diet; 2.000 nutrient Ingredients: Rice; Sugar; Marshmallows syrup, (sugar; dextrose, modified cornstarch, gelatin, sodium corn 01 1 E3356 Red 40, Citric Acid, Blue and Artificial Flavor; Yellow BHT added Yellow Vitamins and Minerals: Niacinamide to preserve freshness: 3 0 Redrochiorde Zinarn 86) (Vitamin   B3) ,   Vitamin Pxibonxivie Palmitate (Vitamin (Vitamin B1), B2 Vitamin D3 Thiamin Mononitrate 8 Vitamin B12. Folic Acid POST CONSUMER BRANDS, LLC @POST CONSUMER BRANDS, LLC LAKEVILLE, MN 55044,USA GLUTEN FREE postconsumerbrands.com visit us at: 1-800-431-POST (7678) call weekdays: 8 1 9 please have habla espanol package available 0 50Years WB SHIELD: THE FLINTSTONES and all related characters  (s221 and elements Tm WBEI: Hanna-Barbera; ung ZIP-PAKO and ZIP-PAK Symbol@ are registered Post registered trademark of Post Foods, LLC 6f1 trademarks of ITW: BEST IF USED BY: 4 2 2 8 8 849 213465 3 THIS PACKAGE IS SOLD BY WEIGHT,NOT BY VOLUME_ EEREAL MAY SE} FLE BURING SHPMENF -- \n"
     ]
    },
    {
     "name": "stderr",
     "output_type": "stream",
     "text": [
      "Neither CUDA nor MPS are available - defaulting to CPU. Note: This module is much faster with a GPU.\n"
     ]
    },
    {
     "name": "stdout",
     "output_type": "stream",
     "text": [
      "884912356185_2.jpg.jpg ^^ MEGA SIZE 27.5 02 -- Post JOCOA TM PeBBls BRAND 8 ArtIfICIALLY NaturaLlY  RICE CEREAL SWEETENED / FLAVORED  with REAL COCOA chocoLATE [ -- ENLARGED T0 SHOW TEXTURE -- PER 1 CUP SERVING 140 SaQar Z20 12, CALORIES TOTAL SUGARS 0% DV 9% DV -- NET WT 275 02 (@B 11.5 02) 779g -- \n",
      "884912356192_5.jpg.jpg ^^ MEGA SIZE 27.5 02 -- Post Errft REBBLES_ BRAND RIce ARTIFICIAL CEREAL SWEETENED NATURAL , AND FRUIT FlavoR -- ENLARGED T0 SHOW TEXTURE -- PER 7 CUP SERVING 140 SAQar F9M5 129 CALORIES TOTAL SUGARS 0X DV 8% DV -- NET WIT 275 0Z (@B 11.5 .02) 719g -- \n"
     ]
    }
   ],
   "source": [
    "for image in os.listdir(image_path_gray) :    \n",
    "    if image.endswith('jpg'):\n",
    "        reader = easyocr.Reader(['en'])\n",
    "        result = reader.readtext(image_path_gray+image,paragraph=\"False\")\n",
    "        res_str = \"\"\n",
    "        for i,res in enumerate(result):\n",
    "            res_str += str(result[i][1]) + \" -- \"\n",
    "        print(image + \" ^^ \" + res_str)"
   ]
  },
  {
   "cell_type": "markdown",
   "metadata": {},
   "source": [
    "### UPC to Image download - code"
   ]
  },
  {
   "cell_type": "code",
   "execution_count": 3,
   "metadata": {},
   "outputs": [],
   "source": [
    "import pandas as pd\n",
    "from google.cloud import bigquery\n",
    "import urllib.request\n",
    "os.environ[\"GCLOUD_PROJECT\"] = \"edw-prd-e567f9\"\n",
    "client = bigquery.Client()"
   ]
  },
  {
   "cell_type": "code",
   "execution_count": 4,
   "metadata": {},
   "outputs": [],
   "source": [
    "gmi_list = [1600016968,1600017003,1600012506,1600027526,1600012399,1600048772,1600012495,1600048794,1600016383,1600016875,1600012499,1600043779,1600048796,1600048665,1600016939,1600027532,1600017102,1600015643,1600027549,1600012183,1600049667,1600012541,1600043509,1600015781,1600016391,1600043819,1600017104,1600015163,1600016361,1600016392,1600027563,1600017108,1600016346,1600016344,1600016915,1600016963,1600036245,1600016849,1600016936,1600018517,1600016932,1600014154]\n",
    "kellogs_ls = [3800018177,3800019904,3800019934,3800019989,3800031834,3800019987,3800019975,3800000120,3800019973,3800020003,3800024873,3800019992,3800001621,3800019906,3800092422,3800014636,3800019891,3800019994,3800000110,3800026250,3800019871,3800019878,1862770317,3800014815,3800063570,3800026975,3800019955,3800019859,3800026985,3800077900,3800027102,1862710139,3800026996,3800019843,3800026983,3800021414,3800039103,3800024850,3800020066,3800024989,3800019841,3800027082,3800019946]\n",
    "pepsi_ls = [3000057322,3000057328,3000057321,3000057242,3000006083,3000006441,3000057243,3000057185,3000057325,3000057327,3000057184,3000057323,3000057329,3000057331,3000031379,3000057324,3000006403,3000043769]\n",
    "pl_ls = [200041808468,200029065922]\n",
    "post_ls = [88491212971,88491237927,88491212951,88491237928,88491235619,88491200471,88491229799,88491212611,4240038887,88491212974,88491235618,88491238587,88491229801,88491212601,4240038888,88491200672,88491218059,4240031864,88491200237,4240014862,4240024051,88491211762,88491200472,88491212965,4240091078,88491227311,88491211650,88491218005,4240018897,4240014864,4240038917,4240031865,88491234651,88491218062,88491200620,88491211470,4240092478,4240038991,4240092501]\n",
    "rm_mfr = [86047900152,60265217182,5844916207,60265217184,60265217199]\n",
    "final_df = pd.DataFrame()"
   ]
  },
  {
   "cell_type": "code",
   "execution_count": 5,
   "metadata": {},
   "outputs": [
    {
     "ename": "Forbidden",
     "evalue": "403 POST https://bigquery.googleapis.com/bigquery/v2/projects/edw-prd-e567f9/jobs?prettyPrint=false: Caller does not have required permission to use project edw-prd-e567f9. Grant the caller the roles/serviceusage.serviceUsageConsumer role, or a custom role with the serviceusage.services.use permission, by visiting https://console.developers.google.com/iam-admin/iam/project?project=edw-prd-e567f9 and then retry. Propagation of the new permission may take a few minutes.\n\nLocation: None\nJob ID: c8e4f8ad-85e7-4a31-8451-cd15b2116c27\n [{'@type': 'type.googleapis.com/google.rpc.Help', 'links': [{'description': 'Google developer console IAM admin', 'url': 'https://console.developers.google.com/iam-admin/iam/project?project=edw-prd-e567f9'}]}, {'@type': 'type.googleapis.com/google.rpc.ErrorInfo', 'reason': 'USER_PROJECT_DENIED', 'domain': 'googleapis.com', 'metadata': {'consumer': 'projects/edw-prd-e567f9', 'service': 'bigquery.googleapis.com'}}]",
     "output_type": "error",
     "traceback": [
      "\u001b[1;31m---------------------------------------------------------------------------\u001b[0m",
      "\u001b[1;31mForbidden\u001b[0m                                 Traceback (most recent call last)",
      "\u001b[1;32m~\\AppData\\Local\\Temp\\ipykernel_4736\\603179317.py\u001b[0m in \u001b[0;36m<module>\u001b[1;34m\u001b[0m\n\u001b[0;32m      6\u001b[0m \u001b[1;33m\u001b[0m\u001b[0m\n\u001b[0;32m      7\u001b[0m     \u001b[0mjob_config\u001b[0m \u001b[1;33m=\u001b[0m \u001b[0mbigquery\u001b[0m\u001b[1;33m.\u001b[0m\u001b[0mQueryJobConfig\u001b[0m\u001b[1;33m(\u001b[0m\u001b[0mquery_parameters\u001b[0m\u001b[1;33m=\u001b[0m\u001b[1;33m[\u001b[0m\u001b[0mbigquery\u001b[0m\u001b[1;33m.\u001b[0m\u001b[0mScalarQueryParameter\u001b[0m\u001b[1;33m(\u001b[0m\u001b[1;32mNone\u001b[0m\u001b[1;33m,\u001b[0m \u001b[1;34m\"STRING\"\u001b[0m\u001b[1;33m,\u001b[0m \u001b[0mupc\u001b[0m\u001b[1;33m)\u001b[0m\u001b[1;33m]\u001b[0m\u001b[1;33m)\u001b[0m\u001b[1;33m\u001b[0m\u001b[1;33m\u001b[0m\u001b[0m\n\u001b[1;32m----> 8\u001b[1;33m     \u001b[0mdf\u001b[0m \u001b[1;33m=\u001b[0m \u001b[0mclient\u001b[0m\u001b[1;33m.\u001b[0m\u001b[0mquery\u001b[0m\u001b[1;33m(\u001b[0m\u001b[0mQUERY\u001b[0m\u001b[1;33m,\u001b[0m \u001b[0mjob_config\u001b[0m \u001b[1;33m=\u001b[0m \u001b[0mjob_config\u001b[0m\u001b[1;33m)\u001b[0m\u001b[1;33m.\u001b[0m\u001b[0mto_dataframe\u001b[0m\u001b[1;33m(\u001b[0m\u001b[1;33m)\u001b[0m\u001b[1;33m\u001b[0m\u001b[1;33m\u001b[0m\u001b[0m\n\u001b[0m\u001b[0;32m      9\u001b[0m \u001b[1;33m\u001b[0m\u001b[0m\n\u001b[0;32m     10\u001b[0m     \u001b[0mfinal_df\u001b[0m \u001b[1;33m=\u001b[0m \u001b[0mfinal_df\u001b[0m\u001b[1;33m.\u001b[0m\u001b[0mappend\u001b[0m\u001b[1;33m(\u001b[0m\u001b[0mdf\u001b[0m\u001b[1;33m)\u001b[0m\u001b[1;33m\u001b[0m\u001b[1;33m\u001b[0m\u001b[0m\n",
      "\u001b[1;32m~\\AppData\\Local\\Programs\\Python\\Python37\\lib\\site-packages\\google\\cloud\\bigquery\\client.py\u001b[0m in \u001b[0;36mquery\u001b[1;34m(self, query, job_config, job_id, job_id_prefix, location, project, retry, timeout, job_retry, api_method)\u001b[0m\n\u001b[0;32m   3416\u001b[0m                 \u001b[0mretry\u001b[0m\u001b[1;33m,\u001b[0m\u001b[1;33m\u001b[0m\u001b[1;33m\u001b[0m\u001b[0m\n\u001b[0;32m   3417\u001b[0m                 \u001b[0mtimeout\u001b[0m\u001b[1;33m,\u001b[0m\u001b[1;33m\u001b[0m\u001b[1;33m\u001b[0m\u001b[0m\n\u001b[1;32m-> 3418\u001b[1;33m                 \u001b[0mjob_retry\u001b[0m\u001b[1;33m,\u001b[0m\u001b[1;33m\u001b[0m\u001b[1;33m\u001b[0m\u001b[0m\n\u001b[0m\u001b[0;32m   3419\u001b[0m             )\n\u001b[0;32m   3420\u001b[0m         \u001b[1;32melse\u001b[0m\u001b[1;33m:\u001b[0m\u001b[1;33m\u001b[0m\u001b[1;33m\u001b[0m\u001b[0m\n",
      "\u001b[1;32m~\\AppData\\Local\\Programs\\Python\\Python37\\lib\\site-packages\\google\\cloud\\bigquery\\_job_helpers.py\u001b[0m in \u001b[0;36mquery_jobs_insert\u001b[1;34m(client, query, job_config, job_id, job_id_prefix, location, project, retry, timeout, job_retry)\u001b[0m\n\u001b[0;32m    112\u001b[0m             \u001b[1;32mreturn\u001b[0m \u001b[0mquery_job\u001b[0m\u001b[1;33m\u001b[0m\u001b[1;33m\u001b[0m\u001b[0m\n\u001b[0;32m    113\u001b[0m \u001b[1;33m\u001b[0m\u001b[0m\n\u001b[1;32m--> 114\u001b[1;33m     \u001b[0mfuture\u001b[0m \u001b[1;33m=\u001b[0m \u001b[0mdo_query\u001b[0m\u001b[1;33m(\u001b[0m\u001b[1;33m)\u001b[0m\u001b[1;33m\u001b[0m\u001b[1;33m\u001b[0m\u001b[0m\n\u001b[0m\u001b[0;32m    115\u001b[0m     \u001b[1;31m# The future might be in a failed state now, but if it's\u001b[0m\u001b[1;33m\u001b[0m\u001b[1;33m\u001b[0m\u001b[1;33m\u001b[0m\u001b[0m\n\u001b[0;32m    116\u001b[0m     \u001b[1;31m# unrecoverable, we'll find out when we ask for it's result, at which\u001b[0m\u001b[1;33m\u001b[0m\u001b[1;33m\u001b[0m\u001b[1;33m\u001b[0m\u001b[0m\n",
      "\u001b[1;32m~\\AppData\\Local\\Programs\\Python\\Python37\\lib\\site-packages\\google\\cloud\\bigquery\\_job_helpers.py\u001b[0m in \u001b[0;36mdo_query\u001b[1;34m()\u001b[0m\n\u001b[0;32m     89\u001b[0m \u001b[1;33m\u001b[0m\u001b[0m\n\u001b[0;32m     90\u001b[0m         \u001b[1;32mtry\u001b[0m\u001b[1;33m:\u001b[0m\u001b[1;33m\u001b[0m\u001b[1;33m\u001b[0m\u001b[0m\n\u001b[1;32m---> 91\u001b[1;33m             \u001b[0mquery_job\u001b[0m\u001b[1;33m.\u001b[0m\u001b[0m_begin\u001b[0m\u001b[1;33m(\u001b[0m\u001b[0mretry\u001b[0m\u001b[1;33m=\u001b[0m\u001b[0mretry\u001b[0m\u001b[1;33m,\u001b[0m \u001b[0mtimeout\u001b[0m\u001b[1;33m=\u001b[0m\u001b[0mtimeout\u001b[0m\u001b[1;33m)\u001b[0m\u001b[1;33m\u001b[0m\u001b[1;33m\u001b[0m\u001b[0m\n\u001b[0m\u001b[0;32m     92\u001b[0m         \u001b[1;32mexcept\u001b[0m \u001b[0mcore_exceptions\u001b[0m\u001b[1;33m.\u001b[0m\u001b[0mConflict\u001b[0m \u001b[1;32mas\u001b[0m \u001b[0mcreate_exc\u001b[0m\u001b[1;33m:\u001b[0m\u001b[1;33m\u001b[0m\u001b[1;33m\u001b[0m\u001b[0m\n\u001b[0;32m     93\u001b[0m             \u001b[1;31m# The thought is if someone is providing their own job IDs and they get\u001b[0m\u001b[1;33m\u001b[0m\u001b[1;33m\u001b[0m\u001b[1;33m\u001b[0m\u001b[0m\n",
      "\u001b[1;32m~\\AppData\\Local\\Programs\\Python\\Python37\\lib\\site-packages\\google\\cloud\\bigquery\\job\\query.py\u001b[0m in \u001b[0;36m_begin\u001b[1;34m(self, client, retry, timeout)\u001b[0m\n\u001b[0;32m   1308\u001b[0m \u001b[1;33m\u001b[0m\u001b[0m\n\u001b[0;32m   1309\u001b[0m         \u001b[1;32mtry\u001b[0m\u001b[1;33m:\u001b[0m\u001b[1;33m\u001b[0m\u001b[1;33m\u001b[0m\u001b[0m\n\u001b[1;32m-> 1310\u001b[1;33m             \u001b[0msuper\u001b[0m\u001b[1;33m(\u001b[0m\u001b[0mQueryJob\u001b[0m\u001b[1;33m,\u001b[0m \u001b[0mself\u001b[0m\u001b[1;33m)\u001b[0m\u001b[1;33m.\u001b[0m\u001b[0m_begin\u001b[0m\u001b[1;33m(\u001b[0m\u001b[0mclient\u001b[0m\u001b[1;33m=\u001b[0m\u001b[0mclient\u001b[0m\u001b[1;33m,\u001b[0m \u001b[0mretry\u001b[0m\u001b[1;33m=\u001b[0m\u001b[0mretry\u001b[0m\u001b[1;33m,\u001b[0m \u001b[0mtimeout\u001b[0m\u001b[1;33m=\u001b[0m\u001b[0mtimeout\u001b[0m\u001b[1;33m)\u001b[0m\u001b[1;33m\u001b[0m\u001b[1;33m\u001b[0m\u001b[0m\n\u001b[0m\u001b[0;32m   1311\u001b[0m         \u001b[1;32mexcept\u001b[0m \u001b[0mexceptions\u001b[0m\u001b[1;33m.\u001b[0m\u001b[0mGoogleAPICallError\u001b[0m \u001b[1;32mas\u001b[0m \u001b[0mexc\u001b[0m\u001b[1;33m:\u001b[0m\u001b[1;33m\u001b[0m\u001b[1;33m\u001b[0m\u001b[0m\n\u001b[0;32m   1312\u001b[0m             exc.message = _EXCEPTION_FOOTER_TEMPLATE.format(\n",
      "\u001b[1;32m~\\AppData\\Local\\Programs\\Python\\Python37\\lib\\site-packages\\google\\cloud\\bigquery\\job\\base.py\u001b[0m in \u001b[0;36m_begin\u001b[1;34m(self, client, retry, timeout)\u001b[0m\n\u001b[0;32m    699\u001b[0m             \u001b[0mpath\u001b[0m\u001b[1;33m=\u001b[0m\u001b[0mpath\u001b[0m\u001b[1;33m,\u001b[0m\u001b[1;33m\u001b[0m\u001b[1;33m\u001b[0m\u001b[0m\n\u001b[0;32m    700\u001b[0m             \u001b[0mdata\u001b[0m\u001b[1;33m=\u001b[0m\u001b[0mself\u001b[0m\u001b[1;33m.\u001b[0m\u001b[0mto_api_repr\u001b[0m\u001b[1;33m(\u001b[0m\u001b[1;33m)\u001b[0m\u001b[1;33m,\u001b[0m\u001b[1;33m\u001b[0m\u001b[1;33m\u001b[0m\u001b[0m\n\u001b[1;32m--> 701\u001b[1;33m             \u001b[0mtimeout\u001b[0m\u001b[1;33m=\u001b[0m\u001b[0mtimeout\u001b[0m\u001b[1;33m,\u001b[0m\u001b[1;33m\u001b[0m\u001b[1;33m\u001b[0m\u001b[0m\n\u001b[0m\u001b[0;32m    702\u001b[0m         )\n\u001b[0;32m    703\u001b[0m         \u001b[0mself\u001b[0m\u001b[1;33m.\u001b[0m\u001b[0m_set_properties\u001b[0m\u001b[1;33m(\u001b[0m\u001b[0mapi_response\u001b[0m\u001b[1;33m)\u001b[0m\u001b[1;33m\u001b[0m\u001b[1;33m\u001b[0m\u001b[0m\n",
      "\u001b[1;32m~\\AppData\\Local\\Programs\\Python\\Python37\\lib\\site-packages\\google\\cloud\\bigquery\\client.py\u001b[0m in \u001b[0;36m_call_api\u001b[1;34m(self, retry, span_name, span_attributes, job_ref, headers, **kwargs)\u001b[0m\n\u001b[0;32m    814\u001b[0m                 \u001b[0mname\u001b[0m\u001b[1;33m=\u001b[0m\u001b[0mspan_name\u001b[0m\u001b[1;33m,\u001b[0m \u001b[0mattributes\u001b[0m\u001b[1;33m=\u001b[0m\u001b[0mspan_attributes\u001b[0m\u001b[1;33m,\u001b[0m \u001b[0mclient\u001b[0m\u001b[1;33m=\u001b[0m\u001b[0mself\u001b[0m\u001b[1;33m,\u001b[0m \u001b[0mjob_ref\u001b[0m\u001b[1;33m=\u001b[0m\u001b[0mjob_ref\u001b[0m\u001b[1;33m\u001b[0m\u001b[1;33m\u001b[0m\u001b[0m\n\u001b[0;32m    815\u001b[0m             ):\n\u001b[1;32m--> 816\u001b[1;33m                 \u001b[1;32mreturn\u001b[0m \u001b[0mcall\u001b[0m\u001b[1;33m(\u001b[0m\u001b[1;33m)\u001b[0m\u001b[1;33m\u001b[0m\u001b[1;33m\u001b[0m\u001b[0m\n\u001b[0m\u001b[0;32m    817\u001b[0m \u001b[1;33m\u001b[0m\u001b[0m\n\u001b[0;32m    818\u001b[0m         \u001b[1;32mreturn\u001b[0m \u001b[0mcall\u001b[0m\u001b[1;33m(\u001b[0m\u001b[1;33m)\u001b[0m\u001b[1;33m\u001b[0m\u001b[1;33m\u001b[0m\u001b[0m\n",
      "\u001b[1;32m~\\AppData\\Local\\Programs\\Python\\Python37\\lib\\site-packages\\google\\api_core\\retry.py\u001b[0m in \u001b[0;36mretry_wrapped_func\u001b[1;34m(*args, **kwargs)\u001b[0m\n\u001b[0;32m    352\u001b[0m                 \u001b[0msleep_generator\u001b[0m\u001b[1;33m,\u001b[0m\u001b[1;33m\u001b[0m\u001b[1;33m\u001b[0m\u001b[0m\n\u001b[0;32m    353\u001b[0m                 \u001b[0mself\u001b[0m\u001b[1;33m.\u001b[0m\u001b[0m_timeout\u001b[0m\u001b[1;33m,\u001b[0m\u001b[1;33m\u001b[0m\u001b[1;33m\u001b[0m\u001b[0m\n\u001b[1;32m--> 354\u001b[1;33m                 \u001b[0mon_error\u001b[0m\u001b[1;33m=\u001b[0m\u001b[0mon_error\u001b[0m\u001b[1;33m,\u001b[0m\u001b[1;33m\u001b[0m\u001b[1;33m\u001b[0m\u001b[0m\n\u001b[0m\u001b[0;32m    355\u001b[0m             )\n\u001b[0;32m    356\u001b[0m \u001b[1;33m\u001b[0m\u001b[0m\n",
      "\u001b[1;32m~\\AppData\\Local\\Programs\\Python\\Python37\\lib\\site-packages\\google\\api_core\\retry.py\u001b[0m in \u001b[0;36mretry_target\u001b[1;34m(target, predicate, sleep_generator, timeout, on_error, **kwargs)\u001b[0m\n\u001b[0;32m    189\u001b[0m     \u001b[1;32mfor\u001b[0m \u001b[0msleep\u001b[0m \u001b[1;32min\u001b[0m \u001b[0msleep_generator\u001b[0m\u001b[1;33m:\u001b[0m\u001b[1;33m\u001b[0m\u001b[1;33m\u001b[0m\u001b[0m\n\u001b[0;32m    190\u001b[0m         \u001b[1;32mtry\u001b[0m\u001b[1;33m:\u001b[0m\u001b[1;33m\u001b[0m\u001b[1;33m\u001b[0m\u001b[0m\n\u001b[1;32m--> 191\u001b[1;33m             \u001b[1;32mreturn\u001b[0m \u001b[0mtarget\u001b[0m\u001b[1;33m(\u001b[0m\u001b[1;33m)\u001b[0m\u001b[1;33m\u001b[0m\u001b[1;33m\u001b[0m\u001b[0m\n\u001b[0m\u001b[0;32m    192\u001b[0m \u001b[1;33m\u001b[0m\u001b[0m\n\u001b[0;32m    193\u001b[0m         \u001b[1;31m# pylint: disable=broad-except\u001b[0m\u001b[1;33m\u001b[0m\u001b[1;33m\u001b[0m\u001b[1;33m\u001b[0m\u001b[0m\n",
      "\u001b[1;32m~\\AppData\\Local\\Programs\\Python\\Python37\\lib\\site-packages\\google\\cloud\\_http\\__init__.py\u001b[0m in \u001b[0;36mapi_request\u001b[1;34m(self, method, path, query_params, data, content_type, headers, api_base_url, api_version, expect_json, _target_object, timeout, extra_api_info)\u001b[0m\n\u001b[0;32m    492\u001b[0m \u001b[1;33m\u001b[0m\u001b[0m\n\u001b[0;32m    493\u001b[0m         \u001b[1;32mif\u001b[0m \u001b[1;32mnot\u001b[0m \u001b[1;36m200\u001b[0m \u001b[1;33m<=\u001b[0m \u001b[0mresponse\u001b[0m\u001b[1;33m.\u001b[0m\u001b[0mstatus_code\u001b[0m \u001b[1;33m<\u001b[0m \u001b[1;36m300\u001b[0m\u001b[1;33m:\u001b[0m\u001b[1;33m\u001b[0m\u001b[1;33m\u001b[0m\u001b[0m\n\u001b[1;32m--> 494\u001b[1;33m             \u001b[1;32mraise\u001b[0m \u001b[0mexceptions\u001b[0m\u001b[1;33m.\u001b[0m\u001b[0mfrom_http_response\u001b[0m\u001b[1;33m(\u001b[0m\u001b[0mresponse\u001b[0m\u001b[1;33m)\u001b[0m\u001b[1;33m\u001b[0m\u001b[1;33m\u001b[0m\u001b[0m\n\u001b[0m\u001b[0;32m    495\u001b[0m \u001b[1;33m\u001b[0m\u001b[0m\n\u001b[0;32m    496\u001b[0m         \u001b[1;32mif\u001b[0m \u001b[0mexpect_json\u001b[0m \u001b[1;32mand\u001b[0m \u001b[0mresponse\u001b[0m\u001b[1;33m.\u001b[0m\u001b[0mcontent\u001b[0m\u001b[1;33m:\u001b[0m\u001b[1;33m\u001b[0m\u001b[1;33m\u001b[0m\u001b[0m\n",
      "\u001b[1;31mForbidden\u001b[0m: 403 POST https://bigquery.googleapis.com/bigquery/v2/projects/edw-prd-e567f9/jobs?prettyPrint=false: Caller does not have required permission to use project edw-prd-e567f9. Grant the caller the roles/serviceusage.serviceUsageConsumer role, or a custom role with the serviceusage.services.use permission, by visiting https://console.developers.google.com/iam-admin/iam/project?project=edw-prd-e567f9 and then retry. Propagation of the new permission may take a few minutes.\n\nLocation: None\nJob ID: c8e4f8ad-85e7-4a31-8451-cd15b2116c27\n [{'@type': 'type.googleapis.com/google.rpc.Help', 'links': [{'description': 'Google developer console IAM admin', 'url': 'https://console.developers.google.com/iam-admin/iam/project?project=edw-prd-e567f9'}]}, {'@type': 'type.googleapis.com/google.rpc.ErrorInfo', 'reason': 'USER_PROJECT_DENIED', 'domain': 'googleapis.com', 'metadata': {'consumer': 'projects/edw-prd-e567f9', 'service': 'bigquery.googleapis.com'}}]"
     ]
    }
   ],
   "source": [
    "for product in rm_mfr:\n",
    "    upc = \"%\" + str(product) +\"%\"   \n",
    "    QUERY = ('Select base.product_title, img.upc, img.image_url from  `edw-prd-e567f9.itq.label_insights_human_products_images_fact` img '\\\n",
    "         'left join `edw-prd-e567f9.itq.dim_label_insights_human_products_base` base on  img.gtin14 = base.gtin14 '\\\n",
    "         'where img.upc like ?')\n",
    "\n",
    "    job_config = bigquery.QueryJobConfig(query_parameters=[bigquery.ScalarQueryParameter(None, \"STRING\", upc)])\n",
    "    df = client.query(QUERY, job_config = job_config).to_dataframe()\n",
    "    \n",
    "    final_df = final_df.append(df) "
   ]
  },
  {
   "cell_type": "code",
   "execution_count": 49,
   "metadata": {},
   "outputs": [],
   "source": [
    "final_df.to_clipboard(index=False)"
   ]
  },
  {
   "cell_type": "code",
   "execution_count": 50,
   "metadata": {},
   "outputs": [],
   "source": [
    "for i,rows in final_df.iterrows():\n",
    "    urllib.request.urlretrieve(rows['image_url'], str(rows['upc']) + \"_\"+str(i) + \".\" + rows['image_url'].split('.')[-1])   "
   ]
  }
 ],
 "metadata": {
  "kernelspec": {
   "display_name": "Python 3 (ipykernel)",
   "language": "python",
   "name": "python3"
  },
  "language_info": {
   "codemirror_mode": {
    "name": "ipython",
    "version": 3
   },
   "file_extension": ".py",
   "mimetype": "text/x-python",
   "name": "python",
   "nbconvert_exporter": "python",
   "pygments_lexer": "ipython3",
   "version": "3.7.5"
  }
 },
 "nbformat": 4,
 "nbformat_minor": 2
}
