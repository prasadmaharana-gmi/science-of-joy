{
 "cells": [
  {
   "cell_type": "markdown",
   "metadata": {},
   "source": [
    "### Image analysis"
   ]
  },
  {
   "cell_type": "code",
   "execution_count": 11,
   "metadata": {},
   "outputs": [],
   "source": [
    "#get colors from an image\n",
    "from PIL import Image\n",
    "import urllib\n",
    "import pandas as pd\n",
    "import matplotlib.pyplot as plt\n",
    "import numpy as np\n",
    "from colorthief import ColorThief\n",
    "import os\n",
    "import webcolors"
   ]
  },
  {
   "cell_type": "code",
   "execution_count": 18,
   "metadata": {},
   "outputs": [],
   "source": [
    "import os\n",
    "import pandas as pd\n",
    "image_path = \"C:\\\\Users\\\\g654674\\\\OneDrive - General Mills\\\\Work_OneDrive\\\\PGI\\\\Joy\\\\Product Images\\\\selections\\\\\""
   ]
  },
  {
   "cell_type": "code",
   "execution_count": 13,
   "metadata": {},
   "outputs": [],
   "source": [
    "def closest_colour(requested_colour):\n",
    "    min_colours = {}\n",
    "    for key, name in webcolors.CSS3_HEX_TO_NAMES.items():        \n",
    "        r_c, g_c, b_c = webcolors.hex_to_rgb(key)\n",
    "        rd = (r_c - requested_colour[0]) ** 2\n",
    "        gd = (g_c - requested_colour[1]) ** 2\n",
    "        bd = (b_c - requested_colour[2]) ** 2\n",
    "        min_colours[(rd + gd + bd)] = name\n",
    "    return min_colours[min(min_colours.keys())]\n",
    "\n",
    "def get_colour_name(requested_colour):\n",
    "    try:\n",
    "        closest_name = actual_name = webcolors.rgb_to_name(requested_colour)\n",
    "    except ValueError:\n",
    "        closest_name = closest_colour(requested_colour)\n",
    "        actual_name = None\n",
    "    return actual_name, closest_name"
   ]
  },
  {
   "cell_type": "code",
   "execution_count": 14,
   "metadata": {},
   "outputs": [
    {
     "name": "stdout",
     "output_type": "stream",
     "text": [
      "Image name:  0016000123991_0.jpg Actual colour name: None , closest colour name: crimson\n",
      "Image name:  0016000163461_2.jpg Actual colour name: None , closest colour name: yellowgreen\n",
      "Image name:  0016000168756_0.jpg Actual colour name: None , closest colour name: darkslateblue\n",
      "Image name:  0016000169364_5.jpg Actual colour name: None , closest colour name: blanchedalmond\n",
      "Image name:  0016000169395_3.jpg Actual colour name: None , closest colour name: saddlebrown\n",
      "Image name:  0016000169630_2.jpg Actual colour name: None , closest colour name: cornflowerblue\n",
      "Image name:  0016000169685_7.jpg Actual colour name: None , closest colour name: brown\n",
      "Image name:  0016000170032_0.jpg Actual colour name: None , closest colour name: gold\n",
      "Image name:  0016000171022_1.jpg Actual colour name: None , closest colour name: skyblue\n",
      "Image name:  0016000171046_5.jpg Actual colour name: None , closest colour name: goldenrod\n",
      "Image name:  0016000171084_8.jpg Actual colour name: None , closest colour name: olivedrab\n",
      "Image name:  0016000185173_0.jpg Actual colour name: None , closest colour name: pink\n",
      "Image name:  0016000185173_9.jpg Actual colour name: None , closest colour name: pink\n",
      "Image name:  0016000275324_2.jpg Actual colour name: None , closest colour name: darkslategray\n",
      "Image name:  0016000275492_10.jpg Actual colour name: None , closest colour name: sandybrown\n",
      "Image name:  0016000275638_0.jpg Actual colour name: None , closest colour name: lavender\n",
      "Image name:  0016000437791_7.jpg Actual colour name: None , closest colour name: darkkhaki\n",
      "Image name:  0030000064030_0.jpg Actual colour name: None , closest colour name: antiquewhite\n",
      "Image name:  0030000572436_2.jpg Actual colour name: None , closest colour name: wheat\n",
      "Image name:  0038000198786_3.jpg Actual colour name: None , closest colour name: darkcyan\n",
      "Image name:  0038000199042_1.jpg Actual colour name: None , closest colour name: teal\n",
      "Image name:  0038000199752_0.jpg Actual colour name: None , closest colour name: teal\n",
      "Image name:  0038000199943_12.jpg Actual colour name: None , closest colour name: silver\n",
      "Image name:  0038000262500_9.jpg Actual colour name: None , closest colour name: goldenrod\n",
      "Image name:  0042400388876_1.jpg Actual colour name: None , closest colour name: crimson\n",
      "Image name:  0042400388883_5.jpg Actual colour name: None , closest colour name: sienna\n",
      "Image name:  0042400389170_5.jpg Actual colour name: None , closest colour name: saddlebrown\n",
      "Image name:  018627101390_0.jpg Actual colour name: None , closest colour name: chocolate\n",
      "Image name:  018627703174_5.jpg Actual colour name: None , closest colour name: lightgray\n",
      "Image name:  030000060834_0.jpg Actual colour name: None , closest colour name: darkslategray\n",
      "Image name:  030000064412_1.jpg Actual colour name: None , closest colour name: bisque\n",
      "Image name:  030000437698_0.jpg Actual colour name: None , closest colour name: goldenrod\n",
      "Image name:  030000573297_0.jpg Actual colour name: None , closest colour name: dodgerblue\n",
      "Image name:  038000001208_0.jpg Actual colour name: None , closest colour name: darkslategray\n",
      "Image name:  038000016219_0.jpg Actual colour name: None , closest colour name: steelblue\n",
      "Image name:  038000198595_0.jpg Actual colour name: None , closest colour name: sienna\n",
      "Image name:  038000198915_0.jpg Actual colour name: None , closest colour name: mediumvioletred\n",
      "Image name:  038000199066_0.jpg Actual colour name: None , closest colour name: darkcyan\n",
      "Image name:  038000199349_0.jpg Actual colour name: None , closest colour name: goldenrod\n",
      "Image name:  038000199462_0.jpg Actual colour name: None , closest colour name: crimson\n",
      "Image name:  038000199929_0.jpg Actual colour name: None , closest colour name: darkcyan\n",
      "Image name:  038000270826_0.jpg Actual colour name: None , closest colour name: mediumvioletred\n",
      "Image name:  042400148623_1.jpg Actual colour name: None , closest colour name: gold\n",
      "Image name:  042400148647_0.jpg Actual colour name: None , closest colour name: firebrick\n",
      "Image name:  042400240518_4.jpg Actual colour name: None , closest colour name: midnightblue\n",
      "Image name:  042400318651_0.jpg Actual colour name: None , closest colour name: saddlebrown\n",
      "Image name:  042400910787_0.jpg Actual colour name: None , closest colour name: darksalmon\n",
      "Image name:  058449162070_0.jpg Actual colour name: None , closest colour name: sienna\n",
      "Image name:  0602652171840_3.jpg Actual colour name: None , closest colour name: darkolivegreen\n",
      "Image name:  0884912116505_0.jpg Actual colour name: None , closest colour name: gainsboro\n",
      "Image name:  0884912180629_4.jpg Actual colour name: None , closest colour name: crimson\n",
      "Image name:  602652171826_0.jpg Actual colour name: None , closest colour name: black\n",
      "Image name:  8167oSJ5FLL._AC_SX679_.jpg Actual colour name: None , closest colour name: darkslateblue\n",
      "Image name:  860479001522_0.jpg Actual colour name: None , closest colour name: sandybrown\n",
      "Image name:  884912004727_3.jpg Actual colour name: None , closest colour name: midnightblue\n",
      "Image name:  884912006202_0.jpg Actual colour name: None , closest colour name: firebrick\n",
      "Image name:  884912006721_0.jpg Actual colour name: None , closest colour name: darkturquoise\n",
      "Image name:  884912117625_5.jpg Actual colour name: None , closest colour name: goldenrod\n",
      "Image name:  884912126115_0.jpg Actual colour name: None , closest colour name: darkmagenta\n",
      "Image name:  884912180599_4.jpg Actual colour name: None , closest colour name: sienna\n",
      "Image name:  884912273116_5.jpg Actual colour name: None , closest colour name: silver\n",
      "Image name:  884912346513_1.jpg Actual colour name: None , closest colour name: deepskyblue\n",
      "Image name:  884912356185_2.jpg Actual colour name: None , closest colour name: sandybrown\n",
      "Image name:  884912356192_5.jpg Actual colour name: None , closest colour name: teal\n"
     ]
    }
   ],
   "source": [
    "for image in os.listdir(image_path) :\n",
    "    if image.endswith('jpg'):\n",
    "          color_thief = ColorThief(image_path+image)          \n",
    "          # get the dominant color\n",
    "          dominant_color = color_thief.get_color(quality=1)                    \n",
    "          actual_name, closest_name = get_colour_name(dominant_color)          \n",
    "          print(\"Image name: \", image, \"Actual colour name:\", actual_name, \", closest colour name:\", closest_name)"
   ]
  },
  {
   "cell_type": "code",
   "execution_count": null,
   "metadata": {},
   "outputs": [],
   "source": []
  },
  {
   "cell_type": "markdown",
   "metadata": {},
   "source": [
    "### OCR"
   ]
  },
  {
   "cell_type": "code",
   "execution_count": 1,
   "metadata": {},
   "outputs": [],
   "source": [
    "#uses a diff venv - won't work in the same env\n",
    "import os\n",
    "import easyocr\n",
    "from matplotlib import pyplot as plt\n",
    "import numpy as np"
   ]
  },
  {
   "cell_type": "code",
   "execution_count": 2,
   "metadata": {},
   "outputs": [],
   "source": [
    "image_path = \"C:\\\\Users\\\\g654674\\\\OneDrive - General Mills\\\\Work_OneDrive\\\\PGI\\\\Joy\\\\Product Images\\\\selections\\\\0016000163461_2.jpg\""
   ]
  },
  {
   "cell_type": "code",
   "execution_count": 21,
   "metadata": {},
   "outputs": [
    {
     "name": "stderr",
     "output_type": "stream",
     "text": [
      "Neither CUDA nor MPS are available - defaulting to CPU. Note: This module is much faster with a GPU.\n",
      "Neither CUDA nor MPS are available - defaulting to CPU. Note: This module is much faster with a GPU.\n"
     ]
    },
    {
     "name": "stdout",
     "output_type": "stream",
     "text": [
      "0016000123991_0.jpg ^^ FtOe Ua TLeCereLs -- DAk4 Satm -- General Mills -- FROSTED TOASTED OAT CEREAL WITH MARSHMALLOWS -- Iucky charms -- MARSHMALLOW SHAPES AND COLORS MAY VARY -- ENLARGED TO  SHOW DETAIL -- PERT CUPSERVING 140 Og 230mg | 129 CALORIES | SAT FAT SODIUM TOTAL 096 DV 1046 DV SUGARS SEE HUTRMOH FACTS FR\"US PREPARED P(NFORMATOI -- Gluten Free -- NETWT 1050Z (297g) -- \n"
     ]
    },
    {
     "name": "stderr",
     "output_type": "stream",
     "text": [
      "Neither CUDA nor MPS are available - defaulting to CPU. Note: This module is much faster with a GPU.\n"
     ]
    },
    {
     "name": "stdout",
     "output_type": "stream",
     "text": [
      "0016000163461_2.jpg ^^ Geieral -- LARGE SIZE 14.2 02 Gluten Free NO ARTIFICIAL FLAVORS ARTIFICIAL SOURCES NO COLORS FROM Apple Cinpamon Cheerios TM Guut WHOLE ingiedient GRAIN OATS -- Enlarged t0 Show Detail -- HELP CAN LOWER CHOLESTEROL' HEALTHY DIET HEART AS PART OF A #THREE GRAMS OF SOLUBLE FIBER  DAILY FROM  WHOLE CRAIN OAT FOODS, LIKE AppLe CINNAMON CHEERIOSTM CEREAL, INA DIET LOW IN SATURATED FAT AND CHOLESTEROL, MAY REDUCE THE RISK OF HEART   DISEASE,  APPLE   CINNAMON   CHEERIOS PER 1 CUP SERVING CEREAL PROVIDES . 75 GRAMS PER SERVING. 150 Og 150mg | 129 (CALORIES SAT FAT SODIUM SUGARS TOTAL 046 DV 746 V SEE NUTRMOH FACTS FOR \"AS PREPARED\" INFORMMOH -- Sweetened Whole Grain Oat Cereal -- NET WT 14.2 0Z (402g)  -- \n"
     ]
    },
    {
     "name": "stderr",
     "output_type": "stream",
     "text": [
      "Neither CUDA nor MPS are available - defaulting to CPU. Note: This module is much faster with a GPU.\n"
     ]
    },
    {
     "name": "stdout",
     "output_type": "stream",
     "text": [
      "0016000168756_0.jpg ^^ 14 Ldcnn -- Se D\"# -- Crcus -- General Mills -- FAMILY SIZE 18 0z Gluten Free NO ARTIFICIAL FLAVORS ARTIFICIAL SOURCES NO COLORS FROM Multi Grain Cheerios WHOLE 28 grams GRAIN per serving -- Enlarged t0 Show Detail Ampliada Para Mostrar Detalles  -- 9 VITAMINS DAILY 100% VALUE & MINERALS OF PER 1 1/3 CUP SERVING POR RACION DE 1 1/3 TAZA MAY neduce 150 Og 150mg RISE HEART SAT FAT SODIUM 8g While MANY FACTORSAFFEcT hEaRT DISEASE, DIETS LOWIN CALORIES GRLSA SAT SODLO Itotal SuGARST DISEASE CALORIAS 0% DV 696 DV azucaRES TOTALES SATURATED FaT AND CHOLESTEROL May REduce THE RISK AhEARSE RERLOF DIET OF THIS DISEASE. MULTI GRAIN CHEERIOSTM CEREAL IS LOW SEE NUTRITION FACTS FOR \"AS PREPARED\" INFORMATION IN FAT Sgl SATURATED FaT FREE AND CHOLESTEROL FREE: VEA LOS DATOS DE NUTRICION PARA OBTENER INFORMACION del \"PRODUCTO PREPARADO\" Lightly Sweetened Cereal NET WTIPESO NETO Cereal Ligeramente Endulzado 1LB 2 0Z (18 0Z) (510g) -- \n"
     ]
    },
    {
     "name": "stderr",
     "output_type": "stream",
     "text": [
      "Neither CUDA nor MPS are available - defaulting to CPU. Note: This module is much faster with a GPU.\n"
     ]
    },
    {
     "name": "stdout",
     "output_type": "stream",
     "text": [
      "0016000169364_5.jpg ^^ DildyyP4d -- OimderaX Cr CONCH -- General -- FAMILY SIZE 24 0Z Good Source Contains No Artificial of Fiber 13 Vitamins flavors or colors 5g of total fat per serving and Minerals from artificial sources -- Cheerios Oxt CRUNcH OATS 'NHONEY -- SERVING sugGestion SugerenCIA DE RaciON -- with -- ENERGY KEEP YOU GOING* -- FROM WHOLE GRAINS TO HELP -- ENLARGEDIO SHOWOETAILS AMPLIAdA PARAMOSTRAR DETALLES -- Sweetened Multigrain Cereal with WholeGrain Oatsand Honey CerealdeMultigranos Endulzado conAvenalntegralyMiel -- PERT CUP SERVING PORRACION DE 1 TAZA 220 061 (220w0  150 CALORIES GS1E SOouuDt Itotal SUcARS CALORIAS 1046 Ov Vosiub SEE MUTRMOM FACTS FOR \"AS PREPARED IMFORMMTION VEA LOS DATOS DE MUTRICIOH PARA OBTEMER INFORMACIOM dEL  PRODUCTO PREPARADO  -- NETWTPESO NETO 1 @B802 (24 02) (680g) -- \n"
     ]
    },
    {
     "name": "stderr",
     "output_type": "stream",
     "text": [
      "Neither CUDA nor MPS are available - defaulting to CPU. Note: This module is much faster with a GPU.\n"
     ]
    },
    {
     "name": "stdout",
     "output_type": "stream",
     "text": [
      "0016000169395_3.jpg ^^ General Mills -- FAMILY SIZE 18.1 0z -- Naturally Flavored Frosted Corn Puffs -- S083 TM ~EP_ -- ENLARGED TO SHOW DETAIL -- PER 1 CUP SERVING 140 Og 130w9 | 121 CALORIES SAT FAT SODIUM TOTAL 040 @V 6% DV SUGARS SEE HUTRITOH FACTS FOR \"AS PREPARED ' IHFORMATIOH -- NET WT 1 LB2.1 02 (18.1 02) (513g) -- \n"
     ]
    },
    {
     "name": "stderr",
     "output_type": "stream",
     "text": [
      "Neither CUDA nor MPS are available - defaulting to CPU. Note: This module is much faster with a GPU.\n"
     ]
    },
    {
     "name": "stdout",
     "output_type": "stream",
     "text": [
      "0016000169630_2.jpg ^^ General Mills -- FAMILY SIZE 183 0z -- GRENT CHOCOLATE CHIPP CoOOOKIE TASTEL -- ENLARGED TO Show DBIAIL -- NATUBREDY SWEETENED CEREAL -- Kie CRiSP PER 1 CUP SERVING CALORIES 1401 SAT FAT 0o 190mg SODIUM TOTAL 124 SUGARS NET WT 1 LB 2.3 02 (18.3 02) (518g) SEE NUIRION FACTS FOR \"AS PAEPARED\" INFORMMIOK -- \n"
     ]
    },
    {
     "name": "stderr",
     "output_type": "stream",
     "text": [
      "Neither CUDA nor MPS are available - defaulting to CPU. Note: This module is much faster with a GPU.\n"
     ]
    },
    {
     "name": "stdout",
     "output_type": "stream",
     "text": [
      "0016000169685_7.jpg ^^ E 2 -- OLr Ts#enm#a -- TDeci -- Im -- Ck8z8 -- General Mills -- FAMILY SIZE 18.8 0z Gluten Free Giut inghedient Whole Grain Oats -- NATuRAlLY FLAVORED HoneyNut Cheerios made with Real Honey -- Enlarged t0 Show Detail -- HELP CAN LOWERCCHOLESTEROL' HEALTHY DIET HEART AS PART OF A #THREE GRAMS OF SOLUBLE FIBER DALY FROM WHOLE GRAIN OAT FOODS; LkE HONEY NUT CHEERIOS\" CEREAL, INA DIET LOW IN SATURATED FAT AND CHOLESTEROL PER 1 CUP SERVING MAY REDUCE THE RISK OF HEART DISEASE: HONEY NUT 140 0s 210m0 120 CHEERIOS CEREAL PROVIDES .75 GRAMS PER SERVING; CALORIEST SAT FAT SODIUM SUGARS TOTAL 046 DV 4046 DV SEE NUTRMON FACTS FOR \"AS PREPARED\" INFORMATOH Sweetened Whole Grain Oat Cereal  NET WT 1 LB 2.8 0z with Reall (Honey = 8 Natural Almond Flavor (18.8 02) (532g) -- \n"
     ]
    },
    {
     "name": "stderr",
     "output_type": "stream",
     "text": [
      "Neither CUDA nor MPS are available - defaulting to CPU. Note: This module is much faster with a GPU.\n"
     ]
    },
    {
     "name": "stdout",
     "output_type": "stream",
     "text": [
      "0016000170032_0.jpg ^^ General Mills -- FAMILY SIZE 18 02 Gluten Free NO ARTIFICIAL FLAVORS NO ARTIFICIAL COLORS Cheerios made 100% WHOLE wih GRAIN OATS -- 8 888 Serving Suggestion Show Detail Enlarged to HELP American CAN Association | C E RTI F Heart-Hcalthy Food Meet Crtera For E D CHOLESTEROL' LOWER HEALTHY DIET AS PART OF A HEART #THREE GRAMS OF SOLUBLE FIBER DAULY FROM WHOLE GRAIN OAT  FOODS , LIKE  CHEERIOS\" CEREAL; IN A DHET  LOW IN  SATURATED FAT TM PER 1 1/2 CUP SERVING AND  CHOLESTEROL, MA  REDUCE THE  RISK 140 SAT FAT 0.50 190wg | SODIUM TOtaL 2q OF   HEART  DUSEASE ,  CHEERIOS   PROVUDES CaLoRIES  346 Dv 0416 DN SUGARS 1.5 GRAMS PER SERVING; See HUTRMOM FaCts FOR \"AS PREPARED\" UMFORMATON NET WT 1 LB 2 0z Toasted Whole Grain Oat Cereal (18 02) (510g) -- \n"
     ]
    },
    {
     "name": "stderr",
     "output_type": "stream",
     "text": [
      "Neither CUDA nor MPS are available - defaulting to CPU. Note: This module is much faster with a GPU.\n"
     ]
    },
    {
     "name": "stdout",
     "output_type": "stream",
     "text": [
      "0016000171022_1.jpg ^^ General Mills -- FAMILY SIZE 18 0z -- Rice Chex Gluten Free High Fructose No Artificial c or Flavors Colors No Corn Syrup -- ENLARGEDTO SHOWDETAIL -- PERO Q3CUPSERVING 160| Og 330mg | 3g CALORIES | SAT FAT SODIUM TUTAL 096 DV 1490 DV SUGARS GEE MUIRMOMFACIS FOR RAS PREPARED  UNFORMAION -- Oven Toasted Rice Cereal -- NET WT 1 LB202(8 02) (510g) -- \n"
     ]
    },
    {
     "name": "stderr",
     "output_type": "stream",
     "text": [
      "Neither CUDA nor MPS are available - defaulting to CPU. Note: This module is much faster with a GPU.\n"
     ]
    },
    {
     "name": "stdout",
     "output_type": "stream",
     "text": [
      "0016000171046_5.jpg ^^ 0i4#=02 TE=4e -- Odiaeaaedaeacea -- ELan -- General -- FAMILY SIZEte 0Z4 -- U^ 1 | Kid-TESTED. PARENT-APPROVED.  -- 4g sugar Brnaind -- Iigiji0 Soueu -- Just 7 Ingredients Vitamins & Minerdls Per1 Ircup Serting [160 0 2 Dm -- CRISPY CORN PUFFS NET WIt 1 LB2 02 (18 02) (510g) -- WCOnanio -- \n"
     ]
    },
    {
     "name": "stderr",
     "output_type": "stream",
     "text": [
      "Neither CUDA nor MPS are available - defaulting to CPU. Note: This module is much faster with a GPU.\n"
     ]
    },
    {
     "name": "stdout",
     "output_type": "stream",
     "text": [
      "0016000171084_8.jpg ^^ General Mills -- FAMILY SIZE 18 02 -- Corn Chex Gluten Free High [  Fructose No Artificial € or Flavors Colors No Corn Syrup -- ENLARGEDIO SHOWDETAIL -- PER D4/4CUP SERVING 150 Og 280mo | 4g CALoRIES SAt FAT SODiUm  TOTAL SUGARS SEE NUIRMON FACIS FOR \"AS PREPARED\" INFORMATION  -- Oven Toasted Corn Cereal -- NeT WT ILB2OZ(B.02) (S10g} -- \n"
     ]
    },
    {
     "name": "stderr",
     "output_type": "stream",
     "text": [
      "Neither CUDA nor MPS are available - defaulting to CPU. Note: This module is much faster with a GPU.\n"
     ]
    },
    {
     "name": "stdout",
     "output_type": "stream",
     "text": [
      "0016000185173_0.jpg ^^ 8a -- DV 4 =474n 0 47A -- T8r2 -- 7* -- General -- LARGE SIZE 14.9 02 -- SEimitedEdition NATURALLY FLAVORED WTH Strawberry OTHER NATURAL FLAVORS Banana Cheeri S with HAPPY HEART SHAPES -- #THREE GRAMS OF SOLUBLE FIBER DALY FROM WHOLE CAN HELP lowex GRAIN OAt FOODS, CHOLESTEROL LIKE STRAWBERRV as part of a heart BANANA CHEERIOSTM healthy diet CEREAL, INA DHET LOW IN SATURATED FAT AND Enlarged t0 Show Detail CHOLESTEROL, MAY REDUCE THE RISK OF HEART DISEASE. STRAWNBERRY BANANA CHEERIOS CEREAL PROVIDES 75 GRAMS PER SERVING; -- Serving Suggestion -- Sweetened Whole Grain Oat Cereal -- PER 1 CUP SERVING 140 Og 150mg Iii CALORIES SAT FAT SODIUM 096 DV 796 DV SUGARS SEE NUTRMON FACtS FOR \"AS pRePARED\" INFORMATION -- NET WT 14.9 0Z (422g) -- Gluten Free -- \n"
     ]
    },
    {
     "name": "stderr",
     "output_type": "stream",
     "text": [
      "Neither CUDA nor MPS are available - defaulting to CPU. Note: This module is much faster with a GPU.\n"
     ]
    },
    {
     "name": "stdout",
     "output_type": "stream",
     "text": [
      "0016000185173_9.jpg ^^ General -- LARGE SIZE 14.9 02 -- SimitedEdition NATuRALLY FLAVORED WH Strawberry OTHER NATURAL FLAVORS Banana Cheeri S TM wih HAPPY HEART SHAPES -- #THREE GRAMS OF SOLUBLE FIBER DALY FROM WHOLE CAN HELP louey GRAIN OAT FOODS, CHOLESTEROL LIKE STRAWBERRY aS part of a heart BANANA CHEERLOSTM healthy diet CEREAL, INA DHET LOW IN SATURATED FAT AND Enlarged to Show Detail CHOLESTEROL; MAY REDUCE THE RISK OF HEART DISEASE, STRAWBERRV BANANA CHEERIOS CEREAL PROVIDES 75 GRAMS PER SERVING; -- Serving Suggestion -- Sweetened Whole Grain Oat Cereal -- PER CUP SERVING 140 Og 150mg  119 CALORIES | SAT FAT SODIUM total 096 DV SUGARS 796 DV SEE NUTRMON FactS FOR \"AS prePARED\" INFORMATION -- NET WT 14.9 0Z (422g) -- Gluten Free -- \n"
     ]
    },
    {
     "name": "stderr",
     "output_type": "stream",
     "text": [
      "Neither CUDA nor MPS are available - defaulting to CPU. Note: This module is much faster with a GPU.\n"
     ]
    },
    {
     "name": "stdout",
     "output_type": "stream",
     "text": [
      "0016000275324_2.jpg ^^ General Mills -- Fruit Flavored Sweetened Naturally and Artificially Corn Puffs fi -- 6FRu Ty SHaPEs -- Enlarged to Show Detail -- PERI MACUP SERVING 160 0g  180mg 129 CALORIES SAT FAT SODIUM TOTAL 046 DV 896 Dv SUGARS SEEQUIRMOHECISFOR \"AS PREPARED\" INFORMATOH -- NET Wt 10.702 (o39) -- \n"
     ]
    },
    {
     "name": "stderr",
     "output_type": "stream",
     "text": [
      "Neither CUDA nor MPS are available - defaulting to CPU. Note: This module is much faster with a GPU.\n"
     ]
    },
    {
     "name": "stdout",
     "output_type": "stream",
     "text": [
      "0016000275492_10.jpg ^^ General Mills -- Wheat cex Fructose Artificial c Colors NO High Corn Syrup NO or Flavors -- ENLARGED TO SHOW DETAIL -- PER CUP SERVING 210 Ug 340mg | 6g CALORIES SAT FAT SODIUM TOTAL Ook DV 159 DV SUGARS SEE NUTRIION FACts FOR \"AS PREPARED\" INFORMATION -- Oven Toasted Wheat Cereal  -- NET WT 14 02 (3969) -- \n"
     ]
    },
    {
     "name": "stderr",
     "output_type": "stream",
     "text": [
      "Neither CUDA nor MPS are available - defaulting to CPU. Note: This module is much faster with a GPU.\n"
     ]
    },
    {
     "name": "stdout",
     "output_type": "stream",
     "text": [
      "0016000275638_0.jpg ^^ RJDOEZI} Len -- 3282 -- General Mills -- {Total} 10 0 % DAILY VALUE 0 F 11 VITAMINS & MINERALS* -- Serving Suggestion Enlarged to Show Detail -- 10O% Whole Grain Flakes -- PER 1 CUP SERVING 140 Og 190,g  64 CALORIES SAT FAT SODIUM TOTAL 046 DV 816 DV SUGARS SEE MUIRIIOH FACTS FOR \"AS PREPARED\" IHFORMMOH -- CRUNCHY WHOLE CRAIN WHEAT FLAKES -- NET WT 1 LB(16 0Z) (4539) -- \n"
     ]
    },
    {
     "name": "stderr",
     "output_type": "stream",
     "text": [
      "Neither CUDA nor MPS are available - defaulting to CPU. Note: This module is much faster with a GPU.\n"
     ]
    },
    {
     "name": "stdout",
     "output_type": "stream",
     "text": [
      "0016000437791_7.jpg ^^ NEW LOOK -- NATURE VALLEY GRANOLA -- 13g PROTEIN 2/3 CUP SERVING Protein OATs & HONEY -- PER2I3 JCUPS SERVING 270 (CALORIES | 1g SAT FAT 170mg ' SODIUM 16g 526 DV total 89k DV SUGARS -- OD 11 0Z '(B11g) NET WT -- NOMORE CLIPPING SCAN BOX Your Receipt TOPS SEE HOW AT EbucAtior ] BTFE COM -- \n"
     ]
    },
    {
     "name": "stderr",
     "output_type": "stream",
     "text": [
      "Neither CUDA nor MPS are available - defaulting to CPU. Note: This module is much faster with a GPU.\n"
     ]
    },
    {
     "name": "stdout",
     "output_type": "stream",
     "text": [
      "0030000064030_0.jpg ^^ FAMILY SIZE 21oz 600p FSQUrcE 10G PROTEIN WITH MILK SEE SIDE PANEL FOR MORE INFORMATION -- QUAKER EST' 1877 - -- OATMEAL SQUARES BROWN SUGAR FLAVOR WITH OTHER NATURAL FLAVORS, CRUNCHY OAT CEREAL -- HEART HEALTHY -- per |cup -- 100% WHOLE GRAINS Diets rich in whole grain foods and other plant foods and low in saturated fat and cholesterol may help reduce the risk of heart disease. -- ENLARGED IMAGE -- 210| 0.52 I9Ong| 9g SAT FAT SODIUM toTaL SEFSHERSUGGDDEDHS Od NETW 2LOZ (LB 502) 5968 caloRIES 2K DV BXOV SUGARS -- \n"
     ]
    },
    {
     "name": "stderr",
     "output_type": "stream",
     "text": [
      "Neither CUDA nor MPS are available - defaulting to CPU. Note: This module is much faster with a GPU.\n"
     ]
    },
    {
     "name": "stdout",
     "output_type": "stream",
     "text": [
      "0030000572436_2.jpg ^^ NO ARtificial FLAVORS OR ADDED COLORS -- EXCELLENT SOURCE OF FIBER conTAINS /6 TOTAL FAT PER SERVING QUARER ESTP 1877 - -- SIMPLY GRANOLA OATS , HONEY, RAISINS & ALMONDS -- 426 0F WHOLE cd GRAINS Lad Cod -- HEART HEALTHY crnbocamtnt 160crrste #mhl Jeee 01*ntAxestdbhcllk -- Ft -- 270 Ia 35 16, 4 Eu TL ChpeS 4u -- Mts @p   NETW241OZ (LB 80Z6869 -- \n"
     ]
    },
    {
     "name": "stderr",
     "output_type": "stream",
     "text": [
      "Neither CUDA nor MPS are available - defaulting to CPU. Note: This module is much faster with a GPU.\n"
     ]
    },
    {
     "name": "stdout",
     "output_type": "stream",
     "text": [
      "0038000198786_3.jpg ^^ FIBER HIGH Contains 8g total Kelloggs com/DidYouKnow fat per serving Realeap Cracklin' OatBran Crunchy Sweet; Oven-BakedOat Cereal -- SERVING SUGGESTION ENLARGED TO SHOW TEXTURE -- Reeloggs FAMILY REWARDS -- 230 3.5g 65mg 16g SAT FAT SODIUM TOTAL CALORIES 18% DV 30 DV SUGARS PER 3/4 CUP SERVING -- CEREAL OD NET WT 16.502 (1 LB0.5 02) (467g) -- \n"
     ]
    },
    {
     "name": "stderr",
     "output_type": "stream",
     "text": [
      "Neither CUDA nor MPS are available - defaulting to CPU. Note: This module is much faster with a GPU.\n"
     ]
    },
    {
     "name": "stdout",
     "output_type": "stream",
     "text": [
      "0038000199042_1.jpg ^^ MSSION TIGer BUYABOX SUPPORT SCHOOL Rdee88 SPORTS *see back panel FROSTED FLAKES OF DE CORN MAIZ -- SERMG SUCGESTIC\" Recansugenia -- Exlarged to SHOW TEXTURE Agrardadopara Mosrar tva -- 130 Og 190mg 129 SAT FAT SODIUM TOTAL CALORIES 0%0 DV 89 DV SUGARS PER 1 CUP SERVING -- NET WT/PESO NETO 13.5 OZ (382g) -- THEYRE GR-RREAT! -- \n"
     ]
    },
    {
     "name": "stderr",
     "output_type": "stream",
     "text": [
      "Neither CUDA nor MPS are available - defaulting to CPU. Note: This module is much faster with a GPU.\n"
     ]
    },
    {
     "name": "stdout",
     "output_type": "stream",
     "text": [
      "0038000199752_0.jpg ^^ FAMILY SIZE -- GOOD -- SOURCE OF FIBER -- Beobe3e Kelloggs com/DidYouKnow Raax Gunch Original HEALTHY HEART While many factors allect heart disease. diets low in salurated Iat & cholesterol may reduce Ihe risk ofthis disease -- ENLARGED TO SHOW TEXTURE -- Delicious B Raisins, Clusters Glazed - Toasted Flakes & Crunchy Oat with a Touch of Golden Honey -- 190 Og 200mg 194 SAT FAT SODIUM TOTAL CALORIES 096 @V 99 @V SUGARS PER CUP SERVING -- CEREAL NET WT 22.5 02 (1 LB 6.5 02) (637g) -- \n"
     ]
    },
    {
     "name": "stderr",
     "output_type": "stream",
     "text": [
      "Neither CUDA nor MPS are available - defaulting to CPU. Note: This module is much faster with a GPU.\n"
     ]
    },
    {
     "name": "stdout",
     "output_type": "stream",
     "text": [
      "0038000199943_12.jpg ^^ LARGE SIZE (SNAP Redlg3s RICE KRISPIES 0 TOASTED RICE CEREAL (ereal dearror iosiado 6Jcd0\" 8 WVitamins & QOPi Minerals \"uta TL FD 2 -- SNAPI -- CEREAL NET WTIPESO NETO 12 OZ (340g) -- 150 05 200 Mim Qoum ola CiciS QUCARS -- PER 1 1/2 Cu? SERMING -- Pop? -- CRACKLE? -- \n"
     ]
    },
    {
     "name": "stderr",
     "output_type": "stream",
     "text": [
      "Neither CUDA nor MPS are available - defaulting to CPU. Note: This module is much faster with a GPU.\n"
     ]
    },
    {
     "name": "stdout",
     "output_type": "stream",
     "text": [
      "0038000262500_9.jpg ^^ FAMILY SIZE Keeloggs' -- CORN -- Good SOURCE 0F 8 Vitamins & MINERALS -- )RS Crispp Sweet Crunch -- ENLARGED TO SHOW TEXTURE -- Agrandado para mostrar lextura -- SWEETENED CORN CEREAL Cereal de maiz endulzado NET WT/PESO NETO 18.1 O2 (1 [B2.I 02) (513g) -- 150 SAQpat SG605| 15, TOTAL CALORIES 0% DV 79 DV SUGARS PER 1 1/3 CUP SERVING -- \n"
     ]
    },
    {
     "name": "stderr",
     "output_type": "stream",
     "text": [
      "Neither CUDA nor MPS are available - defaulting to CPU. Note: This module is much faster with a GPU.\n"
     ]
    },
    {
     "name": "stdout",
     "output_type": "stream",
     "text": [
      "0042400388876_1.jpg ^^ EnLARGED T0 SHOW DETAIL -- Malt OMeal FLAVORED ARTIFICIALLY NATURALLY & FRUITY 1 DYNOBITES 7 CEREAL 1 1 2 1 1 I I PER 1 CUP SERVING 140 CALORIES  SAT FAT Og 230mg  SODIUM ToTAL 15g 1090 DV SUGARS NET WT 32 0Z (2 LB)\" 907g -- it or its Love _ FREE? TASTE GUARANTEE SEE  BACK FOR DETAILS GF GEUEEN -- \n"
     ]
    },
    {
     "name": "stderr",
     "output_type": "stream",
     "text": [
      "Neither CUDA nor MPS are available - defaulting to CPU. Note: This module is much faster with a GPU.\n"
     ]
    },
    {
     "name": "stdout",
     "output_type": "stream",
     "text": [
      "0042400388883_5.jpg ^^ Malt Meal -- Ehowgeetae -- | 8 -- 8 [ 8 @ 1 -- COCOA DYNO BITES 1 CEREAL 1 ) 8 PER 1 CUPYERVING CALORIES 170 MTIT 240mg  SODIUM total  189 109 OV SUGARS NET WT 32 0z (2 LB) 907g  -- it or its Love  FREE? TASTES GuARANTEE| SEE BACKFOR DETAILS GF GLUTEN FREE -- Love 'Egi FREE! -- 0) -- 6 -- \n"
     ]
    },
    {
     "name": "stderr",
     "output_type": "stream",
     "text": [
      "Neither CUDA nor MPS are available - defaulting to CPU. Note: This module is much faster with a GPU.\n"
     ]
    },
    {
     "name": "stdout",
     "output_type": "stream",
     "text": [
      "0042400389170_5.jpg ^^ enlaRGED TO ShOWU DETAIL -- Malt OMeal -- 1 3 1 -- 8 [ 2 1 9 -- Ggldet 1 1 CEREAL 1 PER CUP SERVING 1150 CALORIES  SAT FAT Og SODIUM 85mg total 21g SUGARS NET WT 32 02 (2 LB) 907g -- it o its Love FREE? TASTE GUARANTEE HAGK FoR DETAILS -- \n"
     ]
    },
    {
     "name": "stderr",
     "output_type": "stream",
     "text": [
      "Neither CUDA nor MPS are available - defaulting to CPU. Note: This module is much faster with a GPU.\n"
     ]
    },
    {
     "name": "stdout",
     "output_type": "stream",
     "text": [
      "018627101390_0.jpg ^^ Ju3h 80L LU3SNI JS073 0L -- Kashi Peanut Butter GO_ Crunch Used By BEST If -- [o9toarae PAPER PLASTIC BOX 8ag -- K189225 003 NLI 16539 -- ZW0toa LON LH9IJM a9 070S Lndoud 'JI44JS AVW SLNJNO? -- New Kashi Look GO_ Samesfeeat -- Kashi GO_ -- wake Peanut Butter Crunch up To PEANUT BUTTER GOODNESS Enjoy endless delicious flavor in each serving: 10g of plant-based protein and Now; that's what we call & good morningl -- Notaerionecarord Serving size ` 3/4 Cup (53g) Amount per serving Calories 220 Total Fat 9g % Daily Vaz%g Saturated Fat Tg 5% Trans Fat 0g Polyunsaturated Fat 39 Monounsaturated Fat 4,59 Cholesterol Omg 0% Sodium 1Omg 6% Total Carbohydrate 319 11% Dietary Fiber 6g 22% Soluble Fiber 2g Toiaoug.sg /9 Sugars Includes 8g Added - Sugars 76% Protein 10g 73% -- Kashi Go Vitamin D Omcg 0% Calcium 40mg Iron 1.6mg Poaion37on9 10% Magnesium Zinc 0% 10g The % Daily Value (DV) tells you how much & nutrient serving of lood contributes daily diet. 2,000 calories day used for general nutrition advice. Protein Ingredients: Soy flakes, peanut butter (peanuts) , brown rice syrup, whole grain oats, puffed whole grain blend (hard red Wheat brown rice, barley; rye) , cane sugar; expeller pressed canola oil, acacia Enlarged to show gum, molasses; sea salt, peanut oil, lasiimess rosemary extract for freshness. CONTAINS SOY, PEANUT AND Peanut Butter WHEAT INGREDIENTS . DISTRIBUTED BY Kashi Sales LL.C , Solana Beach; CA 92075 @, TM; @ 2021 Kashi Company Crunch 'Certified Transitional HAVE SOMETHING TO SHARE? Plant Protein & Multigrain Clusters with Creamy Peanut Butter (877) 747-2467 WWWKASHI.COM Vegan Endasged NON 13g to GMO 6g Whole Grains per serving tastiness Project VERIFLED Fiber nongmoproject org FoR THE EAT 48g OR MORE OF WHOLE GRAINS DAILY CEREAL PLANETo Contains 9g  total fat per serving 'IETWT13202(874g1 -- FOR THE PLANET -- Good for You and the Planet Kashi annually measures the carbon emissions from the cooking and baking of our foods, and offsets them through programs that reduce the amount of greenhouse gasses in the air: -- Kashi YOU GOt THIS! Scan for feel good foods and tips that make eating  well easyl -- 610 aupjdaypuojuanjadauo (ISIA -- 'UOUDuJojui aJOu J04 '{aupid Jalyllpay D -- buupaz) suoloziuobjo 04 sajps |onuud jo %L sajouop !YSDX -- Kashi Peanut Butter GO_ Crunch -- 18627 10139 -- \n"
     ]
    },
    {
     "name": "stderr",
     "output_type": "stream",
     "text": [
      "Neither CUDA nor MPS are available - defaulting to CPU. Note: This module is much faster with a GPU.\n"
     ]
    },
    {
     "name": "stdout",
     "output_type": "stream",
     "text": [
      "018627703174_5.jpg ^^ Kashi -- ENLARGED TO SHOW TASTINESS -- Cinnamon Harvest Organic Whole Wheat Biscuits Baked with Sweet Cinnamon -- USDA OrGANIC -- 808 VER] Frojed nongmoproject org -- 7g Fiber -- 7g Protein -- 52g Whole Grains -- CEFEAL   NET WT I6.3 0Z (462y) -- \n"
     ]
    },
    {
     "name": "stderr",
     "output_type": "stream",
     "text": [
      "Neither CUDA nor MPS are available - defaulting to CPU. Note: This module is much faster with a GPU.\n"
     ]
    },
    {
     "name": "stdout",
     "output_type": "stream",
     "text": [
      "030000060834_0.jpg ^^ NJdo -- XTIJJ413 &V1 LJi7 -- 7v3433 NIV49i70w -- To CLOSE INSERT TAB -- uoupuui? -- Best Before i -- 632-1-L02-54 -- We're here help. Quakeroats.com or 800.234.6281 Please have package available when calling. -- aax1n0 -- QUAKER Ifte MUL G R A -- try our other MosT Rock SonG dedcous legendary We need a And other fun totally awesome Song challenges for the Battle o Wanna the Bands Show help Me with the winning One? let'$ rockl Ife ~Mikey original , Time 088 rama to make our blanks Song a hit Lafea Ilife IS AWEsoMel By_ vanilla_ Your Name and Mikey's band, The Woke uP favorite Color Hfe ready to called Up Dance Move and shout @nd Said, \"let'$ chocolate It'$ a(n)_ hang outi\" let'$ meet Descriptive Word day And at wanna have and fun, favorite Place Play_ Instrum in the Sun! Oooo-  Weee - Oooo If we get hungry; We'Ll get Don't Some Worry to 25g bout_ favorite food eat because Whole So Monl Shake schooL 'Subject Your lfe is Sweetl Grains can't wait to Body Part and show off per serving  and your Smile_ favorite ;Activity Another vorite activity in Rock star stylel Good Source Oooo- Weee - of Calcium Oooo , yeah yeah Yeahl NO Artificial  Flavors 'MEVS S you filled out cut congratsl all the blanks colzct a CREW can cut rock star Badge RockL You your cleGEnd , For 'special offers, information and out to join the conversation, visit QuakerOatscom Facebookcom/ Quaker @Quaker -- LARGE SIZE 18\" -- QUAKER Heart SoceClerf cinnamon BOVitamins Healthy Preisecicatives Diets rich in whole grain foods and other plant foods and Ow Nutrition Facts] saturated fat and cholesterol may About\" 'servings per container reduce the risk of heart disease_ Serving size cup (42g1 Ivit; A & D fortified Iife (calories / 1601 210 % DV\" Total Fat 29 Saturated  Og Tans Polyunsat Fat 0.5g Monounsat, 05g Cholestero Omg <Smg Tota 339 15% M ULTIG RA / N CEREA L Dietar Total Sugars 10g  Incl Added Sugars | P'rateir -- Vitamin Calcium -- Umcg_ 160mg 360mg 112mg_ Potassium I1Omg 370ma Thiamin 0.36mg  0.42mg Riboflavin 0.39mg_30%2|9.65mg Niacin 4,8ma Vitamin O51mg_ 0.51mg Folate DFE 240mcg Folic Acid (149mcol (149mcg) Phosphorus IOOmo 250mg   20% 'The % Dailv | (DV) tells vou how utrient in food contributes dailv diet 000 used for genera nutrition advice INGREDIENTS: Whole grain oat flour; sugar, corn flour; whole   wheat flour; calcium carbonate , salt, cinnamon, baking soda carame color toconherols (to preserve freshness) reduced iron; niacinamide natural flavor;  thiamine mononitrate annatto (color) pyridoxine hydrochloride ribotlavin * folic acid One of the vitamins_ CONTAINS WHEAT INGREDIENTS_ -- kick it up -- cinnamon -- DISTRIBUTED BY: QUAKER ATS COMPANY BOX 049003 JL606n4-9003 @2021 Quaker Companv -- smartlabel? -- Scan here for more  food information -800 92344 6281 -- per cup -- Serving Suqgestion Enlarged Image -- Og 170ng SAT FAT SsOnIM TOTAI SIIGARS -- CALcIuM RON -- CALORIFC -- HET WT I8 OZ ( LB 2 0Z1 513g -- pusv7d YadNd -- QUAKER Iite cinnamon MULTIG A/N CEREAL -- 32630668227 -- 0oo0 06083' -- \n"
     ]
    },
    {
     "name": "stderr",
     "output_type": "stream",
     "text": [
      "Neither CUDA nor MPS are available - defaulting to CPU. Note: This module is much faster with a GPU.\n"
     ]
    },
    {
     "name": "stdout",
     "output_type": "stream",
     "text": [
      "030000064412_1.jpg ^^ GOOD SOURCE OF FIBER -- NEW LoOK SAME GREAT TASTE -- 10G PROTEIN WITH MILK SEE SIDE PANEL FOR MORE INFORMATION -- QUARER ESTD 1877 - -- OATMEAL SQUARES BROWN SUGAR FLAVOR WITH OTHER NATURAL FLAVORS, CRUNCHY OAT CEREAL -- HEART HEALTHY -- per Icup -- 100% WHOLE GRAINS* Diets rich in whole grain  foods and other plant foods and Iow in saturated fat and cholesterol may help reduce the risk of heart disease. -- 0.5g 2101 I9Omg 9g SAT FAT SODIUM total CALORIES SUGARS 3% DV 8% DV -- SERVING SUGGESTION ENLARGED IMAGE -- Ud NETWI45OZ (4llg) -- \n"
     ]
    },
    {
     "name": "stderr",
     "output_type": "stream",
     "text": [
      "Neither CUDA nor MPS are available - defaulting to CPU. Note: This module is much faster with a GPU.\n"
     ]
    },
    {
     "name": "stdout",
     "output_type": "stream",
     "text": [
      "030000437698_0.jpg ^^ 1 2 BAGS Tor freshness? CAPN CRUNCHS CRUNCH BERRIFS AC Sweetened CEREAL Corn 8 OAT -- OJNchTZ MEE CAP -- Per cup -- ENLARGED TO SHOW TEXTURE -- 2-20 0Z (I LB 4 02) 567 g BAGS NET WT 40 02 (2 LB 8 02) 1.13 kg -- 150| 0.59 270mg | 169 CALORIEST SAT FAT SODIUM TOTAL SUGARS 3% DV 12%/ DV -- UD -- \n"
     ]
    },
    {
     "name": "stderr",
     "output_type": "stream",
     "text": [
      "Neither CUDA nor MPS are available - defaulting to CPU. Note: This module is much faster with a GPU.\n"
     ]
    },
    {
     "name": "stdout",
     "output_type": "stream",
     "text": [
      "030000573297_0.jpg ^^ 1eauaj Yuze83n5 Ujoj -- KinaleoqeLu Sznnad uedoo IJhM lis40 swnn -- ia2IS XTIWV- -- TO CLOSE . INSERT TAB -- Hk -- BE95 BEFORE -- HELP THE CAPN ` FIND  SEARCH THE Games NAMES IN THE WORD THEN MATCH ` EACH  NAME TO HIS OLD FRIENDS Name -- FAMILY SIZEI cunaiis Al cunaiis Oopsle Oopsle Alls HUHVRE BERRES 16.902 BERRES Sweetened Cereal Corn Sweetened Oat Cereal corn -- Nutrition Facts] About 13 servings per container (Serving size 14 cup (389]| -- Cereal | wilh 218 cup o alone | Vit, A & D fortiied skim milk (caloies | 1502001 % DV* | % DV* Total Fat Saturated Fat 0,5q 0.5g 3% Trans Fat ForweawuadedFa Cholesterol Omg 93G Sodium 240mg 310mg Total Carb, 33q Dietary Fiber <lg Total Sugars 17q Incl; Added Sugars 17g 33%| 17g Protein -- Cereal Filled To This Line -- Package contains empty space to accommodate product size andlor density variation and to ensure sufficient package sealing. This package is sold by weight, not by volume: Contents may settle during shipping and handling_ -- TRY THHESE OTHER GREAT FLAVORSI CRURCH CRUNCH BERRR CRUNCH -- CAPN_ HATuphLLV R CERUACHS  Al ARTFGHLL Oopsl FLVREI Vitamin C Omcg 2mcg DEES llotun Omg E\" 84mg Potassium 70mg 330mg_ iami 0.4mg_309|0.4mg 35% Sweetened Corn Riboflavin O.3mg 0.7mg _ 50% 6e Oat Cereal Niacin 48mg_309/4.8mg_ 30% Vitamin 0Smg 309|0.6mg 35% Folate DFE 240mcg ' 60% | 240mcg 60% Folic Acid (#47mcg) (47mcg) ERRARGED The = Daily Value  (DV) tells you | SHOW how much a nutrient in a serving of food contributes daily diet  2,000 DETAIL calories dav used for denera nutrition advice INGREDIENTS: Corn flour_ suqar oat flour, brown sudar palm andlor coconut oil, salt , sodium citrate, natural and artificial flavor, malic acid, red 40, blue  reduced iron; Bhyelow 5 piaciramider thiamine mononitrate * (to preserve freshness) pyridoxine drochloride riboflavin * , folic acid * One C 'the Bvitamins DISTRIBUTED BY: THE QUAKER OATS COMPANY PO.BOX 049003 CHICAGO 60604-9003 USA smartlabel\" D1 Scan here for more information 1-800-234-6281 Per 1/4 cup We're here to help (150] 0.5y 240mg 17g capncrunch:com or 800.234.6281 Please have packade available when calling CALORIEST SAT FAT SODIUM TOTAL SUGARS 02021 The Quaker Oats Company NET WT 16.9 02 (I LB) 480 9 30 DV I1o DL -- 7. BEAST BRUNHILDE JEAN \" LAFOOTE 4 8. 1. ALFIE 5 DAVE 9. SMEDLEY 2 CARLYLE 6. SEADOG BERTHA K E T C 3. E B 0 $ 8 V A D C L M X W B M L D E M R R 0 B W Re9 { B \" 2 V H W I M A D H Q J D U € B R B H L $ R Y 2 Y V N N Q H J V X C y T A H B X A W U A G J L 0 E F I E L I 2 B A L S K E A E 0 I K F L R Q U Q R 0 R I D I A L X € B R U C J Q D J K T E J 0 A E J E 2 A F H Q L N R V E [ 0 0 F A Q 2 P B B B E A $ T F X E 0 W $ -- Follow the Capn on -- @RealCapnCrunch Visit us on -- E -- Icapncrunch -- Mww.Capncrunch com -- Answers on bottom -- bopeas epfpleo apllyunig Kaipaus & { Ba8d 8 ajooje?4884 \"8 Iseag 5 sjamsUH -- cKUNcis Al NHTURHLLY & Oopla BERRES sue8areet Cor Corn -- I -- 7 oooo -- 32635732901 -- \n"
     ]
    },
    {
     "name": "stderr",
     "output_type": "stream",
     "text": [
      "Neither CUDA nor MPS are available - defaulting to CPU. Note: This module is much faster with a GPU.\n"
     ]
    },
    {
     "name": "stdout",
     "output_type": "stream",
     "text": [
      "038000001208_0.jpg ^^ LIFT TAB TO OPEN -- Ju3h 8V1 LH3SNI 3S073 01 -- Tdia -- Wo? 'uix 'Gauvm, 9 (Gry) JHL Nior -- STIVLJO 43H140J &0J IJNd XJV9 3JS -- 92 5 Kh 6 H -- CORN Corn Flakes@ 18 0z. FLAKES BEST If Used By Simple FAMILY SIZE Insidec OF 8 VIERNS& ESSENTIAL ARTIFICIAL NO OR FLAVORS COLORS 2eplooa CORN FLAKES ThE 0 R I G I NA L & B E S Te -- OIISV Id Hadvd -- 031411433 dVAiISMI HSVNOWN -- D8rope1 -- Keglagas CORN FLAKES -- Zeeloyaa CORN FLAKES FAT FREE Nutrition Facts/Datos de Nutricion ] Aboue (2 servings per containerlaorox: 12 raciones por eqvase Serving size/Tamaio por racion   1 1/2 Cup/ 1/2 Taza (42g] -- TRADITION OF -- \"S Mpyoe GOODN Esiosgs More recognized the possibilities in a single grain. And with the simple goodness of our toasted corn flakes, breakfast cereal was born. We've been making Kellogg's Corn Flakes\" with a simple recipe ever since. -- Amount per serving(Cantidad por racion Calories/Catorias |  1501 210 -- Kelan CORN FLAKESS -- Total FatlGirasa Total Saturated FatGrasa Saturada Trans FatlGrasa ranc Palunsaturated Poliinsaturada Monounsat FatGrasa Monoinsaturad esterol Colesterol 300mg  @oaloandigadateRaduhdralbo @oaT Dietarv Fiber/Fibra Dieteti Total Sugars/Azicares Totales Sugarsl Lazicares aiadbos  ProteinfProteinas -- CRISPY CHICKEN TENDERS simple, family favorite strips of chicken breast coated with Kellogg's Corn Flakese -- 380mg  -- OUR -- Vitamin DNitamina D Xmco 5.2mcg Calcium/Calcio 22Omg Iron/Hierro 12mg 12mg Potassium/Potasio 6Umg 340mg ThiaminTiaminz Riboflav Riboflavina HacinMacia Nitamina FolatelFolato (folic acidlacido fdlico) (15mcg) (045mcg)  Mitamin Bt2Nitamina Bt2 3096| 609 The Daily Value (DV) tells you how much a nutrient serving of fond contrinutes Io 3 da diet 2 OO0 calories 3 is used for general nutrition advice Valor Diario (VD) le indica cuanto un nut una Dorcin entos contrbuve 3 dieta diaria QOO calorias all se Utiliza para asesoramientc nutcicion Qei Ingredients: Milled corn, sugar; malt flavor; contains 2%0 or less of salt, Vitamins and Minerals: Iron (ferric phosphate) niacinamide, vitamin Bs (pyridoxine / hydrochloride) , vitamin Bz (riboflavin) , vitamin Bt (thiamin hydrochloride) , folic acid, vitamin D3, vitamin B12. Ingredientes: Maiz molido, azicar; sabor malta , contiene 2% menos de sal Vitaminas V Minerales: Hierro (fosfato ferrico) , niacinamida; vitamina Bs (clorhidrato de piridoxina) , vitamina Bz (riboflavina  vitamina (clorhidrato de tiamina) , acido folico; vitamina D3, vitamina B12: -- BEST IN EVERY BITE -- INGREDIENTS -- 5 cups Kellogg's Corn Flakese Cereal, crushed to desired consistency -- 1to 11/2 pounds chicken tenders, rinsed -- SUGGESVIOG Racion suderida -- DIRECTIONS Rinse chicken tenders with cold water and coat with crushed Kellogg's Corn Flakes Cereal: Place coated tenders on foil-lined baking sheet_ 2.Bake at 350PF for about 25 minutes or until chicken is tender; no longer pink and juices run clear: For food safety; internal temperature of the chicken should reach at least 165'F. Serve warm with your favorite dipping sauce -- ENLARGED TO SHOW TEXTURE Aqrandado para mostrar la textura -- Distributed by Kellogg Sales Co: Distribuido por Kellogg Sales Co. Battle Creek; 49016 TM, 2021 Kellogg NA Co: Product United Kingdom Producto de Reino Unido -- Contains bioengineered food ingredient Contiene= ingrediente producido con bioingenieria -- MONASH UNIVERSITY Low FODMAP CERTIFIED -- Questions Comments? VISIT kelloggscom CALL 1-800-962-1413 VCE Habl, ESPANOL) odoMinf dponucticn Conf DICMcf -- One serving of this product is low in FODMAPs: A low FODMAP diet does not ireat disease. Monash University receives license for the use of the Monash University Low FODMAP Certified frademarks. -- Motec these redipes hgve nod been Low FODMAP certified. To ledmd more visit hffp: Ikelloggscom/ Nutrition -- For more -- great recipes; visit kelloggs com -- 150 SAQHat 3@4 49 CALORIES OQ DV 139 DV s8IRs PER 1 1/2 CUP SERVING 3ooloyaa CORN FLAKES -- NET WTIPESO NETO 1802 (1 LB 2 02) (510g) CORNELIUS@ 0 Corn Flakes@ 18 02. 2 UPC Proof Purchase -- wox\"sbbollax --  8000 00 -- \n"
     ]
    },
    {
     "name": "stderr",
     "output_type": "stream",
     "text": [
      "Neither CUDA nor MPS are available - defaulting to CPU. Note: This module is much faster with a GPU.\n"
     ]
    },
    {
     "name": "stdout",
     "output_type": "stream",
     "text": [
      "038000016219_0.jpg ^^ LIFT TAB TO OPEN -- SPECIAL -- 383k811 LUJSNI 35073 0L -- CONNECT With -- Oka -- Xob Hadvd -- OPEN CAMERA OR QR READER & SCAN CODE -- oustnd -- Original -- HH -- keepitk com -- Kg pasn LS38 -- 'z0 84 IPUIbuO 0X Iep2ads -- SPECIAL -- FAMILY SIZE Keelogaf Kellogas\" Original This box features NaviLense SPECIAL technology to assist blind ad Nutrition Facts EVERYONE low-vision adults in the U.S About 13 servings per container Serving Size 14 Cup (39g) (Guad Source Of Cereal 4 DESERVES VITAMINS & wikim cir skim With the NaviLens code 11 MINERALS Calories 150| 210 PLACE _ THE and app, users can nOW easily Dvt %6 DV* Total Fat 0.5g 1% 1g 1% AT PROTEIN Saturated Fat 0% | 0g 0% find this product and hear 139 Trans Fat Og TABLE 7SFROONcE MILK CEREAL Polyunsat Fat Og its name, nutrition, and Monounsat: Fat 0g 7K TOASTED { promg 96 allergen information. 15% Simply GRAINS Dietary Fiber Total Sugars 6g Inci: Added Sugars 4g Protein 6% | 13g 18% Original  Vitamin D 2mcg 0% 2mcg_ 20% Calcium Omg 0% 230mg 15% Kelloygs Iron 10.9mg 60% | 10.9mg Original Poamiim 1Omg 300mg Vitamin 0% Betteh _ Days Vitamin E 0% Toasted Rice Cereal Thiamin Riboilavin 20% Kelloggs com/ BetterDays Vitamin Be 20% Folate 100% 260mcg 110% (folic acid) 260mcg Delicious Possibilities Vitamin Biz 20% 50% The servina of lood contrbules Dailv Value (DV) tells vou how much dally diet. O00 calories nutrient in dav is used for aeneral nutrition advice Kellogg is proud to be the first Ingredients: Rice , wheat gluten , sugar, defatted wheat germ contains 2% or less of salt, malt flavor; BHT for freshness. food company to feature this Vitamins and Minerals: Reduced iron; vitamin € (ascorbic acid) , niacinamide, vitamin acetate technology o its packaging in beta- rotene, folic acid, vitamin Bs (pyridoxine hydrochborideboiiaamin BtarthiaDin vhxdrocbforide), the U.S. Accessibility: part of CONTAINS WHEAT INGREDIENTS Distributed by Battle Creek M 49016 Kellogg Sales Co: our commitment to create TM; Contains bioengineered food ingredient 2022 Kellogg NA Co better days for 3 billion SERVING people by the end of 2030. SUCGESTION did you now ? Explore all the good stuff you may not know about your favorite cereals at Kelloggscom/DidYouKnow -- SPECIAL -- Original Delicious Possibilities -- SERVING  SUGGESTLON -- EMPOWERING THE VISUALLY IMPAIRED -- PER 1 1/4 CUP SERVING 150 Og 270mg 5g SAT FAT SODIUM TOTAL CALORIES SUGARS Q9o DV 1200 DV LSEE  NUTRITION EACTS FOR \"AS PREPARED\" INFORMATION -- Questions Comments? visIT kelloggs com CALL 1-800-962-1413 (Se HABLA ESPANOL) Provide Ppoduction Codf On Package -- NaviLensGO APP -- NaviLensGO APP -- CEREAL NET WT 180z (1 WB2 02 (510g) -- pDoevcled Ranendurhatrd -- kelloggs.com -- Ieuibuo -- aseyjind -- Ioold Ddn z0 84 [eUbuO aX /eppads -- 7vi)]ds -- \n"
     ]
    },
    {
     "name": "stderr",
     "output_type": "stream",
     "text": [
      "Neither CUDA nor MPS are available - defaulting to CPU. Note: This module is much faster with a GPU.\n"
     ]
    },
    {
     "name": "stdout",
     "output_type": "stream",
     "text": [
      "038000198595_0.jpg ^^ ~IFT TAB TO OPEN -- SOURCE 0F Good 8 VMTNERS $ -- Ju3h 8v1 LU3SNI 3S073 0L -- Redteds COCOA KRISPIES -- 01252,a Txo8a -- 2833 -- Kg posn 4LS38 -- \"0114033 -- ZOG\"SI @saidsuxeojoj- -- BeaRos COCOA KRISPIES Family Favorite Cocoa Krispies TREAtS BSMPLBONJGREDLELJUS 3 Tbsp Butter 40 large JET-PUFFED Marshmallows (OR 5 1/2 cups mini Jeg Cups KELLOGG\"sws) COCOA KRISPIES@ cereal OREGuoc In large saucepan melt butter over low heat. Add marshmallows and stir until completely melted. Remove from heat, -- Tede3s COCOA KRISPIES Nutrition Facts_Datos de Nutricion About |1 servings per container/aprox  raciones por eqvase Serving size/Tamano por racion Cup/t Taza (4Ug) Azate Amouat per serving Cantidad per racidn Calories/Calorias |  150/,220 #d |vd\" Gdv  vD' Total FallGrasa Total Saturated FatGrasa Saturada Trans FalGrasa Trans Palyursaurate_ Falerasa Palsaturadh Ghubsieraledesegzsllnutshvra Umd <mo SodiumdSodio 17Umg 258mg Total Carbohydrate Carbohidrato Total 359 Dietary FiberlFibra Dieteticz <g Total TSugars Jazicares Totales 159 ~Ho6ed Sugarsulnol azucares 36an Oos| 759 Protein Proteinas 2g -- MAKE Fun FaMiLy Memories SConmorrE the Rice Krispiese WayI RecipeSI RicekRISPIES.com/recipes -- ISNAP 8enlg33 COCOA KRISPIES NEW RECIPE_ Vitamin DMiamina D Zmco 1095| 4.2mcq 2096 MORA Calcium/Calcio Omg 22Omg Iron Hietco 7.2mg 4085 7,2mg Potassium Potasio_ 6Umg 340mg Ihiamin Mamina 203 2570 Add Kelloggso 1 CHOCOLATE Ribollavin Rybollavna 4556 2 Cocoa Krispiese cereal. iacinvMiacina Stir until well coated. Vitamin Be Vitamina Bs 208 Fdlate Folato 308 3096 (folic acidlacido tblco] (Zmcg] (7Umcg) Using buttered spatula Viamin Biz Mitamina B,z 20% 508 3 or wax paper; evenly coniibules The  Daily Vajue (DV) tell Ciel; 0D0 calories = you how much a nutrient in & setving 0f food advice /E Valor Diario (VD) Ie indica cuanio Un nubriente day is used for general nutrition press mixture into FNLARGED TO GHOR arimentos contribuye dieta diaria. 2,C0U calorizs Idia se Utiliza para Ica norcinn 13 x 9 x 2-inch pan coated  HOW TEXTURE asesoramizn Muticic 0 gener with cooking spray: Hosnaato cawra QoPi Ingredients: Rice, sugar;, cocoa processed with alkali, contains 2% or less of hydrogenated vegetable oil (coconut; soybean and/or cottonseed) , salt; malt flavor; Cool Cuts Settves Decouatel artificial flavor Vitamins and Minerals: Iron (ferric phosphate) Qicia EiderboazinBs (lride (pyridoxine  ehadrichioride}, hydrochloride) , folic acid, vitamin D3, vitamin B12. Ingredientes: Arroz, aziicar; cacao procesado con alcali , conliene 2% menos de aceite , vegetal hidrogenado (coco, soya; ylo semilla de algodon) , sal, sabor malta, sabor artificia Vitaminas y Minerales: Hierro (fosfato ferrico) , niacinamida, vitamina Bs (clorhidrato de piridoxina) , SNAP? vitamina Bz (riboflavina) vitamina Bz (clorhidrato de PoP? tiamina) , acido folico,vitamina D3, vitamina B12. Distribuido por Kellogg Sales Co Distributed by Kellogg Sales Co: TM; Battle Creek MI 49016 2022 Kellogg NA Co: Contiene un ingrediente producido con bioingenieria Contains bioengineered food ingredient SCAN Here For More CRACKLE? Recipesi rigekrispies.com/ReCIPES Questions or Comments? PER 1 CUP SERVING SERMING Visit kelloggscom SUGGESTION 150 0.5g 170mg 154 CALL 1-800-962-1413 CHOCOLATEY CALORIES SAT FAT SODIUM TOTAL PROViDE PFGDUCARMACOSPANOACKAGE 790 DV SUGARS SWEETENED RICE CEREAL CEREAL DE ARROZ ENDULZADO CON CHOCOLATE NETWIESONETO 15.5 0Z (439g) -- SERVING SUGGESTION -- SNAR -- Cey KDSH Press Play On ahappvdavi -- Sapt COCB So -- SCAN FOR cracKues SNAR; Cor; cun KiDs_GETRERKSSSONEEFOE COGG ONLINES 8 'Kepox Jabuny Saldsiax 8 Isuiebe uonoe axe1 pue XasNnh 6J0 AubunHpIxoN Ie jauued JIMON VOJO) Sied Jajag @S,660118X HISIA GBuvev -- eoedea Koai -- WWW ricekrispies com -- net Fon -- Jo0ud Jdn ZOS CL @saidsiuM8ojo3 @ -- 8 -- \n"
     ]
    },
    {
     "name": "stderr",
     "output_type": "stream",
     "text": [
      "Neither CUDA nor MPS are available - defaulting to CPU. Note: This module is much faster with a GPU.\n"
     ]
    },
    {
     "name": "stdout",
     "output_type": "stream",
     "text": [
      "038000198915_0.jpg ^^ FTTABT0 OPEN -- o Gam Kellogga ~WARD? Ker.com -- Ju3h AVL LUBSNI3S013 0L -- 8588132 -- FRoeT 8edlk3os LecPs PAPER Bor PLASIIC Batc Marshmallows Ka pesn 1528 'z0 S*0 | MoIIeWysIeWosdoo7 100ly Froot Loopse Marshmallow Follow Your Nose to 801230 Marshmallw Nutrition Facts/Datos de Nutricion FROOT Marchmallow Discoveries About 7 servings per containerlaprox  raciones por envase Serving size/Tamaio por racion   19/3 Cup/t !/3 Taza (a9g] Discoveries LOOPS Word Mix-Ur GEREAL FROT Amoual per servlag Cartiue Calories/Calorias | 140] 210 WORLD one-ana-Oie , Its Carred uoteran 8duob #D\"MD\" NUOCTAAMS; Total Fatitrasa Total to correctly spell Saturated Fat Grasa Saturada 050 Your guide through 0,5g Froot the marshmallow Trans FauGrasa Trans {Loops\" Worid: naltes: RRas Paluursaturated FauGrasa Palinsaturn) Konousa urated FauGzs3 Mmnoinsatuzdz ICaSRTYSL= are LCCPS CholesterolColesterol Umi <mg Coole carved out 0f djum- Sodio 17Omo 240mg Total Carbohydrate Carbohidrato Total\" |4g 12r frozen milkin Dietany Fiber Fibra Dietetica 29 Froot Loops Marshmallows | lottt Tatal Sugars/Azicares Tolales 169 /259 World: CON MAlVNIScoS Inc: Kdced Sugurinc: aicares Ji didus SCAN ThE ProteinProteinas Flowers CODE to join Marshmallows CON MALVAIScOS Vitamin DNiamina D 6mcg 3 8mcg  1550 Toucan Sam\" on a quest 'Ruity Caciumlacio Omg 220mg_ to find where all the Iron Hieto 36m9_ 2080 | 3 6m9 Froot Loops colors Potassium Potasio AUma 30m4 'come from? Kids, get permission FwosLRE grow Viamin CNitamina 20% before goingonline: Fruity l Thiamin Mamina clouds high abovethe Riboilavn Rybaflavinz Kfall when they  &gently_ Macin Macina arein fuli bloom: Viamin BsMiamina Bs Folate Folato CRySTA (folic aci dacido fblico) 5mcg) 35mcgl 8 Viamin Baz Nitamina B12 15# 5070 Tre % Daly Value (DV) tele hcmicna contnbl calones & day iS used for genera) nutrition nulrent in & serving of food The Swirly SOSNTE advice , Valor Diario WVD de alimentos contrbuye a una dJeta darl indica cuanto un nutrien 2,000 calorias al cla se utiliza en una porcion 'tumble down the cnmtrician Singing Mountains: Ingredients: Corn flour blend (whole grain yellow corn floug degerminated yellow corn flour), sugar; marshmallows (sugar; corn syrup; dextrose,natural flavor gelatin, yellow 5, red 40,yelow 6,blue Stone Good SOURCE 0F wheat Ilour; whole grain oal Ilour; modilied food starch; contains 2%0 or less of vegetable ol (hydrogenated coconut soybean andlor cottonseed oill, oat fiber; maltodextrin; sal solubl corn @ider natura| flavor; red 40,yellow blue |,yellow 6, BHT for freshness. How many 8 Vilamins and Minerals: Vitamin € (ascorbic acid| , reduced iron, niacinamide, vitamin Bs ' (pyrdoxine t hydrochloride) vitzmin Bz Fruit Stone (riboflavin) vitamin E (#hiamin hydrochloride|; folic acid, vitamin VitaMinS D3, vitamin Bt2. (Ailky Mazo Crabs MINERALS CONTAINS WHEAT INGREDIENTS Ingredientes: Mezcla de harina maiz (harina de maiz amarllo the flowand find can you find? integral,harina de maiz amariilo desgerminado), azicar;, malvaviscos Gowith t maze ofmilkfrom delicious  your waythrough, (azucar jarabe L de maiz, dextrosa; sabor natural; gelatina, amarilo 5, Astart to finishi Marshmallow rojo 40,amarllo 6,azul - harina de trigo, harina de avena start 't discoveries[ iniegral;, almidon = Imentario modilicado, coniiene 29 0 menos de aceite vegetal (coco hidrogenado, soya,ylo aceit de semilla de algodon) fibra de avena, maltodexdtrina, sal; fibra de maiz soluble, sabor natural; fojo amarillo 5,azul 1,amarillo &, BHT para Mantener Ia frescura, SaMG Vitaminas v Minerales: Vitamina lacido ascorbico), hierro KoucAN reducido; niacinamida, vitamina Bs (clorhidrato= piridoxina) vitamina B2 (riboilavina) viamina B1 (clornidrato de tamina); acido SWEETENED; (blico, vitamina D3, vitamina B1z. CONTIENE INGREDIENTES DE TRIGO MULTIGRAIN; Distributed by Distribuido por Kellogg Sales Co_ Kellogg Sales Co: CEREAL I TM; Battle Creek; 49016 2022 Kellogg NA Co_ tinisb Cereal multigrano Contiene un Contains ingrediente producido bioengineered food ingredient COi bioingenieria endlulzadol ENLARGED Tol SHOWVTEXTURE, Questions or Comments? Aprandado parr VisIt kelloggs com Mos (2 Afexlura CALL 1-800-962-1413 0.5g 170mg 16g (SE HABLA ESPANOL) 140 SAT FAT SODIUM TOTAL _ PROvide Production Code On PACKAGE CALORIES 340 Di 746 DV SUGRS PER 11/3 CUP SERVING  NETIpeSO NETO 10.502 (297g) sMoipwysipw Touan Sam ard tha Iage ot Tocan Sam Rectcled kelloggscom Vradelnarks ol Kelkon NA Ca S8 GZivee] Ioold Moii Ecn 'Z0 5\"0 jewysjeWesdoo7 J00lJ -- \n"
     ]
    },
    {
     "name": "stderr",
     "output_type": "stream",
     "text": [
      "Neither CUDA nor MPS are available - defaulting to CPU. Note: This module is much faster with a GPU.\n"
     ]
    },
    {
     "name": "stdout",
     "output_type": "stream",
     "text": [
      "038000199066_0.jpg ^^ LIFT TAB TO OPEN -- Ju3h av1 L83SNI 3S073 01  -- Redloggs FrOSTED FLAKES  OF CORN -- Die -- Yo8 Susvd \"u3dva -- S7IVv130 HjhxnJ &0J TNVd 30iS 33S 0J1JI1833 dVINdOJ MO7 ALISJJNINO HSVNOWN -- 03 -- 408 D8ia00 -- (g pasn 4S38 -- 'Z0 2*61 osaxeiy paisoly -- Good Source ol VITAMINS & 8 MINERALS -- corefully  cut along the l dotted Iine: adulte -- LARGE SIZE -- Reelggs FROSTED FLAKES OF CORN -- Reologan Kedluy3g FROSTED FROSTED FLAKES OF CORN FLAKES OF CORN GR-R-REAT, THEY' RE -- Nutrition Facts About 14 servings per container Serving size Cup (37g) Cereal with % = skim \" Gur Calories | 130/200 % DV: % DV: Total Fat 0% | 0g 096 Saturated Fat 0% 0% Trans Fat Polyunsaturated Fat 0g Monounsaturated Fat Cholesterol Omg 0% <Smg Sodium 190mg 789|270mg  12% Total Carbohydrate |33g 129|42g 1596 Dietary Iber 4%6 4% Total Sugars 129 22g Incl. Added Sugars 12g 12g Protein 2g 8g -- 6 dME -- Vitamin D Calcium Iron Potassium Thiamin Riboflavin Niacin Vitamin Bs Folate (folic acid) Vitamin B1z -- 2mcg_ 10%| 4.2mcg  20% Omg_ 0% /220m9 15% [72mg 40% 7.2mg 40%6 30mq 0%2 |320m9_ 6% 2090 2590 20%0 45%6 2090 20% 209 30% 30% (Z0mcg (ZOmcg) 2090 50%6 -- The % Daily Value (DV) tells you how much a nutrient in & serving of food contributes t0 a daily ciet: 2,000 calories & day is used lor general nutrition advice -- Ingredients: Milled corn , sugar; malt flavor; contains 2% or less of salt, Vitamins and Minerals: Iron (ferric phosphate) , niacinamide ; vitamin Be (pyridoxine hydrochloride} vitamin Bz (riboflavin) , vitamin (thiamin hydrochloride) folic acid, vitamin D3, vitamin B12: Distributed by ekellogg Sales Co: Battle Creek. 49016 TM; 2022 Kellogg NA Co. Contains bioengineered food ingredient -- PM SNTeMR 3ieswn -- 'Kreger} Retro Pack Todays Classic Tastel -- he official cereal of -- TONY THE TIGER\" -- Questions or Comments? Wci kelloggs com -- Color with crayons Co13z to create a sign for your [ bedroom door: Have an adult help cut outafter you have finished your YouR WAVI masterpiecel -- CALL -800-962-1413 PROVDE PRSDUCAIONCOSE COGPANOACKAGE -- CEREAL NETW 19202 (1 [B3.202) (54g) -- 130 Og 190mg 124 SAT FAT SODIUM TOTAL CALORIES SUGARS ~o90 DV 8V0 DV PER CUP SERVING -- One serving of Ihis product is low in -- FODMAPs_Alow FODMAP diet does nol treat disease. Monash Universily receives license Atee Jorthe use Ahe Monash University Low FODMAP Cerlified trademarks -- 066 OO0 -- 8 8 -- N8o? JO SaMV7- @E1SOU eBop -- 410096 Papecboard -- frostedflakes.com -- aseypind  joold Jdn \"Z0 Z 61 esaxelJ paisoly Gt211 -- THEY'RE GR-R-REAT!\" -- Tthey RB Gr-R REATI -- TONY -- Redluyea FROSTED FFLAKES -- FTonY -- \n"
     ]
    },
    {
     "name": "stderr",
     "output_type": "stream",
     "text": [
      "Neither CUDA nor MPS are available - defaulting to CPU. Note: This module is much faster with a GPU.\n"
     ]
    },
    {
     "name": "stdout",
     "output_type": "stream",
     "text": [
      "038000199349_0.jpg ^^ LIFT TAB TO OPEN -- Redleggs Frosted  Mini Wheals -- THe -- diecclery L PaPFP EPLASTIC BOX BAC -- 3831 &VL LU3SNI 3S07J 0L -- Amily (eohwo) KFr J C0 -- Ei 8288 -- ORIGINAL -- Kg pasn 4I JSa8 -- 'z0 81 IBUIbuO oslea4M-IUIW paisoly R8Gvi1 -- Redlogas) HIGH (Frosted  FIBER Mz Kelloggs com/DidYouKnow Reeloggs' ORIGINAL Whole Nutrition Facts_Datos de Nutricion Frostedl About 8 servings per containerlaprox; & raciones por envase Grain Serving size/iamaio por racijn 25 Biscuits/25 Galletas (GUg] Cereall dilkycon % taza de wilt% cupski Cereal Cereal Amount per serving/Cantidad por raciin Cereal integral  Calories_Galorias | 210] 270 Mini 9nV*nn Vt Total Fatytrasa Total Saturated FatlGrasa Saturada Trans FatlGrasa Trans Polyunsaturat FatlGrasz Poliinsaturada Monounsaturated FauGrasa Mondinsaturada CholesterolColesterol Omg SodiumySodio TOmg Wheals Total Carbohydrate/Carbohidrato Total S1g Daauuerdauusanae Insoluble Fiber/Fibra Insoluble Total Sugarst IAzicares Totales dded Suqars| azicares anadidos 12g ProteinfProteinas 5g T1g ORIGIMAL Vitamin DNitamina D Omcg 09 | 2.2mcg  10% Calcium Calcio Omg 230mg Iron Hierro 18mg _  10092 | 18mg   100% Potassium/Potasio 60mg 440mg ThiaminfTTiamina sweet Miacin/Niacina Perfectly FolatelFolato 100% 100% Wholesome (folic acidlacido folico) (235mcg) (235mcg)_ Phosphorus/Fostoro wheat Magnesium_Magnesio ZinciZinc The  contributes to 2 Daily Value (DV) tells you how much Iv die- ,00 calories a day is used nutrent in a serving Of food aduice Valor Diario (VD) ngica CiantoMn nitrIp general nutrition de alimentos contribuye a una dieta diaria 2,000 calorias al dia se utiliza para una porcion ~asesoramientc nutricion general Ingredients: Whole grain wheat;, sugar; contains 2% or Iess of brown rice syrup; gelatin; BHT for freshness Vitamins and Minerals: Reduced iron; folic acid, CONTAINS WHEAT INGREDIENTS_ Ingredientes: Trigo integral, azicar, contiene 2% 0 menos de jarabe de arroz integral, gelatina, BHT para mantener frescura Vitaminas \" Minerales: Hierro reducido, acido folico. CONTIENE INGREDIENTES DE TRIGO . Distribuido por Distributed by Kellogg Sales Co: etelloggs Sales Co: Battle Creek, 49016 TM; 2022 Kellogg NA Co_ -- Reeloggs Frosted Mini Wheals ORIGINAL -- Serfely with whelesome Wheat SHOW TEXTURE ENLARGED TO mostraladoe %exura -- PROFILE -- AbquT Im Mini. You're YOU: And we're about to seize the ddyl -- Packed with 48g whole grains: My name'$ Mini; but I'm mightyll -- Mini\" frostedminiwhedts -- I have A0O% Whole Wheat G am 4dOO% dedicated te yeur ddyl -- MoTto Tm here te stick with you. (It's kinda what I dol) -- did you\" now -- They made me with 40 ldyers &f awesomeness S6 we can do BIG things  together. -- Kelloggs com/DidYouKnow -- Questions or Comments? viSIT kelloggscom CALL 800-962-1413 (SE HABLA ESPANOL) PROVIDE PRODUCTION CODE ON PACKAGE -- 210 0 10mg 129 SAT FAT SODIUM TOTAL CALORIES  SUGARS O% DV Ooo DV PER 25 BISCUIT SERVING -- NET WTIPESO NETO 18 O2 (1 LB2 02) (510g) -- 7266 0008= -- 100% -- kelloggs com -- 1 3 -- subesectearae -- 7VNIJI4O -- gw4 Paisoly) D8rcpe1 -- aseujind ool~ Odn 'zo Ieuibuo @SieayM-IUIW paisoly -- 8 -- \n"
     ]
    },
    {
     "name": "stderr",
     "output_type": "stream",
     "text": [
      "Neither CUDA nor MPS are available - defaulting to CPU. Note: This module is much faster with a GPU.\n"
     ]
    },
    {
     "name": "stdout",
     "output_type": "stream",
     "text": [
      "038000199462_0.jpg ^^ \"LIFT TAB TO OPEN -- The -- 38875888 820 COSTENTSGAY 2544852 -- (Frosted Mini Wheals -- <aMIla Keelogga \"CWARO Kfr . Com -- J43h 8V1 LY3SNI 3S073 01 -- STRAWBERRY ~NATURALLY / AND, Jartfichally flavored -- RaoER PEEGc -- Kg posn JLLS38 -- 'Z0 €+1 MjaqeJIS @siea4M-IUIW paisoly -- Reeloz Frosted Mini Wheals -- HIGH FIBER -- 'e08@ Frosted Kelloggs com/DidYouKnow Mini Redlbggs Wheals Frosted  Wrale STRAWBERRY NATURALLY / 'AND ArTIFCHALLY flavored Cereal Nutrition Facts About 6 servings per container (Serving size 25 Biscuits (60g) Mini Cereal | Mahin or Calories| 210| 270  aDV' Total Fat Saturated Fat Trans Wheals Ponoussa Frat 0.,59 Cholesterot Omg <mg Sodium [Omg 85mg Total Carb: Dietary Fiber 336 STRAWBERRY Dooboerbe NATURALLY  AND JARTIICALLY FlaVoRED Total Sugars Nuded Suqars 12g 2400 12g Protein M1g Vitamin D Omcg 0%642.2mcg sweet Calcium TOmg 240mg_ ENLARGED T0 SHOW TEXTURE Iron [Emg   100S | 18mg Perfectly  Potassium 21Umg 500mg Wholesome Thiamin Niacin wheat Folate 1009 100% (folic acid (295mcg) (235mcg) Phosphorus_ Magnesium Zinc The % Daily Value (DV) tells you how much a nutrient calcries Epnar 1g of food contnbutes cay is used for general nutrit da ly diet; 2,000 aomce: Ingredients: Whole grain wheat, sugar; contains 2% or less of whole wheat ilour; brown rice syrup, gelatin, vegetable juice for color; natural and artificial flavors, citric acid, paprika extract color; beta-carotene for color; BHT for freshness Vitamins and Minerals: Reduced iron, folic acid, CONTAINS WHEAT INGREDIENTS . Distributed by Battle Creek; eelleggSles Co @,TM; 2022 Kellogg NA Co: 49016 Product of Canada -- Packed with juicy -- strawberry flavor ARTFICURLYFAORED -- PROFILE -- ABOUT I'm Mini. YoU're VoU. And we're about to seize the ddyl -- 'Colors from NATURAL SOURCES) -- Conquer the ddy with the fldvor 0f strawberries & the power of whole grain  NATuRALLY AND arTVFICUALLY FlavoreD -- I hdve 400% Whole Wheat am 10OO% dedicated] to your ddyl -- Mini frostedminiwheats -- Motto I'm here te stick with you. (It'$ kindd what I dol) -- They made me with 410 ldyers 0f awesomeness So we can do BIC things together. -- did you now -- Kelloggs com/DidYouKnow -- Questions or Comments? VisIT kelloggs com CALL 1-800-962-1413 (SE HABLA ESPANOL) PROVIDE PRodUCTIOn CODE On PACKAGE -- 210 Og 10mg 129 SAT FAT SODIUM TOTAL CALORIES SUGARS 090 DV 0%6 DV iER 25 BISCUI SERVING_ -- NET WT143.02 (405g}}  -- 66 -- 0008 -- 009e icled aberdoard -- kelloggs.com -- Q3HOA67}ATIVIOHIHV OW IATIVUnVn\" AdjaMvalS -- 2m [palsolyr 38B6qp26 -- S+l Aueqmejs @Sieaym-IuIW paisoly -- \n"
     ]
    },
    {
     "name": "stderr",
     "output_type": "stream",
     "text": [
      "Neither CUDA nor MPS are available - defaulting to CPU. Note: This module is much faster with a GPU.\n"
     ]
    },
    {
     "name": "stdout",
     "output_type": "stream",
     "text": [
      "038000199929_0.jpg ^^ LIFT TAB TO OPEN RICE -- JOIN THE 4AMIl} Kelloyga ) P6WARO  Kfr.com -- MONASH UNIVERSITY Low FODMAP CERTIFIED  SEE SDE PANEL For FurIHER DETALS: -- 383k 8VL LH3SNI 3S073 0L -- 881l338 KRISPIES -- Mt Txo8: puSVd -- \"Kepox Jabuny Isuiebe uonpe axe1 pue AagNnh 610 KubunHPIMON Ie Jauued QIMON SKed Joua8 e$,6b0118X HISIA -- 3e88 -- 4o343 -- Ag pasn 1S38 -- 'Z0 6 @saidsux 3318 -- 8eolges RICE KRISPIES Family Favorite Rice Krispies treats recipe BSUMPLBONJGREDIELIS 3 Tbsp Butter 40 Iarge JET-PUFFED Marshmallows (OR 5 1/2 cups mini JET-PUFFED Marshmallows) 6 Cups KELLOGG'S@ RICE KRISPIES@ cereal  @RCGUUOQIS In large saucepan melt butter over low heat. Add marshmallows and stir until completely melted. Remove from heat. -- 8ed2cos RICE KRISPES Nutrition Facts/Datos de Nutricion  About 6 servings per containerlaprox 6 raciones por envase Serving sizellamaio por taciin   1 V2 Cuplt Tazay Vz (4Ug] -- MAKE Fun FAMILY MeMoRIES the Rice Krispies\" Wayi SCAN Here For More CEREAL RecipesI Amquat per serving Cantidad per racibn Calories/Calorias |  150/220 Ricekrispies Com/recipes #DV\"aVp' #DV\"FaVp' Total Fatlbrasa Total Saturated FatGrasa Saturada Trans FatGrasa Trans Folyunsalurated FavGrasa Folinszluraca Queseoldaatadaluniraa Umg <mg SodiumFSodio 2Odmg 280mg Total Carbohydrate Carbohidrato Total 361 45g Dietarv Fiber Fibra Dietetca Total Sugars/Azucares Totales Jdeg Sugzts UI azuczles ZT20 8o5 ProteinfProteinas -- SNAP Redlgas RICE KRISPIES TOASTED RICE 1 CEREAL Vitamin D iamina D Smcg 152 5 ZMco   2570 GOOD SOURCE 0F Calcium-Calcio Omd 220mg CEREAL DE ARROZ TOSTADOj IronvHrerro 11 2mg 6095 | 11,2mg PotassiumPatasio 3Umg 328mg 28 Rice Keisguies\" cereal: 8 Tniami| Mananguwana Redleggs  Stir until well coated. QOPi Miacin Niacina VitaMinS & Vitamin Be Viamina Bs Folate Folato EVERYONE Using  buttered spatula MINERALS 3. (folic acid acido fdlico) (0smcg) (U15mcg) or wax paper, evenly DESERVES Btz Mitamina B12 press mixture into  Daily Value (DV) tells= how Much a nutrient in 3 serving of tood tHE PLACE 13 x 9 x 2-inch pan coated ENLARGED TO advice / El % Valor Diario contcibutes Nolet JO00 calories & day (s used for general nutrtion with 'cooking spray: SHOW TEXTURE 02 3l imertos contrbuye = dieta diaria, 2,000 calorias al dia = innica utiliza para 1 Dorcion asesoramieno Iricion genera TABLe A) Imostrar Agrandado Iara Hexiuura Cool Cu& Setve Decotatel Ingredients: Rice , sugar, contains 2% or less of salt; malt flavor: RICE_ Vitamins and Minerals: Iron (ferric phosphate) , KRISPIES niacinamide, vitamin Bs (pyridoxine hydrochloride) , Scan Codeon Backfo MoroRecipesl vitamin Bz (riboflavin) , vitamin B (thiamin SNAP? POP? hydrochloride) folic acid, vitamin D3, vitamin Biz: SERMNG Ingredientes: Arroz , azucar, contiene 2% menos de SUGGESTION sal , sabor malta. Vitaminas Minerales: Hierro (fosfato ferrico) , niacinamida, vitamina Bs (clorhidrato de piridoxina) , vitamina Bz (riboflavina vitamina B; (clorhidrato de tiamina) , acido folico, vitamina Dz, vitamina Biz: Distribuido por Kel Distributed by Kellogg Sales Co CRACKLE? Battle Creek, Ilogg9oale Sales Co: TM; Contains bioengineered food ingredient 2022 Kellogg NA Co: Contiene un ingrediente producido con bioingenieria EMPOWERING THE VISUALLY IMPAIRED -- SERVING SUGGESTION -- This box features NaviLense technology to assist blind ad low-vision adults in the US -- With the NaviLens code ad app, users can 0OW easily find this product and hear its name, nutrition, and allergen information -- Kedlozgse Betteh _ Dayr\" Kelloggs com/BetterDays Kellogg is proud to be the first food company to feature this technology on its packaging in the U.S. Accessibility: part of our commitment to create better days ' for 3 billion people by the end of 2030. -- SNAP; cRAcKLE; Pop -- Questions or Comments? Visit kelloggs.com Uca 1-800-962-1413 (SE HABLA ESPANOL) Provide Production Code PACKAGE -- SERMING SUGGESTION Racion sugerda -- 150 Og 200mg SAT FAT CALORIES SODIUM s8is 04 DV g46 DV PER 1 1/2 CUP SERVING: -- NaviLensGO APP -- FODNnPsexvovg PODs Rpdiet doeowot treat diseese Monash Unlersiny [0ceives license Iee tor the Use Itha Monash Universlty Low FODMAP Certilied trademark? -- NaviLensGO APP -- NET WTIPESO NETO 9 O2 (255g) -- 10090 -- A Bagecbeard -- WWW ricekrispies com -- SalSiax GRovep 331& -- aseyJina Ioold Odn 'zo @Saidsux a318 -- \n"
     ]
    },
    {
     "name": "stderr",
     "output_type": "stream",
     "text": [
      "Neither CUDA nor MPS are available - defaulting to CPU. Note: This module is much faster with a GPU.\n"
     ]
    },
    {
     "name": "stdout",
     "output_type": "stream",
     "text": [
      "038000270826_0.jpg ^^ ~LIft TABTO OPEN -- Ju3k8v1 L83SNI 3S013 0L -- 8800ao -- Raisin @unch Bran Original -- Two Sunit Scoops! -- [a03E FEGa -- Kaipasni 1638 -- STO€ ,4pun4? uejg uis;ey & -- MEGA SIZE E Exa GOOD SOURCE OF @unch FIBER @unch Original Original Bedbs Kelloggscom/DidYouKnow Nutrition Facts About 15 servings per container Raisin Serving size Cup (55g) Cereal Maim mr Calories 190/ 250 93 DV* % DV Total Fat 1% Saturated Fat 0% | Og 0%6 @Bran Trans Fat Og Popougaanazeddaat Og Og OUR Cholesterol Omg 096 <5mg Sodium 200mg 9%0 |280mg 12% BEST IN Total Carbohydrate 46g 17%6 | 569 2096 Dietary Fiber 1690 1696 Total Sugars 19g 28g EVERY Incl Added Sugars 13g 2690 | 139 2696 Protein 40 IOg @unch Vitamin D Omcg 0%6 2mcg 10%6 BITE Farcium 20mg Img 89 /25orgg_5% Lmg Potassium 280mg 692 | 560mg_70% Niacin 15%0 20%6 MADE WITH Phosphorus 10% 2596 Magnesium 10% SUN-RIPENED RAISINS Zinc 10%0 NORTH AMERICAN Original Gagpenese 80% 80% WHEAT The % Daily Value (DV) tells you how much a nulrient in & serving HEART qeneral nuliilion advice ol food contr butes I0 a daily diet_ 2,000 calories & cay is used for HEALTHY Ingredients: Whole grain wheat, sugar; rice , raisins wheat bran, whole grain oats  brown sugar syrup, vegetable glycerin . Contains 2% or less of corn Syrup; salt;, While mary factors aftect heart natural flavor; modified corn starch, disease, diets low in saturated molasses , palm oil, cinnamon; honey, mixed fat & cholesterol m3i reduce tocopherols (vitamin E) for freshness the risk Q1 tnis disease . CONTAINS WHEAT INGREDIENTS _ Distributed by Kellogg Sales Battle Creek; Mi 49016 Co. TM; 2021 Kellogg NA Co: Contains bioengineered food ingredient -- you -- Know? Fiber is a SUPER NUTRIENT that helps support digestive health -- Kellogg'so Raisin Bran Crunche Original is a GOOD SOURCE OF FIBER with a delicious blend of crispy bran flakes & sweet crunchy oat clusters -- Fiber helps support digestive health; an important part of OVERALL WELLNESS -- did you now -- Kelloggs com/DidYouKnow -- EnarIGED SHOWA FeXTURCI -- Questions or Comments? visit kelloggs com CALL 800-962-1413 (SE HABLA ESPANOL) PROVIDE PRODUCTION CODE PACKAGE -- Bded9 Raisin Bran -- Delicious ` Raisins, Clusters Glazed Toasted Flakes & Crunchy Oat with Touch of Golden Honey Og 200mg 19g CEREALI 190 CALORIES SAT FAT SODIUM TOTAL Q%o DV gQ DV SUGARS 'PER 1 CUP_SERVING NET_WTI 30.5.02 (1LB.14.5.02) (864g}} -- HEART HEALTHY -- did you now -- Explore all the good stuff you may not know about your favorite cereals at Kelloggs com/DidYouKnow -- Wnile many lactors affect hearl disease, diels IoW in satlrated iat = cholesterol mav reduce Ihe vsk oi ihis disease -- 3 8 -- WilavunS -- Lo0oe Beeedeitae -- kelloggs.com -- jeuibuo Qeva _ Youd) uSid @2uuev -- aseujind -- Ioold Ddn 'Z0 'S*O8 &42unj) uejg uisiey -- 3 -- \n"
     ]
    },
    {
     "name": "stderr",
     "output_type": "stream",
     "text": [
      "Neither CUDA nor MPS are available - defaulting to CPU. Note: This module is much faster with a GPU.\n"
     ]
    },
    {
     "name": "stdout",
     "output_type": "stream",
     "text": [
      "042400148623_1.jpg ^^ PER 1/3 CUP SERVING 150 Qat 2G 17, CALORIES SAT E TOTAL SUGARS DAW -- Malt @OMeal NATURALLY 8 ARTIFICIALLY FLAVORED G8d | 1 1 it's FREE! 1 love it or TASTE = GUARANTEE ! FORL 'DETAILS 2 SEE I 4 L NET WT38.5OZ (2LB6.502) 1.09kg CEREAL Snow ectti; -- \n"
     ]
    },
    {
     "name": "stderr",
     "output_type": "stream",
     "text": [
      "Neither CUDA nor MPS are available - defaulting to CPU. Note: This module is much faster with a GPU.\n"
     ]
    },
    {
     "name": "stdout",
     "output_type": "stream",
     "text": [
      "042400148647_0.jpg ^^ PER 11/2 CUP SERVING 170 Sat F9@3 (ALORIES T892 Sugars -- Malt OMeal Tootie Fruities | FLAVORED 1 NATURALLY L it orits FREE! 1 love SEE TASTE GUARANTEE / FoRL DETAILS I # 0 NET WT 33OZ (2LB 10Z) 935g CEREAL Showdto -- Uper -- 9 -- \n"
     ]
    },
    {
     "name": "stderr",
     "output_type": "stream",
     "text": [
      "Neither CUDA nor MPS are available - defaulting to CPU. Note: This module is much faster with a GPU.\n"
     ]
    },
    {
     "name": "stdout",
     "output_type": "stream",
     "text": [
      "042400240518_4.jpg ^^ PER 1 cUP SERVING 160 SaOat Z705 I7o CALORIES TOTAL SUgars 07 Dv I2  DY -- Malt @9Meal -- Smores 1 3 8 1 2 1 2 it's FREEI love it or 7 SEE TASTE C GUARANTEE FORE DETAILS 1 1 1 NET WT30 OZ(ILB 14 02)850g CEREAL En6w 89 -- \n"
     ]
    },
    {
     "name": "stderr",
     "output_type": "stream",
     "text": [
      "Neither CUDA nor MPS are available - defaulting to CPU. Note: This module is much faster with a GPU.\n"
     ]
    },
    {
     "name": "stdout",
     "output_type": "stream",
     "text": [
      "042400318651_0.jpg ^^ PER 1 CUP SERVING 170 Sar  2480w8 189 CALORIES TOTAL 0x DV 10 % DV sugars -- Malt OMeal -- GLUTEN Free 1 Dfo Bites 1 1 1 1 it's FREE! 2 love it or SEE TASTE = GUARANTEE ! FORI 'DETAILS @ 2 8 I NET WT 250Z(ILB 9 0Z) 708g CEREAL Snorgatd -- Familv -- \n"
     ]
    },
    {
     "name": "stderr",
     "output_type": "stream",
     "text": [
      "Neither CUDA nor MPS are available - defaulting to CPU. Note: This module is much faster with a GPU.\n"
     ]
    },
    {
     "name": "stdout",
     "output_type": "stream",
     "text": [
      "042400910787_0.jpg ^^ Zacs -- PER 1 1/4 CUP SERVING 160 Sat F90 785 calorieS Sugars -- Malt OMeal Frosted | Fakes 1 L 1 or it's FREE! love it TASTE GUARANTEE ! FORL ' DETAILS SEE I 4 1 NET WT 37OZ (2LB5 02)1.04kg CEREAL Enlargcd Som Dotail -- \n"
     ]
    },
    {
     "name": "stderr",
     "output_type": "stream",
     "text": [
      "Neither CUDA nor MPS are available - defaulting to CPU. Note: This module is much faster with a GPU.\n"
     ]
    },
    {
     "name": "stdout",
     "output_type": "stream",
     "text": [
      "058449162070_0.jpg ^^ HELP US SPREAD $1 MILLION OF LOVE TO FOOD BANKS -- BITEABITE -- ORGANI -- Aatures PATH love cpuncH PREMIUM ORGANIC GRANOLA -- CLEAR WINDOW -- DARK CHOCOLATE PEANUT BUTTER Fair Trade Dark Chocolate, Peanut Butter & Roasted Peanuts -- NON GMO Project R nongmoproject org -- USDA ORGANIC -- 11L501 (8258) -- 0 76207, 58449, 1244514,8284 Not \"Feeling The Love\"? If youre less than thrilled with this product; let us know: Just send the emptied bag with freshness code to: Consumer Services c/o Natures Path Foods, #275-250 H St: Blaine; WA 98230 USA or contact Us at: WWWnaturespath com/contact-us and weIl make things right: -- 'lIvO) euoneujaJul ajueanssv Kujeno Kq jjue8uo payi1a) Kuued-pJIY} S1 ponpojd 51Y1 vsn jo ponpoJd 0cr86 VM 'auiepd bul spooJ Y1ed SzaxnteN 808 as7 Joqly Kuelaia 3GLS 3008 ajeapKuoqueo je10l 3wo0t'& 3u00v' & ueu} ss87 unipos Buoog Buoo8 uey} ss87 Iouaisaio43 3G2 30z uey} ss37 1eJ leS 308 8g9 uey1 ssa7 1ey Ie1oL -- INo 630 -- Mi8HR = 0] leo3 -- :380439 1538 -- oos' -- 000'€ -- saijoieo -- aliqtalq /szuawatou/noqpfuovyipdsamniuMM \"no xpayj iUDaBOld alldbalg ay1 JO 'ypunj) #07 Jnoqp aJOU Ulba] 04 JUDM aLiabJLI8 '8pq 51y} asnaj #1O7 Jaubld, auuos MOYS Kp 8 1003 1! daax #107 0IOUD4D, #Uos MOYS -- spaau ?ujoie? nof uo Buipuadap Jamo jay31y Keu sanie^ / ~Jnoj \"jaip aujoie? 000'& paseq aje lea iuanjad -- 1 L % uOll unizie) 3 % 0 ulwue}iA % 0 uluue}i 3 ujaxoxd 3 9 sue3ns 3 % 8 & Jaqy Kelaia 6\"' 8L axeapKyoque) IexoL 3 8u SL unpos %  Bu 0 104a1sa1043 3 0 1ey sueaL 8 50 Jey pajeanies % 8 $ Je- Iejol Sv 1eJ WOl} Sa1o1e) OSL sauo1e) *anieA Kilea % Su1nOS Junout -- 'qe1 e Ul ou ~ u3y)4M e Ul apeu SI Buiknq aunok pooya41 1ey} noK saansse jeas UOIJEJYIBA 12aloxd OWD-UON a41puV *KlisjanpoIq pue Ilos Kyljeay dn piInq 01 pue] a41 Jo a8paIMOUX JJeUlul Jlay} asn sjauujey JnO spaas payipou Kjexnaua? pue sjeziuay? )llay1uKs DIXO} BUIpIOAE 'aJneN YII Kuouuuey ul poo} BUIMOJ8 JO WaisKs SI auniinjuBe )iue8JO 'OWD-UON 3 51ue6IO paljlka) \"a1Iq 1S.Y Je B^O] oqIl.41 iuunipos Mo] pue _ Jaqy 'suie.8 aJOYM YIIM passajq osie saJey} ejoue.8 uniuuajd 1noqe MOH isinuead OL wnoqe :Jaulejuov Jad sgulAJaS paiseox pue squny? a1ej030yp Xep JOJ 3u1y1  10D (8 08) dn) v/1:azis BuuaS issaupoo? ejoue.8 Kaiinq 1nuead JOJ Ile} 01 Kpead sx3e4 UOJuAIN \"Y1eay 3 #1se1 Jo abelew anbiun V NVIdVLJDJA 'uue_ BoJd a18ba18 ino YIM UOIIIIU Kos pue zeaym 'sinu IS 01 dn 'Yse3 JO pOOg UI sxueq pOOj 01 Junouue 7a4} 'YIIU sasn Jey} Kvpeg e u! pajnpold jenba ue ajeuop Ilam 'Knq nok ypunj) #^o7j0 \"sxnuead suiequo) '3iue310+ (J uiWez) Beq Ka^a JOJ OS O0} \"xpeq #N8 01 pajldsul sIojaydojo} Kauoy +JOAEU 'HeS eas '+YpJeIS JJaM Kueduo3 @ Se ZM 'SJuasaud IBuippaM Jo ajuu ',20JOJ '(,eIuea '#Ja1ng 8OJOJ oje1oj0y) nall UI SanunuUo) JIay} 01 xpeq #N8 01 ajdoad pauajaamsun {e8ns aue3) +sxuny? 31e102042 paxse Kay} uaym puV 'PIIOM &41 YI (suoAeU Xuep apeJL Jie] 'snuead '+IlO JaMoJuns 'qJalinq Mau auuos pue) 1! aueys 01 papipap aM OS '1! paAO] 1nuead xe8ns aue) ' sqeo pallod SLNJIOJYDNI auoKiaAa pue 'SuIppaM Jlay} JOJ uolleuedald UI ypunu) J^O7 JeUI81O ay1 a1ea13 01 paJldsul alaM DNIANJS #3d LVJ SNVUL 80 (Ajiwey Buipunoy; Jno Jo Hed) Wlylud 8 uel-v wniaos Mo7 \"DAOI xueq pooJ Jo uollllw Ls DNIAJJS 80€ &Jd SNIVMD J7OHM 8€L -- VTONV4D DINVDJO WnIWJad HjundJ d00n -- ajay -- JeaL -- 811108 LONHJd 8 31VIOJOH) XYHd -- \n"
     ]
    },
    {
     "name": "stderr",
     "output_type": "stream",
     "text": [
      "Neither CUDA nor MPS are available - defaulting to CPU. Note: This module is much faster with a GPU.\n"
     ]
    },
    {
     "name": "stdout",
     "output_type": "stream",
     "text": [
      "0602652171840_3.jpg ^^ ingredients you can see & pronounces -- MADE WITH 5 SUPER GRAINS -- KIND HEALTHY GRAINS -- Cinnamon Oat Granola with Flax Seeds -- HIGH IN FIBER 7g FAT PER SERVING -- 100% WHOLE GRAINS 39g PER SERVING -- GLUTEN FREE -- NO GENETICALLY ENGINEERED INGREDIEIS -- 'OATS, BUCKWHEAT, MILLET, AMARANTH; QUINOA -- GRAN NET WT 11 OZ ( '2 -- \"rutritig   maf #Ojc~erving S.2c -- \n"
     ]
    },
    {
     "name": "stderr",
     "output_type": "stream",
     "text": [
      "Neither CUDA nor MPS are available - defaulting to CPU. Note: This module is much faster with a GPU.\n"
     ]
    },
    {
     "name": "stdout",
     "output_type": "stream",
     "text": [
      "0884912116505_0.jpg ^^ PER | CUP SERVING -- Post 230 Sat FAT 0.59 240mg SODIUM total 10g CALORIES 3% DV 10% DV SUGARS greate CEREAL ShOW teXTURE ENLARGED to -- BANANA NUT CRUNCH NatuRally FLAVORED WITh OTHER NATURal FLAVORS -- BANANA CLUSTERS -- ALMONDS & WALNUTS -- FLAKES -- NON 7g 43g Gojec FIBER WHOLE GRAINS HEART HEALTHY VERIFIED CONTAINS 4.5g TotaL FAt DIETS RICH UN whole GRAUN Foods And OtheR PLANT nongmoproject org PER SERVING Foods; And LOW IN saturateD Fat And cholesTeROl; MAY help REDuCe THE RISK OF HEART DISEASE -- NET WT 15.5 0Z (439g) -- \n"
     ]
    },
    {
     "name": "stderr",
     "output_type": "stream",
     "text": [
      "Neither CUDA nor MPS are available - defaulting to CPU. Note: This module is much faster with a GPU.\n"
     ]
    },
    {
     "name": "stdout",
     "output_type": "stream",
     "text": [
      "0884912180629_4.jpg ^^ EXCELLENT SOURCE OF FIBER -- NON GMO VERI Projed] nongmoproject org -- Post 100% WHOLE GRAIN 0 R | G I N A L SHREDDED WHEAT SIZON CEREAL simpleGOODNESS -- ENLARGED TO SHOW TEXTURE -- Serving Suggestion PER 1 1/3 CUPS SERVING 210 0g Omg Og CALORIES SAT FAT SODIUM TOTAL SUGARS 0% DV 0% DV Not a low calorie food -- NET WT 16.402 (1 LB 0.4 02) 464g -- \n"
     ]
    },
    {
     "name": "stderr",
     "output_type": "stream",
     "text": [
      "Neither CUDA nor MPS are available - defaulting to CPU. Note: This module is much faster with a GPU.\n"
     ]
    },
    {
     "name": "stdout",
     "output_type": "stream",
     "text": [
      "602652171826_0.jpg ^^ ingredients you can see & pronouncee -- KIND MADE WITH 5 SUPER GRAINS* HEALTHY GRAINS @ -- Peanut Butter Clusters -- 10g PROTEIN -- GLUTEN FREE -- 100% GRONs 36g PER SERVING *OATS, BUCKWHEAT, MILLET, AMARANTH, QUINOA -- NO GENETICALLY ENGINEERED INGREDIENTS -- GRANOLA NET WT. 11 Oz (312g) -- All nutrition information above | based on a 65g serving size -- \"aoipe uoluinu [ejauab JO} pasn SI Kep 'Savopbo ' 000*z 731p Aep e 01 sainququo? pOOy Jo bupuas e 4I quanu e ypnU MOY nof sipa} (Aa) enpeA Miped % a4L -- sxpeuspulxo 0 woo'syoeuspUIX -- %V %OL -- bu88L %z -- bwz8 -- unisseiod UOJI unioleo UlWe -- buLv E3u0 %0 -- buuzz b310 -- %0 -- aweid Kp 'I00? JJ01S squalpaJbul pauodul pue olsouop YHIM sn apew -- %LL %z8 -- 60L %8 %01 -- upatold 6G siebns pappv ppul suebns Ie10L Jaqly Aeiaia 'q4e3 JezoL bugs wnipos 6uo [0481581043 ze- zesunouow ze- #esungOd JeJ sueJL JeJ paleanles hey [exol -- 99z0d-08-+0082 -- %bk %8n lS %0 -- 6v bLS buug buo %0 -- :A8 JS38 -- 60 ONIX v88*GS8 0314143 81001 AN AN %8 69\"L %8 keo] uOIleIS UMOIPIW SOL XO8 'Od %o1 68 %5 277 @NIM Kq nof 01 I46n048 #AQ #q 'spaas auuesas pue sinu a844 uleJUO? KeWN \"Kos pue snuead suie1uo? :UOnEUJoJul uabualIv 093 0z sapuoje) '(ssauysaay ulezuleu 01 spojaydovov) (6e9) dn? E/z Jad (b03) dn? 8/L Jad UJLUBIA 'IeS eas dnKs 3314 uMOJq 'eouinb 'Jnol} Imog Moeus pnuead 'YjueJeue '1alll '1eaymxonq 'stnuead '\"IIO nuead 'dnKs eooide} 'a1e1OSI ulalold KOS '334 uMOIq '(lleS eas (699} dn? €/z 9zis bulAleS 'sinuead) Jaunq Inuead 'Jebns oue3 'steO 'SLNBIA3UDNI abexoed Jad sbuluas wnoq, s4a1snpj Jauing Inuead 51e WOIN woosxpeuspumx te aj0u Ujea7 Japunoy @NIX 'Axzoqn7 poluea sunoK Kipuix -- Japulx 311411 pIIOM a41 axel 01 Kqiunuuuo? pue pUIU JO ajeis osie #nq 'puejq Isnl 10U @ONIX axe1 01 SI [e06 Jno xoeq O^I6 pue '&NI 'YJOM &M KeM &41 01 'axel &M spOoy pue sxoeus 41 WO4Y \"Ingpoedul KileiooS pue aiqeuieisns Kileoiuuouoja aUuOSaoyM pue Juaiua1U0? 'Kiset pue Kylleay as00Y? aM pue; Kes &M .O, J0 peaJsul 'Klluajayjip o11il Xuly} &M 'ONIX Ie &8H iKunuuwo? ONIX &41 01 BUOJIOM oPHJOM Jnof 8 spnq &1se1 Jnof *Apoq JnoK JO} 6ul4} purx &41 op -- iXlI 4YHIM -- iunbof JanO -- i06-aul ~uo -- \"0zs Bunes 659 e UQ poseq @1oqe UOnBULolul uonunu IIV \"Jue1uo3 Jebns pappe UOQBUUQJUI uonInU &3S \"bUJOS Jed Je} 08 SUIBJUOO -- ilnypuey &41 JO Injuoods &41 Kq Kolua 01 XoeUs 1o8juad &41 aue sjazsnpo Kyounjo Kisnopoiap as341 eouinb pue 'Yluejeuue '1alll '1eaymsonq Sleo suleub Jadns &OYM JO puaiq e WOJy apeW iypunuo Inybilap e pue ula1ojd 0 ypund snoluinu xoed sja1sniO osule.p KylleaH @NIX SNIV4D &3ans $ HLIM 3aVW -- 4381440 3o&nos @OOD NIaLOUd J0 338n0S @OOD wniaos MO7 SNIVHD 37OHM 698 -- \n"
     ]
    },
    {
     "name": "stderr",
     "output_type": "stream",
     "text": [
      "Neither CUDA nor MPS are available - defaulting to CPU. Note: This module is much faster with a GPU.\n"
     ]
    },
    {
     "name": "stdout",
     "output_type": "stream",
     "text": [
      "8167oSJ5FLL._AC_SX679_.jpg ^^ Gileral -- FAMILY SIZE -- W -- 16.7 Oz -- Cihnamod CERh RopS- -- \n"
     ]
    },
    {
     "name": "stderr",
     "output_type": "stream",
     "text": [
      "Neither CUDA nor MPS are available - defaulting to CPU. Note: This module is much faster with a GPU.\n"
     ]
    },
    {
     "name": "stdout",
     "output_type": "stream",
     "text": [
      "860479001522_0.jpg ^^ GLUTEN-FREE -- PLANT-BASED -- CATALINA -- GRUNCH KETO FRIENDLY Og tNot a low calorie food SUGARt Ilg PROTEIN ENLARGED SERVING SUGGESTION 9g 'TO ShOW TEXTURE FIBER* -- Cinnamon Toast CEREAL [88] total serving nutrition information NET WT, 9 0Z (255G) ERIFIED fat content nongmoproject.org -- NOThIng TO SEE HERE: GO ENJOY YOUR CEREAL AND TELL US WHAT YOU THINKI -- 'pOO} aij0/e9 MO] e ZON -- 'Jualuoj -- UOIIEWJOJUI UOIIIInU aS 'bulIS -- te} /e101 -- Loo 2709 -- w0? younjgeuileteJ@OJul ze sn IleU] iSLSJIOJ4 40 SNOILSJIO -- 6 -- xooq/abed 33 HISIA LZEL-bb&-888- L 04 S3dlj3d #xL -- ypunj3eullexe) -- ixooa 3d1334 OL3X 3383 -- I09\"SXJVNSVNITHLHJ -- palysites bullaay nof daax pue 'suled Jabuny anoK aielalle IIIM |eaua) 4314-ulaiold ano -- JJVId A&q 7003 V NI JH0LS '9NINJdO HJLJV SXJJM & NIHLIM 3S0 SSJNHSJHJ WOWIXVW 80J aOVu01S 'SLON J381 INV XIIW LONVId SJSS3J08d LVHL ALITIJVJ V NI (3SS3J0Hd -- 0zz91 NI SI7OdVNVIONI 'INI 'SXJVNS VNITVIVJ O31&14LSI -- 'SLNJIOJHJNI 7VHQLYN -- o31y4n) A77VIJJdS IOHJ JYW '+&vjns @JH 0432 HLIM 4781J @NH NiJlOHd @3SHa-LNVId JNIHAIVaY 'SJLIHOAHJ @OOHO7IH? &Q0X J0 HONng? @NV 31SVL]sn013i730 JWNHS JhL hLIM JVW SI 713433 400 -- 'JJVHLXI Lindy MNOW 'LJVHLXI VIAJLS 'JLVNOAHVJ WOi?7VJ 'L7VS VJS 'NOWYNNIJ 'SHOAV7J 7VHnLVN '4J1MOd 9NIXVU 710 4JMOTJNOS 31370 HDIH '40073 vjOldVL '(Wn9 4Vn9 '43913 1OOH AHOJIH? '4J81J NHOJ OWD-NON '4J81J OLVLOd 'NlJLOHd VJd) 40073 VNITVIVJ :SLNJIOJHDNI -- ajinpe uOIInU Iejauab -- Ooo'z Mllep buinas 'UI juauuinu yonu MO4 nof sila} (Aa) -- pOOL 0 -- mieq -- a4L+ -- % L %8 -- 6uo8 unisselod buug\" uOJI bwos wunioie? bou0 UIUeHA -- %V %0 -- S7OHODTV dvsns ON -- *dj813 NI HDIH -- aasva LNVId -- NV9a^ -- %Oz %0 -- 6LL ulaxold suebns pappv 60 sapnpoul 60 suebns e1O | %ze 66 Jaqly Kejaia %S 6v L #xexpAyoque3 IexoL %9 buoLLwnipos %0 buo 0421521042 60 1ey sueL %8 69\"0 JeJ paieunies %2 69 1eJ [eJOL Kllea op saqojes bulNaS qad 1unouv -- aJll Jaziq aalype nof -- djay Jey} swonpoxd Jalylleay 'snopoilap pajea4) a^eY aM 'suue Kueulin) YHM a3ua13S Ieuoluuinu bujuiquo) 'suebns 6uiziululu ?ll4M 'sle} poo6 pue JaqlJ 'ulawojd YIM apeu Apisaulea sx3eus pue sieaja) 6ullse}-Jea46 Kofua ue3 nof saAallaq O4M Dlaqeip Kq papunoy sem wsx?euS eulleje) AHOLS &n0 -- (698) dno 3/1 0z5 bulnlos Jaulejuo? Jad sbUloS noqv stoe= uoluuinN -- HJNOHJ OL XHM &31138 V -- \n"
     ]
    },
    {
     "name": "stderr",
     "output_type": "stream",
     "text": [
      "Neither CUDA nor MPS are available - defaulting to CPU. Note: This module is much faster with a GPU.\n"
     ]
    },
    {
     "name": "stdout",
     "output_type": "stream",
     "text": [
      "884912004727_3.jpg ^^ THE ORIGINAL -- Post EXCELLENT SOURCRR 100% OF THE DAILY WHOLE GRAIN RECOMMENDATION -- 0 -- Sr88 GMO NON POWER-PACKED CEREAL VERIFIED Project nongmoproject org NUTRITION -- ENLARGED TO SHOW TEXTURE SERVING SUGGESTION -- PER 1/2 CUP SERVING -- 210 270mg]| 5g CALORIES SAT FAT SODIUM SUGARS O%o DV 110 DV -- 7g FIBER 289/ DV -- IRON -- NET WT 29 02 (1 LB 13 0Z) 822y -- go% DV -- \n"
     ]
    },
    {
     "name": "stderr",
     "output_type": "stream",
     "text": [
      "Neither CUDA nor MPS are available - defaulting to CPU. Note: This module is much faster with a GPU.\n"
     ]
    },
    {
     "name": "stdout",
     "output_type": "stream",
     "text": [
      "884912006202_0.jpg ^^ PER 1 CUP SERVING -- 170 Og 240mg I7g CAlORIES SAT FAT SODIUM TOTAL SUgARS 0% DV 11% DV -- IROn -- Post -- 35% DV -- TM -- Jhs CEREAL god i the = teraiddbel -- SHOWRGERTTIRE -- NETWT 10.5 O2 (2979)  -- \n"
     ]
    },
    {
     "name": "stderr",
     "output_type": "stream",
     "text": [
      "Neither CUDA nor MPS are available - defaulting to CPU. Note: This module is much faster with a GPU.\n"
     ]
    },
    {
     "name": "stdout",
     "output_type": "stream",
     "text": [
      "884912006721_0.jpg ^^ FUN Post Aaunyg XARShMAuOI Back On TM Pebb _ BRAND SWEETENED RICE CEREAL with MARSHMALLOWS NAturAL = & artIfICIAL FRUIT FLAVORS -- EnlaRGED TO  SHOW TEXTURE -- PER ICUP' SERVING 160 0g 220mg 189 calORIES SAT FAT SODIUM TOTAL SUGARS 0% DV 10% DV -- NET WT 11 0Z (B11g) -- i -- \n"
     ]
    },
    {
     "name": "stderr",
     "output_type": "stream",
     "text": [
      "Neither CUDA nor MPS are available - defaulting to CPU. Note: This module is much faster with a GPU.\n"
     ]
    },
    {
     "name": "stdout",
     "output_type": "stream",
     "text": [
      "884912117625_5.jpg ^^ PER 1 CUP SERVING -- 150 0g 85m9 21 CALORIES SAT FAT SODIUM TOTAL SUgARS 0% DV 4% DV -- Post Cant Get Enough of that-e 6 T1en 1 OC S0 Sweetened Puffed Wheat Cereal -- ENLARGED TO SHOW teXtURE -- NET WI 1475 02 (418g) -- SUGAR BHAR -- \n"
     ]
    },
    {
     "name": "stderr",
     "output_type": "stream",
     "text": [
      "Neither CUDA nor MPS are available - defaulting to CPU. Note: This module is much faster with a GPU.\n"
     ]
    },
    {
     "name": "stdout",
     "output_type": "stream",
     "text": [
      "884912126115_0.jpg ^^ PER 3/4 CUP SERVING Post 200 SaT FAT Og 140mg SODIUM TOTAL 13g CALORIES 0% DV 6% DV  SUgars qreats grains CEREAL -- ENLARGED TO SHOW tEXTURE -- RAISINS, DATES & PECANS TM -- RAISINS & DATES -- FLAKES & CLUSTERS -- PECANS -- NON Sg 32g Gojec FIBER WHOLE GRAINS HEART HEALTHY VERIFIED CONTAINS 4g toTal Fat DIETS RICH IN WHOLE GRAIN FOODS AND OTHER PLANT nongmoproject org FOODS; AND LOW IN SATURATED FaT AND chOLESTeroL, PER SERVING MAY HELP REDUCE THE RISK OF HEART DISEASe -- NET WT 16 0Z (1 LB) 453g -- \n"
     ]
    },
    {
     "name": "stderr",
     "output_type": "stream",
     "text": [
      "Neither CUDA nor MPS are available - defaulting to CPU. Note: This module is much faster with a GPU.\n"
     ]
    },
    {
     "name": "stdout",
     "output_type": "stream",
     "text": [
      "884912180599_4.jpg ^^ EXCELLENT SOURCE OF FIBER -- NON GMO VER I Projec ] nongmoproject org -- Post -- W HEAT 'N B R A N -- SHREDDED WHEAT CEREAL SIZON simpleGOODNESS -- ENLARGED TO SHOW TEXTURE -- Serving Suggestion -- PER 1 1/3 CUPS SERVING 210 0g Omg 0g CALORIES SAT FAT SODIUM TOTAL SUGARS 0% DV 0% DV -- NET WT 1802 (1 LB 2 02) 510g -- \n"
     ]
    },
    {
     "name": "stderr",
     "output_type": "stream",
     "text": [
      "Neither CUDA nor MPS are available - defaulting to CPU. Note: This module is much faster with a GPU.\n"
     ]
    },
    {
     "name": "stdout",
     "output_type": "stream",
     "text": [
      "884912273116_5.jpg ^^ PER 1 1/3 CUP SERVING 160 Og 210ng I7g CALORIES SAT FAT SOdIUh TOTAL SUGARS 0% DV 9X DV -- Post 7.2mg 40% DV IRon ORREO CEREAL Os -- Enlarged to Show Detail -- NET WT 11 0Z (311g) -- \n"
     ]
    },
    {
     "name": "stderr",
     "output_type": "stream",
     "text": [
      "Neither CUDA nor MPS are available - defaulting to CPU. Note: This module is much faster with a GPU.\n"
     ]
    },
    {
     "name": "stdout",
     "output_type": "stream",
     "text": [
      "884912346513_1.jpg ^^ TEAR HERE TO REMOVE TOP_ -- See back for instructions _ -- EPP RIKXRZEAUDUParGNG Tear Off Ton Separate Ziasfo To Perforation Open ZIP TO CLOSE -- 2/ RESEALADZE RESEALABLE PACKAGING ZZIP-TO CLOSE -- Check Out These Post) FUN 3 4 (AASHHAo} Naturally  8 Marshmallow SHAPESI 8 Kuin ARTIFICIALLY/ FlavORED 8 orange 0 ReBDits 0 1 8 Watermelon 2 3 3 07 8 Pineapple 2io ng siewings per_ E 0 Calories Amount per serving Raspberry 1 2 160 BlueL 3 Toalraled at 0g 3 5 3 Cholesterol Trans Fat Og Banana 3 Omg Is E3 36g Strawberry I 1 83 Torecl [Suggnaded Sugars 91 362 1 8 E 2mcg YABBA DABBA DoOr I Iron 0.Tmg Vitamin _ Potassium 1Omg 1 8 lis Thiamin 08 { 3 8 Folate 240mcg DFE (145mcg folic acid) 60% 3 0 Zingnin 90% 1 'The % Daily Value (DV) tells you how much in a serving of food contributes t0 calories used qeneral nutrition advice dailv diet; 2.000 nutrient (sugar; Ingredients: Rice; Sugar; Marshmallows syrup, dextrose, modified cornstarch, gelatin, sodium corn hexametaphosphate, yellow red 40 88 0 E63ZC Red 40, Citric Acid, Blue and Artificial Flavor; Yellow BHT added Yellow Vitamins and Minerals: Niacinamide to preserve freshness: 3 Reduced Iron_ (Vitamin   B3) ,   Vitamin Zinc Oxide, Pyridoxine Palmitate Hydrochloride (Vitamin B6_ (Vitamin B2- Thiamin Mononitrate Riboflavin 8 Vitamin B12. (Vitamin B1), Vitamin D3 Folic Acid @POST CONSUMER BRANDS, LLC POST CONSUMER BRANDS, LLC LAKEVILLE; MN 55044,USA GLUTEN FREE postconsumerbrands.com visit us at: 1-800-431-POST (7678) call weekdays: 8 1 9 please have package available Sears 0 uernorgageoauoaae 50 (SEZSHIELD:  and elements Tm WBEI: Hanna-Barbera; Kung ZIP-PAKO and ZIP-PAK Symbol@ are registered Post registered trademark of Post Foods, LLC.  6f trademarks of ITW: BEST IF USED BY: 4 2 2 8 8 849 3465 THIS PACKAGE IS SOLD BY WEIGHT, NOT BY VOLUME: EEREAL MAY SE} FLE BURING SHPMENT -- \n"
     ]
    },
    {
     "name": "stderr",
     "output_type": "stream",
     "text": [
      "Neither CUDA nor MPS are available - defaulting to CPU. Note: This module is much faster with a GPU.\n"
     ]
    },
    {
     "name": "stdout",
     "output_type": "stream",
     "text": [
      "884912356185_2.jpg ^^ MEGA SIZE 27.5 02 -- Post CJCOA TM PeBBlts BRAND 8 ARTIFICIALLY NATurally RICe CEREAL SWEETENED 'FLAVORED [ with REAL COCOA chOcOLATE [ -- A1 -- ENLARGED T0 SHOW TEXTURE -- PER 1 CUP SERVING 140 Qr @2M 12, CALORIES SAT TOTAL SUGARS 0% DV 9% DV -- NET WT 27.5 02 (@B 11.5 02) 779g -- \n",
      "884912356192_5.jpg ^^ MEGA SIZE 27.5 02 -- Post BBrfty Tm ?eBBLeS BRAND RIcE ARTIFICIAL CEREAL SWEETENED NATURAL , AND FRUIT FLAVOR -- AX -- ENLARGED T0 SHOW TEXTURE -- PER 1 CUP SERVING 140 SaQar F9M5 129 CALORIES TOTAL SUGARS 0% DV 8% DV -- NET WI 275 0Z (@B 11.5 02) 779g -- \n"
     ]
    }
   ],
   "source": [
    "for image in os.listdir(image_path) :    \n",
    "    if image.endswith('jpg'):\n",
    "        reader = easyocr.Reader(['en'])\n",
    "        result = reader.readtext(image_path+image,paragraph=\"False\")\n",
    "        res_str = \"\"\n",
    "        for i,res in enumerate(result):\n",
    "            res_str += str(result[i][1]) + \" -- \"\n",
    "        print(image + \" ^^ \" + res_str)"
   ]
  },
  {
   "cell_type": "markdown",
   "metadata": {},
   "source": [
    "### UPC to Image download - code"
   ]
  },
  {
   "cell_type": "code",
   "execution_count": 21,
   "metadata": {},
   "outputs": [],
   "source": [
    "import pandas as pd\n",
    "from google.cloud import bigquery\n",
    "import urllib.request\n",
    "client = bigquery.Client()"
   ]
  },
  {
   "cell_type": "code",
   "execution_count": 47,
   "metadata": {},
   "outputs": [],
   "source": [
    "gmi_list = [1600016968,1600017003,1600012506,1600027526,1600012399,1600048772,1600012495,1600048794,1600016383,1600016875,1600012499,1600043779,1600048796,1600048665,1600016939,1600027532,1600017102,1600015643,1600027549,1600012183,1600049667,1600012541,1600043509,1600015781,1600016391,1600043819,1600017104,1600015163,1600016361,1600016392,1600027563,1600017108,1600016346,1600016344,1600016915,1600016963,1600036245,1600016849,1600016936,1600018517,1600016932,1600014154]\n",
    "kellogs_ls = [3800018177,3800019904,3800019934,3800019989,3800031834,3800019987,3800019975,3800000120,3800019973,3800020003,3800024873,3800019992,3800001621,3800019906,3800092422,3800014636,3800019891,3800019994,3800000110,3800026250,3800019871,3800019878,1862770317,3800014815,3800063570,3800026975,3800019955,3800019859,3800026985,3800077900,3800027102,1862710139,3800026996,3800019843,3800026983,3800021414,3800039103,3800024850,3800020066,3800024989,3800019841,3800027082,3800019946]\n",
    "pepsi_ls = [3000057322,3000057328,3000057321,3000057242,3000006083,3000006441,3000057243,3000057185,3000057325,3000057327,3000057184,3000057323,3000057329,3000057331,3000031379,3000057324,3000006403,3000043769]\n",
    "pl_ls = [200041808468,200029065922]\n",
    "post_ls = [88491212971,88491237927,88491212951,88491237928,88491235619,88491200471,88491229799,88491212611,4240038887,88491212974,88491235618,88491238587,88491229801,88491212601,4240038888,88491200672,88491218059,4240031864,88491200237,4240014862,4240024051,88491211762,88491200472,88491212965,4240091078,88491227311,88491211650,88491218005,4240018897,4240014864,4240038917,4240031865,88491234651,88491218062,88491200620,88491211470,4240092478,4240038991,4240092501]\n",
    "rm_mfr = [86047900152,60265217182,5844916207,60265217184,60265217199]\n",
    "final_df = pd.DataFrame()"
   ]
  },
  {
   "cell_type": "code",
   "execution_count": 48,
   "metadata": {},
   "outputs": [],
   "source": [
    "for product in rm_mfr:\n",
    "    upc = \"%\" + str(product) +\"%\"   \n",
    "    QUERY = ('Select base.product_title, img.upc, img.image_url from  `edw-prd-e567f9.itq.label_insights_human_products_images_fact` img '\\\n",
    "         'left join `edw-prd-e567f9.itq.dim_label_insights_human_products_base` base on  img.gtin14 = base.gtin14 '\\\n",
    "         'where img.upc like ?')\n",
    "\n",
    "    job_config = bigquery.QueryJobConfig(query_parameters=[bigquery.ScalarQueryParameter(None, \"STRING\", upc)])\n",
    "    df = client.query(QUERY, job_config = job_config).to_dataframe()\n",
    "    \n",
    "    final_df = final_df.append(df) "
   ]
  },
  {
   "cell_type": "code",
   "execution_count": 49,
   "metadata": {},
   "outputs": [],
   "source": [
    "final_df.to_clipboard(index=False)"
   ]
  },
  {
   "cell_type": "code",
   "execution_count": 50,
   "metadata": {},
   "outputs": [],
   "source": [
    "for i,rows in final_df.iterrows():\n",
    "    urllib.request.urlretrieve(rows['image_url'], str(rows['upc']) + \"_\"+str(i) + \".\" + rows['image_url'].split('.')[-1])   "
   ]
  }
 ],
 "metadata": {
  "kernelspec": {
   "display_name": "Python 3 (ipykernel)",
   "language": "python",
   "name": "python3"
  },
  "language_info": {
   "codemirror_mode": {
    "name": "ipython",
    "version": 3
   },
   "file_extension": ".py",
   "mimetype": "text/x-python",
   "name": "python",
   "nbconvert_exporter": "python",
   "pygments_lexer": "ipython3",
   "version": "3.7.5"
  }
 },
 "nbformat": 4,
 "nbformat_minor": 2
}
