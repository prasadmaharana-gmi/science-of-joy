{
 "cells": [
  {
   "cell_type": "markdown",
   "metadata": {},
   "source": [
    "### Image analysis"
   ]
  },
  {
   "cell_type": "code",
   "execution_count": 85,
   "metadata": {},
   "outputs": [],
   "source": [
    "#get colors from an image\n",
    "from PIL import Image\n",
    "import urllib\n",
    "import pandas as pd\n",
    "import matplotlib.pyplot as plt\n",
    "import numpy as np\n",
    "from colorthief import ColorThief\n",
    "import os\n",
    "import webcolors"
   ]
  },
  {
   "cell_type": "code",
   "execution_count": 86,
   "metadata": {},
   "outputs": [],
   "source": [
    "import pandas as pd\n",
    "image_path = r'C:\\\\Users\\\\G670813\\\\OneDrive - General Mills\\\\ITQ-prasad\\\\itq-analytics\\\\Computer Vision\\\\Joy\\Product Images\\\\selections\\\\'"
   ]
  },
  {
   "cell_type": "code",
   "execution_count": 8,
   "metadata": {},
   "outputs": [],
   "source": [
    "def closest_colour(requested_colour):\n",
    "    min_colours = {}\n",
    "    for key, name in webcolors.CSS3_HEX_TO_NAMES.items():        \n",
    "        r_c, g_c, b_c = webcolors.hex_to_rgb(key)\n",
    "        rd = (r_c - requested_colour[0]) ** 2\n",
    "        gd = (g_c - requested_colour[1]) ** 2\n",
    "        bd = (b_c - requested_colour[2]) ** 2\n",
    "        min_colours[(rd + gd + bd)] = name\n",
    "    return min_colours[min(min_colours.keys())]\n",
    "\n",
    "def get_colour_name(requested_colour):\n",
    "    try:\n",
    "        closest_name = actual_name = webcolors.rgb_to_name(requested_colour)\n",
    "    except ValueError:\n",
    "        closest_name = closest_colour(requested_colour)\n",
    "        actual_name = None\n",
    "    return actual_name, closest_name"
   ]
  },
  {
   "cell_type": "code",
   "execution_count": 9,
   "metadata": {},
   "outputs": [
    {
     "name": "stdout",
     "output_type": "stream",
     "text": [
      "Image name:  0016000123991_0.jpg Actual colour name: None , closest colour name: crimson\n",
      "Image name:  0016000163461_2.jpg Actual colour name: None , closest colour name: yellowgreen\n",
      "Image name:  0016000168756_0.jpg Actual colour name: None , closest colour name: darkslateblue\n",
      "Image name:  0016000169364_5.jpg Actual colour name: None , closest colour name: blanchedalmond\n",
      "Image name:  0016000169395_3.jpg Actual colour name: None , closest colour name: saddlebrown\n",
      "Image name:  0016000169630_2.jpg Actual colour name: None , closest colour name: cornflowerblue\n",
      "Image name:  0016000169685_7.jpg Actual colour name: None , closest colour name: brown\n",
      "Image name:  0016000170032_0.jpg Actual colour name: None , closest colour name: gold\n",
      "Image name:  0016000171022_1.jpg Actual colour name: None , closest colour name: skyblue\n",
      "Image name:  0016000171046_5.jpg Actual colour name: None , closest colour name: goldenrod\n",
      "Image name:  0016000171084_8.jpg Actual colour name: None , closest colour name: olivedrab\n",
      "Image name:  0016000185173_0.jpg Actual colour name: None , closest colour name: pink\n",
      "Image name:  0016000185173_9.jpg Actual colour name: None , closest colour name: pink\n",
      "Image name:  0016000275324_2.jpg Actual colour name: None , closest colour name: darkslategray\n",
      "Image name:  0016000275492_10.jpg Actual colour name: None , closest colour name: sandybrown\n",
      "Image name:  0016000275638_0.jpg Actual colour name: None , closest colour name: lavender\n",
      "Image name:  0016000437791_7.jpg Actual colour name: None , closest colour name: darkkhaki\n",
      "Image name:  0030000064030_0.jpg Actual colour name: None , closest colour name: antiquewhite\n",
      "Image name:  0030000572436_2.jpg Actual colour name: None , closest colour name: wheat\n",
      "Image name:  0038000198786_3.jpg Actual colour name: None , closest colour name: darkcyan\n",
      "Image name:  0038000199042_1.jpg Actual colour name: None , closest colour name: teal\n",
      "Image name:  0038000199752_0.jpg Actual colour name: None , closest colour name: teal\n",
      "Image name:  0038000199943_12.jpg Actual colour name: None , closest colour name: silver\n",
      "Image name:  0038000262500_9.jpg Actual colour name: None , closest colour name: goldenrod\n",
      "Image name:  0042400388876_1.jpg Actual colour name: None , closest colour name: crimson\n",
      "Image name:  0042400388883_5.jpg Actual colour name: None , closest colour name: sienna\n",
      "Image name:  0042400389170_5.jpg Actual colour name: None , closest colour name: saddlebrown\n",
      "Image name:  018627101390_0.jpg Actual colour name: None , closest colour name: chocolate\n",
      "Image name:  018627703174_5.jpg Actual colour name: None , closest colour name: lightgray\n",
      "Image name:  030000060834_0.jpg Actual colour name: None , closest colour name: darkslategray\n",
      "Image name:  030000064412_1.jpg Actual colour name: None , closest colour name: bisque\n",
      "Image name:  030000437698_0.jpg Actual colour name: None , closest colour name: goldenrod\n",
      "Image name:  030000573297_0.jpg Actual colour name: None , closest colour name: dodgerblue\n",
      "Image name:  038000001208_0.jpg Actual colour name: None , closest colour name: darkslategray\n",
      "Image name:  038000016219_0.jpg Actual colour name: None , closest colour name: steelblue\n",
      "Image name:  038000198595_0.jpg Actual colour name: None , closest colour name: sienna\n",
      "Image name:  038000198915_0.jpg Actual colour name: None , closest colour name: mediumvioletred\n",
      "Image name:  038000199066_0.jpg Actual colour name: None , closest colour name: darkcyan\n",
      "Image name:  038000199349_0.jpg Actual colour name: None , closest colour name: goldenrod\n",
      "Image name:  038000199462_0.jpg Actual colour name: None , closest colour name: crimson\n",
      "Image name:  038000199929_0.jpg Actual colour name: None , closest colour name: darkcyan\n",
      "Image name:  038000270826_0.jpg Actual colour name: None , closest colour name: mediumvioletred\n",
      "Image name:  042400148623_1.jpg Actual colour name: None , closest colour name: gold\n",
      "Image name:  042400148647_0.jpg Actual colour name: None , closest colour name: firebrick\n",
      "Image name:  042400240518_4.jpg Actual colour name: None , closest colour name: midnightblue\n",
      "Image name:  042400318651_0.jpg Actual colour name: None , closest colour name: saddlebrown\n",
      "Image name:  042400910787_0.jpg Actual colour name: None , closest colour name: darksalmon\n",
      "Image name:  058449162070_0.jpg Actual colour name: None , closest colour name: sienna\n",
      "Image name:  0602652171840_3.jpg Actual colour name: None , closest colour name: darkolivegreen\n",
      "Image name:  0884912116505_0.jpg Actual colour name: None , closest colour name: gainsboro\n",
      "Image name:  0884912180629_4.jpg Actual colour name: None , closest colour name: crimson\n",
      "Image name:  602652171826_0.jpg Actual colour name: None , closest colour name: black\n",
      "Image name:  8167oSJ5FLL._AC_SX679_.jpg Actual colour name: None , closest colour name: darkslateblue\n",
      "Image name:  860479001522_0.jpg Actual colour name: None , closest colour name: sandybrown\n",
      "Image name:  884912004727_3.jpg Actual colour name: None , closest colour name: midnightblue\n",
      "Image name:  884912006202_0.jpg Actual colour name: None , closest colour name: firebrick\n",
      "Image name:  884912006721_0.jpg Actual colour name: None , closest colour name: darkturquoise\n",
      "Image name:  884912117625_5.jpg Actual colour name: None , closest colour name: goldenrod\n",
      "Image name:  884912126115_0.jpg Actual colour name: None , closest colour name: darkmagenta\n",
      "Image name:  884912180599_4.jpg Actual colour name: None , closest colour name: sienna\n",
      "Image name:  884912273116_5.jpg Actual colour name: None , closest colour name: silver\n",
      "Image name:  884912346513_1.jpg Actual colour name: None , closest colour name: deepskyblue\n",
      "Image name:  884912356185_2.jpg Actual colour name: None , closest colour name: sandybrown\n",
      "Image name:  884912356192_5.jpg Actual colour name: None , closest colour name: teal\n"
     ]
    }
   ],
   "source": [
    "for image in os.listdir(image_path) :\n",
    "    if image.endswith('jpg'):\n",
    "          color_thief = ColorThief(image_path+image)          \n",
    "          # get the dominant color\n",
    "          dominant_color = color_thief.get_color(quality=1)                    \n",
    "          actual_name, closest_name = get_colour_name(dominant_color)          \n",
    "          print(\"Image name: \", image, \"Actual colour name:\", actual_name, \", closest colour name:\", closest_name)"
   ]
  },
  {
   "cell_type": "code",
   "execution_count": null,
   "metadata": {},
   "outputs": [],
   "source": []
  },
  {
   "cell_type": "markdown",
   "metadata": {},
   "source": [
    "### OCR"
   ]
  },
  {
   "cell_type": "code",
   "execution_count": 87,
   "metadata": {},
   "outputs": [],
   "source": [
    "#uses a diff venv - won't work in the same env\n",
    "import os\n",
    "import easyocr\n",
    "from matplotlib import pyplot as plt\n",
    "import numpy as np"
   ]
  },
  {
   "cell_type": "code",
   "execution_count": 88,
   "metadata": {},
   "outputs": [],
   "source": [
    "img = \"016000123991_0.jpg\""
   ]
  },
  {
   "cell_type": "code",
   "execution_count": 89,
   "metadata": {},
   "outputs": [
    {
     "name": "stdout",
     "output_type": "stream",
     "text": [
      "Image Processing complete\n"
     ]
    }
   ],
   "source": [
    "path=os.listdir(image_path)\n",
    "gray_img = Image.open(image_path+path[0])\n",
    "obj=ImageEnhance.Sharpness(gray_img)\n",
    "new_img=obj.enhance(5.0)\n",
    "test=new_img.save(image_path+\"\\\\gray\\\\test\\\\\"+path[0])\n",
    "print(\"Image Processing complete\")"
   ]
  },
  {
   "cell_type": "code",
   "execution_count": 90,
   "metadata": {},
   "outputs": [
    {
     "name": "stderr",
     "output_type": "stream",
     "text": [
      "Using CPU. Note: This module is much faster with a GPU.\n"
     ]
    },
    {
     "name": "stdout",
     "output_type": "stream",
     "text": [
      "C:\\\\Users\\\\G670813\\\\OneDrive - General Mills\\\\ITQ-prasad\\\\itq-analytics\\\\Computer Vision\\\\Joy\\Product Images\\\\selections\\\\0016000123991_0.jpg ^^ FTT Da Ua TDCC#LLXCes -- DAk4 Siatm -- General Mills -- FROSTED TOASTED OAT CEREAL WITH MARSHMALLOWS -- Iucky charms -- MARSHMALLOW SHAPES AND COLORS MAY VARY -- ENLARGED TO  SHOW DETAIL -- PERT CUPSERVING 140 Og 230mg  129 CALORIES SAT FAT SODIUM TOTAL 09 DV 1046 DV SUGARS SEE HUTRMOH FACTS FR\"US PREPARED P(NFORMAnON -- Gluten Free -- NETWT 1050Z (297g) -- \n"
     ]
    }
   ],
   "source": [
    "reader = easyocr.Reader(['en'],gpu=False)\n",
    "image=image_path+path[0]\n",
    "result = reader.readtext(image,paragraph=\"False\")\n",
    "res_str = \"\"\n",
    "for i,res in enumerate(result):\n",
    "    res_str += str(result[i][1]) + \" -- \"\n",
    "print(image + \" ^^ \" + res_str)"
   ]
  },
  {
   "cell_type": "code",
   "execution_count": 82,
   "metadata": {},
   "outputs": [],
   "source": [
    "temp_d={'image':image,'text':res_str}\n",
    "tem_df=pd.DataFrame(temp_d,index=[0])"
   ]
  },
  {
   "cell_type": "code",
   "execution_count": 83,
   "metadata": {},
   "outputs": [],
   "source": [
    "tem_df.to_excel('test2.xlsx')"
   ]
  },
  {
   "cell_type": "markdown",
   "metadata": {},
   "source": [
    "### UPC to Image download - code"
   ]
  },
  {
   "cell_type": "code",
   "execution_count": 3,
   "metadata": {},
   "outputs": [],
   "source": [
    "import pandas as pd\n",
    "from google.cloud import bigquery\n",
    "import urllib.request\n",
    "os.environ[\"GCLOUD_PROJECT\"] = \"edw-prd-e567f9\"\n",
    "client = bigquery.Client()"
   ]
  },
  {
   "cell_type": "code",
   "execution_count": 4,
   "metadata": {},
   "outputs": [],
   "source": [
    "gmi_list = [1600016968,1600017003,1600012506,1600027526,1600012399,1600048772,1600012495,1600048794,1600016383,1600016875,1600012499,1600043779,1600048796,1600048665,1600016939,1600027532,1600017102,1600015643,1600027549,1600012183,1600049667,1600012541,1600043509,1600015781,1600016391,1600043819,1600017104,1600015163,1600016361,1600016392,1600027563,1600017108,1600016346,1600016344,1600016915,1600016963,1600036245,1600016849,1600016936,1600018517,1600016932,1600014154]\n",
    "kellogs_ls = [3800018177,3800019904,3800019934,3800019989,3800031834,3800019987,3800019975,3800000120,3800019973,3800020003,3800024873,3800019992,3800001621,3800019906,3800092422,3800014636,3800019891,3800019994,3800000110,3800026250,3800019871,3800019878,1862770317,3800014815,3800063570,3800026975,3800019955,3800019859,3800026985,3800077900,3800027102,1862710139,3800026996,3800019843,3800026983,3800021414,3800039103,3800024850,3800020066,3800024989,3800019841,3800027082,3800019946]\n",
    "pepsi_ls = [3000057322,3000057328,3000057321,3000057242,3000006083,3000006441,3000057243,3000057185,3000057325,3000057327,3000057184,3000057323,3000057329,3000057331,3000031379,3000057324,3000006403,3000043769]\n",
    "pl_ls = [200041808468,200029065922]\n",
    "post_ls = [88491212971,88491237927,88491212951,88491237928,88491235619,88491200471,88491229799,88491212611,4240038887,88491212974,88491235618,88491238587,88491229801,88491212601,4240038888,88491200672,88491218059,4240031864,88491200237,4240014862,4240024051,88491211762,88491200472,88491212965,4240091078,88491227311,88491211650,88491218005,4240018897,4240014864,4240038917,4240031865,88491234651,88491218062,88491200620,88491211470,4240092478,4240038991,4240092501]\n",
    "rm_mfr = [86047900152,60265217182,5844916207,60265217184,60265217199]\n",
    "final_df = pd.DataFrame()"
   ]
  },
  {
   "cell_type": "code",
   "execution_count": 5,
   "metadata": {},
   "outputs": [
    {
     "ename": "Forbidden",
     "evalue": "403 POST https://bigquery.googleapis.com/bigquery/v2/projects/edw-prd-e567f9/jobs?prettyPrint=false: Caller does not have required permission to use project edw-prd-e567f9. Grant the caller the roles/serviceusage.serviceUsageConsumer role, or a custom role with the serviceusage.services.use permission, by visiting https://console.developers.google.com/iam-admin/iam/project?project=edw-prd-e567f9 and then retry. Propagation of the new permission may take a few minutes.\n\nLocation: None\nJob ID: c8e4f8ad-85e7-4a31-8451-cd15b2116c27\n [{'@type': 'type.googleapis.com/google.rpc.Help', 'links': [{'description': 'Google developer console IAM admin', 'url': 'https://console.developers.google.com/iam-admin/iam/project?project=edw-prd-e567f9'}]}, {'@type': 'type.googleapis.com/google.rpc.ErrorInfo', 'reason': 'USER_PROJECT_DENIED', 'domain': 'googleapis.com', 'metadata': {'consumer': 'projects/edw-prd-e567f9', 'service': 'bigquery.googleapis.com'}}]",
     "output_type": "error",
     "traceback": [
      "\u001b[1;31m---------------------------------------------------------------------------\u001b[0m",
      "\u001b[1;31mForbidden\u001b[0m                                 Traceback (most recent call last)",
      "\u001b[1;32m~\\AppData\\Local\\Temp\\ipykernel_4736\\603179317.py\u001b[0m in \u001b[0;36m<module>\u001b[1;34m\u001b[0m\n\u001b[0;32m      6\u001b[0m \u001b[1;33m\u001b[0m\u001b[0m\n\u001b[0;32m      7\u001b[0m     \u001b[0mjob_config\u001b[0m \u001b[1;33m=\u001b[0m \u001b[0mbigquery\u001b[0m\u001b[1;33m.\u001b[0m\u001b[0mQueryJobConfig\u001b[0m\u001b[1;33m(\u001b[0m\u001b[0mquery_parameters\u001b[0m\u001b[1;33m=\u001b[0m\u001b[1;33m[\u001b[0m\u001b[0mbigquery\u001b[0m\u001b[1;33m.\u001b[0m\u001b[0mScalarQueryParameter\u001b[0m\u001b[1;33m(\u001b[0m\u001b[1;32mNone\u001b[0m\u001b[1;33m,\u001b[0m \u001b[1;34m\"STRING\"\u001b[0m\u001b[1;33m,\u001b[0m \u001b[0mupc\u001b[0m\u001b[1;33m)\u001b[0m\u001b[1;33m]\u001b[0m\u001b[1;33m)\u001b[0m\u001b[1;33m\u001b[0m\u001b[1;33m\u001b[0m\u001b[0m\n\u001b[1;32m----> 8\u001b[1;33m     \u001b[0mdf\u001b[0m \u001b[1;33m=\u001b[0m \u001b[0mclient\u001b[0m\u001b[1;33m.\u001b[0m\u001b[0mquery\u001b[0m\u001b[1;33m(\u001b[0m\u001b[0mQUERY\u001b[0m\u001b[1;33m,\u001b[0m \u001b[0mjob_config\u001b[0m \u001b[1;33m=\u001b[0m \u001b[0mjob_config\u001b[0m\u001b[1;33m)\u001b[0m\u001b[1;33m.\u001b[0m\u001b[0mto_dataframe\u001b[0m\u001b[1;33m(\u001b[0m\u001b[1;33m)\u001b[0m\u001b[1;33m\u001b[0m\u001b[1;33m\u001b[0m\u001b[0m\n\u001b[0m\u001b[0;32m      9\u001b[0m \u001b[1;33m\u001b[0m\u001b[0m\n\u001b[0;32m     10\u001b[0m     \u001b[0mfinal_df\u001b[0m \u001b[1;33m=\u001b[0m \u001b[0mfinal_df\u001b[0m\u001b[1;33m.\u001b[0m\u001b[0mappend\u001b[0m\u001b[1;33m(\u001b[0m\u001b[0mdf\u001b[0m\u001b[1;33m)\u001b[0m\u001b[1;33m\u001b[0m\u001b[1;33m\u001b[0m\u001b[0m\n",
      "\u001b[1;32m~\\AppData\\Local\\Programs\\Python\\Python37\\lib\\site-packages\\google\\cloud\\bigquery\\client.py\u001b[0m in \u001b[0;36mquery\u001b[1;34m(self, query, job_config, job_id, job_id_prefix, location, project, retry, timeout, job_retry, api_method)\u001b[0m\n\u001b[0;32m   3416\u001b[0m                 \u001b[0mretry\u001b[0m\u001b[1;33m,\u001b[0m\u001b[1;33m\u001b[0m\u001b[1;33m\u001b[0m\u001b[0m\n\u001b[0;32m   3417\u001b[0m                 \u001b[0mtimeout\u001b[0m\u001b[1;33m,\u001b[0m\u001b[1;33m\u001b[0m\u001b[1;33m\u001b[0m\u001b[0m\n\u001b[1;32m-> 3418\u001b[1;33m                 \u001b[0mjob_retry\u001b[0m\u001b[1;33m,\u001b[0m\u001b[1;33m\u001b[0m\u001b[1;33m\u001b[0m\u001b[0m\n\u001b[0m\u001b[0;32m   3419\u001b[0m             )\n\u001b[0;32m   3420\u001b[0m         \u001b[1;32melse\u001b[0m\u001b[1;33m:\u001b[0m\u001b[1;33m\u001b[0m\u001b[1;33m\u001b[0m\u001b[0m\n",
      "\u001b[1;32m~\\AppData\\Local\\Programs\\Python\\Python37\\lib\\site-packages\\google\\cloud\\bigquery\\_job_helpers.py\u001b[0m in \u001b[0;36mquery_jobs_insert\u001b[1;34m(client, query, job_config, job_id, job_id_prefix, location, project, retry, timeout, job_retry)\u001b[0m\n\u001b[0;32m    112\u001b[0m             \u001b[1;32mreturn\u001b[0m \u001b[0mquery_job\u001b[0m\u001b[1;33m\u001b[0m\u001b[1;33m\u001b[0m\u001b[0m\n\u001b[0;32m    113\u001b[0m \u001b[1;33m\u001b[0m\u001b[0m\n\u001b[1;32m--> 114\u001b[1;33m     \u001b[0mfuture\u001b[0m \u001b[1;33m=\u001b[0m \u001b[0mdo_query\u001b[0m\u001b[1;33m(\u001b[0m\u001b[1;33m)\u001b[0m\u001b[1;33m\u001b[0m\u001b[1;33m\u001b[0m\u001b[0m\n\u001b[0m\u001b[0;32m    115\u001b[0m     \u001b[1;31m# The future might be in a failed state now, but if it's\u001b[0m\u001b[1;33m\u001b[0m\u001b[1;33m\u001b[0m\u001b[1;33m\u001b[0m\u001b[0m\n\u001b[0;32m    116\u001b[0m     \u001b[1;31m# unrecoverable, we'll find out when we ask for it's result, at which\u001b[0m\u001b[1;33m\u001b[0m\u001b[1;33m\u001b[0m\u001b[1;33m\u001b[0m\u001b[0m\n",
      "\u001b[1;32m~\\AppData\\Local\\Programs\\Python\\Python37\\lib\\site-packages\\google\\cloud\\bigquery\\_job_helpers.py\u001b[0m in \u001b[0;36mdo_query\u001b[1;34m()\u001b[0m\n\u001b[0;32m     89\u001b[0m \u001b[1;33m\u001b[0m\u001b[0m\n\u001b[0;32m     90\u001b[0m         \u001b[1;32mtry\u001b[0m\u001b[1;33m:\u001b[0m\u001b[1;33m\u001b[0m\u001b[1;33m\u001b[0m\u001b[0m\n\u001b[1;32m---> 91\u001b[1;33m             \u001b[0mquery_job\u001b[0m\u001b[1;33m.\u001b[0m\u001b[0m_begin\u001b[0m\u001b[1;33m(\u001b[0m\u001b[0mretry\u001b[0m\u001b[1;33m=\u001b[0m\u001b[0mretry\u001b[0m\u001b[1;33m,\u001b[0m \u001b[0mtimeout\u001b[0m\u001b[1;33m=\u001b[0m\u001b[0mtimeout\u001b[0m\u001b[1;33m)\u001b[0m\u001b[1;33m\u001b[0m\u001b[1;33m\u001b[0m\u001b[0m\n\u001b[0m\u001b[0;32m     92\u001b[0m         \u001b[1;32mexcept\u001b[0m \u001b[0mcore_exceptions\u001b[0m\u001b[1;33m.\u001b[0m\u001b[0mConflict\u001b[0m \u001b[1;32mas\u001b[0m \u001b[0mcreate_exc\u001b[0m\u001b[1;33m:\u001b[0m\u001b[1;33m\u001b[0m\u001b[1;33m\u001b[0m\u001b[0m\n\u001b[0;32m     93\u001b[0m             \u001b[1;31m# The thought is if someone is providing their own job IDs and they get\u001b[0m\u001b[1;33m\u001b[0m\u001b[1;33m\u001b[0m\u001b[1;33m\u001b[0m\u001b[0m\n",
      "\u001b[1;32m~\\AppData\\Local\\Programs\\Python\\Python37\\lib\\site-packages\\google\\cloud\\bigquery\\job\\query.py\u001b[0m in \u001b[0;36m_begin\u001b[1;34m(self, client, retry, timeout)\u001b[0m\n\u001b[0;32m   1308\u001b[0m \u001b[1;33m\u001b[0m\u001b[0m\n\u001b[0;32m   1309\u001b[0m         \u001b[1;32mtry\u001b[0m\u001b[1;33m:\u001b[0m\u001b[1;33m\u001b[0m\u001b[1;33m\u001b[0m\u001b[0m\n\u001b[1;32m-> 1310\u001b[1;33m             \u001b[0msuper\u001b[0m\u001b[1;33m(\u001b[0m\u001b[0mQueryJob\u001b[0m\u001b[1;33m,\u001b[0m \u001b[0mself\u001b[0m\u001b[1;33m)\u001b[0m\u001b[1;33m.\u001b[0m\u001b[0m_begin\u001b[0m\u001b[1;33m(\u001b[0m\u001b[0mclient\u001b[0m\u001b[1;33m=\u001b[0m\u001b[0mclient\u001b[0m\u001b[1;33m,\u001b[0m \u001b[0mretry\u001b[0m\u001b[1;33m=\u001b[0m\u001b[0mretry\u001b[0m\u001b[1;33m,\u001b[0m \u001b[0mtimeout\u001b[0m\u001b[1;33m=\u001b[0m\u001b[0mtimeout\u001b[0m\u001b[1;33m)\u001b[0m\u001b[1;33m\u001b[0m\u001b[1;33m\u001b[0m\u001b[0m\n\u001b[0m\u001b[0;32m   1311\u001b[0m         \u001b[1;32mexcept\u001b[0m \u001b[0mexceptions\u001b[0m\u001b[1;33m.\u001b[0m\u001b[0mGoogleAPICallError\u001b[0m \u001b[1;32mas\u001b[0m \u001b[0mexc\u001b[0m\u001b[1;33m:\u001b[0m\u001b[1;33m\u001b[0m\u001b[1;33m\u001b[0m\u001b[0m\n\u001b[0;32m   1312\u001b[0m             exc.message = _EXCEPTION_FOOTER_TEMPLATE.format(\n",
      "\u001b[1;32m~\\AppData\\Local\\Programs\\Python\\Python37\\lib\\site-packages\\google\\cloud\\bigquery\\job\\base.py\u001b[0m in \u001b[0;36m_begin\u001b[1;34m(self, client, retry, timeout)\u001b[0m\n\u001b[0;32m    699\u001b[0m             \u001b[0mpath\u001b[0m\u001b[1;33m=\u001b[0m\u001b[0mpath\u001b[0m\u001b[1;33m,\u001b[0m\u001b[1;33m\u001b[0m\u001b[1;33m\u001b[0m\u001b[0m\n\u001b[0;32m    700\u001b[0m             \u001b[0mdata\u001b[0m\u001b[1;33m=\u001b[0m\u001b[0mself\u001b[0m\u001b[1;33m.\u001b[0m\u001b[0mto_api_repr\u001b[0m\u001b[1;33m(\u001b[0m\u001b[1;33m)\u001b[0m\u001b[1;33m,\u001b[0m\u001b[1;33m\u001b[0m\u001b[1;33m\u001b[0m\u001b[0m\n\u001b[1;32m--> 701\u001b[1;33m             \u001b[0mtimeout\u001b[0m\u001b[1;33m=\u001b[0m\u001b[0mtimeout\u001b[0m\u001b[1;33m,\u001b[0m\u001b[1;33m\u001b[0m\u001b[1;33m\u001b[0m\u001b[0m\n\u001b[0m\u001b[0;32m    702\u001b[0m         )\n\u001b[0;32m    703\u001b[0m         \u001b[0mself\u001b[0m\u001b[1;33m.\u001b[0m\u001b[0m_set_properties\u001b[0m\u001b[1;33m(\u001b[0m\u001b[0mapi_response\u001b[0m\u001b[1;33m)\u001b[0m\u001b[1;33m\u001b[0m\u001b[1;33m\u001b[0m\u001b[0m\n",
      "\u001b[1;32m~\\AppData\\Local\\Programs\\Python\\Python37\\lib\\site-packages\\google\\cloud\\bigquery\\client.py\u001b[0m in \u001b[0;36m_call_api\u001b[1;34m(self, retry, span_name, span_attributes, job_ref, headers, **kwargs)\u001b[0m\n\u001b[0;32m    814\u001b[0m                 \u001b[0mname\u001b[0m\u001b[1;33m=\u001b[0m\u001b[0mspan_name\u001b[0m\u001b[1;33m,\u001b[0m \u001b[0mattributes\u001b[0m\u001b[1;33m=\u001b[0m\u001b[0mspan_attributes\u001b[0m\u001b[1;33m,\u001b[0m \u001b[0mclient\u001b[0m\u001b[1;33m=\u001b[0m\u001b[0mself\u001b[0m\u001b[1;33m,\u001b[0m \u001b[0mjob_ref\u001b[0m\u001b[1;33m=\u001b[0m\u001b[0mjob_ref\u001b[0m\u001b[1;33m\u001b[0m\u001b[1;33m\u001b[0m\u001b[0m\n\u001b[0;32m    815\u001b[0m             ):\n\u001b[1;32m--> 816\u001b[1;33m                 \u001b[1;32mreturn\u001b[0m \u001b[0mcall\u001b[0m\u001b[1;33m(\u001b[0m\u001b[1;33m)\u001b[0m\u001b[1;33m\u001b[0m\u001b[1;33m\u001b[0m\u001b[0m\n\u001b[0m\u001b[0;32m    817\u001b[0m \u001b[1;33m\u001b[0m\u001b[0m\n\u001b[0;32m    818\u001b[0m         \u001b[1;32mreturn\u001b[0m \u001b[0mcall\u001b[0m\u001b[1;33m(\u001b[0m\u001b[1;33m)\u001b[0m\u001b[1;33m\u001b[0m\u001b[1;33m\u001b[0m\u001b[0m\n",
      "\u001b[1;32m~\\AppData\\Local\\Programs\\Python\\Python37\\lib\\site-packages\\google\\api_core\\retry.py\u001b[0m in \u001b[0;36mretry_wrapped_func\u001b[1;34m(*args, **kwargs)\u001b[0m\n\u001b[0;32m    352\u001b[0m                 \u001b[0msleep_generator\u001b[0m\u001b[1;33m,\u001b[0m\u001b[1;33m\u001b[0m\u001b[1;33m\u001b[0m\u001b[0m\n\u001b[0;32m    353\u001b[0m                 \u001b[0mself\u001b[0m\u001b[1;33m.\u001b[0m\u001b[0m_timeout\u001b[0m\u001b[1;33m,\u001b[0m\u001b[1;33m\u001b[0m\u001b[1;33m\u001b[0m\u001b[0m\n\u001b[1;32m--> 354\u001b[1;33m                 \u001b[0mon_error\u001b[0m\u001b[1;33m=\u001b[0m\u001b[0mon_error\u001b[0m\u001b[1;33m,\u001b[0m\u001b[1;33m\u001b[0m\u001b[1;33m\u001b[0m\u001b[0m\n\u001b[0m\u001b[0;32m    355\u001b[0m             )\n\u001b[0;32m    356\u001b[0m \u001b[1;33m\u001b[0m\u001b[0m\n",
      "\u001b[1;32m~\\AppData\\Local\\Programs\\Python\\Python37\\lib\\site-packages\\google\\api_core\\retry.py\u001b[0m in \u001b[0;36mretry_target\u001b[1;34m(target, predicate, sleep_generator, timeout, on_error, **kwargs)\u001b[0m\n\u001b[0;32m    189\u001b[0m     \u001b[1;32mfor\u001b[0m \u001b[0msleep\u001b[0m \u001b[1;32min\u001b[0m \u001b[0msleep_generator\u001b[0m\u001b[1;33m:\u001b[0m\u001b[1;33m\u001b[0m\u001b[1;33m\u001b[0m\u001b[0m\n\u001b[0;32m    190\u001b[0m         \u001b[1;32mtry\u001b[0m\u001b[1;33m:\u001b[0m\u001b[1;33m\u001b[0m\u001b[1;33m\u001b[0m\u001b[0m\n\u001b[1;32m--> 191\u001b[1;33m             \u001b[1;32mreturn\u001b[0m \u001b[0mtarget\u001b[0m\u001b[1;33m(\u001b[0m\u001b[1;33m)\u001b[0m\u001b[1;33m\u001b[0m\u001b[1;33m\u001b[0m\u001b[0m\n\u001b[0m\u001b[0;32m    192\u001b[0m \u001b[1;33m\u001b[0m\u001b[0m\n\u001b[0;32m    193\u001b[0m         \u001b[1;31m# pylint: disable=broad-except\u001b[0m\u001b[1;33m\u001b[0m\u001b[1;33m\u001b[0m\u001b[1;33m\u001b[0m\u001b[0m\n",
      "\u001b[1;32m~\\AppData\\Local\\Programs\\Python\\Python37\\lib\\site-packages\\google\\cloud\\_http\\__init__.py\u001b[0m in \u001b[0;36mapi_request\u001b[1;34m(self, method, path, query_params, data, content_type, headers, api_base_url, api_version, expect_json, _target_object, timeout, extra_api_info)\u001b[0m\n\u001b[0;32m    492\u001b[0m \u001b[1;33m\u001b[0m\u001b[0m\n\u001b[0;32m    493\u001b[0m         \u001b[1;32mif\u001b[0m \u001b[1;32mnot\u001b[0m \u001b[1;36m200\u001b[0m \u001b[1;33m<=\u001b[0m \u001b[0mresponse\u001b[0m\u001b[1;33m.\u001b[0m\u001b[0mstatus_code\u001b[0m \u001b[1;33m<\u001b[0m \u001b[1;36m300\u001b[0m\u001b[1;33m:\u001b[0m\u001b[1;33m\u001b[0m\u001b[1;33m\u001b[0m\u001b[0m\n\u001b[1;32m--> 494\u001b[1;33m             \u001b[1;32mraise\u001b[0m \u001b[0mexceptions\u001b[0m\u001b[1;33m.\u001b[0m\u001b[0mfrom_http_response\u001b[0m\u001b[1;33m(\u001b[0m\u001b[0mresponse\u001b[0m\u001b[1;33m)\u001b[0m\u001b[1;33m\u001b[0m\u001b[1;33m\u001b[0m\u001b[0m\n\u001b[0m\u001b[0;32m    495\u001b[0m \u001b[1;33m\u001b[0m\u001b[0m\n\u001b[0;32m    496\u001b[0m         \u001b[1;32mif\u001b[0m \u001b[0mexpect_json\u001b[0m \u001b[1;32mand\u001b[0m \u001b[0mresponse\u001b[0m\u001b[1;33m.\u001b[0m\u001b[0mcontent\u001b[0m\u001b[1;33m:\u001b[0m\u001b[1;33m\u001b[0m\u001b[1;33m\u001b[0m\u001b[0m\n",
      "\u001b[1;31mForbidden\u001b[0m: 403 POST https://bigquery.googleapis.com/bigquery/v2/projects/edw-prd-e567f9/jobs?prettyPrint=false: Caller does not have required permission to use project edw-prd-e567f9. Grant the caller the roles/serviceusage.serviceUsageConsumer role, or a custom role with the serviceusage.services.use permission, by visiting https://console.developers.google.com/iam-admin/iam/project?project=edw-prd-e567f9 and then retry. Propagation of the new permission may take a few minutes.\n\nLocation: None\nJob ID: c8e4f8ad-85e7-4a31-8451-cd15b2116c27\n [{'@type': 'type.googleapis.com/google.rpc.Help', 'links': [{'description': 'Google developer console IAM admin', 'url': 'https://console.developers.google.com/iam-admin/iam/project?project=edw-prd-e567f9'}]}, {'@type': 'type.googleapis.com/google.rpc.ErrorInfo', 'reason': 'USER_PROJECT_DENIED', 'domain': 'googleapis.com', 'metadata': {'consumer': 'projects/edw-prd-e567f9', 'service': 'bigquery.googleapis.com'}}]"
     ]
    }
   ],
   "source": [
    "for product in rm_mfr:\n",
    "    upc = \"%\" + str(product) +\"%\"   \n",
    "    QUERY = ('Select base.product_title, img.upc, img.image_url from  `edw-prd-e567f9.itq.label_insights_human_products_images_fact` img '\\\n",
    "         'left join `edw-prd-e567f9.itq.dim_label_insights_human_products_base` base on  img.gtin14 = base.gtin14 '\\\n",
    "         'where img.upc like ?')\n",
    "\n",
    "    job_config = bigquery.QueryJobConfig(query_parameters=[bigquery.ScalarQueryParameter(None, \"STRING\", upc)])\n",
    "    df = client.query(QUERY, job_config = job_config).to_dataframe()\n",
    "    \n",
    "    final_df = final_df.append(df) "
   ]
  },
  {
   "cell_type": "code",
   "execution_count": 49,
   "metadata": {},
   "outputs": [],
   "source": [
    "final_df.to_clipboard(index=False)"
   ]
  },
  {
   "cell_type": "code",
   "execution_count": 50,
   "metadata": {},
   "outputs": [],
   "source": [
    "for i,rows in final_df.iterrows():\n",
    "    urllib.request.urlretrieve(rows['image_url'], str(rows['upc']) + \"_\"+str(i) + \".\" + rows['image_url'].split('.')[-1])   "
   ]
  }
 ],
 "metadata": {
  "kernelspec": {
   "display_name": "Python 3 (ipykernel)",
   "language": "python",
   "name": "python3"
  },
  "language_info": {
   "codemirror_mode": {
    "name": "ipython",
    "version": 3
   },
   "file_extension": ".py",
   "mimetype": "text/x-python",
   "name": "python",
   "nbconvert_exporter": "python",
   "pygments_lexer": "ipython3",
   "version": "3.7.5"
  }
 },
 "nbformat": 4,
 "nbformat_minor": 2
}
