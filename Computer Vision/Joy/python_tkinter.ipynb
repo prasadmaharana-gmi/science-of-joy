{
 "cells": [
  {
   "cell_type": "code",
   "execution_count": 1,
   "metadata": {},
   "outputs": [],
   "source": [
    "import pandas\n",
    "import tkinter as tk\n",
    "from tkinter import filedialog\n",
    "import os"
   ]
  },
  {
   "cell_type": "code",
   "execution_count": 2,
   "metadata": {},
   "outputs": [],
   "source": [
    "def tkinter_read_file(title_str):    \n",
    "    path = filedialog.askopenfilename(title = title_str,filetypes = [(\"Excel files\", \"*.xlsx\")])\n",
    "    df = pandas.read_excel(path)\n",
    "    return df"
   ]
  },
  {
   "cell_type": "code",
   "execution_count": 3,
   "metadata": {},
   "outputs": [],
   "source": [
    "def save_file(df1,df2,df3):\n",
    "    savename = filedialog.asksaveasfilename()\n",
    "    savename = savename.split('.')[0] + '.csv'    \n",
    "    df1.merge(df2,on='Name').merge(df3,on='Name').to_csv(savename,index = False)"
   ]
  },
  {
   "cell_type": "code",
   "execution_count": 8,
   "metadata": {},
   "outputs": [],
   "source": [
    "if __name__ == \"__main__\":\n",
    "    window = tk.Tk()\n",
    "    df1 = tkinter_read_file(\"Upload first file\")\n",
    "    df2 = tkinter_read_file(\"Upload second file\")\n",
    "    df3 = tkinter_read_file(\"Upload third file\")\n",
    "    save_file(df1,df2,df3)\n",
    "    window.after(2000, lambda: window.destroy())    \n",
    "    window.mainloop()    "
   ]
  },
  {
   "cell_type": "code",
   "execution_count": 10,
   "metadata": {},
   "outputs": [
    {
     "ename": "",
     "evalue": "",
     "output_type": "error",
     "traceback": [
      "\u001b[1;31mThe Kernel crashed while executing code in the the current cell or a previous cell. Please review the code in the cell(s) to identify a possible cause of the failure. Click <a href='https://aka.ms/vscodeJupyterKernelCrash'>here</a> for more info. View Jupyter <a href='command:jupyter.viewOutput'>log</a> for further details."
     ]
    }
   ],
   "source": [
    "if __name__ == \"__main__\":\n",
    "    window = tk.Tk()\n",
    "    # window.title('My Python Exe App')\n",
    "    # window.geometry(\"400x400\")\n",
    "    # frame = tk.Frame(window)\n",
    "    # frame.grid(row=0, column=0)    \n",
    "\n",
    "    # button1 = tk.Button(frame, text='Upload Data 1')\n",
    "    # button1.grid(row=0, column=1)\n",
    "    df1 = tkinter_read_file(\"Upload first file\")    \n",
    "    \n",
    "    # button2 = tk.Button(frame, text='Upload Data 2')\n",
    "    # button2.grid(row=0, column=1)\n",
    "    df2 = tkinter_read_file(\"Upload second file\")    \n",
    "    \n",
    "    # button3 = tk.Button(frame, text='Upload Data 3')\n",
    "    # button2.grid(row=0, column=1)\n",
    "    df3 = tkinter_read_file(\"Upload third file\")    \n",
    "    \n",
    "    # button4 = tk.Button(frame, text='save data')\n",
    "    # button4.grid(row=0, column=1)\n",
    "    save_file(df1,df2,df3)    \n",
    "    window.mainloop()\n",
    "    window.quit()"
   ]
  }
 ],
 "metadata": {
  "kernelspec": {
   "display_name": "clt_clone",
   "language": "python",
   "name": "python3"
  },
  "language_info": {
   "codemirror_mode": {
    "name": "ipython",
    "version": 3
   },
   "file_extension": ".py",
   "mimetype": "text/x-python",
   "name": "python",
   "nbconvert_exporter": "python",
   "pygments_lexer": "ipython3",
   "version": "3.7.7"
  },
  "orig_nbformat": 4
 },
 "nbformat": 4,
 "nbformat_minor": 2
}
