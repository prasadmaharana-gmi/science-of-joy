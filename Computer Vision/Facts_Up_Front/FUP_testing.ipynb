{
 "cells": [
  {
   "cell_type": "markdown",
   "id": "fafa628c",
   "metadata": {},
   "source": [
    "# Facts up Front Testing Notebook"
   ]
  },
  {
   "cell_type": "code",
   "execution_count": 1,
   "id": "a7f670c2",
   "metadata": {},
   "outputs": [],
   "source": [
    "# Python program to illustrate\n",
    "# template matching\n",
    "import cv2\n",
    "import numpy as np\n",
    "import imutils\n",
    "from imutils.object_detection import non_max_suppression\n",
    "from pathlib import Path\n",
    "import glob\n",
    "import pandas as pd"
   ]
  },
  {
   "cell_type": "code",
   "execution_count": 2,
   "id": "0b78c721",
   "metadata": {},
   "outputs": [],
   "source": [
    "def object_finder(img,temp,viz):\n",
    "\n",
    "    found = None\n",
    "# ------Multiscaling-----------------\n",
    "    # loop over the scales of the image\n",
    "    edge=cv2.Canny(img,50,200)\n",
    "    for scale in np.linspace(0.1, 1.0, 20)[::-1]:\n",
    "        # resize the image according to the scale, and keep track\n",
    "        # of the ratio of the resizing\n",
    "        resized = cv2.resize(temp, dsize = (0,0), fx = scale, fy = scale)\n",
    "        r=1\n",
    "#         r = temp.shape[1] / float(resized.shape[1])\n",
    "        # if the resized image is smaller than the template, then break\n",
    "        # from the loop\n",
    "        if resized.shape[0] < tH or resized.shape[1] < tW:\n",
    "            break\n",
    "        temp=cv2.Canny(resized,50,200)\n",
    "        result = cv2.matchTemplate(edge,temp, cv2.TM_CCORR_NORMED)\n",
    "        (_, maxVal, _, maxLoc) = cv2.minMaxLoc(result)\n",
    "        # check to see if the iteration should be visualized\n",
    "    #     if args.get(\"visualize\", False):\n",
    "    #         # draw a bounding box around the detected region\n",
    "    #         clone = np.dstack([edged, edged, edged])\n",
    "    #         cv2.rectangle(clone, (maxLoc[0], maxLoc[1]),\n",
    "    #             (maxLoc[0] + tW, maxLoc[1] + tH), (0, 0, 255), 2)\n",
    "    #         cv2.imshow(\"Visualize\", clone)\n",
    "    #         cv2.waitKey(0)\n",
    "    #     # if we have found a new maximum correlation value, then update\n",
    "    #     # the bookkeeping variable\n",
    "        if found is None or maxVal > found[0]:\n",
    "            found = (maxVal, maxLoc, r)\n",
    "        \n",
    "    if viz==1:    \n",
    "            # unpack the bookkeeping variable and compute the (x, y) coordinates\n",
    "        # of the bounding box based on the resized ratio\n",
    "        (_, maxLoc, r) = found\n",
    "        (startX, startY) = (int(maxLoc[0] * r), int(maxLoc[1] * r))\n",
    "        (endX, endY) = (int((maxLoc[0] + tW) * r), int((maxLoc[1] + tH) * r))\n",
    "        # draw a bounding box around the detected result and display the image\n",
    "        cv2.rectangle(img, (startX, startY), (endX, endY), (4, 255, 46), 2)\n",
    "        cv2.namedWindow(\"Rescaled\",cv2.WINDOW_NORMAL)\n",
    "        cv2.imshow(\"Rescaled\", img)\n",
    "        k = cv2.waitKey(0)\n",
    "        if k == 27:         # wait for ESC key to exit\n",
    "            cv2.destroyAllWindows()\n",
    "        # cv2.imshow(\"Image\", img)\n",
    "        # cv2.waitKey(0)\n",
    "                    \n",
    "    return found"
   ]
  },
  {
   "cell_type": "code",
   "execution_count": 28,
   "id": "248a2c68",
   "metadata": {},
   "outputs": [],
   "source": [
    "img_folder=Path('C:/Users/G670813/OneDrive - General Mills/ITQ-prasad/itq-analytics/Computer Vision/Facts_Up_Front/test_images')\n",
    "ref_folder=(r'C:\\Users\\G670813\\OneDrive - General Mills\\ITQ-prasad\\itq-analytics\\Computer Vision\\Facts_Up_Front\\reference image\\ref4.jpg')"
   ]
  },
  {
   "cell_type": "code",
   "execution_count": 29,
   "id": "e9ed5332",
   "metadata": {},
   "outputs": [
    {
     "ename": "error",
     "evalue": "OpenCV(4.8.0) D:\\a\\opencv-python\\opencv-python\\opencv\\modules\\highgui\\src\\window_w32.cpp:1261: error: (-27:Null pointer) NULL window: 'template' in function 'cvDestroyWindow'\n",
     "output_type": "error",
     "traceback": [
      "\u001b[1;31m---------------------------------------------------------------------------\u001b[0m",
      "\u001b[1;31merror\u001b[0m                                     Traceback (most recent call last)",
      "\u001b[1;32m~\\AppData\\Local\\Temp\\ipykernel_15492\\1528148189.py\u001b[0m in \u001b[0;36m<module>\u001b[1;34m\u001b[0m\n\u001b[0;32m      5\u001b[0m \u001b[0mcv2\u001b[0m\u001b[1;33m.\u001b[0m\u001b[0mimshow\u001b[0m\u001b[1;33m(\u001b[0m\u001b[1;34m\"template\"\u001b[0m\u001b[1;33m,\u001b[0m \u001b[0mref_image\u001b[0m\u001b[1;33m)\u001b[0m\u001b[1;33m\u001b[0m\u001b[1;33m\u001b[0m\u001b[0m\n\u001b[0;32m      6\u001b[0m \u001b[0mcv2\u001b[0m\u001b[1;33m.\u001b[0m\u001b[0mwaitKey\u001b[0m\u001b[1;33m(\u001b[0m\u001b[1;36m0\u001b[0m\u001b[1;33m)\u001b[0m\u001b[1;33m\u001b[0m\u001b[1;33m\u001b[0m\u001b[0m\n\u001b[1;32m----> 7\u001b[1;33m \u001b[0mcv2\u001b[0m\u001b[1;33m.\u001b[0m\u001b[0mdestroyWindow\u001b[0m\u001b[1;33m(\u001b[0m\u001b[1;34m'template'\u001b[0m\u001b[1;33m)\u001b[0m\u001b[1;33m\u001b[0m\u001b[1;33m\u001b[0m\u001b[0m\n\u001b[0m",
      "\u001b[1;31merror\u001b[0m: OpenCV(4.8.0) D:\\a\\opencv-python\\opencv-python\\opencv\\modules\\highgui\\src\\window_w32.cpp:1261: error: (-27:Null pointer) NULL window: 'template' in function 'cvDestroyWindow'\n"
     ]
    }
   ],
   "source": [
    "ref_image=cv2.imread(ref_folder,0)\n",
    "ref_image=cv2.resize(ref_image, (0, 0), fx = 1, fy = 1)\n",
    "# temp=cv2.Canny(ref_image,50,200)\n",
    "(tH, tW) = ref_image.shape[:2]\n",
    "cv2.imshow(\"template\", ref_image)\n",
    "cv2.waitKey(0)\n",
    "cv2.destroyWindow('template')"
   ]
  },
  {
   "cell_type": "code",
   "execution_count": 30,
   "id": "b74bb8a0",
   "metadata": {},
   "outputs": [],
   "source": [
    "images = Path(img_folder).glob('*.jpg')\n",
    "detected_df=pd.DataFrame(columns=['img_name','result','flag'])\n",
    "for image in images:\n",
    "    img=cv2.imread(str(image.absolute()),0)\n",
    "    img=cv2.resize(img, (0, 0), fx = 1, fy = 1)\n",
    "    result = object_finder(img,ref_image,1)\n",
    "    break\n",
    "    if result[0]>0.5:\n",
    "        flag=\"Y\"\n",
    "    else: \n",
    "        flag=\"N\"\n",
    "    detected_df=detected_df.append({'img_name':str(image),'result':str(result),'flag':str(flag)}, ignore_index=True)\n",
    "    "
   ]
  },
  {
   "cell_type": "code",
   "execution_count": 20,
   "id": "82036d7a",
   "metadata": {},
   "outputs": [
    {
     "data": {
      "text/html": [
       "<div>\n",
       "<style scoped>\n",
       "    .dataframe tbody tr th:only-of-type {\n",
       "        vertical-align: middle;\n",
       "    }\n",
       "\n",
       "    .dataframe tbody tr th {\n",
       "        vertical-align: top;\n",
       "    }\n",
       "\n",
       "    .dataframe thead th {\n",
       "        text-align: right;\n",
       "    }\n",
       "</style>\n",
       "<table border=\"1\" class=\"dataframe\">\n",
       "  <thead>\n",
       "    <tr style=\"text-align: right;\">\n",
       "      <th></th>\n",
       "      <th>img_name</th>\n",
       "      <th>result</th>\n",
       "      <th>flag</th>\n",
       "    </tr>\n",
       "  </thead>\n",
       "  <tbody>\n",
       "    <tr>\n",
       "      <th>0</th>\n",
       "      <td>C:\\Users\\G670813\\OneDrive - General Mills\\ITQ-...</td>\n",
       "      <td>(0.14037083089351654, (410, 466), 1)</td>\n",
       "      <td>N</td>\n",
       "    </tr>\n",
       "    <tr>\n",
       "      <th>1</th>\n",
       "      <td>C:\\Users\\G670813\\OneDrive - General Mills\\ITQ-...</td>\n",
       "      <td>(0.19682733714580536, (101, 32), 1)</td>\n",
       "      <td>N</td>\n",
       "    </tr>\n",
       "    <tr>\n",
       "      <th>2</th>\n",
       "      <td>C:\\Users\\G670813\\OneDrive - General Mills\\ITQ-...</td>\n",
       "      <td>(0.2889622747898102, (155, 214), 1)</td>\n",
       "      <td>N</td>\n",
       "    </tr>\n",
       "    <tr>\n",
       "      <th>3</th>\n",
       "      <td>C:\\Users\\G670813\\OneDrive - General Mills\\ITQ-...</td>\n",
       "      <td>(0.28732505440711975, (155, 216), 1)</td>\n",
       "      <td>N</td>\n",
       "    </tr>\n",
       "    <tr>\n",
       "      <th>4</th>\n",
       "      <td>C:\\Users\\G670813\\OneDrive - General Mills\\ITQ-...</td>\n",
       "      <td>(0.21144971251487732, (1817, 817), 1)</td>\n",
       "      <td>N</td>\n",
       "    </tr>\n",
       "    <tr>\n",
       "      <th>5</th>\n",
       "      <td>C:\\Users\\G670813\\OneDrive - General Mills\\ITQ-...</td>\n",
       "      <td>(0.2931809425354004, (1255, 85), 1)</td>\n",
       "      <td>N</td>\n",
       "    </tr>\n",
       "    <tr>\n",
       "      <th>6</th>\n",
       "      <td>C:\\Users\\G670813\\OneDrive - General Mills\\ITQ-...</td>\n",
       "      <td>(0.2865169048309326, (127, 42), 1)</td>\n",
       "      <td>N</td>\n",
       "    </tr>\n",
       "    <tr>\n",
       "      <th>7</th>\n",
       "      <td>C:\\Users\\G670813\\OneDrive - General Mills\\ITQ-...</td>\n",
       "      <td>(0.288140207529068, (208, 46), 1)</td>\n",
       "      <td>N</td>\n",
       "    </tr>\n",
       "    <tr>\n",
       "      <th>8</th>\n",
       "      <td>C:\\Users\\G670813\\OneDrive - General Mills\\ITQ-...</td>\n",
       "      <td>(0.28696203231811523, (346, 976), 1)</td>\n",
       "      <td>N</td>\n",
       "    </tr>\n",
       "    <tr>\n",
       "      <th>9</th>\n",
       "      <td>C:\\Users\\G670813\\OneDrive - General Mills\\ITQ-...</td>\n",
       "      <td>(0.28707361221313477, (1851, 39), 1)</td>\n",
       "      <td>N</td>\n",
       "    </tr>\n",
       "    <tr>\n",
       "      <th>10</th>\n",
       "      <td>C:\\Users\\G670813\\OneDrive - General Mills\\ITQ-...</td>\n",
       "      <td>(0.1822710782289505, (71, 2116), 1)</td>\n",
       "      <td>N</td>\n",
       "    </tr>\n",
       "    <tr>\n",
       "      <th>11</th>\n",
       "      <td>C:\\Users\\G670813\\OneDrive - General Mills\\ITQ-...</td>\n",
       "      <td>(0.2791103720664978, (1261, 105), 1)</td>\n",
       "      <td>N</td>\n",
       "    </tr>\n",
       "    <tr>\n",
       "      <th>12</th>\n",
       "      <td>C:\\Users\\G670813\\OneDrive - General Mills\\ITQ-...</td>\n",
       "      <td>(0.27234992384910583, (1692, 1117), 1)</td>\n",
       "      <td>N</td>\n",
       "    </tr>\n",
       "    <tr>\n",
       "      <th>13</th>\n",
       "      <td>C:\\Users\\G670813\\OneDrive - General Mills\\ITQ-...</td>\n",
       "      <td>(0.2505509853363037, (2050, 664), 1)</td>\n",
       "      <td>N</td>\n",
       "    </tr>\n",
       "    <tr>\n",
       "      <th>14</th>\n",
       "      <td>C:\\Users\\G670813\\OneDrive - General Mills\\ITQ-...</td>\n",
       "      <td>(0.22288990020751953, (1354, 478), 1)</td>\n",
       "      <td>N</td>\n",
       "    </tr>\n",
       "    <tr>\n",
       "      <th>15</th>\n",
       "      <td>C:\\Users\\G670813\\OneDrive - General Mills\\ITQ-...</td>\n",
       "      <td>(0.27335917949676514, (2145, 315), 1)</td>\n",
       "      <td>N</td>\n",
       "    </tr>\n",
       "  </tbody>\n",
       "</table>\n",
       "</div>"
      ],
      "text/plain": [
       "                                             img_name  \\\n",
       "0   C:\\Users\\G670813\\OneDrive - General Mills\\ITQ-...   \n",
       "1   C:\\Users\\G670813\\OneDrive - General Mills\\ITQ-...   \n",
       "2   C:\\Users\\G670813\\OneDrive - General Mills\\ITQ-...   \n",
       "3   C:\\Users\\G670813\\OneDrive - General Mills\\ITQ-...   \n",
       "4   C:\\Users\\G670813\\OneDrive - General Mills\\ITQ-...   \n",
       "5   C:\\Users\\G670813\\OneDrive - General Mills\\ITQ-...   \n",
       "6   C:\\Users\\G670813\\OneDrive - General Mills\\ITQ-...   \n",
       "7   C:\\Users\\G670813\\OneDrive - General Mills\\ITQ-...   \n",
       "8   C:\\Users\\G670813\\OneDrive - General Mills\\ITQ-...   \n",
       "9   C:\\Users\\G670813\\OneDrive - General Mills\\ITQ-...   \n",
       "10  C:\\Users\\G670813\\OneDrive - General Mills\\ITQ-...   \n",
       "11  C:\\Users\\G670813\\OneDrive - General Mills\\ITQ-...   \n",
       "12  C:\\Users\\G670813\\OneDrive - General Mills\\ITQ-...   \n",
       "13  C:\\Users\\G670813\\OneDrive - General Mills\\ITQ-...   \n",
       "14  C:\\Users\\G670813\\OneDrive - General Mills\\ITQ-...   \n",
       "15  C:\\Users\\G670813\\OneDrive - General Mills\\ITQ-...   \n",
       "\n",
       "                                    result flag  \n",
       "0     (0.14037083089351654, (410, 466), 1)    N  \n",
       "1      (0.19682733714580536, (101, 32), 1)    N  \n",
       "2      (0.2889622747898102, (155, 214), 1)    N  \n",
       "3     (0.28732505440711975, (155, 216), 1)    N  \n",
       "4    (0.21144971251487732, (1817, 817), 1)    N  \n",
       "5      (0.2931809425354004, (1255, 85), 1)    N  \n",
       "6       (0.2865169048309326, (127, 42), 1)    N  \n",
       "7        (0.288140207529068, (208, 46), 1)    N  \n",
       "8     (0.28696203231811523, (346, 976), 1)    N  \n",
       "9     (0.28707361221313477, (1851, 39), 1)    N  \n",
       "10     (0.1822710782289505, (71, 2116), 1)    N  \n",
       "11    (0.2791103720664978, (1261, 105), 1)    N  \n",
       "12  (0.27234992384910583, (1692, 1117), 1)    N  \n",
       "13    (0.2505509853363037, (2050, 664), 1)    N  \n",
       "14   (0.22288990020751953, (1354, 478), 1)    N  \n",
       "15   (0.27335917949676514, (2145, 315), 1)    N  "
      ]
     },
     "execution_count": 20,
     "metadata": {},
     "output_type": "execute_result"
    }
   ],
   "source": [
    "detected_df"
   ]
  },
  {
   "cell_type": "code",
   "execution_count": 10,
   "id": "86a61db2",
   "metadata": {},
   "outputs": [
    {
     "ename": "error",
     "evalue": "OpenCV(4.8.0) D:\\a\\opencv-python\\opencv-python\\opencv\\modules\\highgui\\src\\window.cpp:971: error: (-215:Assertion failed) size.width>0 && size.height>0 in function 'cv::imshow'\n",
     "output_type": "error",
     "traceback": [
      "\u001b[1;31m---------------------------------------------------------------------------\u001b[0m",
      "\u001b[1;31merror\u001b[0m                                     Traceback (most recent call last)",
      "\u001b[1;32m~\\AppData\\Local\\Temp\\ipykernel_8700\\3619157589.py\u001b[0m in \u001b[0;36m<module>\u001b[1;34m\u001b[0m\n\u001b[0;32m      1\u001b[0m \u001b[0mcv2\u001b[0m\u001b[1;33m.\u001b[0m\u001b[0mnamedWindow\u001b[0m\u001b[1;33m(\u001b[0m\u001b[1;34m'rescaled'\u001b[0m\u001b[1;33m,\u001b[0m\u001b[0mcv2\u001b[0m\u001b[1;33m.\u001b[0m\u001b[0mWINDOW_NORMAL\u001b[0m\u001b[1;33m)\u001b[0m\u001b[1;33m\u001b[0m\u001b[1;33m\u001b[0m\u001b[0m\n\u001b[1;32m----> 2\u001b[1;33m \u001b[0mcv2\u001b[0m\u001b[1;33m.\u001b[0m\u001b[0mimshow\u001b[0m\u001b[1;33m(\u001b[0m\u001b[1;34m\"rescaled\"\u001b[0m\u001b[1;33m,\u001b[0m \u001b[0mresult\u001b[0m\u001b[1;33m)\u001b[0m\u001b[1;33m\u001b[0m\u001b[1;33m\u001b[0m\u001b[0m\n\u001b[0m\u001b[0;32m      3\u001b[0m \u001b[0mcv2\u001b[0m\u001b[1;33m.\u001b[0m\u001b[0mwaitKey\u001b[0m\u001b[1;33m(\u001b[0m\u001b[1;36m0\u001b[0m\u001b[1;33m)\u001b[0m\u001b[1;33m\u001b[0m\u001b[1;33m\u001b[0m\u001b[0m\n",
      "\u001b[1;31merror\u001b[0m: OpenCV(4.8.0) D:\\a\\opencv-python\\opencv-python\\opencv\\modules\\highgui\\src\\window.cpp:971: error: (-215:Assertion failed) size.width>0 && size.height>0 in function 'cv::imshow'\n"
     ]
    }
   ],
   "source": [
    "cv2.namedWindow('rescaled',cv2.WINDOW_NORMAL)\n",
    "cv2.imshow(\"rescaled\", result)\n",
    "cv2.waitKey(0)"
   ]
  },
  {
   "cell_type": "code",
   "execution_count": 54,
   "id": "292c776f",
   "metadata": {},
   "outputs": [
    {
     "data": {
      "text/plain": [
       "generator"
      ]
     },
     "execution_count": 54,
     "metadata": {},
     "output_type": "execute_result"
    }
   ],
   "source": [
    "type(images)"
   ]
  },
  {
   "cell_type": "code",
   "execution_count": 12,
   "id": "c891d5e4",
   "metadata": {},
   "outputs": [],
   "source": [
    "detected_df.to_excel(\"detection.xlsx\")"
   ]
  },
  {
   "cell_type": "code",
   "execution_count": 88,
   "id": "35c0eba3",
   "metadata": {},
   "outputs": [
    {
     "data": {
      "text/plain": [
       "-1"
      ]
     },
     "execution_count": 88,
     "metadata": {},
     "output_type": "execute_result"
    }
   ],
   "source": [
    "cv2.imshow(\"img\", img)\n",
    "cv2.waitKey(0)"
   ]
  }
 ],
 "metadata": {
  "kernelspec": {
   "display_name": "Python 3 (ipykernel)",
   "language": "python",
   "name": "python3"
  },
  "language_info": {
   "codemirror_mode": {
    "name": "ipython",
    "version": 3
   },
   "file_extension": ".py",
   "mimetype": "text/x-python",
   "name": "python",
   "nbconvert_exporter": "python",
   "pygments_lexer": "ipython3",
   "version": "3.7.5"
  }
 },
 "nbformat": 4,
 "nbformat_minor": 5
}
