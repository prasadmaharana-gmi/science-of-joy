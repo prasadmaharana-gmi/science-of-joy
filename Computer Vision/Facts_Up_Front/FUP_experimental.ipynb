{
 "cells": [
  {
   "cell_type": "markdown",
   "id": "fafa628c",
   "metadata": {},
   "source": [
    "# Facts up Front Experiments Notebook"
   ]
  },
  {
   "cell_type": "code",
   "execution_count": 2,
   "id": "a7f670c2",
   "metadata": {},
   "outputs": [],
   "source": [
    "# Python program to illustrate\n",
    "# template matching\n",
    "import cv2\n",
    "import numpy as np\n",
    "import imutils\n",
    "from imutils.object_detection import non_max_suppression"
   ]
  },
  {
   "cell_type": "code",
   "execution_count": 20,
   "id": "9b34b657",
   "metadata": {},
   "outputs": [
    {
     "data": {
      "text/plain": [
       "-1"
      ]
     },
     "execution_count": 20,
     "metadata": {},
     "output_type": "execute_result"
    }
   ],
   "source": [
    "\n",
    "\n",
    "# Read the main image\n",
    "img = cv2.imread(r'C:\\Users\\G670813\\OneDrive - General Mills\\ITQ-prasad\\itq-analytics\\Computer Vision\\Facts_Up_Front\\test_images\\0016000123991_0_copy.jpg',cv2.IMREAD_GRAYSCALE)\n",
    "\n",
    "# load the temp image\n",
    "temp = cv2.imread(r'C:\\Users\\G670813\\OneDrive - General Mills\\ITQ-prasad\\itq-analytics\\Computer Vision\\Facts_Up_Front\\reference image\\ref4.jpg',cv2.IMREAD_GRAYSCALE)\n",
    "img = cv2.resize(img, (0, 0), fx = 1, fy = 1)\n",
    "template = cv2.Canny(temp, 50, 200)\n",
    "(tH, tW) = template.shape[:2]\n",
    "cv2.namedWindow('Rescaled',cv2.WINDOW_NORMAL)\n",
    "cv2.imshow(\"Rescaled\", img)\n",
    "cv2.waitKey(0)"
   ]
  },
  {
   "cell_type": "code",
   "execution_count": 108,
   "id": "c6590622",
   "metadata": {},
   "outputs": [],
   "source": [
    "\n",
    "# # save the image dimensions\n",
    "# W, H = temp.shape[:2]\n",
    "\n",
    "# # Define a minimum threshold\n",
    "# thresh = 0.4\n",
    "\n",
    "# # # img_temp = cv2.cvtColor(img,cv2.COLOR_BGR2RGB)\n",
    "# # # temp_temp = cv2.cvtColor(temp,cv2.COLOR_BGR2RGB)\n",
    "\n",
    "# # # Converting them to grayscale\n",
    "# # img_gray = cv2.Canny(img,50,200)\n",
    "# # temp_gray= cv2.Canny(temp,50,200)\n",
    "\n",
    "# # Passing the image to matchTemplate method\n",
    "# match = cv2.matchTemplate(\n",
    "# \timage=img_gray, templ=temp_gray,\n",
    "# method=cv2.TM_CCOEFF_NORMED)\n",
    "\n",
    "# # Select rectangles with\n",
    "# # confidence greater than threshold\n",
    "# (y_points, x_points) = np.where(match >= thresh)\n",
    "\n",
    "# # initialize our list of rectangles\n",
    "# boxes = list()\n",
    "\n",
    "# # loop over the starting (x, y)-coordinates again\n",
    "# for (x, y) in zip(x_points, y_points):\n",
    "\t\n",
    "# \t# update our list of rectangles\n",
    "# \tboxes.append((x, y, x + W, y + H))\n",
    "\n",
    "# # apply non-maxima suppression to the rectangles\n",
    "# # this will create a single bounding box\n",
    "# boxes = non_max_suppression(np.array(boxes))\n",
    "\n",
    "# # loop over the final bounding boxes\n",
    "# for (x1, y1, x2, y2) in boxes:\n",
    "\t\n",
    "# \t# draw the bounding box on the image\n",
    "# \tcv2.rectangle(img, (x1, y1), (x2, y2),\n",
    "# \t\t\t\t(255, 0, 0), 3)\n",
    "\n",
    "# # Show the template and the final output\n",
    "# cv2.namedWindow('Rescaled',cv2.WINDOW_NORMAL)\n",
    "# cv2.imshow(\"template\", temp_gray)\n",
    "# cv2.imshow(\"Rescaled\", img)\n",
    "# cv2.waitKey(0)\n",
    "\n",
    "# # destroy all the windows\n",
    "# # manually to be on the safe side\n",
    "# cv2.destroyAllWindows()\n"
   ]
  },
  {
   "cell_type": "code",
   "execution_count": 23,
   "id": "0b78c721",
   "metadata": {},
   "outputs": [
    {
     "data": {
      "text/plain": [
       "-1"
      ]
     },
     "execution_count": 23,
     "metadata": {},
     "output_type": "execute_result"
    }
   ],
   "source": [
    "found = None\n",
    "# loop over the scales of the image\n",
    "for scale in np.linspace(0.2, 1.0, 20)[::-1]:\n",
    "    # resize the image according to the scale, and keep track\n",
    "    # of the ratio of the resizing\n",
    "    resized = imutils.resize(img, width = int(img.shape[1] * scale))\n",
    "    r = img.shape[1] / float(resized.shape[1])\n",
    "    # if the resized image is smaller than the template, then break\n",
    "    # from the loop\n",
    "    if resized.shape[0] < tH or resized.shape[1] < tW:\n",
    "        break\n",
    "    edged = cv2.Canny(resized, 50, 200)\n",
    "    result = cv2.matchTemplate(edged, temp, cv2.TM_CCOEFF_NORMED)\n",
    "    (_, maxVal, _, maxLoc) = cv2.minMaxLoc(result)\n",
    "    # check to see if the iteration should be visualized\n",
    "#     if args.get(\"visualize\", False):\n",
    "#         # draw a bounding box around the detected region\n",
    "#         clone = np.dstack([edged, edged, edged])\n",
    "#         cv2.rectangle(clone, (maxLoc[0], maxLoc[1]),\n",
    "#             (maxLoc[0] + tW, maxLoc[1] + tH), (0, 0, 255), 2)\n",
    "#         cv2.imshow(\"Visualize\", clone)\n",
    "#         cv2.waitKey(0)\n",
    "#     # if we have found a new maximum correlation value, then update\n",
    "#     # the bookkeeping variable\n",
    "    if found is None or maxVal > found[0]:\n",
    "        found = (maxVal, maxLoc, r)\n",
    "# unpack the bookkeeping variable and compute the (x, y) coordinates\n",
    "# of the bounding box based on the resized ratio\n",
    "(_, maxLoc, r) = found\n",
    "(startX, startY) = (int(maxLoc[0] * r), int(maxLoc[1] * r))\n",
    "(endX, endY) = (int((maxLoc[0] + tW) * r), int((maxLoc[1] + tH) * r))\n",
    "# draw a bounding box around the detected result and display the image\n",
    "cv2.rectangle(img, (startX, startY), (endX, endY), (0, 0, 255), 2)\n",
    "cv2.namedWindow('Rescaled',cv2.WINDOW_NORMAL)\n",
    "cv2.imshow(\"Rescaled\", img)\n",
    "cv2.waitKey(0)\n",
    "# cv2.imshow(\"Image\", img)\n",
    "# cv2.waitKey(0)"
   ]
  },
  {
   "cell_type": "code",
   "execution_count": 25,
   "id": "248a2c68",
   "metadata": {},
   "outputs": [
    {
     "data": {
      "text/plain": [
       "(2365, 2365)"
      ]
     },
     "execution_count": 25,
     "metadata": {},
     "output_type": "execute_result"
    }
   ],
   "source": [
    "img.shape"
   ]
  }
 ],
 "metadata": {
  "kernelspec": {
   "display_name": "Python 3 (ipykernel)",
   "language": "python",
   "name": "python3"
  },
  "language_info": {
   "codemirror_mode": {
    "name": "ipython",
    "version": 3
   },
   "file_extension": ".py",
   "mimetype": "text/x-python",
   "name": "python",
   "nbconvert_exporter": "python",
   "pygments_lexer": "ipython3",
   "version": "3.7.5"
  }
 },
 "nbformat": 4,
 "nbformat_minor": 5
}
