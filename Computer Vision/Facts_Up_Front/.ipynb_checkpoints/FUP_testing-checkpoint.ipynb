{
 "cells": [
  {
   "cell_type": "markdown",
   "id": "fafa628c",
   "metadata": {},
   "source": [
    "# Facts up Front Testing Notebook"
   ]
  },
  {
   "cell_type": "code",
   "execution_count": 2,
   "id": "a7f670c2",
   "metadata": {},
   "outputs": [],
   "source": [
    "# Python program to illustrate\n",
    "# template matching\n",
    "import cv2\n",
    "import numpy as np\n",
    "import imutils\n",
    "from imutils.object_detection import non_max_suppression\n",
    "from pathlib import Path\n",
    "import glob\n",
    "import pandas as pd"
   ]
  },
  {
   "cell_type": "code",
   "execution_count": 3,
   "id": "0b78c721",
   "metadata": {},
   "outputs": [],
   "source": [
    "def object_finder(img,temp,viz):\n",
    "\n",
    "    found = None\n",
    "# ------Multiscaling-----------------\n",
    "    # loop over the scales of the image\n",
    "    edge=cv2.Canny(img,50,200)\n",
    "    for scale in np.linspace(0.1, 3.0, 40)[::-1]:\n",
    "        # resize the image according to the scale, and keep track\n",
    "        # of the ratio of the resizing\n",
    "        resized = cv2.resize(temp, dsize = (0,0), fx = scale, fy = scale)\n",
    "        r=1\n",
    "#         r = temp.shape[1] / float(resized.shape[1])\n",
    "        # if the resized image is smaller than the template, then break\n",
    "        # from the loop\n",
    "        if resized.shape[0] < tH or resized.shape[1] < tW:\n",
    "            break\n",
    "        temp=cv2.Canny(resized,50,200)\n",
    "        result = cv2.matchTemplate(edge,temp, cv2.TM_CCORR_NORMED)\n",
    "        (_, maxVal, _, maxLoc) = cv2.minMaxLoc(result)\n",
    "        # check to see if the iteration should be visualized\n",
    "    #     if args.get(\"visualize\", False):\n",
    "    #         # draw a bounding box around the detected region\n",
    "    #         clone = np.dstack([edged, edged, edged])\n",
    "    #         cv2.rectangle(clone, (maxLoc[0], maxLoc[1]),\n",
    "    #             (maxLoc[0] + tW, maxLoc[1] + tH), (0, 0, 255), 2)\n",
    "    #         cv2.imshow(\"Visualize\", clone)\n",
    "    #         cv2.waitKey(0)\n",
    "    #     # if we have found a new maximum correlation value, then update\n",
    "    #     # the bookkeeping variable\n",
    "        if found is None or maxVal > found[0]:\n",
    "            found = (maxVal, maxLoc, r)\n",
    "        \n",
    "    if viz==1:    \n",
    "            # unpack the bookkeeping variable and compute the (x, y) coordinates\n",
    "        # of the bounding box based on the resized ratio\n",
    "        (_, maxLoc, r) = found\n",
    "        (startX, startY) = (int(maxLoc[0] * r), int(maxLoc[1] * r))\n",
    "        (endX, endY) = (int((maxLoc[0] + tW) * r), int((maxLoc[1] + tH) * r))\n",
    "        # draw a bounding box around the detected result and display the image\n",
    "        cv2.rectangle(img, (startX, startY), (endX, endY), (0, 255, 0), 2)\n",
    "        cv2.namedWindow(\"Rescaled\",cv2.WINDOW_NORMAL)\n",
    "        cv2.imshow(\"Rescaled\", img)\n",
    "        k = cv2.waitKey(0)\n",
    "        if k == 27:         # wait for ESC key to exit\n",
    "            cv2.destroyAllWindows()\n",
    "        # cv2.imshow(\"Image\", img)\n",
    "        # cv2.waitKey(0)\n",
    "                    \n",
    "    return found"
   ]
  },
  {
   "cell_type": "code",
   "execution_count": 5,
   "id": "248a2c68",
   "metadata": {},
   "outputs": [],
   "source": [
    "img_folder=Path('C:/Users/G670813/OneDrive - General Mills/ITQ-prasad/itq-analytics/Computer Vision/Facts_Up_Front/test_images')\n",
    "ref_folder=(r'C:\\Users\\G670813\\OneDrive - General Mills\\ITQ-prasad\\itq-analytics\\Computer Vision\\Facts_Up_Front\\reference image\\ref2.jpg')"
   ]
  },
  {
   "cell_type": "code",
   "execution_count": 12,
   "id": "e9ed5332",
   "metadata": {},
   "outputs": [
    {
     "data": {
      "text/plain": [
       "-1"
      ]
     },
     "execution_count": 12,
     "metadata": {},
     "output_type": "execute_result"
    }
   ],
   "source": [
    "ref_image=cv2.imread(ref_folder,0)\n",
    "ref_image=cv2.resize(ref_image, (0, 0), fx = 1, fy = 1)\n",
    "# temp=cv2.Canny(ref_image,50,200)\n",
    "(tH, tW) = ref_image.shape[:2]\n",
    "cv2.imshow(\"template\", ref_image)\n",
    "cv2.waitKey(500)"
   ]
  },
  {
   "cell_type": "code",
   "execution_count": 7,
   "id": "b74bb8a0",
   "metadata": {},
   "outputs": [],
   "source": [
    "images = Path(img_folder).glob('*.jpg')\n",
    "detected_df=pd.DataFrame(columns=['img_name','result'])\n",
    "for image in images:\n",
    "    img=cv2.imread(str(image.absolute()),0)\n",
    "    img=cv2.resize(img, (0, 0), fx = 1, fy = 1)\n",
    "    result = object_finder(img,ref_image,1)\n",
    "    break\n",
    "#     if result[0]>0.5:\n",
    "#         flag=\"Y\"\n",
    "#     else: \n",
    "#         flag=\"N\"\n",
    "#     detected_df=detected_df.append({'img_name':str(image),'result':str(result)}, ignore_index=True)\n",
    "    "
   ]
  },
  {
   "cell_type": "code",
   "execution_count": 16,
   "id": "82036d7a",
   "metadata": {},
   "outputs": [
    {
     "data": {
      "text/plain": [
       "(0.5020980834960938, (259, 2132), 1)"
      ]
     },
     "execution_count": 16,
     "metadata": {},
     "output_type": "execute_result"
    }
   ],
   "source": [
    "result"
   ]
  },
  {
   "cell_type": "code",
   "execution_count": 6,
   "id": "e4624af3",
   "metadata": {},
   "outputs": [],
   "source": [
    "def keypointmatcher(gray,template):\n",
    "    \n",
    "    h, w = gray.shape[:2]\n",
    "    output2=None\n",
    "\n",
    "    MIN_MATCH_COUNT = 5\n",
    "    patchSize = 4\n",
    "\n",
    "    orb = cv2.ORB_create(edgeThreshold = patchSize, \n",
    "                            patchSize = patchSize)\n",
    "    kp1, des1 = orb.detectAndCompute(template, None)\n",
    "    kp2, des2 = orb.detectAndCompute(gray, None)\n",
    "\n",
    "    FLANN_INDEX_LSH = 6\n",
    "    index_params= dict(algorithm = FLANN_INDEX_LSH,\n",
    "               table_number = 6,\n",
    "               key_size = 12,    \n",
    "               multi_probe_level = 1)\n",
    "    search_params = dict(checks = 50)\n",
    "\n",
    "    flann = cv2.FlannBasedMatcher(index_params, search_params)\n",
    "    matches = flann.knnMatch(des1,des2,k=2)\n",
    "    # store all the good matches as per Lowe's ratio test.\n",
    "    good = []\n",
    "\n",
    "    for pair in matches:\n",
    "        if len(pair) == 2:\n",
    "            if pair[0].distance < 0.7*pair[1].distance:\n",
    "                good.append(pair[0])\n",
    "\n",
    "    print('len(good) ', len(good))\n",
    "    print('match %03d, min_match %03d, kp %03d' % (len(good), MIN_MATCH_COUNT, len(kp1)))\n",
    "    if len(good)>MIN_MATCH_COUNT:\n",
    "        src_pts = np.float32([ kp1[m.queryIdx].pt for m in good ]).reshape(-1,1,2)\n",
    "        dst_pts = np.float32([ kp2[m.trainIdx].pt for m in good ]).reshape(-1,1,2)\n",
    "        M, mask = cv2.findHomography(src_pts, dst_pts, cv2.RANSAC,5.0)\n",
    "        matchesMask = mask.ravel().tolist()\n",
    "        h,w = template.shape\n",
    "        pts = np.float32([ [0,0],[0,h-1],[w-1,h-1],[w-1,0] ]).reshape(-1,1,2)\n",
    "        dst = cv2.perspectiveTransform(pts,M)\n",
    "\n",
    "        # dst contains points of bounding box of template in image. \n",
    "        # draw a close polyline around the found template:\n",
    "        image = cv2.polylines(gray,[np.int32(dst)], \n",
    "                              isClosed = True,\n",
    "                              color = (0,255,0),\n",
    "                              thickness = 3, \n",
    "                              lineType = cv2.LINE_AA)                    \n",
    "    else:\n",
    "        print( \"Not enough matches are found - {}/{}\".format(len(good), MIN_MATCH_COUNT) )\n",
    "        matchesMask = None\n",
    "\n",
    "    draw_params = dict(matchColor = (0,255,0), # draw matches in green color\n",
    "               singlePointColor = None,\n",
    "               matchesMask = matchesMask, # draw only inliers\n",
    "               flags = 2)\n",
    "\n",
    "    if len(good)>MIN_MATCH_COUNT:\n",
    "        output2 = cv2.drawMatches(template,kp1,gray,kp2,good,None,**draw_params)\n",
    "        \n",
    "\n",
    "    return output2\n"
   ]
  },
  {
   "cell_type": "code",
   "execution_count": 9,
   "id": "4f49bcff",
   "metadata": {},
   "outputs": [
    {
     "name": "stdout",
     "output_type": "stream",
     "text": [
      "len(good)  4\n",
      "match 004, min_match 005, kp 047\n",
      "Not enough matches are found - 4/5\n"
     ]
    }
   ],
   "source": [
    "images = Path(img_folder).glob('*.jpg')\n",
    "detected_df=pd.DataFrame(columns=['img_name','result'])\n",
    "for image in images:\n",
    "    img=cv2.imread(str(image.absolute()),0)\n",
    "    img=cv2.resize(img, (0, 0),fx = 1, fy = 1)\n",
    "    result = keypointmatcher(img,ref_image)\n",
    "    break\n",
    "#     if result[0]>0.5:\n",
    "#         flag=\"Y\"\n",
    "#     else: \n",
    "#         flag=\"N\"\n",
    "#     detected_df=detected_df.append({'img_name':str(image),'result':str(result)}, ignore_index=True)\n",
    "    "
   ]
  },
  {
   "cell_type": "code",
   "execution_count": 10,
   "id": "86a61db2",
   "metadata": {},
   "outputs": [
    {
     "ename": "error",
     "evalue": "OpenCV(4.8.0) D:\\a\\opencv-python\\opencv-python\\opencv\\modules\\highgui\\src\\window.cpp:971: error: (-215:Assertion failed) size.width>0 && size.height>0 in function 'cv::imshow'\n",
     "output_type": "error",
     "traceback": [
      "\u001b[1;31m---------------------------------------------------------------------------\u001b[0m",
      "\u001b[1;31merror\u001b[0m                                     Traceback (most recent call last)",
      "\u001b[1;32m~\\AppData\\Local\\Temp\\ipykernel_8700\\3619157589.py\u001b[0m in \u001b[0;36m<module>\u001b[1;34m\u001b[0m\n\u001b[0;32m      1\u001b[0m \u001b[0mcv2\u001b[0m\u001b[1;33m.\u001b[0m\u001b[0mnamedWindow\u001b[0m\u001b[1;33m(\u001b[0m\u001b[1;34m'rescaled'\u001b[0m\u001b[1;33m,\u001b[0m\u001b[0mcv2\u001b[0m\u001b[1;33m.\u001b[0m\u001b[0mWINDOW_NORMAL\u001b[0m\u001b[1;33m)\u001b[0m\u001b[1;33m\u001b[0m\u001b[1;33m\u001b[0m\u001b[0m\n\u001b[1;32m----> 2\u001b[1;33m \u001b[0mcv2\u001b[0m\u001b[1;33m.\u001b[0m\u001b[0mimshow\u001b[0m\u001b[1;33m(\u001b[0m\u001b[1;34m\"rescaled\"\u001b[0m\u001b[1;33m,\u001b[0m \u001b[0mresult\u001b[0m\u001b[1;33m)\u001b[0m\u001b[1;33m\u001b[0m\u001b[1;33m\u001b[0m\u001b[0m\n\u001b[0m\u001b[0;32m      3\u001b[0m \u001b[0mcv2\u001b[0m\u001b[1;33m.\u001b[0m\u001b[0mwaitKey\u001b[0m\u001b[1;33m(\u001b[0m\u001b[1;36m0\u001b[0m\u001b[1;33m)\u001b[0m\u001b[1;33m\u001b[0m\u001b[1;33m\u001b[0m\u001b[0m\n",
      "\u001b[1;31merror\u001b[0m: OpenCV(4.8.0) D:\\a\\opencv-python\\opencv-python\\opencv\\modules\\highgui\\src\\window.cpp:971: error: (-215:Assertion failed) size.width>0 && size.height>0 in function 'cv::imshow'\n"
     ]
    }
   ],
   "source": [
    "cv2.namedWindow('rescaled',cv2.WINDOW_NORMAL)\n",
    "cv2.imshow(\"rescaled\", result)\n",
    "cv2.waitKey(0)"
   ]
  },
  {
   "cell_type": "code",
   "execution_count": 54,
   "id": "292c776f",
   "metadata": {},
   "outputs": [
    {
     "data": {
      "text/plain": [
       "generator"
      ]
     },
     "execution_count": 54,
     "metadata": {},
     "output_type": "execute_result"
    }
   ],
   "source": [
    "type(images)"
   ]
  },
  {
   "cell_type": "code",
   "execution_count": 12,
   "id": "c891d5e4",
   "metadata": {},
   "outputs": [],
   "source": [
    "detected_df.to_excel(\"detection.xlsx\")"
   ]
  },
  {
   "cell_type": "code",
   "execution_count": 88,
   "id": "35c0eba3",
   "metadata": {},
   "outputs": [
    {
     "data": {
      "text/plain": [
       "-1"
      ]
     },
     "execution_count": 88,
     "metadata": {},
     "output_type": "execute_result"
    }
   ],
   "source": [
    "cv2.imshow(\"img\", img)\n",
    "cv2.waitKey(0)"
   ]
  }
 ],
 "metadata": {
  "kernelspec": {
   "display_name": "Python 3 (ipykernel)",
   "language": "python",
   "name": "python3"
  },
  "language_info": {
   "codemirror_mode": {
    "name": "ipython",
    "version": 3
   },
   "file_extension": ".py",
   "mimetype": "text/x-python",
   "name": "python",
   "nbconvert_exporter": "python",
   "pygments_lexer": "ipython3",
   "version": "3.7.5"
  }
 },
 "nbformat": 4,
 "nbformat_minor": 5
}
