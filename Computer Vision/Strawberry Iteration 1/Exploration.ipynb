{
 "cells": [
  {
   "attachments": {},
   "cell_type": "markdown",
   "metadata": {},
   "source": [
    "## 1.1 Lot of things"
   ]
  },
  {
   "cell_type": "code",
   "execution_count": 1,
   "metadata": {},
   "outputs": [],
   "source": [
    "import cv2\n",
    "import numpy as np\n",
    "from imutils import perspective\n",
    "from imutils import contours\n",
    "import scipy\n",
    "import imutils\n"
   ]
  },
  {
   "cell_type": "code",
   "execution_count": 8,
   "metadata": {},
   "outputs": [
    {
     "name": "stdout",
     "output_type": "stream",
     "text": [
      "width=6000, height=4000, depth=3\n"
     ]
    }
   ],
   "source": [
    "# load the input image and show its dimensions, keeping in mind that\n",
    "# images are represented as a multi-dimensional NumPy array with\n",
    "# shape no. rows (height) x no. columns (width) x no. channels (depth)\n",
    "\n",
    "# image = cv2.imread(\"C:\\\\Users\\\\g654674\\\\OneDrive - General Mills\\\\Work_OneDrive\\\\Fruit Pieces\\\\Picture1.jpg\")\n",
    "image = cv2.imread(\n",
    "    \"C:\\\\Users\\\\g654674\\\\OneDrive - General Mills\\\\Work_OneDrive\\\\Fruit Pieces\\\\images\\\\input\\\\March 6\\\\CupS1.jpg\")\n",
    "(h, w, d) = image.shape\n",
    "print(\"width={}, height={}, depth={}\".format(w, h, d))\n",
    "\n",
    "# display the image to our screen -- we will need to click the window\n",
    "# open by OpenCV and press a key on our keyboard to continue execution\n",
    "# cv2.imshow(\"Image\", image)\n",
    "# cv2.waitKey(0)\n"
   ]
  },
  {
   "cell_type": "code",
   "execution_count": 10,
   "metadata": {},
   "outputs": [
    {
     "data": {
      "text/plain": [
       "-1"
      ]
     },
     "execution_count": 10,
     "metadata": {},
     "output_type": "execute_result"
    }
   ],
   "source": [
    "# convert the image to grayscale\n",
    "gray = cv2.cvtColor(image, cv2.COLOR_BGR2GRAY)\n",
    "cv2.imshow(\"Gray\", gray)\n",
    "cv2.waitKey(0)\n"
   ]
  },
  {
   "cell_type": "code",
   "execution_count": 11,
   "metadata": {},
   "outputs": [
    {
     "data": {
      "text/plain": [
       "-1"
      ]
     },
     "execution_count": 11,
     "metadata": {},
     "output_type": "execute_result"
    }
   ],
   "source": [
    "blurred = cv2.GaussianBlur(gray, (5, 5), 0)\n",
    "cv2.imshow(\"Blurred\", blurred)\n",
    "cv2.waitKey(0)\n"
   ]
  },
  {
   "cell_type": "code",
   "execution_count": 15,
   "metadata": {},
   "outputs": [
    {
     "data": {
      "text/plain": [
       "-1"
      ]
     },
     "execution_count": 15,
     "metadata": {},
     "output_type": "execute_result"
    }
   ],
   "source": [
    "# applying edge detection we can find the outlines of objects in\n",
    "# images\n",
    "edged = cv2.Canny(gray, 5, 150)\n",
    "cv2.imshow(\"Edged\", edged)\n",
    "cv2.waitKey(0)\n"
   ]
  },
  {
   "cell_type": "code",
   "execution_count": 22,
   "metadata": {},
   "outputs": [
    {
     "data": {
      "text/plain": [
       "-1"
      ]
     },
     "execution_count": 22,
     "metadata": {},
     "output_type": "execute_result"
    }
   ],
   "source": [
    "# threshold the image by setting all pixel values less than 225\n",
    "# to 255 (white; foreground) and all pixel values >= 225 to 255\n",
    "# (black; background), thereby segmenting the image\n",
    "thresh = cv2.threshold(gray, 220, 255, cv2.THRESH_BINARY_INV)[1]\n",
    "cv2.imshow(\"Thresh\", thresh)\n",
    "cv2.waitKey(0)\n"
   ]
  },
  {
   "cell_type": "code",
   "execution_count": 9,
   "metadata": {},
   "outputs": [
    {
     "data": {
      "text/plain": [
       "-1"
      ]
     },
     "execution_count": 9,
     "metadata": {},
     "output_type": "execute_result"
    }
   ],
   "source": [
    "import numpy as np\n",
    "import cv2\n",
    "\n",
    "image = cv2.imread(\n",
    "    \"C:\\\\Users\\\\g654674\\\\OneDrive - General Mills\\\\Work_OneDrive\\\\Fruit Pieces\\\\Picture1.jpg\")\n",
    "result = image.copy()\n",
    "image = cv2.cvtColor(image, cv2.COLOR_BGR2HSV)\n",
    "lower = np.array([120, 25, 0])\n",
    "upper = np.array([199, 255, 255])\n",
    "mask = cv2.inRange(image, lower, upper)\n",
    "result = cv2.bitwise_and(result, result, mask=mask)\n",
    "\n",
    "cv2.imshow('mask', mask)\n",
    "cv2.imshow('result', result)\n",
    "cv2.waitKey()\n"
   ]
  },
  {
   "attachments": {},
   "cell_type": "markdown",
   "metadata": {},
   "source": [
    "### Different Approach - HSV finder code"
   ]
  },
  {
   "cell_type": "code",
   "execution_count": null,
   "metadata": {},
   "outputs": [],
   "source": [
    "image = cv2.imread(\n",
    "    \"C:\\\\Users\\\\g654674\\\\OneDrive - General Mills\\\\Work_OneDrive\\\\Fruit Pieces\\\\images\\\\input\\\\March 6\\\\CupS2.jpg\")\n"
   ]
  },
  {
   "cell_type": "code",
   "execution_count": null,
   "metadata": {},
   "outputs": [
    {
     "name": "stdout",
     "output_type": "stream",
     "text": [
      "(hMin = 0 , sMin = 0, vMin = 0), (hMax = 179 , sMax = 255, vMax = 255)\n",
      "(hMin = 2 , sMin = 0, vMin = 0), (hMax = 179 , sMax = 255, vMax = 255)\n",
      "(hMin = 10 , sMin = 0, vMin = 0), (hMax = 179 , sMax = 255, vMax = 255)\n",
      "(hMin = 12 , sMin = 0, vMin = 0), (hMax = 179 , sMax = 255, vMax = 255)\n",
      "(hMin = 13 , sMin = 0, vMin = 0), (hMax = 179 , sMax = 255, vMax = 255)\n",
      "(hMin = 16 , sMin = 0, vMin = 0), (hMax = 179 , sMax = 255, vMax = 255)\n",
      "(hMin = 20 , sMin = 0, vMin = 0), (hMax = 179 , sMax = 255, vMax = 255)\n",
      "(hMin = 10 , sMin = 0, vMin = 0), (hMax = 179 , sMax = 255, vMax = 255)\n",
      "(hMin = 3 , sMin = 0, vMin = 0), (hMax = 179 , sMax = 255, vMax = 255)\n",
      "(hMin = 4 , sMin = 0, vMin = 0), (hMax = 179 , sMax = 255, vMax = 255)\n",
      "(hMin = 5 , sMin = 0, vMin = 0), (hMax = 179 , sMax = 255, vMax = 255)\n",
      "(hMin = 13 , sMin = 0, vMin = 0), (hMax = 179 , sMax = 255, vMax = 255)\n",
      "(hMin = 20 , sMin = 0, vMin = 0), (hMax = 179 , sMax = 255, vMax = 255)\n",
      "(hMin = 21 , sMin = 0, vMin = 0), (hMax = 179 , sMax = 255, vMax = 255)\n",
      "(hMin = 22 , sMin = 0, vMin = 0), (hMax = 179 , sMax = 255, vMax = 255)\n",
      "(hMin = 25 , sMin = 0, vMin = 0), (hMax = 179 , sMax = 255, vMax = 255)\n",
      "(hMin = 30 , sMin = 0, vMin = 0), (hMax = 179 , sMax = 255, vMax = 255)\n",
      "(hMin = 36 , sMin = 0, vMin = 0), (hMax = 179 , sMax = 255, vMax = 255)\n",
      "(hMin = 43 , sMin = 0, vMin = 0), (hMax = 179 , sMax = 255, vMax = 255)\n",
      "(hMin = 49 , sMin = 0, vMin = 0), (hMax = 179 , sMax = 255, vMax = 255)\n",
      "(hMin = 49 , sMin = 0, vMin = 2), (hMax = 179 , sMax = 255, vMax = 255)\n",
      "(hMin = 49 , sMin = 0, vMin = 32), (hMax = 179 , sMax = 255, vMax = 255)\n",
      "(hMin = 49 , sMin = 0, vMin = 53), (hMax = 179 , sMax = 255, vMax = 255)\n",
      "(hMin = 49 , sMin = 0, vMin = 60), (hMax = 179 , sMax = 255, vMax = 255)\n",
      "(hMin = 49 , sMin = 0, vMin = 67), (hMax = 179 , sMax = 255, vMax = 255)\n",
      "(hMin = 49 , sMin = 0, vMin = 71), (hMax = 179 , sMax = 255, vMax = 255)\n",
      "(hMin = 49 , sMin = 0, vMin = 82), (hMax = 179 , sMax = 255, vMax = 255)\n",
      "(hMin = 49 , sMin = 0, vMin = 87), (hMax = 179 , sMax = 255, vMax = 255)\n",
      "(hMin = 49 , sMin = 0, vMin = 92), (hMax = 179 , sMax = 255, vMax = 255)\n",
      "(hMin = 49 , sMin = 0, vMin = 94), (hMax = 179 , sMax = 255, vMax = 255)\n",
      "(hMin = 49 , sMin = 0, vMin = 95), (hMax = 179 , sMax = 255, vMax = 255)\n",
      "(hMin = 49 , sMin = 0, vMin = 98), (hMax = 179 , sMax = 255, vMax = 255)\n",
      "(hMin = 49 , sMin = 0, vMin = 103), (hMax = 179 , sMax = 255, vMax = 255)\n",
      "(hMin = 49 , sMin = 0, vMin = 106), (hMax = 179 , sMax = 255, vMax = 255)\n",
      "(hMin = 49 , sMin = 0, vMin = 99), (hMax = 179 , sMax = 255, vMax = 255)\n",
      "(hMin = 49 , sMin = 0, vMin = 95), (hMax = 179 , sMax = 255, vMax = 255)\n",
      "(hMin = 49 , sMin = 0, vMin = 89), (hMax = 179 , sMax = 255, vMax = 255)\n",
      "(hMin = 49 , sMin = 0, vMin = 85), (hMax = 179 , sMax = 255, vMax = 255)\n",
      "(hMin = 49 , sMin = 0, vMin = 82), (hMax = 179 , sMax = 255, vMax = 255)\n",
      "(hMin = 42 , sMin = 0, vMin = 82), (hMax = 179 , sMax = 255, vMax = 255)\n",
      "(hMin = 37 , sMin = 0, vMin = 82), (hMax = 179 , sMax = 255, vMax = 255)\n",
      "(hMin = 21 , sMin = 0, vMin = 82), (hMax = 179 , sMax = 255, vMax = 255)\n",
      "(hMin = 16 , sMin = 0, vMin = 82), (hMax = 179 , sMax = 255, vMax = 255)\n",
      "(hMin = 7 , sMin = 0, vMin = 82), (hMax = 179 , sMax = 255, vMax = 255)\n",
      "(hMin = 0 , sMin = 0, vMin = 82), (hMax = 179 , sMax = 255, vMax = 255)\n",
      "(hMin = 0 , sMin = 0, vMin = 82), (hMax = 171 , sMax = 255, vMax = 255)\n",
      "(hMin = 0 , sMin = 0, vMin = 82), (hMax = 154 , sMax = 255, vMax = 255)\n",
      "(hMin = 0 , sMin = 0, vMin = 82), (hMax = 133 , sMax = 255, vMax = 255)\n",
      "(hMin = 0 , sMin = 0, vMin = 82), (hMax = 126 , sMax = 255, vMax = 255)\n",
      "(hMin = 0 , sMin = 0, vMin = 82), (hMax = 124 , sMax = 255, vMax = 255)\n",
      "(hMin = 0 , sMin = 0, vMin = 82), (hMax = 123 , sMax = 255, vMax = 255)\n",
      "(hMin = 0 , sMin = 0, vMin = 82), (hMax = 120 , sMax = 255, vMax = 255)\n",
      "(hMin = 0 , sMin = 0, vMin = 82), (hMax = 111 , sMax = 255, vMax = 255)\n",
      "(hMin = 0 , sMin = 0, vMin = 82), (hMax = 105 , sMax = 255, vMax = 255)\n",
      "(hMin = 0 , sMin = 0, vMin = 82), (hMax = 103 , sMax = 255, vMax = 255)\n",
      "(hMin = 0 , sMin = 0, vMin = 82), (hMax = 99 , sMax = 255, vMax = 255)\n",
      "(hMin = 0 , sMin = 0, vMin = 82), (hMax = 91 , sMax = 255, vMax = 255)\n",
      "(hMin = 0 , sMin = 0, vMin = 82), (hMax = 83 , sMax = 255, vMax = 255)\n",
      "(hMin = 0 , sMin = 0, vMin = 82), (hMax = 80 , sMax = 255, vMax = 255)\n",
      "(hMin = 0 , sMin = 0, vMin = 82), (hMax = 79 , sMax = 255, vMax = 255)\n",
      "(hMin = 0 , sMin = 0, vMin = 82), (hMax = 76 , sMax = 255, vMax = 255)\n",
      "(hMin = 0 , sMin = 0, vMin = 82), (hMax = 74 , sMax = 255, vMax = 255)\n",
      "(hMin = 0 , sMin = 0, vMin = 82), (hMax = 94 , sMax = 255, vMax = 255)\n",
      "(hMin = 0 , sMin = 0, vMin = 82), (hMax = 148 , sMax = 255, vMax = 255)\n",
      "(hMin = 0 , sMin = 0, vMin = 82), (hMax = 179 , sMax = 255, vMax = 255)\n",
      "(hMin = 0 , sMin = 0, vMin = 82), (hMax = 179 , sMax = 239, vMax = 255)\n",
      "(hMin = 0 , sMin = 0, vMin = 82), (hMax = 179 , sMax = 226, vMax = 255)\n",
      "(hMin = 0 , sMin = 0, vMin = 82), (hMax = 179 , sMax = 217, vMax = 255)\n",
      "(hMin = 0 , sMin = 0, vMin = 82), (hMax = 179 , sMax = 205, vMax = 255)\n",
      "(hMin = 0 , sMin = 0, vMin = 82), (hMax = 179 , sMax = 198, vMax = 255)\n",
      "(hMin = 0 , sMin = 0, vMin = 82), (hMax = 179 , sMax = 197, vMax = 255)\n",
      "(hMin = 0 , sMin = 0, vMin = 82), (hMax = 179 , sMax = 187, vMax = 255)\n",
      "(hMin = 0 , sMin = 0, vMin = 82), (hMax = 179 , sMax = 180, vMax = 255)\n",
      "(hMin = 0 , sMin = 0, vMin = 82), (hMax = 179 , sMax = 155, vMax = 255)\n",
      "(hMin = 0 , sMin = 0, vMin = 82), (hMax = 179 , sMax = 147, vMax = 255)\n",
      "(hMin = 0 , sMin = 0, vMin = 82), (hMax = 179 , sMax = 141, vMax = 255)\n",
      "(hMin = 0 , sMin = 0, vMin = 82), (hMax = 179 , sMax = 135, vMax = 255)\n",
      "(hMin = 0 , sMin = 0, vMin = 82), (hMax = 179 , sMax = 130, vMax = 255)\n",
      "(hMin = 0 , sMin = 0, vMin = 82), (hMax = 179 , sMax = 127, vMax = 255)\n",
      "(hMin = 0 , sMin = 0, vMin = 82), (hMax = 179 , sMax = 122, vMax = 255)\n",
      "(hMin = 0 , sMin = 0, vMin = 82), (hMax = 179 , sMax = 117, vMax = 255)\n",
      "(hMin = 0 , sMin = 0, vMin = 82), (hMax = 179 , sMax = 112, vMax = 255)\n",
      "(hMin = 0 , sMin = 0, vMin = 82), (hMax = 179 , sMax = 108, vMax = 255)\n",
      "(hMin = 0 , sMin = 0, vMin = 82), (hMax = 179 , sMax = 106, vMax = 255)\n",
      "(hMin = 0 , sMin = 0, vMin = 82), (hMax = 179 , sMax = 104, vMax = 255)\n",
      "(hMin = 0 , sMin = 0, vMin = 82), (hMax = 179 , sMax = 103, vMax = 255)\n",
      "(hMin = 0 , sMin = 0, vMin = 82), (hMax = 179 , sMax = 112, vMax = 255)\n",
      "(hMin = 0 , sMin = 0, vMin = 82), (hMax = 179 , sMax = 148, vMax = 255)\n",
      "(hMin = 0 , sMin = 0, vMin = 82), (hMax = 179 , sMax = 217, vMax = 255)\n",
      "(hMin = 0 , sMin = 0, vMin = 82), (hMax = 179 , sMax = 228, vMax = 255)\n",
      "(hMin = 0 , sMin = 0, vMin = 82), (hMax = 179 , sMax = 245, vMax = 255)\n",
      "(hMin = 0 , sMin = 0, vMin = 82), (hMax = 179 , sMax = 255, vMax = 255)\n",
      "(hMin = 0 , sMin = 0, vMin = 82), (hMax = 179 , sMax = 255, vMax = 239)\n",
      "(hMin = 0 , sMin = 0, vMin = 82), (hMax = 179 , sMax = 255, vMax = 217)\n",
      "(hMin = 0 , sMin = 0, vMin = 82), (hMax = 179 , sMax = 255, vMax = 202)\n",
      "(hMin = 0 , sMin = 0, vMin = 82), (hMax = 179 , sMax = 255, vMax = 201)\n",
      "(hMin = 0 , sMin = 5, vMin = 82), (hMax = 179 , sMax = 255, vMax = 201)\n",
      "(hMin = 0 , sMin = 16, vMin = 82), (hMax = 179 , sMax = 255, vMax = 201)\n",
      "(hMin = 0 , sMin = 29, vMin = 82), (hMax = 179 , sMax = 255, vMax = 201)\n",
      "(hMin = 0 , sMin = 36, vMin = 82), (hMax = 179 , sMax = 255, vMax = 201)\n",
      "(hMin = 0 , sMin = 37, vMin = 82), (hMax = 179 , sMax = 255, vMax = 201)\n",
      "(hMin = 0 , sMin = 40, vMin = 82), (hMax = 179 , sMax = 255, vMax = 201)\n",
      "(hMin = 0 , sMin = 41, vMin = 82), (hMax = 179 , sMax = 255, vMax = 201)\n",
      "(hMin = 0 , sMin = 42, vMin = 82), (hMax = 179 , sMax = 255, vMax = 201)\n",
      "(hMin = 0 , sMin = 42, vMin = 78), (hMax = 179 , sMax = 255, vMax = 201)\n",
      "(hMin = 0 , sMin = 42, vMin = 71), (hMax = 179 , sMax = 255, vMax = 201)\n",
      "(hMin = 0 , sMin = 42, vMin = 66), (hMax = 179 , sMax = 255, vMax = 201)\n",
      "(hMin = 0 , sMin = 42, vMin = 63), (hMax = 179 , sMax = 255, vMax = 201)\n",
      "(hMin = 0 , sMin = 42, vMin = 64), (hMax = 179 , sMax = 255, vMax = 201)\n",
      "(hMin = 0 , sMin = 42, vMin = 65), (hMax = 179 , sMax = 255, vMax = 201)\n",
      "(hMin = 0 , sMin = 42, vMin = 66), (hMax = 179 , sMax = 255, vMax = 201)\n",
      "(hMin = 0 , sMin = 42, vMin = 67), (hMax = 179 , sMax = 255, vMax = 201)\n",
      "(hMin = 0 , sMin = 42, vMin = 68), (hMax = 179 , sMax = 255, vMax = 201)\n",
      "(hMin = 0 , sMin = 42, vMin = 69), (hMax = 179 , sMax = 255, vMax = 201)\n",
      "(hMin = 0 , sMin = 42, vMin = 70), (hMax = 179 , sMax = 255, vMax = 201)\n",
      "(hMin = 0 , sMin = 42, vMin = 71), (hMax = 179 , sMax = 255, vMax = 201)\n",
      "(hMin = 0 , sMin = 42, vMin = 73), (hMax = 179 , sMax = 255, vMax = 201)\n",
      "(hMin = 0 , sMin = 42, vMin = 74), (hMax = 179 , sMax = 255, vMax = 201)\n",
      "(hMin = 0 , sMin = 42, vMin = 75), (hMax = 179 , sMax = 255, vMax = 201)\n",
      "(hMin = 0 , sMin = 42, vMin = 77), (hMax = 179 , sMax = 255, vMax = 201)\n",
      "(hMin = 0 , sMin = 42, vMin = 78), (hMax = 179 , sMax = 255, vMax = 201)\n",
      "(hMin = 0 , sMin = 42, vMin = 77), (hMax = 179 , sMax = 255, vMax = 201)\n",
      "(hMin = 0 , sMin = 42, vMin = 72), (hMax = 179 , sMax = 255, vMax = 201)\n",
      "(hMin = 0 , sMin = 42, vMin = 67), (hMax = 179 , sMax = 255, vMax = 201)\n",
      "(hMin = 0 , sMin = 42, vMin = 65), (hMax = 179 , sMax = 255, vMax = 201)\n",
      "(hMin = 0 , sMin = 42, vMin = 64), (hMax = 179 , sMax = 255, vMax = 201)\n",
      "(hMin = 0 , sMin = 42, vMin = 63), (hMax = 179 , sMax = 255, vMax = 201)\n",
      "(hMin = 0 , sMin = 42, vMin = 61), (hMax = 179 , sMax = 255, vMax = 201)\n",
      "(hMin = 0 , sMin = 42, vMin = 59), (hMax = 179 , sMax = 255, vMax = 201)\n",
      "(hMin = 0 , sMin = 42, vMin = 57), (hMax = 179 , sMax = 255, vMax = 201)\n",
      "(hMin = 0 , sMin = 42, vMin = 56), (hMax = 179 , sMax = 255, vMax = 201)\n",
      "(hMin = 0 , sMin = 42, vMin = 55), (hMax = 179 , sMax = 255, vMax = 201)\n",
      "(hMin = 0 , sMin = 42, vMin = 54), (hMax = 179 , sMax = 255, vMax = 201)\n",
      "(hMin = 0 , sMin = 42, vMin = 53), (hMax = 179 , sMax = 255, vMax = 201)\n",
      "(hMin = 0 , sMin = 42, vMin = 52), (hMax = 179 , sMax = 255, vMax = 201)\n",
      "(hMin = 0 , sMin = 42, vMin = 50), (hMax = 179 , sMax = 255, vMax = 201)\n",
      "(hMin = 0 , sMin = 42, vMin = 46), (hMax = 179 , sMax = 255, vMax = 201)\n",
      "(hMin = 0 , sMin = 42, vMin = 31), (hMax = 179 , sMax = 255, vMax = 201)\n",
      "(hMin = 0 , sMin = 42, vMin = 28), (hMax = 179 , sMax = 255, vMax = 201)\n",
      "(hMin = 0 , sMin = 42, vMin = 26), (hMax = 179 , sMax = 255, vMax = 201)\n",
      "(hMin = 0 , sMin = 42, vMin = 18), (hMax = 179 , sMax = 255, vMax = 201)\n",
      "(hMin = 0 , sMin = 42, vMin = 15), (hMax = 179 , sMax = 255, vMax = 201)\n",
      "(hMin = 0 , sMin = 42, vMin = 12), (hMax = 179 , sMax = 255, vMax = 201)\n",
      "(hMin = 0 , sMin = 42, vMin = 7), (hMax = 179 , sMax = 255, vMax = 201)\n",
      "(hMin = 0 , sMin = 42, vMin = 18), (hMax = 179 , sMax = 255, vMax = 201)\n",
      "(hMin = 0 , sMin = 42, vMin = 32), (hMax = 179 , sMax = 255, vMax = 201)\n",
      "(hMin = 0 , sMin = 42, vMin = 42), (hMax = 179 , sMax = 255, vMax = 201)\n",
      "(hMin = 0 , sMin = 42, vMin = 66), (hMax = 179 , sMax = 255, vMax = 201)\n",
      "(hMin = 0 , sMin = 42, vMin = 91), (hMax = 179 , sMax = 255, vMax = 201)\n",
      "(hMin = 0 , sMin = 42, vMin = 107), (hMax = 179 , sMax = 255, vMax = 201)\n",
      "(hMin = 0 , sMin = 42, vMin = 114), (hMax = 179 , sMax = 255, vMax = 201)\n",
      "(hMin = 0 , sMin = 42, vMin = 116), (hMax = 179 , sMax = 255, vMax = 201)\n",
      "(hMin = 0 , sMin = 42, vMin = 104), (hMax = 179 , sMax = 255, vMax = 201)\n",
      "(hMin = 0 , sMin = 42, vMin = 101), (hMax = 179 , sMax = 255, vMax = 201)\n",
      "(hMin = 0 , sMin = 42, vMin = 92), (hMax = 179 , sMax = 255, vMax = 201)\n",
      "(hMin = 0 , sMin = 42, vMin = 84), (hMax = 179 , sMax = 255, vMax = 201)\n",
      "(hMin = 0 , sMin = 42, vMin = 80), (hMax = 179 , sMax = 255, vMax = 201)\n",
      "(hMin = 0 , sMin = 42, vMin = 76), (hMax = 179 , sMax = 255, vMax = 201)\n",
      "(hMin = 0 , sMin = 42, vMin = 75), (hMax = 179 , sMax = 255, vMax = 201)\n",
      "(hMin = 0 , sMin = 42, vMin = 74), (hMax = 179 , sMax = 255, vMax = 201)\n",
      "(hMin = 0 , sMin = 42, vMin = 72), (hMax = 179 , sMax = 255, vMax = 201)\n",
      "(hMin = 0 , sMin = 42, vMin = 71), (hMax = 179 , sMax = 255, vMax = 201)\n",
      "(hMin = 0 , sMin = 42, vMin = 70), (hMax = 179 , sMax = 255, vMax = 201)\n",
      "(hMin = 0 , sMin = 42, vMin = 68), (hMax = 179 , sMax = 255, vMax = 201)\n",
      "(hMin = 0 , sMin = 42, vMin = 66), (hMax = 179 , sMax = 255, vMax = 201)\n",
      "(hMin = 0 , sMin = 42, vMin = 64), (hMax = 179 , sMax = 255, vMax = 201)\n",
      "(hMin = 0 , sMin = 42, vMin = 63), (hMax = 179 , sMax = 255, vMax = 201)\n",
      "(hMin = 0 , sMin = 42, vMin = 67), (hMax = 179 , sMax = 255, vMax = 201)\n",
      "(hMin = 0 , sMin = 42, vMin = 69), (hMax = 179 , sMax = 255, vMax = 201)\n",
      "(hMin = 0 , sMin = 42, vMin = 70), (hMax = 179 , sMax = 255, vMax = 201)\n",
      "(hMin = 0 , sMin = 42, vMin = 71), (hMax = 179 , sMax = 255, vMax = 201)\n",
      "(hMin = 0 , sMin = 42, vMin = 72), (hMax = 179 , sMax = 255, vMax = 201)\n",
      "(hMin = 0 , sMin = 42, vMin = 73), (hMax = 179 , sMax = 255, vMax = 201)\n",
      "(hMin = 0 , sMin = 42, vMin = 72), (hMax = 179 , sMax = 255, vMax = 201)\n",
      "(hMin = 0 , sMin = 42, vMin = 69), (hMax = 179 , sMax = 255, vMax = 201)\n",
      "(hMin = 0 , sMin = 42, vMin = 67), (hMax = 179 , sMax = 255, vMax = 201)\n",
      "(hMin = 0 , sMin = 42, vMin = 65), (hMax = 179 , sMax = 255, vMax = 201)\n",
      "(hMin = 0 , sMin = 42, vMin = 64), (hMax = 179 , sMax = 255, vMax = 201)\n",
      "(hMin = 0 , sMin = 42, vMin = 63), (hMax = 179 , sMax = 255, vMax = 201)\n",
      "(hMin = 0 , sMin = 42, vMin = 61), (hMax = 179 , sMax = 255, vMax = 201)\n",
      "(hMin = 0 , sMin = 42, vMin = 58), (hMax = 179 , sMax = 255, vMax = 201)\n",
      "(hMin = 0 , sMin = 42, vMin = 59), (hMax = 179 , sMax = 255, vMax = 201)\n",
      "(hMin = 0 , sMin = 42, vMin = 61), (hMax = 179 , sMax = 255, vMax = 201)\n",
      "(hMin = 0 , sMin = 42, vMin = 63), (hMax = 179 , sMax = 255, vMax = 201)\n",
      "(hMin = 0 , sMin = 42, vMin = 64), (hMax = 179 , sMax = 255, vMax = 201)\n",
      "(hMin = 0 , sMin = 42, vMin = 65), (hMax = 179 , sMax = 255, vMax = 201)\n",
      "(hMin = 0 , sMin = 42, vMin = 66), (hMax = 179 , sMax = 255, vMax = 201)\n",
      "(hMin = 0 , sMin = 42, vMin = 68), (hMax = 179 , sMax = 255, vMax = 201)\n",
      "(hMin = 0 , sMin = 42, vMin = 69), (hMax = 179 , sMax = 255, vMax = 201)\n",
      "(hMin = 0 , sMin = 42, vMin = 70), (hMax = 179 , sMax = 255, vMax = 201)\n",
      "(hMin = 0 , sMin = 42, vMin = 71), (hMax = 179 , sMax = 255, vMax = 201)\n",
      "(hMin = 0 , sMin = 42, vMin = 72), (hMax = 179 , sMax = 255, vMax = 201)\n",
      "(hMin = 0 , sMin = 42, vMin = 74), (hMax = 179 , sMax = 255, vMax = 201)\n",
      "(hMin = 0 , sMin = 42, vMin = 77), (hMax = 179 , sMax = 255, vMax = 201)\n",
      "(hMin = 0 , sMin = 42, vMin = 87), (hMax = 179 , sMax = 255, vMax = 201)\n",
      "(hMin = 0 , sMin = 42, vMin = 88), (hMax = 179 , sMax = 255, vMax = 201)\n",
      "(hMin = 0 , sMin = 42, vMin = 89), (hMax = 179 , sMax = 255, vMax = 201)\n",
      "(hMin = 0 , sMin = 42, vMin = 96), (hMax = 179 , sMax = 255, vMax = 201)\n",
      "(hMin = 0 , sMin = 42, vMin = 101), (hMax = 179 , sMax = 255, vMax = 201)\n",
      "(hMin = 0 , sMin = 42, vMin = 108), (hMax = 179 , sMax = 255, vMax = 201)\n",
      "(hMin = 0 , sMin = 42, vMin = 111), (hMax = 179 , sMax = 255, vMax = 201)\n",
      "(hMin = 0 , sMin = 42, vMin = 93), (hMax = 179 , sMax = 255, vMax = 201)\n",
      "(hMin = 0 , sMin = 42, vMin = 89), (hMax = 179 , sMax = 255, vMax = 201)\n",
      "(hMin = 0 , sMin = 42, vMin = 75), (hMax = 179 , sMax = 255, vMax = 201)\n",
      "(hMin = 0 , sMin = 42, vMin = 73), (hMax = 179 , sMax = 255, vMax = 201)\n",
      "(hMin = 0 , sMin = 42, vMin = 73), (hMax = 179 , sMax = 213, vMax = 201)\n",
      "(hMin = 0 , sMin = 42, vMin = 73), (hMax = 179 , sMax = 163, vMax = 201)\n",
      "(hMin = 0 , sMin = 42, vMin = 73), (hMax = 179 , sMax = 146, vMax = 201)\n",
      "(hMin = 0 , sMin = 42, vMin = 73), (hMax = 179 , sMax = 144, vMax = 201)\n",
      "(hMin = 0 , sMin = 42, vMin = 73), (hMax = 179 , sMax = 110, vMax = 201)\n",
      "(hMin = 0 , sMin = 42, vMin = 73), (hMax = 179 , sMax = 109, vMax = 201)\n",
      "(hMin = 0 , sMin = 42, vMin = 73), (hMax = 179 , sMax = 107, vMax = 201)\n",
      "(hMin = 0 , sMin = 42, vMin = 73), (hMax = 179 , sMax = 114, vMax = 201)\n",
      "(hMin = 0 , sMin = 42, vMin = 73), (hMax = 179 , sMax = 158, vMax = 201)\n",
      "(hMin = 0 , sMin = 42, vMin = 73), (hMax = 179 , sMax = 190, vMax = 201)\n",
      "(hMin = 0 , sMin = 42, vMin = 73), (hMax = 179 , sMax = 203, vMax = 201)\n",
      "(hMin = 0 , sMin = 42, vMin = 73), (hMax = 179 , sMax = 209, vMax = 201)\n",
      "(hMin = 0 , sMin = 42, vMin = 73), (hMax = 179 , sMax = 212, vMax = 201)\n",
      "(hMin = 0 , sMin = 42, vMin = 73), (hMax = 179 , sMax = 128, vMax = 201)\n",
      "(hMin = 0 , sMin = 42, vMin = 73), (hMax = 179 , sMax = 67, vMax = 201)\n",
      "(hMin = 0 , sMin = 42, vMin = 73), (hMax = 179 , sMax = 54, vMax = 201)\n",
      "(hMin = 0 , sMin = 42, vMin = 73), (hMax = 179 , sMax = 39, vMax = 201)\n",
      "(hMin = 0 , sMin = 42, vMin = 73), (hMax = 179 , sMax = 36, vMax = 201)\n",
      "(hMin = 0 , sMin = 42, vMin = 73), (hMax = 179 , sMax = 39, vMax = 201)\n",
      "(hMin = 0 , sMin = 42, vMin = 73), (hMax = 179 , sMax = 168, vMax = 201)\n",
      "(hMin = 0 , sMin = 42, vMin = 73), (hMax = 179 , sMax = 255, vMax = 201)\n",
      "(hMin = 0 , sMin = 42, vMin = 73), (hMax = 179 , sMax = 255, vMax = 178)\n",
      "(hMin = 0 , sMin = 42, vMin = 73), (hMax = 179 , sMax = 255, vMax = 158)\n",
      "(hMin = 0 , sMin = 42, vMin = 73), (hMax = 179 , sMax = 255, vMax = 116)\n",
      "(hMin = 0 , sMin = 42, vMin = 73), (hMax = 179 , sMax = 255, vMax = 101)\n",
      "(hMin = 0 , sMin = 42, vMin = 73), (hMax = 179 , sMax = 255, vMax = 93)\n",
      "(hMin = 0 , sMin = 42, vMin = 73), (hMax = 179 , sMax = 255, vMax = 100)\n",
      "(hMin = 0 , sMin = 42, vMin = 73), (hMax = 179 , sMax = 255, vMax = 117)\n",
      "(hMin = 0 , sMin = 42, vMin = 73), (hMax = 179 , sMax = 255, vMax = 144)\n",
      "(hMin = 0 , sMin = 42, vMin = 73), (hMax = 179 , sMax = 255, vMax = 173)\n",
      "(hMin = 0 , sMin = 42, vMin = 73), (hMax = 179 , sMax = 255, vMax = 190)\n",
      "(hMin = 0 , sMin = 42, vMin = 73), (hMax = 179 , sMax = 255, vMax = 207)\n",
      "(hMin = 0 , sMin = 42, vMin = 73), (hMax = 179 , sMax = 255, vMax = 210)\n",
      "(hMin = 0 , sMin = 42, vMin = 73), (hMax = 179 , sMax = 255, vMax = 215)\n",
      "(hMin = 0 , sMin = 42, vMin = 73), (hMax = 179 , sMax = 255, vMax = 223)\n",
      "(hMin = 0 , sMin = 42, vMin = 73), (hMax = 179 , sMax = 255, vMax = 231)\n",
      "(hMin = 0 , sMin = 42, vMin = 73), (hMax = 179 , sMax = 255, vMax = 216)\n",
      "(hMin = 0 , sMin = 42, vMin = 73), (hMax = 179 , sMax = 255, vMax = 204)\n",
      "(hMin = 0 , sMin = 42, vMin = 73), (hMax = 179 , sMax = 255, vMax = 184)\n",
      "(hMin = 0 , sMin = 42, vMin = 73), (hMax = 179 , sMax = 255, vMax = 183)\n",
      "(hMin = 0 , sMin = 42, vMin = 73), (hMax = 179 , sMax = 255, vMax = 187)\n",
      "(hMin = 0 , sMin = 42, vMin = 73), (hMax = 179 , sMax = 255, vMax = 204)\n",
      "(hMin = 0 , sMin = 42, vMin = 73), (hMax = 179 , sMax = 255, vMax = 209)\n",
      "(hMin = 0 , sMin = 42, vMin = 73), (hMax = 179 , sMax = 255, vMax = 218)\n",
      "(hMin = 0 , sMin = 42, vMin = 73), (hMax = 179 , sMax = 255, vMax = 221)\n",
      "(hMin = 0 , sMin = 42, vMin = 73), (hMax = 179 , sMax = 255, vMax = 222)\n",
      "(hMin = 0 , sMin = 42, vMin = 73), (hMax = 179 , sMax = 255, vMax = 225)\n",
      "(hMin = 0 , sMin = 42, vMin = 73), (hMax = 179 , sMax = 255, vMax = 228)\n",
      "(hMin = 0 , sMin = 42, vMin = 73), (hMax = 179 , sMax = 255, vMax = 232)\n",
      "(hMin = 0 , sMin = 42, vMin = 73), (hMax = 179 , sMax = 255, vMax = 241)\n",
      "(hMin = 0 , sMin = 42, vMin = 73), (hMax = 179 , sMax = 255, vMax = 242)\n",
      "(hMin = 0 , sMin = 42, vMin = 73), (hMax = 179 , sMax = 255, vMax = 240)\n",
      "(hMin = 0 , sMin = 42, vMin = 73), (hMax = 179 , sMax = 255, vMax = 214)\n"
     ]
    },
    {
     "ename": "error",
     "evalue": "OpenCV(4.5.3) C:\\Users\\runneradmin\\AppData\\Local\\Temp\\pip-req-build-_xlv4eex\\opencv\\modules\\highgui\\src\\window_w32.cpp:2577: error: (-27:Null pointer) NULL window: 'image' in function 'cvGetTrackbarPos'\n",
     "output_type": "error",
     "traceback": [
      "\u001b[1;31m---------------------------------------------------------------------------\u001b[0m\n",
      "\u001b[1;31merror\u001b[0m                                     Traceback (most recent call last)\n",
      "\u001b[1;32m<ipython-input-83-56b102fd6a2f>\u001b[0m in \u001b[0;36m<module>\u001b[1;34m\u001b[0m\n",
      "\u001b[0;32m     34\u001b[0m \u001b[1;33m\u001b[0m\u001b[0m\n",
      "\u001b[0;32m     35\u001b[0m     \u001b[1;31m# get current positions of all trackbars\u001b[0m\u001b[1;33m\u001b[0m\u001b[1;33m\u001b[0m\u001b[1;33m\u001b[0m\u001b[0m\n",
      "\u001b[1;32m---> 36\u001b[1;33m     \u001b[0mhMin\u001b[0m \u001b[1;33m=\u001b[0m \u001b[0mcv2\u001b[0m\u001b[1;33m.\u001b[0m\u001b[0mgetTrackbarPos\u001b[0m\u001b[1;33m(\u001b[0m\u001b[1;34m'HMin'\u001b[0m\u001b[1;33m,\u001b[0m\u001b[1;34m'image'\u001b[0m\u001b[1;33m)\u001b[0m\u001b[1;33m\u001b[0m\u001b[1;33m\u001b[0m\u001b[0m\n",
      "\u001b[0m\u001b[0;32m     37\u001b[0m     \u001b[0msMin\u001b[0m \u001b[1;33m=\u001b[0m \u001b[0mcv2\u001b[0m\u001b[1;33m.\u001b[0m\u001b[0mgetTrackbarPos\u001b[0m\u001b[1;33m(\u001b[0m\u001b[1;34m'SMin'\u001b[0m\u001b[1;33m,\u001b[0m\u001b[1;34m'image'\u001b[0m\u001b[1;33m)\u001b[0m\u001b[1;33m\u001b[0m\u001b[1;33m\u001b[0m\u001b[0m\n",
      "\u001b[0;32m     38\u001b[0m     \u001b[0mvMin\u001b[0m \u001b[1;33m=\u001b[0m \u001b[0mcv2\u001b[0m\u001b[1;33m.\u001b[0m\u001b[0mgetTrackbarPos\u001b[0m\u001b[1;33m(\u001b[0m\u001b[1;34m'VMin'\u001b[0m\u001b[1;33m,\u001b[0m\u001b[1;34m'image'\u001b[0m\u001b[1;33m)\u001b[0m\u001b[1;33m\u001b[0m\u001b[1;33m\u001b[0m\u001b[0m\n",
      "\n",
      "\u001b[1;31merror\u001b[0m: OpenCV(4.5.3) C:\\Users\\runneradmin\\AppData\\Local\\Temp\\pip-req-build-_xlv4eex\\opencv\\modules\\highgui\\src\\window_w32.cpp:2577: error: (-27:Null pointer) NULL window: 'image' in function 'cvGetTrackbarPos'\n"
     ]
    }
   ],
   "source": [
    "# HSV selector tool\n",
    "import cv2\n",
    "import sys\n",
    "import numpy as np\n",
    "\n",
    "\n",
    "def nothing(x):\n",
    "    pass\n",
    "\n",
    "\n",
    "# Create a window\n",
    "cv2.namedWindow('image', cv2.WINDOW_NORMAL)\n",
    "\n",
    "# create trackbars for color change\n",
    "# Hue is from 0-179 for Opencv\n",
    "cv2.createTrackbar('HMin', 'image', 0, 179, nothing)\n",
    "cv2.createTrackbar('SMin', 'image', 0, 255, nothing)\n",
    "cv2.createTrackbar('VMin', 'image', 0, 255, nothing)\n",
    "cv2.createTrackbar('HMax', 'image', 0, 179, nothing)\n",
    "cv2.createTrackbar('SMax', 'image', 0, 255, nothing)\n",
    "cv2.createTrackbar('VMax', 'image', 0, 255, nothing)\n",
    "\n",
    "# Set default value for MAX HSV trackbars.\n",
    "cv2.setTrackbarPos('HMax', 'image', 179)\n",
    "cv2.setTrackbarPos('SMax', 'image', 255)\n",
    "cv2.setTrackbarPos('VMax', 'image', 255)\n",
    "\n",
    "# Initialize to check if HSV min/max value changes\n",
    "hMin = sMin = vMin = hMax = sMax = vMax = 0\n",
    "phMin = psMin = pvMin = phMax = psMax = pvMax = 0\n",
    "\n",
    "img = image\n",
    "output = img\n",
    "waitTime = 33\n",
    "\n",
    "while(1):\n",
    "\n",
    "    # get current positions of all trackbars\n",
    "    hMin = cv2.getTrackbarPos('HMin', 'image')\n",
    "    sMin = cv2.getTrackbarPos('SMin', 'image')\n",
    "    vMin = cv2.getTrackbarPos('VMin', 'image')\n",
    "\n",
    "    hMax = cv2.getTrackbarPos('HMax', 'image')\n",
    "    sMax = cv2.getTrackbarPos('SMax', 'image')\n",
    "    vMax = cv2.getTrackbarPos('VMax', 'image')\n",
    "\n",
    "    # Set minimum and max HSV values to display\n",
    "    lower = np.array([hMin, sMin, vMin])\n",
    "    upper = np.array([hMax, sMax, vMax])\n",
    "\n",
    "    # Create HSV Image and threshold into a range.\n",
    "    hsv = cv2.cvtColor(img, cv2.COLOR_BGR2HSV)\n",
    "    mask = cv2.inRange(hsv, lower, upper)\n",
    "    output = cv2.bitwise_and(img, img, mask=mask)\n",
    "\n",
    "    # Print if there is a change in HSV value\n",
    "    if((phMin != hMin) | (psMin != sMin) | (pvMin != vMin) | (phMax != hMax) | (psMax != sMax) | (pvMax != vMax)):\n",
    "        print(\"(hMin = %d , sMin = %d, vMin = %d), (hMax = %d , sMax = %d, vMax = %d)\" % (\n",
    "            hMin, sMin, vMin, hMax, sMax, vMax))\n",
    "        phMin = hMin\n",
    "        psMin = sMin\n",
    "        pvMin = vMin\n",
    "        phMax = hMax\n",
    "        psMax = sMax\n",
    "        pvMax = vMax\n",
    "\n",
    "    # Display output image\n",
    "    cv2.imshow('image', output)\n",
    "\n",
    "    # Wait longer to prevent freeze for videos.\n",
    "    if cv2.waitKey(waitTime) & 0xFF == ord('q'):\n",
    "        break\n",
    "\n",
    "cv2.destroyAllWindows()\n"
   ]
  },
  {
   "cell_type": "code",
   "execution_count": null,
   "metadata": {},
   "outputs": [],
   "source": [
    "hsv = cv2.cvtColor(image, cv2.COLOR_BGR2HSV)\n",
    "\n",
    "# upper boundary RED color range values; Hue (160 - 180)\n",
    "lower2 = np.array([40, 210, 150])\n",
    "upper2 = np.array([179, 255, 255])\n",
    "\n",
    "# create a mask using the bounds set\n",
    "mask = cv2.inRange(hsv, lower, upper)\n",
    "\n",
    "# create an inverse of the mask\n",
    "mask_inv = cv2.bitwise_not(mask)\n",
    "# Filter only the red colour from the original image using the mask(foreground)\n",
    "res = cv2.bitwise_and(image, image, mask=mask)\n",
    "# display_img(mask)\n",
    "cv2.namedWindow(\"res\", cv2.WINDOW_NORMAL)\n",
    "cv2.imshow('res', res)\n",
    "\n",
    "if cv2.waitKey(0):\n",
    "    cv2.destroyAllWindows()\n"
   ]
  },
  {
   "attachments": {},
   "cell_type": "markdown",
   "metadata": {},
   "source": [
    "## 1.2 Working Code"
   ]
  },
  {
   "attachments": {},
   "cell_type": "markdown",
   "metadata": {},
   "source": [
    "#### 1.2.1  Block wise"
   ]
  },
  {
   "cell_type": "code",
   "execution_count": 1,
   "metadata": {},
   "outputs": [],
   "source": [
    "import cv2\n",
    "import numpy as np\n",
    "from imutils import perspective\n",
    "from imutils import contours\n",
    "import scipy\n",
    "import imutils\n",
    "from skimage.io import imread, imshow\n",
    "from skimage.color import rgb2hsv\n",
    "import matplotlib.pyplot as plt\n",
    "import os\n"
   ]
  },
  {
   "cell_type": "code",
   "execution_count": 14,
   "metadata": {},
   "outputs": [],
   "source": [
    "img = cv2.imread(\"C:\\\\Users\\\\g654674\\\\OneDrive - General Mills\\\\Work_OneDrive\\\\Fruit Pieces\\\\Strawberry Iteration 1\\\\Original Images\\\\CupS1.jpg\")"
   ]
  },
  {
   "cell_type": "code",
   "execution_count": 35,
   "metadata": {},
   "outputs": [
    {
     "data": {
      "text/plain": [
       "-1"
      ]
     },
     "execution_count": 35,
     "metadata": {},
     "output_type": "execute_result"
    }
   ],
   "source": [
    "hsv = cv2.cvtColor(img, cv2.COLOR_BGR2HSV)\n",
    "\n",
    "lower_red = np.array([0, 50, 50])\n",
    "upper_red = np.array([10, 255, 255])\n",
    "mask1 = cv2.inRange(hsv, lower_red, upper_red)\n",
    "\n",
    "lower_red = np.array([170, 50, 50])\n",
    "upper_red = np.array([180, 255, 255])\n",
    "mask2 = cv2.inRange(hsv, lower_red, upper_red)\n",
    "\n",
    "mask = mask1 + mask2\n",
    "\n",
    "res = cv2.bitwise_and(img, img, mask=mask)\n",
    "\n",
    "cimg = np.array(res)\n",
    "# hsv = cv2.cvtColor(cimgg, cv2.COLOR_BGR2HSV)\n",
    "\n",
    "lower = np.array([0, 120, 0])\n",
    "upper = np.array([255, 255, 255])\n",
    "mask = cv2.inRange(hsv, lower, upper)\n",
    "\n",
    "sat_mask = cv2.bitwise_and(cimg, cimg, mask=mask)\n",
    "\n",
    "masked_img = np.array(sat_mask)\n",
    "\n",
    "# gray = cv2.cvtColor(cimg, cv2.COLOR_BGR2GRAY)\n",
    "# blur = cv2.GaussianBlur(gray, (15, 15), 0)\n",
    "# ret, thresh = cv2.threshold(blur, 25, 255, cv2.THRESH_BINARY)\n",
    "\n",
    "\n",
    "cv2.namedWindow(\"masked_img\", cv2.WINDOW_NORMAL)\n",
    "cv2.imshow(\"masked_img\", masked_img)\n",
    "cv2.waitKey(0)\n"
   ]
  },
  {
   "cell_type": "code",
   "execution_count": 36,
   "metadata": {},
   "outputs": [
    {
     "data": {
      "text/plain": [
       "-1"
      ]
     },
     "execution_count": 36,
     "metadata": {},
     "output_type": "execute_result"
    }
   ],
   "source": [
    "# cimg = np.array(res)\n",
    "gray = cv2.cvtColor(sat_mask, cv2.COLOR_BGR2GRAY)\n",
    "cv2.namedWindow(\"gray\", cv2.WINDOW_NORMAL)\n",
    "cv2.imshow('gray', gray)\n",
    "cv2.waitKey(0)\n"
   ]
  },
  {
   "cell_type": "code",
   "execution_count": 37,
   "metadata": {},
   "outputs": [],
   "source": [
    "blur = cv2.GaussianBlur(gray, (125, 125), 0)\n",
    "# cv2.namedWindow(\"blur\", cv2.WINDOW_NORMAL)\n",
    "# cv2.imshow('blur', blur)\n",
    "# cv2.waitKey(0)\n"
   ]
  },
  {
   "cell_type": "code",
   "execution_count": 38,
   "metadata": {},
   "outputs": [
    {
     "data": {
      "text/plain": [
       "-1"
      ]
     },
     "execution_count": 38,
     "metadata": {},
     "output_type": "execute_result"
    }
   ],
   "source": [
    "# convert to binary by thresholding\n",
    "# ret, binary_map = cv2.threshold(gray, 127, 255, 0)\n",
    "binary_map = cv2.threshold(\n",
    "    blur, 30, 255,  cv2.THRESH_BINARY + cv2.THRESH_OTSU)[1]\n",
    "\n",
    "# do connected components processing\n",
    "nlabels, labels, stats, centroids = cv2.connectedComponentsWithStats(\n",
    "    binary_map, None, None, None, 8, cv2.CV_32S)\n",
    "\n",
    "# get CC_STAT_AREA component as stats[label, COLUMN]\n",
    "areas = stats[1:, cv2.CC_STAT_AREA]\n",
    "\n",
    "result = np.zeros((labels.shape), np.uint8)\n",
    "\n",
    "for i in range(0, nlabels - 1):\n",
    "    if areas[i] >= 2500:  # keep\n",
    "        result[labels == i + 1] = 255\n",
    "\n",
    "# cv2.imshow(\"Binary\", binary_map)\n",
    "cv2.namedWindow(\"result\", cv2.WINDOW_NORMAL)\n",
    "cv2.imshow(\"result\", result)\n",
    "cv2.waitKey(0)\n"
   ]
  },
  {
   "cell_type": "code",
   "execution_count": 39,
   "metadata": {},
   "outputs": [
    {
     "data": {
      "text/plain": [
       "-1"
      ]
     },
     "execution_count": 39,
     "metadata": {},
     "output_type": "execute_result"
    }
   ],
   "source": [
    "edged = cv2.Canny(result, 125, 175)\n",
    "cv2.namedWindow(\"edged\", cv2.WINDOW_NORMAL)\n",
    "cv2.imshow(\"edged\", edged)\n",
    "cv2.waitKey(0)\n"
   ]
  },
  {
   "cell_type": "code",
   "execution_count": 40,
   "metadata": {},
   "outputs": [
    {
     "data": {
      "text/plain": [
       "-1"
      ]
     },
     "execution_count": 40,
     "metadata": {},
     "output_type": "execute_result"
    }
   ],
   "source": [
    "cnts = cv2.findContours(edged, cv2.RETR_EXTERNAL, cv2.CHAIN_APPROX_NONE)\n",
    "cnts = imutils.grab_contours(cnts)\n",
    "output = img.copy()\n",
    "piece_count = 0\n",
    "rel_piece_count = 0\n",
    "\n",
    "# loop over the contours\n",
    "attr = []\n",
    "for c in cnts:\n",
    "    piece_count += 1\n",
    "    area = cv2.contourArea(c)\n",
    "    x, y, w, h = cv2.boundingRect(c)\n",
    "    if (w*h) > 15000:\n",
    "        rel_piece_count += 1\n",
    "        attr.append((rel_piece_count, x, y, w, h, int(area)))\n",
    "        cv2.drawContours(output, [c], -1, (15, 15, 15),  15)\n",
    "        cv2.putText(output, str(rel_piece_count), (x, y - 2),\n",
    "                    cv2.FONT_HERSHEY_SIMPLEX, 3, (15, 15, 15), 15)\n",
    "\n",
    "cv2.putText(output, f\"{rel_piece_count}\", (10, 120),\n",
    "            cv2.FONT_HERSHEY_SIMPLEX, 4, (15, 15, 15), 11)\n",
    "cv2.namedWindow(\"output\", cv2.WINDOW_NORMAL)\n",
    "cv2.imshow(\"output\", output)\n",
    "cv2.waitKey(0)\n"
   ]
  },
  {
   "attachments": {},
   "cell_type": "markdown",
   "metadata": {},
   "source": [
    "#### 1.2.2 All together"
   ]
  },
  {
   "cell_type": "code",
   "execution_count": 41,
   "metadata": {},
   "outputs": [
    {
     "data": {
      "text/plain": [
       "-1"
      ]
     },
     "execution_count": 41,
     "metadata": {},
     "output_type": "execute_result"
    }
   ],
   "source": [
    "hsv = cv2.cvtColor(img, cv2.COLOR_BGR2HSV)\n",
    "\n",
    "lower_red = np.array([0, 50, 50])\n",
    "upper_red = np.array([10, 255, 255])\n",
    "mask1 = cv2.inRange(hsv, lower_red, upper_red)\n",
    "\n",
    "lower_red = np.array([170, 50, 50])\n",
    "upper_red = np.array([180, 255, 255])\n",
    "mask2 = cv2.inRange(hsv, lower_red, upper_red)\n",
    "\n",
    "mask = mask1 + mask2\n",
    "\n",
    "res = cv2.bitwise_and(img, img, mask=mask)\n",
    "\n",
    "cimgg = np.array(res)\n",
    "hsv = cv2.cvtColor(cimgg, cv2.COLOR_BGR2HSV)\n",
    "\n",
    "lower = np.array([0, 100, 100])\n",
    "upper = np.array([255, 255, 255])\n",
    "mask = cv2.inRange(hsv, lower, upper)\n",
    "\n",
    "res = cv2.bitwise_and(img, img, mask=mask)\n",
    "\n",
    "cimg = np.array(res)\n",
    "\n",
    "gray = cv2.cvtColor(cimg, cv2.COLOR_BGR2GRAY)\n",
    "\n",
    "blur = cv2.GaussianBlur(gray, (15, 15), 0)\n",
    "\n",
    "# To remove smaller white pixels that got detected (noise removal)\n",
    "binary_map = cv2.threshold(\n",
    "    blur, 30, 255,  cv2.THRESH_BINARY + cv2.THRESH_OTSU)[1]\n",
    "# do connected components processing\n",
    "nlabels, labels, stats, centroids = cv2.connectedComponentsWithStats(\n",
    "    binary_map, None, None, None, 8, cv2.CV_32S)\n",
    "\n",
    "# get CC_STAT_AREA component as stats[label, COLUMN]\n",
    "areas = stats[1:, cv2.CC_STAT_AREA]\n",
    "\n",
    "result = np.zeros((labels.shape), np.uint8)\n",
    "\n",
    "for i in range(0, nlabels - 1):\n",
    "    if areas[i] >= 2500:  # keep\n",
    "        result[labels == i + 1] = 255\n",
    "\n",
    "# blurred = cv2.GaussianBlur(result, (35, 35), 0)\n",
    "# you need to threshold image (convert it into a black and white image in order to draw edges)\n",
    "ret, thresh = cv2.threshold(blur, 70, 255, cv2.THRESH_BINARY)\n",
    "\n",
    "edged = cv2.Canny(thresh, 125, 175)\n",
    "\n",
    "# cnts = cv2.findContours(edged, cv2.RETR_EXTERNAL, cv2.CHAIN_APPROX_NONE)\n",
    "# cnts = imutils.grab_contours(cnts)\n",
    "output = img.copy()\n",
    "piece_count = 0\n",
    "rel_piece_count = 0\n",
    "\n",
    "# loop over the contours\n",
    "attr = []\n",
    "\n",
    "cnts = cv2.findContours(edged, cv2.RETR_EXTERNAL, cv2.CHAIN_APPROX_SIMPLE)\n",
    "cnts = cnts[0] if len(cnts) == 2 else cnts[1]\n",
    "(cnts, _) = contours.sort_contours(cnts, method=\"left-to-right\")\n",
    "\n",
    "for c in cnts:\n",
    "    area = cv2.contourArea(c)\n",
    "    x, y, w, h = cv2.boundingRect(c)\n",
    "    if (w*h) > 24000:\n",
    "        rel_piece_count += 1\n",
    "        attr.append((rel_piece_count, x, y, w, h, int(area)))\n",
    "        cv2.drawContours(output, [c], -1, (15, 15, 15),  15)\n",
    "        cv2.putText(output, str(rel_piece_count), (x, y - 4),\n",
    "                    cv2.FONT_HERSHEY_SIMPLEX, 3, (15, 15, 15), 15)\n",
    "\n",
    "cv2.putText(output, f\"{rel_piece_count}\", (10, 120),\n",
    "            cv2.FONT_HERSHEY_SIMPLEX, 4, (15, 15, 15), 11)\n",
    "cv2.namedWindow(\"output\", cv2.WINDOW_NORMAL)\n",
    "cv2.imshow(\"output\", output)\n",
    "cv2.waitKey(0)\n"
   ]
  },
  {
   "cell_type": "code",
   "execution_count": 19,
   "metadata": {},
   "outputs": [],
   "source": [
    "import pandas as pd\n",
    "out_path = \"C:\\\\Users\\\\g654674\\\\OneDrive - General Mills\\\\Work_OneDrive\\\\Fruit Pieces\\\\Strawberry Iteration 1\\\\Results\\\\\"\n",
    "cv2.imwrite(out_path + \"CupS12.jpg\", output)\n",
    "df = pd.DataFrame({'attr': attr})\n",
    "df[['piece', 'x', 'y', 'w', 'h', 'area']] = pd.DataFrame(\n",
    "    df['attr'].tolist(), index=df.index)\n",
    "df.loc[:, df.columns != 'attr'].to_clipboard()\n"
   ]
  },
  {
   "attachments": {},
   "cell_type": "markdown",
   "metadata": {},
   "source": [
    "### HSV trackbar method (Different way)"
   ]
  },
  {
   "cell_type": "code",
   "execution_count": 5,
   "metadata": {},
   "outputs": [
    {
     "ename": "NameError",
     "evalue": "name 'hsv_image' is not defined",
     "output_type": "error",
     "traceback": [
      "\u001b[1;31m---------------------------------------------------------------------------\u001b[0m",
      "\u001b[1;31mNameError\u001b[0m                                 Traceback (most recent call last)",
      "\u001b[1;32m<ipython-input-5-eb7ede406a44>\u001b[0m in \u001b[0;36m<module>\u001b[1;34m\u001b[0m\n\u001b[0;32m     32\u001b[0m \u001b[1;33m\u001b[0m\u001b[0m\n\u001b[0;32m     33\u001b[0m     \u001b[1;31m# using inrange function to turn on the image pixels where object threshold is matched\u001b[0m\u001b[1;33m\u001b[0m\u001b[1;33m\u001b[0m\u001b[1;33m\u001b[0m\u001b[0m\n\u001b[1;32m---> 34\u001b[1;33m     mask = cv2.inRange(hsv_image, (min_blue, min_green, min_red),\n\u001b[0m\u001b[0;32m     35\u001b[0m                        (max_blue, max_green, max_red))\n\u001b[0;32m     36\u001b[0m \u001b[1;33m\u001b[0m\u001b[0m\n",
      "\u001b[1;31mNameError\u001b[0m: name 'hsv_image' is not defined"
     ]
    },
    {
     "ename": "",
     "evalue": "",
     "output_type": "error",
     "traceback": [
      "\u001b[1;31mThe Kernel crashed while executing code in the the current cell or a previous cell. Please review the code in the cell(s) to identify a possible cause of the failure. Click <a href='https://aka.ms/vscodeJupyterKernelCrash'>here</a> for more info. View Jupyter <a href='command:jupyter.viewOutput'>log</a> for further details."
     ]
    }
   ],
   "source": [
    "\n",
    "import cv2\n",
    "# empty function\n",
    "\n",
    "\n",
    "def doNothing(x):\n",
    "    pass\n",
    "\n",
    "\n",
    "# creating a resizable window named Track Bars\n",
    "cv2.namedWindow('Track Bars', cv2.WINDOW_NORMAL)\n",
    "\n",
    "# creating track bars for gathering threshold values of red green and blue\n",
    "cv2.createTrackbar('min_blue', 'Track Bars', 0, 255, doNothing)\n",
    "cv2.createTrackbar('min_green', 'Track Bars', 0, 255, doNothing)\n",
    "cv2.createTrackbar('min_red', 'Track Bars', 0, 255, doNothing)\n",
    "\n",
    "cv2.createTrackbar('max_blue', 'Track Bars', 0, 255, doNothing)\n",
    "cv2.createTrackbar('max_green', 'Track Bars', 0, 255, doNothing)\n",
    "cv2.createTrackbar('max_red', 'Track Bars', 0, 255, doNothing)\n",
    "\n",
    "# creating a loop to get the feedback of the changes in trackbars\n",
    "while True:\n",
    "    # reading the trackbar values for thresholds\n",
    "    min_blue = cv2.getTrackbarPos('min_blue', 'Track Bars')\n",
    "    min_green = cv2.getTrackbarPos('min_green', 'Track Bars')\n",
    "    min_red = cv2.getTrackbarPos('min_red', 'Track Bars')\n",
    "\n",
    "    max_blue = cv2.getTrackbarPos('max_blue', 'Track Bars')\n",
    "    max_green = cv2.getTrackbarPos('max_green', 'Track Bars')\n",
    "    max_red = cv2.getTrackbarPos('max_red', 'Track Bars')\n",
    "\n",
    "    # using inrange function to turn on the image pixels where object threshold is matched\n",
    "    mask = cv2.inRange(hsv_image, (min_blue, min_green, min_red),\n",
    "                       (max_blue, max_green, max_red))\n",
    "\n",
    "    # showing the mask image\n",
    "    cv2.namedWindow(\"mask\", cv2.WINDOW_NORMAL)\n",
    "    cv2.imshow('mask', mask)\n",
    "    # checking if q key is pressed to break out of loop\n",
    "    key = cv2.waitKey(25)\n",
    "    if key == ord('q'):\n",
    "        break\n",
    "\n",
    "# printing the threshold values for usage in detection application\n",
    "print(f'min_blue {min_blue}  min_green {min_green} min_red {min_red}')\n",
    "print(f'max_blue {max_blue}  max_green {max_green} max_red {max_red}')\n",
    "# destroying all windows\n",
    "cv2.destroyAllWindows()\n"
   ]
  },
  {
   "cell_type": "code",
   "execution_count": 46,
   "metadata": {},
   "outputs": [],
   "source": [
    "hsv_frame = cv2.cvtColor(img, cv2.COLOR_BGR2HSV)\n",
    "\n",
    "# Mask values of the object to be detected\n",
    "min_blue = 118  # 38\n",
    "min_green = 69  # 156\n",
    "min_red = 20  # 142\n",
    "max_blue = 255  # 149\n",
    "max_green = 255\n",
    "max_red = 255\n",
    "\n",
    "mask = cv2.inRange(hsv_frame, (min_blue, min_green, min_red),\n",
    "                   (max_blue, max_green, max_red))\n"
   ]
  },
  {
   "cell_type": "code",
   "execution_count": 47,
   "metadata": {},
   "outputs": [
    {
     "data": {
      "text/plain": [
       "-1"
      ]
     },
     "execution_count": 47,
     "metadata": {},
     "output_type": "execute_result"
    }
   ],
   "source": [
    "cv2.namedWindow(\"mask\", cv2.WINDOW_NORMAL)\n",
    "cv2.imshow('mask', mask)\n",
    "cv2.waitKey(0)\n"
   ]
  },
  {
   "cell_type": "code",
   "execution_count": 9,
   "metadata": {},
   "outputs": [
    {
     "data": {
      "text/plain": [
       "-1"
      ]
     },
     "execution_count": 9,
     "metadata": {},
     "output_type": "execute_result"
    }
   ],
   "source": [
    "#cimg = cv2.imread(\"C:\\\\Users\\\\g654674\\\\OneDrive - General Mills\\\\Work_OneDrive\\\\Fruit Pieces\\\\your_file1.jpeg\")\n",
    "cimg = np.array(mask)\n",
    "# gray = cv2.cvtColor(cimg, cv2.COLOR_BGR2GRAY)\n",
    "\n",
    "# Blurring done to get a meaningful count of images - noise reduction\n",
    "# blurred = cv2.blur(gray,(9,9))\n",
    "blurred = cv2.GaussianBlur(result, (35, 35), 0)\n",
    "# you need to threshold image (convert it into a black and white image in order to draw edges)\n",
    "ret, thresh = cv2.threshold(blurred, 25, 255, cv2.THRESH_BINARY)\n",
    "\n",
    "cv2.namedWindow(\"thresh\", cv2.WINDOW_NORMAL)\n",
    "cv2.imshow(\"thresh\", thresh)\n",
    "cv2.waitKey(0)\n"
   ]
  },
  {
   "cell_type": "code",
   "execution_count": 9,
   "metadata": {},
   "outputs": [
    {
     "data": {
      "text/plain": [
       "-1"
      ]
     },
     "execution_count": 9,
     "metadata": {},
     "output_type": "execute_result"
    }
   ],
   "source": [
    "edged = cv2.Canny(thresh, 125, 175)\n",
    "# cv2.namedWindow(\"edged\", cv2.WINDOW_NORMAL)\n",
    "# cv2.imshow(\"edged\", edged)\n",
    "# cv2.waitKey(0)\n",
    "\n",
    "dilated = cv2.dilate(edged, (3, 3), iterations=20)\n",
    "cv2.namedWindow(\"dilated\", cv2.WINDOW_NORMAL)\n",
    "cv2.imshow(\"dilated\", dilated)\n",
    "cv2.waitKey(0)\n"
   ]
  },
  {
   "cell_type": "code",
   "execution_count": 17,
   "metadata": {},
   "outputs": [
    {
     "data": {
      "text/plain": [
       "-1"
      ]
     },
     "execution_count": 17,
     "metadata": {},
     "output_type": "execute_result"
    }
   ],
   "source": [
    "cnts = cv2.findContours(edged, cv2.RETR_EXTERNAL, cv2.CHAIN_APPROX_NONE)\n",
    "cnts = imutils.grab_contours(cnts)\n",
    "output = img.copy()\n",
    "piece_count = 0\n",
    "rel_piece_count = 0\n",
    "\n",
    "# loop over the contours\n",
    "attr = []\n",
    "for c in cnts:\n",
    "    piece_count += 1\n",
    "    area = cv2.contourArea(c)\n",
    "    x, y, w, h = cv2.boundingRect(c)\n",
    "    if (w*h) > 16000:\n",
    "        # if area >= 8000:\n",
    "        # if piece_count ==  2000 :\n",
    "        rel_piece_count += 1\n",
    "        attr.append((rel_piece_count, x, y, w, h, int(area)))\n",
    "        cv2.drawContours(output, [c], -1, (15, 15, 15),  15)\n",
    "        cv2.putText(output, str(rel_piece_count), (x, y - 2),\n",
    "                    cv2.FONT_HERSHEY_SIMPLEX, 3, (15, 15, 15), 15)\n",
    "\n",
    "cv2.putText(output, f\"{rel_piece_count}\", (10, 120),\n",
    "            cv2.FONT_HERSHEY_SIMPLEX, 4, (15, 15, 15), 11)\n",
    "cv2.namedWindow(\"output\", cv2.WINDOW_NORMAL)\n",
    "cv2.imshow(\"output\", output)\n",
    "cv2.waitKey(0)\n"
   ]
  },
  {
   "cell_type": "code",
   "execution_count": 18,
   "metadata": {},
   "outputs": [],
   "source": [
    "out_path = \"C:\\\\Users\\\\g654674\\\\OneDrive - General Mills\\\\Work_OneDrive\\\\Fruit Pieces\\\\Strawberry Iteration 1\\\\Results\"\n",
    "cv2.imwrite(out_path + \"CupS1.jpg\", output)\n"
   ]
  },
  {
   "cell_type": "code",
   "execution_count": null,
   "metadata": {},
   "outputs": [],
   "source": [
    "import pandas as pd\n",
    "df = pd.DataFrame({'attr': attr})\n",
    "df[['piece', 'x', 'y', 'w', 'h', 'area']] = pd.DataFrame(\n",
    "    df['attr'].tolist(), index=df.index)\n",
    "df.loc[:, df.columns != 'attr'].to_clipboard()\n"
   ]
  },
  {
   "attachments": {},
   "cell_type": "markdown",
   "metadata": {},
   "source": [
    "## 1.3 Reusable Function"
   ]
  },
  {
   "cell_type": "code",
   "execution_count": 1,
   "metadata": {},
   "outputs": [],
   "source": [
    "import cv2\n",
    "import numpy as np\n",
    "from imutils import perspective\n",
    "from imutils import contours\n",
    "import scipy\n",
    "import imutils\n",
    "from skimage.io import imread, imshow\n",
    "from skimage.color import rgb2hsv\n",
    "import matplotlib.pyplot as plt\n",
    "from PIL import Image\n",
    "import os\n"
   ]
  },
  {
   "cell_type": "code",
   "execution_count": 2,
   "metadata": {},
   "outputs": [],
   "source": [
    "def fruit_piece_count_it1(inp_path, out_path):\n",
    "\n",
    "    img_list = os.listdir(inp_path)\n",
    "    attr = []\n",
    "\n",
    "    for images in img_list:\n",
    "        img = cv2.imread(inp_path + images)    \n",
    "\n",
    "        hsv = cv2.cvtColor(img, cv2.COLOR_BGR2HSV)\n",
    "\n",
    "        lower_red = np.array([0, 50, 50])\n",
    "        upper_red = np.array([10, 255, 255])\n",
    "        mask1 = cv2.inRange(hsv, lower_red, upper_red)\n",
    "\n",
    "        lower_red = np.array([170, 50, 50])\n",
    "        upper_red = np.array([180, 255, 255])\n",
    "        mask2 = cv2.inRange(hsv, lower_red, upper_red)\n",
    "\n",
    "        mask = mask1 + mask2\n",
    "\n",
    "        res = cv2.bitwise_and(img, img, mask=mask)\n",
    "\n",
    "        cimg = np.array(res)\n",
    "\n",
    "        lower = np.array([0, 120, 0])\n",
    "        upper = np.array([255, 255, 255])\n",
    "        mask = cv2.inRange(hsv, lower, upper)\n",
    "\n",
    "        sat_mask = cv2.bitwise_and(cimg, cimg, mask=mask)\n",
    "\n",
    "        gray = cv2.cvtColor(sat_mask, cv2.COLOR_BGR2GRAY)\n",
    "\n",
    "        blur = cv2.GaussianBlur(gray, (125, 125), 0)\n",
    "\n",
    "        binary_map = cv2.threshold(blur, 30, 255,  cv2.THRESH_BINARY + cv2.THRESH_OTSU)[1]\n",
    "\n",
    "        # do connected components processing\n",
    "        nlabels, labels, stats, centroids = cv2.connectedComponentsWithStats(binary_map, None, None, None, 8, cv2.CV_32S)\n",
    "\n",
    "        # get CC_STAT_AREA component as stats[label, COLUMN]\n",
    "        areas = stats[1:, cv2.CC_STAT_AREA]\n",
    "\n",
    "        result = np.zeros((labels.shape), np.uint8)\n",
    "\n",
    "        for i in range(0, nlabels - 1):\n",
    "            if areas[i] >= 2500:  # keep\n",
    "                result[labels == i + 1] = 255\n",
    "\n",
    "        edged = cv2.Canny(result, 125, 175)\n",
    "\n",
    "        cnts = cv2.findContours(edged, cv2.RETR_EXTERNAL, cv2.CHAIN_APPROX_NONE)\n",
    "        cnts = imutils.grab_contours(cnts)\n",
    "        output = img.copy()\n",
    "        piece_count = 0\n",
    "        rel_piece_count = 0\n",
    "                \n",
    "        for c in cnts:\n",
    "            piece_count += 1\n",
    "            area = cv2.contourArea(c)\n",
    "            x, y, w, h = cv2.boundingRect(c)\n",
    "            if (w*h) > 15000:\n",
    "                rel_piece_count += 1\n",
    "                attr.append(( str(images), rel_piece_count, x, y, w, h, int(area)))\n",
    "                cv2.drawContours(output, [c], -1, (15, 15, 15),  15)\n",
    "                cv2.putText(output, str(rel_piece_count), (x, y - 2), cv2.FONT_HERSHEY_SIMPLEX, 3, (15, 15, 15), 15)\n",
    "\n",
    "        cv2.putText(output, f\"{rel_piece_count}\", (10, 120), cv2.FONT_HERSHEY_SIMPLEX, 4, (15, 15, 15), 11)\n",
    "\n",
    "        vis = np.concatenate((img, output), axis=1)\n",
    "        cv2.imwrite(out_path + images, vis)\n",
    "        print(images + \" count : \" + str(rel_piece_count))\n",
    "\n",
    "    return True\n"
   ]
  },
  {
   "cell_type": "code",
   "execution_count": 3,
   "metadata": {},
   "outputs": [
    {
     "name": "stdout",
     "output_type": "stream",
     "text": [
      "CupS1.jpg count : 12\n",
      "CupS10.jpg count : 13\n",
      "CupS11.jpg count : 13\n",
      "CupS12.jpg count : 12\n",
      "CupS2.jpg count : 17\n",
      "CupS3.jpg count : 19\n",
      "CupS4.jpg count : 11\n",
      "CupS5.jpg count : 20\n",
      "CupS6.jpg count : 16\n",
      "CupS7.jpg count : 13\n",
      "CupS8.jpg count : 12\n",
      "CupS9.jpg count : 18\n"
     ]
    },
    {
     "data": {
      "text/plain": [
       "True"
      ]
     },
     "execution_count": 3,
     "metadata": {},
     "output_type": "execute_result"
    }
   ],
   "source": [
    "fruit_piece_count_it1(\"C:\\\\Users\\\\g654674\\\\OneDrive - General Mills\\\\Work_OneDrive\\\\Fruit Pieces\\\\Strawberry Iteration 1\\\\Original images\\\\\", \"C:\\\\Users\\\\g654674\\\\OneDrive - General Mills\\\\Work_OneDrive\\\\Fruit Pieces\\\\Strawberry Iteration 1\\\\Results\\\\\")"
   ]
  },
  {
   "cell_type": "code",
   "execution_count": 4,
   "metadata": {},
   "outputs": [],
   "source": [
    "import pandas as pd\n",
    "df = pd.DataFrame({'attr': attr})\n",
    "df[['image_name', 'piece', 'x', 'y', 'w', 'h', 'area']] = pd.DataFrame(\n",
    "    df['attr'].tolist(), index=df.index)\n",
    "df.loc[:, df.columns != 'attr'].to_clipboard()"
   ]
  },
  {
   "cell_type": "code",
   "execution_count": null,
   "metadata": {},
   "outputs": [],
   "source": []
  },
  {
   "cell_type": "code",
   "execution_count": 61,
   "metadata": {},
   "outputs": [],
   "source": [
    "def fruit_piece_count(inp_path, out_path):\n",
    "    img_list = os.listdir(inp_path)\n",
    "\n",
    "    for images in img_list:\n",
    "        img = cv2.imread(inp_path + images)\n",
    "        hsv = rgb2hsv(img)\n",
    "\n",
    "        # refer to hue channel (in the colorbar)\n",
    "        lower_mask = hsv[:, :, 0] > 0.5\n",
    "        # refer to hue channel (in the colorbar)\n",
    "        upper_mask = hsv[:, :, 0] < 0.7\n",
    "        # refer to transparency channel (in the colorbar)\n",
    "        saturation_mask = hsv[:, :, 1] > 0.6\n",
    "\n",
    "        value_mask = hsv[:, :, 2] > 0.6\n",
    "\n",
    "        mask = upper_mask * lower_mask * saturation_mask\n",
    "        red = hsv[:, :, 0]*mask\n",
    "        green = hsv[:, :, 1]*mask\n",
    "        blue = hsv[:, :, 2]*mask\n",
    "\n",
    "        bags_masked = np.dstack((red, green, blue))\n",
    "        im = Image.fromarray((bags_masked * 255).astype(np.uint8))\n",
    "\n",
    "        cimg = np.array(im)\n",
    "\n",
    "        gray = cv2.cvtColor(cimg, cv2.COLOR_BGR2GRAY)\n",
    "        blurred = cv2.GaussianBlur(gray, (25, 25), 0)\n",
    "\n",
    "        # you need to threshold image (convert it into a black and white image in order to draw edges)\n",
    "        ret, thresh = cv2.threshold(blurred, 25, 255, cv2.THRESH_BINARY)\n",
    "\n",
    "        edged = cv2.Canny(thresh, 125, 175)\n",
    "\n",
    "        cnts = cv2.findContours(\n",
    "            edged, cv2.RETR_EXTERNAL, cv2.CHAIN_APPROX_NONE)\n",
    "        cnts = imutils.grab_contours(cnts)\n",
    "        output = img.copy()\n",
    "\n",
    "        piece_count = 0\n",
    "        rel_piece_count = 0\n",
    "\n",
    "        # loop over the contours\n",
    "        attr = []\n",
    "        for c in cnts:\n",
    "            piece_count += 1\n",
    "            area = cv2.contourArea(c)\n",
    "            x, y, w, h = cv2.boundingRect(c)\n",
    "            if area >= 4000:\n",
    "                # if piece_count ==  2000 :\n",
    "                rel_piece_count += 1\n",
    "                attr.append((rel_piece_count, int(area)))\n",
    "                cv2.drawContours(output, [c], -1, (0, 0, 0), 15)\n",
    "                cv2.putText(output, str(rel_piece_count), (x, y - 5),\n",
    "                            cv2.FONT_HERSHEY_SIMPLEX, 3, (15, 15, 15), 15)\n",
    "        cv2.putText(output, f\"{rel_piece_count}\", (10, 120),\n",
    "                    cv2.FONT_HERSHEY_SIMPLEX, 4, (15, 15, 15), 11)\n",
    "\n",
    "        img = cv2.copyMakeBorder(\n",
    "            img, 2, 2, 2, 1, cv2.BORDER_CONSTANT, None, value=0)\n",
    "        output = cv2.copyMakeBorder(\n",
    "            output, 2, 2, 2, 1, cv2.BORDER_CONSTANT, None, value=0)\n",
    "        # vis = np.concatenate((img, output), axis=1)\n",
    "        cv2.imwrite(out_path + images, output)\n",
    "        print(images + \" count : \" + str(rel_piece_count))\n",
    "\n",
    "    return True\n"
   ]
  },
  {
   "cell_type": "code",
   "execution_count": 62,
   "metadata": {},
   "outputs": [
    {
     "name": "stdout",
     "output_type": "stream",
     "text": [
      "CupS1.jpg count : 12\n",
      "CupS10.jpg count : 16\n",
      "CupS11.jpg count : 12\n",
      "CupS12.jpg count : 11\n",
      "CupS2.jpg count : 18\n",
      "CupS3.jpg count : 21\n",
      "CupS4.jpg count : 17\n",
      "CupS5.jpg count : 20\n",
      "CupS6.jpg count : 12\n",
      "CupS7.jpg count : 15\n",
      "CupS8.jpg count : 16\n",
      "CupS9.jpg count : 23\n"
     ]
    },
    {
     "data": {
      "text/plain": [
       "True"
      ]
     },
     "execution_count": 62,
     "metadata": {},
     "output_type": "execute_result"
    }
   ],
   "source": [
    "fruit_piece_count(\"C:\\\\Users\\\\g654674\\\\OneDrive - General Mills\\\\Work_OneDrive\\\\Fruit Pieces\\\\Strawberry Iteration 1\\Original images\\\\\",\n",
    "                  \"C:\\\\Users\\\\g654674\\\\OneDrive - General Mills\\\\Work_OneDrive\\\\Fruit Pieces\\\\images\\\\output\\\\March 6\\\\\")\n"
   ]
  },
  {
   "cell_type": "code",
   "execution_count": 89,
   "metadata": {},
   "outputs": [],
   "source": [
    "def fruit_piece_count(inp_path, out_path):\n",
    "    img_list = os.listdir(inp_path)\n",
    "\n",
    "    for images in img_list:\n",
    "        img = cv2.imread(inp_path + images)\n",
    "        hsv = rgb2hsv(img)\n",
    "\n",
    "        lower_mask = hsv[:, :, 0] > 0.8\n",
    "        upper_mask = hsv[:, :, 0] < 1\n",
    "        saturation_mask = hsv[:, :, 1] > 0.4\n",
    "\n",
    "        value_mask = hsv[:, :, 2] > 0.5\n",
    "\n",
    "        mask = saturation_mask * value_mask\n",
    "        red = hsv[:, :, 0]*mask\n",
    "        green = hsv[:, :, 1]*mask\n",
    "        blue = hsv[:, :, 2]*mask\n",
    "\n",
    "        bags_masked = np.dstack((red, green, blue))\n",
    "        im = Image.fromarray((bags_masked * 255).astype(np.uint8))\n",
    "\n",
    "        cimg = np.array(im)\n",
    "\n",
    "        gray = cv2.cvtColor(cimg, cv2.COLOR_BGR2GRAY)\n",
    "        edged = cv2.Canny(gray, 125, 175)\n",
    "        dilated = cv2.dilate(edged, (2, 2), iterations=4)\n",
    "\n",
    "        # find contours (i.e., outlines) of the foreground objects in the thresholded image\n",
    "        cnts = cv2.findContours(\n",
    "            dilated, cv2.RETR_EXTERNAL, cv2.CHAIN_APPROX_SIMPLE)\n",
    "        cnts = imutils.grab_contours(cnts)\n",
    "        output = img.copy()\n",
    "        piece_count = 0\n",
    "        # loop over the contours\n",
    "        for c in cnts:\n",
    "            piece_count += 1\n",
    "            cv2.drawContours(output, [c], -1, (0, 0, 0), 2)\n",
    "        cv2.putText(output, f\"{piece_count}\", (5, 20),\n",
    "                    cv2.FONT_HERSHEY_SIMPLEX, 0.5, (0, 0, 0), 1)\n",
    "        img = cv2.copyMakeBorder(\n",
    "            img, 2, 2, 2, 1, cv2.BORDER_CONSTANT, None, value=0)\n",
    "        output = cv2.copyMakeBorder(\n",
    "            output, 2, 2, 2, 1, cv2.BORDER_CONSTANT, None, value=0)\n",
    "        vis = np.concatenate((img, output), axis=1)\n",
    "        cv2.imwrite(out_path + images, vis)\n",
    "        print(images + \" count : \" + str(piece_count))\n",
    "\n",
    "    return True\n"
   ]
  },
  {
   "cell_type": "code",
   "execution_count": null,
   "metadata": {},
   "outputs": [],
   "source": []
  },
  {
   "attachments": {},
   "cell_type": "markdown",
   "metadata": {},
   "source": [
    "### HSV trackbar code"
   ]
  },
  {
   "cell_type": "code",
   "execution_count": null,
   "metadata": {},
   "outputs": [],
   "source": [
    "\n",
    "import cv2\n",
    "import sys\n",
    "import numpy as np\n",
    "\n",
    "\n",
    "def nothing(x):\n",
    "    pass\n",
    "\n",
    "\n",
    "# Create a window\n",
    "cv2.namedWindow('image', cv2.WINDOW_NORMAL)\n",
    "\n",
    "# create trackbars for color change\n",
    "# Hue is from 0-179 for Opencv\n",
    "cv2.createTrackbar('HMin', 'image', 0, 179, nothing)\n",
    "cv2.createTrackbar('SMin', 'image', 0, 255, nothing)\n",
    "cv2.createTrackbar('VMin', 'image', 0, 255, nothing)\n",
    "cv2.createTrackbar('HMax', 'image', 0, 179, nothing)\n",
    "cv2.createTrackbar('SMax', 'image', 0, 255, nothing)\n",
    "cv2.createTrackbar('VMax', 'image', 0, 255, nothing)\n",
    "\n",
    "# Set default value for MAX HSV trackbars.\n",
    "cv2.setTrackbarPos('HMax', 'image', 179)\n",
    "cv2.setTrackbarPos('SMax', 'image', 255)\n",
    "cv2.setTrackbarPos('VMax', 'image', 255)\n",
    "\n",
    "# Initialize to check if HSV min/max value changes\n",
    "hMin = sMin = vMin = hMax = sMax = vMax = 0\n",
    "phMin = psMin = pvMin = phMax = psMax = pvMax = 0\n",
    "\n",
    "img = cv2.imread('cimg.jpg')\n",
    "output = img\n",
    "waitTime = 33\n",
    "\n",
    "while(1):\n",
    "\n",
    "    # get current positions of all trackbars\n",
    "    hMin = cv2.getTrackbarPos('HMin', 'image')\n",
    "    sMin = cv2.getTrackbarPos('SMin', 'image')\n",
    "    vMin = cv2.getTrackbarPos('VMin', 'image')\n",
    "\n",
    "    hMax = cv2.getTrackbarPos('HMax', 'image')\n",
    "    sMax = cv2.getTrackbarPos('SMax', 'image')\n",
    "    vMax = cv2.getTrackbarPos('VMax', 'image')\n",
    "\n",
    "    # Set minimum and max HSV values to display\n",
    "    lower = np.array([hMin, sMin, vMin])\n",
    "    upper = np.array([hMax, sMax, vMax])\n",
    "\n",
    "    # Create HSV Image and threshold into a range.\n",
    "    hsv = cv2.cvtColor(img, cv2.COLOR_BGR2HSV)\n",
    "    mask = cv2.inRange(hsv, lower, upper)\n",
    "    output = cv2.bitwise_and(img, img, mask=mask)\n",
    "\n",
    "    # Print if there is a change in HSV value\n",
    "    if((phMin != hMin) | (psMin != sMin) | (pvMin != vMin) | (phMax != hMax) | (psMax != sMax) | (pvMax != vMax)):\n",
    "        print(\"(hMin = %d , sMin = %d, vMin = %d), (hMax = %d , sMax = %d, vMax = %d)\" % (\n",
    "            hMin, sMin, vMin, hMax, sMax, vMax))\n",
    "        phMin = hMin\n",
    "        psMin = sMin\n",
    "        pvMin = vMin\n",
    "        phMax = hMax\n",
    "        psMax = sMax\n",
    "        pvMax = vMax\n",
    "\n",
    "    # Display output image\n",
    "    cv2.imshow('image', output)\n",
    "\n",
    "    # Wait longer to prevent freeze for videos.\n",
    "    if cv2.waitKey(waitTime) & 0xFF == ord('q'):\n",
    "        break\n",
    "\n",
    "cv2.destroyAllWindows()\n"
   ]
  }
 ],
 "metadata": {
  "kernelspec": {
   "display_name": "fpi",
   "language": "python",
   "name": "python3"
  },
  "language_info": {
   "codemirror_mode": {
    "name": "ipython",
    "version": 3
   },
   "file_extension": ".py",
   "mimetype": "text/x-python",
   "name": "python",
   "nbconvert_exporter": "python",
   "pygments_lexer": "ipython3",
   "version": "3.7.11"
  },
  "vscode": {
   "interpreter": {
    "hash": "11b76f1ee2ecd767364820a35f5271928b96a2ea1f55de891a65c49a85af410d"
   }
  }
 },
 "nbformat": 4,
 "nbformat_minor": 4
}
