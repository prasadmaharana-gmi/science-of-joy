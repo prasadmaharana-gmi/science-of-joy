{
 "cells": [
  {
   "cell_type": "code",
   "execution_count": null,
   "id": "d5d73429",
   "metadata": {},
   "outputs": [],
   "source": [
    "import pandas as pd\n",
    "from google.cloud import bigquery\n",
    "import urllib.request\n",
    "os.environ[\"GCLOUD_PROJECT\"] = \"edw-prd-e567f9\"\n",
    "client = bigquery.Client()"
   ]
  },
  {
   "cell_type": "code",
   "execution_count": null,
   "id": "4668f7ad",
   "metadata": {},
   "outputs": [],
   "source": [
    "for product in rm_mfr:\n",
    "    upc = \"%\" + str(product) +\"%\"   \n",
    "    QUERY = ('Select base.product_title, img.upc, img.image_url from  `edw-prd-e567f9.itq.label_insights_human_products_images_fact` img '\\\n",
    "         'left join `edw-prd-e567f9.itq.dim_label_insights_human_products_base` base on  img.gtin14 = base.gtin14 '\\\n",
    "         'where img.upc like ?')\n",
    "\n",
    "    job_config = bigquery.QueryJobConfig(query_parameters=[bigquery.ScalarQueryParameter(None, \"STRING\", upc)])\n",
    "    df = client.query(QUERY, job_config = job_config).to_dataframe()\n",
    "    \n",
    "    final_df = final_df.append(df) \n",
    "final_df = pd.DataFrame()"
   ]
  },
  {
   "cell_type": "code",
   "execution_count": null,
   "id": "9cf5ebc9",
   "metadata": {},
   "outputs": [],
   "source": [
    "final_df.to_clipboard(index=False)"
   ]
  },
  {
   "cell_type": "code",
   "execution_count": null,
   "id": "d027033e",
   "metadata": {},
   "outputs": [],
   "source": []
  }
 ],
 "metadata": {
  "kernelspec": {
   "display_name": "Python 3 (ipykernel)",
   "language": "python",
   "name": "python3"
  },
  "language_info": {
   "codemirror_mode": {
    "name": "ipython",
    "version": 3
   },
   "file_extension": ".py",
   "mimetype": "text/x-python",
   "name": "python",
   "nbconvert_exporter": "python",
   "pygments_lexer": "ipython3",
   "version": "3.7.5"
  }
 },
 "nbformat": 4,
 "nbformat_minor": 5
}
